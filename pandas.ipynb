{
 "cells": [
  {
   "cell_type": "code",
   "execution_count": null,
   "metadata": {},
   "outputs": [],
   "source": [
    "import pandas as pd"
   ]
  },
  {
   "cell_type": "markdown",
   "metadata": {},
   "source": [
    "## DataFrame"
   ]
  },
  {
   "cell_type": "code",
   "execution_count": null,
   "metadata": {},
   "outputs": [],
   "source": [
    "data = {'Name' :[\"Tom\", 'Nick', 'Krish', 'jack'], 'Age': [12, 13, 14, 15], 'score' :[10, 8, 9,7]}\n",
    "df = pd.DataFrame(data)\n",
    "df"
   ]
  },
  {
   "cell_type": "markdown",
   "metadata": {},
   "source": [
    "## Pandas Series"
   ]
  },
  {
   "cell_type": "code",
   "execution_count": null,
   "metadata": {},
   "outputs": [],
   "source": [
    "import numpy as np\n",
    "data = np.asarray([1,2,3,5])\n",
    "ser = pd.Series(data,index = [1,2,3,4])\n",
    "print(ser)"
   ]
  },
  {
   "cell_type": "markdown",
   "metadata": {},
   "source": [
    "## Data Processing"
   ]
  },
  {
   "cell_type": "code",
   "execution_count": null,
   "metadata": {},
   "outputs": [],
   "source": [
    "data = pd.read_csv(\"data/nba.csv\")\n",
    "data.dropna(inplace=True)\n",
    "data"
   ]
  },
  {
   "cell_type": "code",
   "execution_count": null,
   "metadata": {},
   "outputs": [],
   "source": [
    "dtype = type(data['Salary'])\n",
    "salary = data['Salary'].sum()\n",
    "salary\n",
    "# sum=0\n",
    "# for i in salary:\n",
    "#     sum+=i\n",
    "# print(sum/len(salary))"
   ]
  },
  {
   "cell_type": "markdown",
   "metadata": {},
   "source": [
    "## Basic Commands"
   ]
  },
  {
   "cell_type": "code",
   "execution_count": null,
   "metadata": {},
   "outputs": [],
   "source": [
    "import matplotlib.pyplot as plt\n",
    "# data.head()\n",
    "# data.tail(9)\n",
    "perc=  [.20,.40,.60,.80]\n",
    "# list of dtypes to include\n",
    "# list of percentile \n",
    "dummy = data.describe(percentiles=perc, include=['float','int'])\n",
    "dummy\n",
    "data.head()\n",
    "data['Team'].value_counts()\n",
    "# plt.bar(, data['Team'].value_counts())"
   ]
  },
  {
   "cell_type": "markdown",
   "metadata": {},
   "source": [
    "## Drop Column"
   ]
  },
  {
   "cell_type": "code",
   "execution_count": null,
   "metadata": {},
   "outputs": [],
   "source": [
    "# data.drop([\"Position\"], axis=1, inplace=True)\n",
    "data.head()"
   ]
  },
  {
   "cell_type": "markdown",
   "metadata": {},
   "source": [
    "## Select Row"
   ]
  },
  {
   "cell_type": "code",
   "execution_count": null,
   "metadata": {},
   "outputs": [],
   "source": [
    "data = pd.read_csv(\"data/nba.csv\", index_col =\"Name\")\n",
    "first = data.loc[\"Avery Bradley\"]\n",
    "first"
   ]
  },
  {
   "cell_type": "code",
   "execution_count": null,
   "metadata": {},
   "outputs": [],
   "source": [
    "data = pd.read_csv(\"data/nba.csv\",index_col=\"Name\")\n",
    "# first = data.iloc[:10]\n",
    "# first = first.loc[0]\n",
    "# first"
   ]
  },
  {
   "cell_type": "code",
   "execution_count": null,
   "metadata": {},
   "outputs": [],
   "source": [
    "new_row = pd.DataFrame({'Name':\"Xristos Ken\", 'Team':'Miami Heats', 'Number':3, 'Position':'PF', \n",
    "            'Age':33, 'Height':'6-2', 'Weight':189, 'College':'MIT', 'Salary':99999}, index=[0])\n",
    "\n",
    "df = pd.concat([new_row, data]).reset_index(drop=True)\n",
    "df.head(9)\n"
   ]
  },
  {
   "cell_type": "markdown",
   "metadata": {},
   "source": [
    "## Data Cleaning"
   ]
  },
  {
   "cell_type": "code",
   "execution_count": null,
   "metadata": {},
   "outputs": [],
   "source": [
    "dat = pd.read_csv(\"data/nba.csv\", index_col=\"Name\")\n",
    "dat.head()\n",
    "dat.drop([\"Avery Bradley\", \"Jae Crowder\", \"John Holland\"], inplace=True)"
   ]
  },
  {
   "cell_type": "code",
   "execution_count": null,
   "metadata": {},
   "outputs": [],
   "source": [
    "dat.head()"
   ]
  },
  {
   "cell_type": "code",
   "execution_count": null,
   "metadata": {},
   "outputs": [],
   "source": [
    "dat = pd.read_csv(\"data/nba.csv\")\n",
    "dat.head()\n",
    "rows = data.loc[[\"Avery Bradley\", \"Jae Crowder\", \"John Holland\"]]\n",
    "# rows.head()\n",
    "\n",
    "dat.iloc[:20]\n",
    "\n",
    "dat.loc[:,[\"Name\",\"Weight\",\"College\"]]"
   ]
  },
  {
   "cell_type": "markdown",
   "metadata": {},
   "source": [
    "## Manipulate Data with Booleans"
   ]
  },
  {
   "cell_type": "code",
   "execution_count": null,
   "metadata": {},
   "outputs": [],
   "source": [
    "# importing pandas as pd\n",
    "import pandas as pd\n",
    "  \n",
    "# dictionary of lists\n",
    "dict = {'name':[\"aparna\", \"pankaj\", \"sudhir\", \"Geeku\"],\n",
    "        'degree': [\"MBA\", \"BCA\", \"M.Tech\", \"MBA\"],\n",
    "        'score':[90, 40, 80, 98]}\n",
    "  \n",
    "df = pd.DataFrame(dict, index = [True, False, True, False])\n",
    "  \n",
    "df.loc[True]"
   ]
  },
  {
   "cell_type": "code",
   "execution_count": null,
   "metadata": {},
   "outputs": [],
   "source": [
    "data  = pd.read_csv(\"data/nba.csv\")\n",
    "data.head()\n",
    "college_filter = data['College'] == 'MIT'\n",
    "age_filter = data['Age'] >=25\n",
    "age_filter.head()\n",
    "# college_filter.to_csv(\"boolean.csv\")\n",
    "\n",
    "# Masking\n",
    "# mask = data.index>7 and data.index<50\n",
    "# data[mask]\n",
    "mask = data.index>7\n",
    "\n",
    "print(data[mask])\n"
   ]
  },
  {
   "cell_type": "markdown",
   "metadata": {},
   "source": [
    "## Pandas Operations"
   ]
  },
  {
   "cell_type": "code",
   "execution_count": null,
   "metadata": {},
   "outputs": [],
   "source": [
    "import pandas as pd\n",
    "data = pd.read_csv(\"data/stocks.csv\")\n",
    "data.head()"
   ]
  },
  {
   "cell_type": "code",
   "execution_count": null,
   "metadata": {},
   "outputs": [],
   "source": [
    "def classify_stock(num):\n",
    "    if num <200:\n",
    "        return \"Low\"\n",
    "    elif num>=200 and num<=400:\n",
    "        return \"Normal\"\n",
    "    else:\n",
    "        return \"High\""
   ]
  },
  {
   "cell_type": "code",
   "execution_count": null,
   "metadata": {},
   "outputs": [],
   "source": [
    "def analyze_stock_prices(df):\n",
    "    if \"close\" in df.columns:\n",
    "        print(df)\n",
    "        df[\"Price_Category\"] =  df[\"close\"].apply(classify_stock)\n",
    "        return df\n",
    "    else:\n",
    "        return \"Dataframe error\""
   ]
  },
  {
   "cell_type": "code",
   "execution_count": null,
   "metadata": {},
   "outputs": [],
   "source": [
    "result = analyze_stock_prices(data)\n",
    "result"
   ]
  },
  {
   "cell_type": "code",
   "execution_count": null,
   "metadata": {},
   "outputs": [],
   "source": [
    "data.aggregate({'open':['sum','min'],\n",
    "               'high':['sum','min'] })\n",
    "data[8] = {'symbol':'AAL' , 'open':49, 'high':49.1,'low':48.47, 'close':48.63}\n",
    "# data.mean(axis=0, skipna=True)\n",
    "# data.mad()\n",
    "# data.value_counts()"
   ]
  },
  {
   "cell_type": "code",
   "execution_count": null,
   "metadata": {},
   "outputs": [],
   "source": []
  }
 ],
 "metadata": {
  "kernelspec": {
   "display_name": "Python 3",
   "language": "python",
   "name": "python3"
  },
  "language_info": {
   "codemirror_mode": {
    "name": "ipython",
    "version": 3
   },
   "file_extension": ".py",
   "mimetype": "text/x-python",
   "name": "python",
   "nbconvert_exporter": "python",
   "pygments_lexer": "ipython3",
   "version": "3.8.8"
  }
 },
 "nbformat": 4,
 "nbformat_minor": 2
}
