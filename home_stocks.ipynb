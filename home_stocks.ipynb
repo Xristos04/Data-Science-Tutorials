{
 "cells": [
  {
   "cell_type": "code",
   "execution_count": null,
   "metadata": {},
   "outputs": [],
   "source": [
    "import matplotlib.pyplot as plt\n",
    "import pandas as pd\n",
    "data = pd.read_csv(\"data/stocks.csv\")\n",
    "data.head()"
   ]
  },
  {
   "cell_type": "code",
   "execution_count": null,
   "metadata": {},
   "outputs": [],
   "source": [
    "import matplotlib.pyplot as plt\n",
    "import pandas as pd\n",
    "data = pd.read_csv(\"data/stocks.csv\", index_col=\"high\")\n",
    "f = data.loc[49.10]\n"
   ]
  },
  {
   "cell_type": "code",
   "execution_count": null,
   "metadata": {},
   "outputs": [],
   "source": [
    "data.loc[data['symbol'] == \"MSFT\"]"
   ]
  },
  {
   "cell_type": "code",
   "execution_count": null,
   "metadata": {},
   "outputs": [],
   "source": [
    "data['high'].min()"
   ]
  },
  {
   "cell_type": "code",
   "execution_count": null,
   "metadata": {},
   "outputs": [],
   "source": [
    "data.describe()"
   ]
  },
  {
   "cell_type": "markdown",
   "metadata": {},
   "source": [
    "# average_high\n"
   ]
  },
  {
   "cell_type": "code",
   "execution_count": null,
   "metadata": {},
   "outputs": [],
   "source": [
    "def Av_High(df):\n",
    "    dtype = type(data['high'])\n",
    "    high = data['high'].sum()\n",
    "    print(high)\n",
    "    average = high/len(data['high'])\n",
    "    print(average)\n",
    "    return average\n",
    "Av_High(data)"
   ]
  },
  {
   "cell_type": "code",
   "execution_count": null,
   "metadata": {},
   "outputs": [],
   "source": [
    "import matplotlib.pyplot as pd\n",
    "# data = pd.read_csv(\"data/stocks.csv\")\n",
    "\n",
    "def openy_stock(numero):\n",
    "    print(Av_High(numero))\n",
    "    int(Av_High(numero))\n",
    "    if numero > Av_High(numero):\n",
    "        return \"High Open\"\n",
    "    else:\n",
    "        return \"Low Open\"   "
   ]
  },
  {
   "cell_type": "code",
   "execution_count": null,
   "metadata": {},
   "outputs": [],
   "source": [
    "openy_stock(200)"
   ]
  },
  {
   "cell_type": "code",
   "execution_count": null,
   "metadata": {},
   "outputs": [],
   "source": [
    "import matplotlib.pyplot as pd\n",
    "# data = pd.read_csv(\"data/stocks.csv\")\n",
    "\n",
    "def New_Col(df):\n",
    "    if \"open\" in df.columns:\n",
    "        df[\"Category by Open\"] =  df[\"open\"].apply(openy_stock)\n",
    "        return df\n",
    "    else:\n",
    "        return \"Dataframe error\""
   ]
  },
  {
   "cell_type": "code",
   "execution_count": null,
   "metadata": {},
   "outputs": [],
   "source": [
    "result = New_Col(data)\n",
    "result"
   ]
  },
  {
   "cell_type": "markdown",
   "metadata": {},
   "source": [
    "# akiro\n"
   ]
  },
  {
   "cell_type": "code",
   "execution_count": null,
   "metadata": {},
   "outputs": [],
   "source": [
    "import matplotlib.pyplot as plt\n",
    "import pandas as pd\n",
    "\n",
    "class MyIterator:\n",
    "    def __iter__(self) -> None:\n",
    "        self.n = 0\n",
    "        return self\n",
    "    \n",
    "    def __next__(self):\n",
    "        self.n +=1\n",
    "        return self.n\n",
    "    \n",
    "obj = MyIterator()\n",
    "it = iter(obj)\n",
    "print(next(it))\n",
    "print(next(it))\n",
    "print(next(it))"
   ]
  },
  {
   "cell_type": "code",
   "execution_count": null,
   "metadata": {},
   "outputs": [],
   "source": [
    "import numpy as np\n",
    "\n",
    "x_vlaues = np.arange(0,1000, 20)\n",
    "print(x_vlaues)\n",
    "\n",
    "x_vlaues = np.linspace(0,1000,1001)\n",
    "print(x_vlaues)"
   ]
  },
  {
   "cell_type": "code",
   "execution_count": null,
   "metadata": {},
   "outputs": [],
   "source": [
    "import numpy as np\n",
    "import matplotlib.pyplot as plt\n",
    "heights = np.random.normal(170, 55, 300)\n",
    "\n",
    "plt.violinplot(heights)\n",
    "plt.show()"
   ]
  },
  {
   "cell_type": "code",
   "execution_count": null,
   "metadata": {},
   "outputs": [],
   "source": [
    "import numpy as np\n",
    "\n",
    "array = np.linspace(10, 100, 4)\n",
    "print(array)\n"
   ]
  },
  {
   "cell_type": "code",
   "execution_count": 17,
   "metadata": {},
   "outputs": [
    {
     "data": {
      "text/html": [
       "<div>\n",
       "<style scoped>\n",
       "    .dataframe tbody tr th:only-of-type {\n",
       "        vertical-align: middle;\n",
       "    }\n",
       "\n",
       "    .dataframe tbody tr th {\n",
       "        vertical-align: top;\n",
       "    }\n",
       "\n",
       "    .dataframe thead th {\n",
       "        text-align: right;\n",
       "    }\n",
       "</style>\n",
       "<table border=\"1\" class=\"dataframe\">\n",
       "  <thead>\n",
       "    <tr style=\"text-align: right;\">\n",
       "      <th></th>\n",
       "      <th>name</th>\n",
       "      <th>score</th>\n",
       "    </tr>\n",
       "  </thead>\n",
       "  <tbody>\n",
       "    <tr>\n",
       "      <th>1</th>\n",
       "      <td>PAOK</td>\n",
       "      <td>0</td>\n",
       "    </tr>\n",
       "    <tr>\n",
       "      <th>2</th>\n",
       "      <td>OSFP</td>\n",
       "      <td>0</td>\n",
       "    </tr>\n",
       "    <tr>\n",
       "      <th>3</th>\n",
       "      <td>ARIS</td>\n",
       "      <td>0</td>\n",
       "    </tr>\n",
       "    <tr>\n",
       "      <th>4</th>\n",
       "      <td>AEK</td>\n",
       "      <td>0</td>\n",
       "    </tr>\n",
       "  </tbody>\n",
       "</table>\n",
       "</div>"
      ],
      "text/plain": [
       "   name  score\n",
       "1  PAOK      0\n",
       "2  OSFP      0\n",
       "3  ARIS      0\n",
       "4   AEK      0"
      ]
     },
     "execution_count": 17,
     "metadata": {},
     "output_type": "execute_result"
    }
   ],
   "source": [
    "import pandas as pd\n",
    "data = {'name':[\"PAOK\",\"OSFP\",\"ARIS\",\"AEK\"], 'score':[0,0,0,0]}\n",
    "df = pd.DataFrame(data, index=[1,2,3,4])\n",
    "df \n"
   ]
  },
  {
   "cell_type": "code",
   "execution_count": null,
   "metadata": {},
   "outputs": [],
   "source": [
    "new_row = pd.DataFrame({'name' : \"OFI\", 'score': 0 }, index=[0])\n",
    "df = pd.concat((new_row, df)).reset_index(drop=True)\n",
    "df.head()"
   ]
  },
  {
   "cell_type": "code",
   "execution_count": 20,
   "metadata": {},
   "outputs": [],
   "source": [
    "\n",
    "df.head()\n",
    "\n",
    "def winner(score_A, score_B, goal_A, goal_B):\n",
    "    goal_A= int(goal_A)\n",
    "    goal_B= int(goal_B)\n",
    "    score_A = int(score_A)\n",
    "    score_B = int(score_B)\n",
    "    if goal_A == goal_B:\n",
    "        score_A +=1\n",
    "        score_B +=1\n",
    "    elif goal_A > goal_B:\n",
    "        score_A +=3\n",
    "    else:\n",
    "        score_B +=3\n",
    "    return score_A, score_B\n",
    "\n",
    "def update_score(team_name_A, team_name_B, goal_A, goal_B):\n",
    "    index_A = df.index[df['name'] == team_name_A].tolist()\n",
    "    index_B = df.index[df['name'] == team_name_B].tolist()\n",
    "    \n",
    "    if len(index_A) == 0:\n",
    "        print(f\"Δεν βρέθηκε ομάδα με το όνομα {team_name_A}.\")\n",
    "    elif len(index_B) == 0:\n",
    "        print(f\"Δεν βρέθηκε ομάδα με το όνομα {team_name_B}.\")\n",
    "    else:\n",
    "        current_score_A = df.loc[index_A, 'score'].values[0]\n",
    "        current_score_B = df.loc[index_B, 'score'].values[0]\n",
    "        new_score_A, new_score_B = winner(current_score_A, current_score_B, goal_A, goal_B)\n",
    "        df.loc[index_A, 'score'] = new_score_A\n",
    "        df.loc[index_B, 'score'] = new_score_B\n",
    "\n",
    "update_score(\"ARIS\", \"AEK\", 1, 1)"
   ]
  },
  {
   "cell_type": "code",
   "execution_count": 21,
   "metadata": {},
   "outputs": [
    {
     "data": {
      "text/html": [
       "<div>\n",
       "<style scoped>\n",
       "    .dataframe tbody tr th:only-of-type {\n",
       "        vertical-align: middle;\n",
       "    }\n",
       "\n",
       "    .dataframe tbody tr th {\n",
       "        vertical-align: top;\n",
       "    }\n",
       "\n",
       "    .dataframe thead th {\n",
       "        text-align: right;\n",
       "    }\n",
       "</style>\n",
       "<table border=\"1\" class=\"dataframe\">\n",
       "  <thead>\n",
       "    <tr style=\"text-align: right;\">\n",
       "      <th></th>\n",
       "      <th>name</th>\n",
       "      <th>score</th>\n",
       "    </tr>\n",
       "  </thead>\n",
       "  <tbody>\n",
       "    <tr>\n",
       "      <th>1</th>\n",
       "      <td>PAOK</td>\n",
       "      <td>3</td>\n",
       "    </tr>\n",
       "    <tr>\n",
       "      <th>2</th>\n",
       "      <td>OSFP</td>\n",
       "      <td>0</td>\n",
       "    </tr>\n",
       "    <tr>\n",
       "      <th>3</th>\n",
       "      <td>ARIS</td>\n",
       "      <td>1</td>\n",
       "    </tr>\n",
       "    <tr>\n",
       "      <th>4</th>\n",
       "      <td>AEK</td>\n",
       "      <td>1</td>\n",
       "    </tr>\n",
       "  </tbody>\n",
       "</table>\n",
       "</div>"
      ],
      "text/plain": [
       "   name  score\n",
       "1  PAOK      3\n",
       "2  OSFP      0\n",
       "3  ARIS      1\n",
       "4   AEK      1"
      ]
     },
     "execution_count": 21,
     "metadata": {},
     "output_type": "execute_result"
    }
   ],
   "source": [
    "df.head()"
   ]
  },
  {
   "cell_type": "code",
   "execution_count": null,
   "metadata": {},
   "outputs": [],
   "source": []
  }
 ],
 "metadata": {
  "kernelspec": {
   "display_name": "Python 3",
   "language": "python",
   "name": "python3"
  },
  "language_info": {
   "codemirror_mode": {
    "name": "ipython",
    "version": 3
   },
   "file_extension": ".py",
   "mimetype": "text/x-python",
   "name": "python",
   "nbconvert_exporter": "python",
   "pygments_lexer": "ipython3",
   "version": "3.11.5"
  }
 },
 "nbformat": 4,
 "nbformat_minor": 2
}
