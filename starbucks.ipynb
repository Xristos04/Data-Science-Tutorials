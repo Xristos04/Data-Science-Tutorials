{
 "cells": [
  {
   "cell_type": "code",
   "execution_count": 2,
   "metadata": {},
   "outputs": [
    {
     "data": {
      "text/plain": [
       "(850, 6)"
      ]
     },
     "execution_count": 2,
     "metadata": {},
     "output_type": "execute_result"
    }
   ],
   "source": [
    "import pandas as pd\n",
    "import matplotlib.pyplot as plt\n",
    "import seaborn as sns\n",
    "\n",
    "starbucks = pd.read_csv('C:/Users/xrist/OneDrive/Υπολογιστής/data/Data-Science-Tutorials/data/reviews_data.csv')\n",
    "starbucks[810:-1]\n",
    "starbucks.shape"
   ]
  },
  {
   "cell_type": "code",
   "execution_count": 3,
   "metadata": {},
   "outputs": [
    {
     "data": {
      "text/plain": [
       "name            object\n",
       "location        object\n",
       "Date            object\n",
       "Rating         float64\n",
       "Review          object\n",
       "Image_Links     object\n",
       "dtype: object"
      ]
     },
     "execution_count": 3,
     "metadata": {},
     "output_type": "execute_result"
    }
   ],
   "source": [
    "starbucks.dtypes"
   ]
  },
  {
   "cell_type": "code",
   "execution_count": 4,
   "metadata": {},
   "outputs": [
    {
     "data": {
      "text/html": [
       "<div>\n",
       "<style scoped>\n",
       "    .dataframe tbody tr th:only-of-type {\n",
       "        vertical-align: middle;\n",
       "    }\n",
       "\n",
       "    .dataframe tbody tr th {\n",
       "        vertical-align: top;\n",
       "    }\n",
       "\n",
       "    .dataframe thead th {\n",
       "        text-align: right;\n",
       "    }\n",
       "</style>\n",
       "<table border=\"1\" class=\"dataframe\">\n",
       "  <thead>\n",
       "    <tr style=\"text-align: right;\">\n",
       "      <th></th>\n",
       "      <th>name</th>\n",
       "      <th>location</th>\n",
       "      <th>Date</th>\n",
       "      <th>Rating</th>\n",
       "      <th>Review</th>\n",
       "      <th>Image_Links</th>\n",
       "    </tr>\n",
       "  </thead>\n",
       "  <tbody>\n",
       "    <tr>\n",
       "      <th>819</th>\n",
       "      <td>Nikki</td>\n",
       "      <td>Union City, CA</td>\n",
       "      <td>Reviewed Nov. 5, 2008</td>\n",
       "      <td>NaN</td>\n",
       "      <td>No Review Text</td>\n",
       "      <td>['No Images']</td>\n",
       "    </tr>\n",
       "  </tbody>\n",
       "</table>\n",
       "</div>"
      ],
      "text/plain": [
       "      name        location                   Date  Rating          Review  \\\n",
       "819  Nikki  Union City, CA  Reviewed Nov. 5, 2008     NaN  No Review Text   \n",
       "\n",
       "       Image_Links  \n",
       "819  ['No Images']  "
      ]
     },
     "execution_count": 4,
     "metadata": {},
     "output_type": "execute_result"
    }
   ],
   "source": [
    "starbucks.loc[starbucks.duplicated()]"
   ]
  },
  {
   "cell_type": "code",
   "execution_count": 5,
   "metadata": {},
   "outputs": [
    {
     "data": {
      "text/html": [
       "<div>\n",
       "<style scoped>\n",
       "    .dataframe tbody tr th:only-of-type {\n",
       "        vertical-align: middle;\n",
       "    }\n",
       "\n",
       "    .dataframe tbody tr th {\n",
       "        vertical-align: top;\n",
       "    }\n",
       "\n",
       "    .dataframe thead th {\n",
       "        text-align: right;\n",
       "    }\n",
       "</style>\n",
       "<table border=\"1\" class=\"dataframe\">\n",
       "  <thead>\n",
       "    <tr style=\"text-align: right;\">\n",
       "      <th></th>\n",
       "      <th>Rating</th>\n",
       "    </tr>\n",
       "  </thead>\n",
       "  <tbody>\n",
       "    <tr>\n",
       "      <th>count</th>\n",
       "      <td>705.000000</td>\n",
       "    </tr>\n",
       "    <tr>\n",
       "      <th>mean</th>\n",
       "      <td>1.870922</td>\n",
       "    </tr>\n",
       "    <tr>\n",
       "      <th>std</th>\n",
       "      <td>1.397672</td>\n",
       "    </tr>\n",
       "    <tr>\n",
       "      <th>min</th>\n",
       "      <td>1.000000</td>\n",
       "    </tr>\n",
       "    <tr>\n",
       "      <th>25%</th>\n",
       "      <td>1.000000</td>\n",
       "    </tr>\n",
       "    <tr>\n",
       "      <th>50%</th>\n",
       "      <td>1.000000</td>\n",
       "    </tr>\n",
       "    <tr>\n",
       "      <th>75%</th>\n",
       "      <td>2.000000</td>\n",
       "    </tr>\n",
       "    <tr>\n",
       "      <th>max</th>\n",
       "      <td>5.000000</td>\n",
       "    </tr>\n",
       "  </tbody>\n",
       "</table>\n",
       "</div>"
      ],
      "text/plain": [
       "           Rating\n",
       "count  705.000000\n",
       "mean     1.870922\n",
       "std      1.397672\n",
       "min      1.000000\n",
       "25%      1.000000\n",
       "50%      1.000000\n",
       "75%      2.000000\n",
       "max      5.000000"
      ]
     },
     "execution_count": 5,
     "metadata": {},
     "output_type": "execute_result"
    }
   ],
   "source": [
    "starbucks.describe()"
   ]
  },
  {
   "cell_type": "markdown",
   "metadata": {},
   "source": [
    "# search for any duplicates"
   ]
  },
  {
   "cell_type": "code",
   "execution_count": 38,
   "metadata": {},
   "outputs": [
    {
     "data": {
      "text/html": [
       "<div>\n",
       "<style scoped>\n",
       "    .dataframe tbody tr th:only-of-type {\n",
       "        vertical-align: middle;\n",
       "    }\n",
       "\n",
       "    .dataframe tbody tr th {\n",
       "        vertical-align: top;\n",
       "    }\n",
       "\n",
       "    .dataframe thead th {\n",
       "        text-align: right;\n",
       "    }\n",
       "</style>\n",
       "<table border=\"1\" class=\"dataframe\">\n",
       "  <thead>\n",
       "    <tr style=\"text-align: right;\">\n",
       "      <th></th>\n",
       "      <th>name</th>\n",
       "      <th>location</th>\n",
       "      <th>Date</th>\n",
       "      <th>Rating</th>\n",
       "      <th>Review</th>\n",
       "      <th>Image_Links</th>\n",
       "    </tr>\n",
       "  </thead>\n",
       "  <tbody>\n",
       "  </tbody>\n",
       "</table>\n",
       "</div>"
      ],
      "text/plain": [
       "Empty DataFrame\n",
       "Columns: [name, location, Date, Rating, Review, Image_Links]\n",
       "Index: []"
      ]
     },
     "execution_count": 38,
     "metadata": {},
     "output_type": "execute_result"
    }
   ],
   "source": [
    "duplicated_rows = starbucks.duplicated()\n",
    "duplicated_rows\n",
    "\n",
    "duplicates = starbucks[duplicated_rows]\n",
    "duplicates"
   ]
  },
  {
   "cell_type": "markdown",
   "metadata": {},
   "source": [
    "# Drop Duplitates"
   ]
  },
  {
   "cell_type": "code",
   "execution_count": 40,
   "metadata": {},
   "outputs": [
    {
     "data": {
      "text/html": [
       "<div>\n",
       "<style scoped>\n",
       "    .dataframe tbody tr th:only-of-type {\n",
       "        vertical-align: middle;\n",
       "    }\n",
       "\n",
       "    .dataframe tbody tr th {\n",
       "        vertical-align: top;\n",
       "    }\n",
       "\n",
       "    .dataframe thead th {\n",
       "        text-align: right;\n",
       "    }\n",
       "</style>\n",
       "<table border=\"1\" class=\"dataframe\">\n",
       "  <thead>\n",
       "    <tr style=\"text-align: right;\">\n",
       "      <th></th>\n",
       "      <th>name</th>\n",
       "      <th>location</th>\n",
       "      <th>Date</th>\n",
       "      <th>Rating</th>\n",
       "      <th>Review</th>\n",
       "      <th>Image_Links</th>\n",
       "    </tr>\n",
       "  </thead>\n",
       "  <tbody>\n",
       "    <tr>\n",
       "      <th>0</th>\n",
       "      <td>Helen</td>\n",
       "      <td>TX</td>\n",
       "      <td>2023</td>\n",
       "      <td>5.0</td>\n",
       "      <td>Amber and LaDonna at the Starbucks on Southwes...</td>\n",
       "      <td>0</td>\n",
       "    </tr>\n",
       "    <tr>\n",
       "      <th>1</th>\n",
       "      <td>Courtney</td>\n",
       "      <td>FL</td>\n",
       "      <td>2023</td>\n",
       "      <td>5.0</td>\n",
       "      <td>** at the Starbucks by the fire station on 436...</td>\n",
       "      <td>0</td>\n",
       "    </tr>\n",
       "    <tr>\n",
       "      <th>2</th>\n",
       "      <td>Daynelle</td>\n",
       "      <td>PA</td>\n",
       "      <td>2023</td>\n",
       "      <td>5.0</td>\n",
       "      <td>I just wanted to go out of my way to recognize...</td>\n",
       "      <td>1</td>\n",
       "    </tr>\n",
       "    <tr>\n",
       "      <th>3</th>\n",
       "      <td>Taylor</td>\n",
       "      <td>WA</td>\n",
       "      <td>2023</td>\n",
       "      <td>5.0</td>\n",
       "      <td>Me and my friend were at Starbucks and my card...</td>\n",
       "      <td>0</td>\n",
       "    </tr>\n",
       "    <tr>\n",
       "      <th>4</th>\n",
       "      <td>Tenessa</td>\n",
       "      <td>OR</td>\n",
       "      <td>2023</td>\n",
       "      <td>5.0</td>\n",
       "      <td>I’m on this kick of drinking 5 cups of warm wa...</td>\n",
       "      <td>1</td>\n",
       "    </tr>\n",
       "    <tr>\n",
       "      <th>5</th>\n",
       "      <td>Alyssa</td>\n",
       "      <td>TX</td>\n",
       "      <td>2023</td>\n",
       "      <td>1.0</td>\n",
       "      <td>We had to correct them on our order 3 times. T...</td>\n",
       "      <td>0</td>\n",
       "    </tr>\n",
       "    <tr>\n",
       "      <th>6</th>\n",
       "      <td>ken</td>\n",
       "      <td>FL</td>\n",
       "      <td>2023</td>\n",
       "      <td>1.0</td>\n",
       "      <td>I have tried Starbucks several different times...</td>\n",
       "      <td>0</td>\n",
       "    </tr>\n",
       "    <tr>\n",
       "      <th>7</th>\n",
       "      <td>Nikki</td>\n",
       "      <td>NC</td>\n",
       "      <td>2023</td>\n",
       "      <td>1.0</td>\n",
       "      <td>Starbucks near me just launched new fall foods...</td>\n",
       "      <td>0</td>\n",
       "    </tr>\n",
       "    <tr>\n",
       "      <th>8</th>\n",
       "      <td>Alex</td>\n",
       "      <td>MD</td>\n",
       "      <td>2023</td>\n",
       "      <td>1.0</td>\n",
       "      <td>I ordered online for the Reisterstown Rd, St T...</td>\n",
       "      <td>0</td>\n",
       "    </tr>\n",
       "  </tbody>\n",
       "</table>\n",
       "</div>"
      ],
      "text/plain": [
       "       name location  Date  Rating  \\\n",
       "0     Helen       TX  2023     5.0   \n",
       "1  Courtney       FL  2023     5.0   \n",
       "2  Daynelle       PA  2023     5.0   \n",
       "3    Taylor       WA  2023     5.0   \n",
       "4   Tenessa       OR  2023     5.0   \n",
       "5    Alyssa       TX  2023     1.0   \n",
       "6       ken       FL  2023     1.0   \n",
       "7     Nikki       NC  2023     1.0   \n",
       "8      Alex       MD  2023     1.0   \n",
       "\n",
       "                                              Review  Image_Links  \n",
       "0  Amber and LaDonna at the Starbucks on Southwes...            0  \n",
       "1  ** at the Starbucks by the fire station on 436...            0  \n",
       "2  I just wanted to go out of my way to recognize...            1  \n",
       "3  Me and my friend were at Starbucks and my card...            0  \n",
       "4  I’m on this kick of drinking 5 cups of warm wa...            1  \n",
       "5  We had to correct them on our order 3 times. T...            0  \n",
       "6  I have tried Starbucks several different times...            0  \n",
       "7  Starbucks near me just launched new fall foods...            0  \n",
       "8  I ordered online for the Reisterstown Rd, St T...            0  "
      ]
     },
     "execution_count": 40,
     "metadata": {},
     "output_type": "execute_result"
    }
   ],
   "source": [
    "starbucks = starbucks.drop_duplicates(keep=\"first\").reset_index(drop=True)\n",
    "starbucks.head(9)\n",
    "# starbucks.shape"
   ]
  },
  {
   "cell_type": "markdown",
   "metadata": {},
   "source": [
    "# Rating Describe and Visualization"
   ]
  },
  {
   "cell_type": "code",
   "execution_count": 8,
   "metadata": {},
   "outputs": [
    {
     "data": {
      "text/plain": [
       "count    705.000000\n",
       "mean       1.870922\n",
       "std        1.397672\n",
       "min        1.000000\n",
       "25%        1.000000\n",
       "50%        1.000000\n",
       "75%        2.000000\n",
       "max        5.000000\n",
       "Name: Rating, dtype: float64"
      ]
     },
     "execution_count": 8,
     "metadata": {},
     "output_type": "execute_result"
    }
   ],
   "source": [
    "starbucks['Rating'].describe()"
   ]
  },
  {
   "cell_type": "code",
   "execution_count": 9,
   "metadata": {},
   "outputs": [
    {
     "data": {
      "text/html": [
       "<div>\n",
       "<style scoped>\n",
       "    .dataframe tbody tr th:only-of-type {\n",
       "        vertical-align: middle;\n",
       "    }\n",
       "\n",
       "    .dataframe tbody tr th {\n",
       "        vertical-align: top;\n",
       "    }\n",
       "\n",
       "    .dataframe thead th {\n",
       "        text-align: right;\n",
       "    }\n",
       "</style>\n",
       "<table border=\"1\" class=\"dataframe\">\n",
       "  <thead>\n",
       "    <tr style=\"text-align: right;\">\n",
       "      <th></th>\n",
       "      <th>name</th>\n",
       "      <th>location</th>\n",
       "      <th>Date</th>\n",
       "      <th>Rating</th>\n",
       "      <th>Review</th>\n",
       "      <th>Image_Links</th>\n",
       "    </tr>\n",
       "  </thead>\n",
       "  <tbody>\n",
       "    <tr>\n",
       "      <th>0</th>\n",
       "      <td>Helen</td>\n",
       "      <td>Wichita Falls, TX</td>\n",
       "      <td>Reviewed Sept. 13, 2023</td>\n",
       "      <td>5.0</td>\n",
       "      <td>Amber and LaDonna at the Starbucks on Southwes...</td>\n",
       "      <td>['No Images']</td>\n",
       "    </tr>\n",
       "    <tr>\n",
       "      <th>1</th>\n",
       "      <td>Courtney</td>\n",
       "      <td>Apopka, FL</td>\n",
       "      <td>Reviewed July 16, 2023</td>\n",
       "      <td>5.0</td>\n",
       "      <td>** at the Starbucks by the fire station on 436...</td>\n",
       "      <td>['No Images']</td>\n",
       "    </tr>\n",
       "    <tr>\n",
       "      <th>2</th>\n",
       "      <td>Daynelle</td>\n",
       "      <td>Cranberry Twp, PA</td>\n",
       "      <td>Reviewed July 5, 2023</td>\n",
       "      <td>5.0</td>\n",
       "      <td>I just wanted to go out of my way to recognize...</td>\n",
       "      <td>['https://media.consumeraffairs.com/files/cach...</td>\n",
       "    </tr>\n",
       "    <tr>\n",
       "      <th>3</th>\n",
       "      <td>Taylor</td>\n",
       "      <td>Seattle, WA</td>\n",
       "      <td>Reviewed May 26, 2023</td>\n",
       "      <td>5.0</td>\n",
       "      <td>Me and my friend were at Starbucks and my card...</td>\n",
       "      <td>['No Images']</td>\n",
       "    </tr>\n",
       "    <tr>\n",
       "      <th>4</th>\n",
       "      <td>Tenessa</td>\n",
       "      <td>Gresham, OR</td>\n",
       "      <td>Reviewed Jan. 22, 2023</td>\n",
       "      <td>5.0</td>\n",
       "      <td>I’m on this kick of drinking 5 cups of warm wa...</td>\n",
       "      <td>['https://media.consumeraffairs.com/files/cach...</td>\n",
       "    </tr>\n",
       "    <tr>\n",
       "      <th>...</th>\n",
       "      <td>...</td>\n",
       "      <td>...</td>\n",
       "      <td>...</td>\n",
       "      <td>...</td>\n",
       "      <td>...</td>\n",
       "      <td>...</td>\n",
       "    </tr>\n",
       "    <tr>\n",
       "      <th>555</th>\n",
       "      <td>diane</td>\n",
       "      <td>Greer, SC</td>\n",
       "      <td>Reviewed Nov. 22, 2014</td>\n",
       "      <td>5.0</td>\n",
       "      <td>Best crew ever at Wade Hampton Greer South Car...</td>\n",
       "      <td>['No Images']</td>\n",
       "    </tr>\n",
       "    <tr>\n",
       "      <th>569</th>\n",
       "      <td>June</td>\n",
       "      <td>Jupiter, FL</td>\n",
       "      <td>Reviewed Sept. 24, 2014</td>\n",
       "      <td>5.0</td>\n",
       "      <td>I had two Starbucks accounts I wanted to combi...</td>\n",
       "      <td>['No Images']</td>\n",
       "    </tr>\n",
       "    <tr>\n",
       "      <th>640</th>\n",
       "      <td>Kim</td>\n",
       "      <td>West New York, NJ</td>\n",
       "      <td>Reviewed Aug. 20, 2012</td>\n",
       "      <td>5.0</td>\n",
       "      <td>I have been a Starbucks customer for many year...</td>\n",
       "      <td>['No Images']</td>\n",
       "    </tr>\n",
       "    <tr>\n",
       "      <th>647</th>\n",
       "      <td>Gary</td>\n",
       "      <td>Aberdeen, Other</td>\n",
       "      <td>Reviewed May 23, 2012</td>\n",
       "      <td>5.0</td>\n",
       "      <td>I traveled from Aberdeen to Elgin which is abo...</td>\n",
       "      <td>['No Images']</td>\n",
       "    </tr>\n",
       "    <tr>\n",
       "      <th>749</th>\n",
       "      <td>Kenneth</td>\n",
       "      <td>Beecher, IL</td>\n",
       "      <td>Reviewed Feb. 6, 2010</td>\n",
       "      <td>5.0</td>\n",
       "      <td>I found the coffee at Starbucks overrated and ...</td>\n",
       "      <td>['No Images']</td>\n",
       "    </tr>\n",
       "  </tbody>\n",
       "</table>\n",
       "<p>83 rows × 6 columns</p>\n",
       "</div>"
      ],
      "text/plain": [
       "         name           location                     Date  Rating  \\\n",
       "0       Helen  Wichita Falls, TX  Reviewed Sept. 13, 2023     5.0   \n",
       "1    Courtney         Apopka, FL   Reviewed July 16, 2023     5.0   \n",
       "2    Daynelle  Cranberry Twp, PA    Reviewed July 5, 2023     5.0   \n",
       "3      Taylor        Seattle, WA    Reviewed May 26, 2023     5.0   \n",
       "4     Tenessa        Gresham, OR   Reviewed Jan. 22, 2023     5.0   \n",
       "..        ...                ...                      ...     ...   \n",
       "555     diane          Greer, SC   Reviewed Nov. 22, 2014     5.0   \n",
       "569      June        Jupiter, FL  Reviewed Sept. 24, 2014     5.0   \n",
       "640       Kim  West New York, NJ   Reviewed Aug. 20, 2012     5.0   \n",
       "647     Gary     Aberdeen, Other    Reviewed May 23, 2012     5.0   \n",
       "749   Kenneth        Beecher, IL    Reviewed Feb. 6, 2010     5.0   \n",
       "\n",
       "                                                Review  \\\n",
       "0    Amber and LaDonna at the Starbucks on Southwes...   \n",
       "1    ** at the Starbucks by the fire station on 436...   \n",
       "2    I just wanted to go out of my way to recognize...   \n",
       "3    Me and my friend were at Starbucks and my card...   \n",
       "4    I’m on this kick of drinking 5 cups of warm wa...   \n",
       "..                                                 ...   \n",
       "555  Best crew ever at Wade Hampton Greer South Car...   \n",
       "569  I had two Starbucks accounts I wanted to combi...   \n",
       "640  I have been a Starbucks customer for many year...   \n",
       "647  I traveled from Aberdeen to Elgin which is abo...   \n",
       "749  I found the coffee at Starbucks overrated and ...   \n",
       "\n",
       "                                           Image_Links  \n",
       "0                                        ['No Images']  \n",
       "1                                        ['No Images']  \n",
       "2    ['https://media.consumeraffairs.com/files/cach...  \n",
       "3                                        ['No Images']  \n",
       "4    ['https://media.consumeraffairs.com/files/cach...  \n",
       "..                                                 ...  \n",
       "555                                      ['No Images']  \n",
       "569                                      ['No Images']  \n",
       "640                                      ['No Images']  \n",
       "647                                      ['No Images']  \n",
       "749                                      ['No Images']  \n",
       "\n",
       "[83 rows x 6 columns]"
      ]
     },
     "execution_count": 9,
     "metadata": {},
     "output_type": "execute_result"
    }
   ],
   "source": [
    "starbucks[starbucks['Rating']==5]"
   ]
  },
  {
   "cell_type": "code",
   "execution_count": 10,
   "metadata": {},
   "outputs": [
    {
     "data": {
      "text/plain": [
       "Rating\n",
       "1.0    451\n",
       "2.0     99\n",
       "5.0     83\n",
       "4.0     39\n",
       "3.0     33\n",
       "Name: count, dtype: int64"
      ]
     },
     "execution_count": 10,
     "metadata": {},
     "output_type": "execute_result"
    }
   ],
   "source": [
    "rating_counts = starbucks['Rating'].value_counts()\n",
    "rating_counts "
   ]
  },
  {
   "cell_type": "code",
   "execution_count": 11,
   "metadata": {},
   "outputs": [
    {
     "data": {
      "image/png": "[encoded data removed]",
      "text/plain": [
       "<Figure size 800x600 with 1 Axes>"
      ]
     },
     "metadata": {},
     "output_type": "display_data"
    }
   ],
   "source": [
    "plt.figure(figsize=(8, 6))\n",
    "plt.bar(rating_counts.index.astype(str), rating_counts.values, color='blue')\n",
    "plt.xlabel('Rating')\n",
    "plt.ylabel('Number of Reviews')\n",
    "plt.title('Distribution of Ratings for Starbucks Reviews')\n",
    "plt.ylim(0, max(rating_counts.values) + 5)\n",
    "plt.show()"
   ]
  },
  {
   "cell_type": "markdown",
   "metadata": {},
   "source": [
    "# Images"
   ]
  },
  {
   "cell_type": "code",
   "execution_count": 13,
   "metadata": {},
   "outputs": [
    {
     "data": {
      "text/plain": [
       "array([\"['No Images']\",\n",
       "       \"['https://media.consumeraffairs.com/files/cache/reviews/starbucks_804950_thumbnail.jpg']\",\n",
       "       \"['https://media.consumeraffairs.com/files/cache/reviews/starbucks_793785_thumbnail.jpeg', 'https://media.consumeraffairs.com/files/cache/reviews/starbucks_793787_thumbnail.jpg']\",\n",
       "       \"['https://media.consumeraffairs.com/files/cache/reviews/starbucks_806740_thumbnail.jpg']\",\n",
       "       \"['https://media.consumeraffairs.com/files/cache/reviews/starbucks_802790_thumbnail.jpg', 'https://media.consumeraffairs.com/files/cache/reviews/starbucks_802791_thumbnail.jpg']\",\n",
       "       \"['https://media.consumeraffairs.com/files/cache/reviews/starbucks_801697_thumbnail.jpeg']\",\n",
       "       \"['https://media.consumeraffairs.com/files/cache/reviews/starbucks_800135_thumbnail.jpg']\",\n",
       "       \"['https://media.consumeraffairs.com/files/cache/reviews/starbucks_796930_thumbnail.jpg']\",\n",
       "       \"['https://media.consumeraffairs.com/files/cache/reviews/starbucks_795081_thumbnail.jpg']\",\n",
       "       \"['https://media.consumeraffairs.com/files/cache/reviews/starbucks_794756_thumbnail.JPG']\",\n",
       "       \"['https://media.consumeraffairs.com/files/cache/reviews/starbucks_789669_thumbnail.jpeg']\",\n",
       "       \"['https://media.consumeraffairs.com/files/cache/reviews/starbucks_767772_thumbnail.jpg']\",\n",
       "       \"['https://media.consumeraffairs.com/files/cache/reviews/starbucks_765921_thumbnail.jpg']\",\n",
       "       \"['https://media.consumeraffairs.com/files/cache/reviews/starbucks_745719_thumbnail.jpg', 'https://media.consumeraffairs.com/files/cache/reviews/starbucks_745722_thumbnail.jpg']\",\n",
       "       \"['https://media.consumeraffairs.com/files/cache/reviews/starbucks_734379_thumbnail.jpg']\",\n",
       "       \"['https://media.consumeraffairs.com/files/cache/reviews/starbucks_728673_thumbnail.jpg']\",\n",
       "       \"['https://media.consumeraffairs.com/files/cache/reviews/starbucks_715902_thumbnail.jpeg']\",\n",
       "       \"['https://media.consumeraffairs.com/files/cache/reviews/starbucks_643325_thumbnail.jpg']\",\n",
       "       \"['https://media.consumeraffairs.com/files/cache/reviews/starbucks_583526_thumbnail.jpg']\",\n",
       "       \"['https://media.consumeraffairs.com/files/cache/reviews/starbucks_543635_thumbnail.jpg']\",\n",
       "       \"['https://media.consumeraffairs.com/files/cache/reviews/starbucks_535142_thumbnail.jpg']\",\n",
       "       \"['https://media.consumeraffairs.com/files/cache/reviews/starbucks_485354_thumbnail.jpeg', 'https://media.consumeraffairs.com/files/cache/reviews/starbucks_485357_thumbnail.jpeg', 'https://media.consumeraffairs.com/files/cache/reviews/starbucks_485360_thumbnail.jpeg', 'https://media.consumeraffairs.com/files/cache/reviews/starbucks_485363_thumbnail.jpeg', 'https://media.consumeraffairs.com/files/cache/reviews/starbucks_485366_thumbnail.jpeg', 'https://media.consumeraffairs.com/files/cache/reviews/starbucks_485369_thumbnail.jpeg']\",\n",
       "       \"['https://media.consumeraffairs.com/files/cache/reviews/starbucks_456919_thumbnail.jpg', 'https://media.consumeraffairs.com/files/cache/reviews/starbucks_456922_thumbnail.jpg']\",\n",
       "       \"['https://media.consumeraffairs.com/files/cache/reviews/starbucks_406969_thumbnail.JPG', 'https://media.consumeraffairs.com/files/cache/reviews/starbucks_406972_thumbnail.JPG', 'https://media.consumeraffairs.com/files/cache/reviews/starbucks_406975_thumbnail.JPG']\",\n",
       "       \"['https://media.consumeraffairs.com/files/cache/reviews/starbucks_358810_thumbnail.jpg']\",\n",
       "       \"['https://media.consumeraffairs.com/files/cache/reviews/starbucks_358567_thumbnail.jpeg']\",\n",
       "       \"['https://media.consumeraffairs.com/files/cache/reviews/starbucks_320005_thumbnail.jpg']\",\n",
       "       \"['https://media.consumeraffairs.com/files/cache/reviews/starbucks_239350_thumbnail.JPG']\",\n",
       "       \"['https://media.consumeraffairs.com/files/cache/reviews/starbucks_225457_thumbnail.jpeg']\",\n",
       "       \"['https://media.consumeraffairs.com/files/cache/reviews/starbucks_222259_thumbnail.jpg']\",\n",
       "       \"['https://media.consumeraffairs.com/files/cache/reviews/consumeraffairscom_204322_thumbnail.jpeg', 'https://media.consumeraffairs.com/files/cache/reviews/consumeraffairscom_204325_thumbnail.jpeg']\",\n",
       "       \"['https://media.consumeraffairs.com/files/cache/reviews/starbucks_191939_thumbnail.jpg', 'https://media.consumeraffairs.com/files/cache/reviews/starbucks_191942_thumbnail.jpg']\",\n",
       "       \"['https://media.consumeraffairs.com/files/cache/reviews/starbucks_177096_thumbnail.jpg', 'https://media.consumeraffairs.com/files/cache/reviews/starbucks_177099_thumbnail.jpg', 'https://media.consumeraffairs.com/files/cache/reviews/starbucks_177102_thumbnail.jpg']\",\n",
       "       \"['https://media.consumeraffairs.com/files/cache/reviews/starbucks_80013_thumbnail.jpg', 'https://media.consumeraffairs.com/files/cache/reviews/starbucks_80016_thumbnail.jpg', 'https://media.consumeraffairs.com/files/cache/reviews/starbucks_80019_thumbnail.jpg']\",\n",
       "       \"['https://media.consumeraffairs.com/files/cache/reviews/starbucks_75690_thumbnail.jpg']\",\n",
       "       \"['https://media.consumeraffairs.com/files/cache/reviews/starbucks_71927_thumbnail.jpg', 'https://media.consumeraffairs.com/files/cache/reviews/starbucks_71930_thumbnail.jpg']\",\n",
       "       \"['https://media.consumeraffairs.com/files/cache/reviews/starbucks_40686_thumbnail.jpg']\",\n",
       "       \"['https://media.consumeraffairs.com/files/cache/reviews/starbucks_40041_thumbnail.jpg']\",\n",
       "       \"['https://media.consumeraffairs.com/files/cache/reviews/starbucks_36178_thumbnail.jpg']\",\n",
       "       \"['https://media.consumeraffairs.com/files/cache/reviews/starbucks_59083_thumbnail.jpg', 'https://media.consumeraffairs.com/files/cache/reviews/starbucks_59086_thumbnail.jpg']\",\n",
       "       \"['https://media.consumeraffairs.com/files/cache/reviews/starbucks_31928_thumbnail.jpg']\",\n",
       "       \"['https://media.consumeraffairs.com/files/cache/reviews/starbucks_21940_thumbnail.jpg', 'https://media.consumeraffairs.com/files/cache/reviews/starbucks_21941_thumbnail.jpg', 'https://media.consumeraffairs.com/files/cache/reviews/starbucks_21942_thumbnail.jpg', 'https://media.consumeraffairs.com/files/cache/reviews/starbucks_21943_thumbnail.jpg', 'https://media.consumeraffairs.com/files/cache/reviews/starbucks_21944_thumbnail.jpg', 'https://media.consumeraffairs.com/files/cache/reviews/starbucks_21945_thumbnail.jpg']\",\n",
       "       \"['https://media.consumeraffairs.com/files/cache/reviews/starbucks_20178_thumbnail.jpg']\",\n",
       "       \"['https://media.consumeraffairs.com/files/cache/reviews/starbucks_19052_thumbnail.jpg', 'https://media.consumeraffairs.com/files/cache/reviews/starbucks_19053_thumbnail.jpg', 'https://media.consumeraffairs.com/files/cache/reviews/starbucks_19054_thumbnail.jpg', 'https://media.consumeraffairs.com/files/cache/reviews/starbucks_19055_thumbnail.jpg']\",\n",
       "       \"['https://media.consumeraffairs.com/files/cache/reviews/starbucks_7299_thumbnail.jpg', 'https://media.consumeraffairs.com/files/cache/reviews/starbucks_7300_thumbnail.jpg']\",\n",
       "       \"['https://media.consumeraffairs.com/files/cache/reviews/starbucks_4900_thumbnail.jpg']\",\n",
       "       \"['https://media.consumeraffairs.com/files/cache/reviews/starbucks_2272_thumbnail.jpg']\"],\n",
       "      dtype=object)"
      ]
     },
     "execution_count": 13,
     "metadata": {},
     "output_type": "execute_result"
    }
   ],
   "source": [
    "starbucks['Image_Links'].unique()"
   ]
  },
  {
   "cell_type": "code",
   "execution_count": 14,
   "metadata": {},
   "outputs": [],
   "source": [
    "def analyze_image(image):\n",
    "    if str(image) == \"['No Images']\":\n",
    "        return 0 \n",
    "    else:\n",
    "        return 1\n",
    "\n",
    "starbucks[\"Image_Links\"] =  starbucks[\"Image_Links\"].apply(analyze_image)"
   ]
  },
  {
   "cell_type": "code",
   "execution_count": 15,
   "metadata": {},
   "outputs": [
    {
     "data": {
      "text/html": [
       "<div>\n",
       "<style scoped>\n",
       "    .dataframe tbody tr th:only-of-type {\n",
       "        vertical-align: middle;\n",
       "    }\n",
       "\n",
       "    .dataframe tbody tr th {\n",
       "        vertical-align: top;\n",
       "    }\n",
       "\n",
       "    .dataframe thead th {\n",
       "        text-align: right;\n",
       "    }\n",
       "</style>\n",
       "<table border=\"1\" class=\"dataframe\">\n",
       "  <thead>\n",
       "    <tr style=\"text-align: right;\">\n",
       "      <th></th>\n",
       "      <th>name</th>\n",
       "      <th>location</th>\n",
       "      <th>Date</th>\n",
       "      <th>Rating</th>\n",
       "      <th>Review</th>\n",
       "      <th>Image_Links</th>\n",
       "    </tr>\n",
       "  </thead>\n",
       "  <tbody>\n",
       "    <tr>\n",
       "      <th>0</th>\n",
       "      <td>Helen</td>\n",
       "      <td>Wichita Falls, TX</td>\n",
       "      <td>Reviewed Sept. 13, 2023</td>\n",
       "      <td>5.0</td>\n",
       "      <td>Amber and LaDonna at the Starbucks on Southwes...</td>\n",
       "      <td>0</td>\n",
       "    </tr>\n",
       "    <tr>\n",
       "      <th>1</th>\n",
       "      <td>Courtney</td>\n",
       "      <td>Apopka, FL</td>\n",
       "      <td>Reviewed July 16, 2023</td>\n",
       "      <td>5.0</td>\n",
       "      <td>** at the Starbucks by the fire station on 436...</td>\n",
       "      <td>0</td>\n",
       "    </tr>\n",
       "    <tr>\n",
       "      <th>2</th>\n",
       "      <td>Daynelle</td>\n",
       "      <td>Cranberry Twp, PA</td>\n",
       "      <td>Reviewed July 5, 2023</td>\n",
       "      <td>5.0</td>\n",
       "      <td>I just wanted to go out of my way to recognize...</td>\n",
       "      <td>1</td>\n",
       "    </tr>\n",
       "    <tr>\n",
       "      <th>3</th>\n",
       "      <td>Taylor</td>\n",
       "      <td>Seattle, WA</td>\n",
       "      <td>Reviewed May 26, 2023</td>\n",
       "      <td>5.0</td>\n",
       "      <td>Me and my friend were at Starbucks and my card...</td>\n",
       "      <td>0</td>\n",
       "    </tr>\n",
       "    <tr>\n",
       "      <th>4</th>\n",
       "      <td>Tenessa</td>\n",
       "      <td>Gresham, OR</td>\n",
       "      <td>Reviewed Jan. 22, 2023</td>\n",
       "      <td>5.0</td>\n",
       "      <td>I’m on this kick of drinking 5 cups of warm wa...</td>\n",
       "      <td>1</td>\n",
       "    </tr>\n",
       "    <tr>\n",
       "      <th>...</th>\n",
       "      <td>...</td>\n",
       "      <td>...</td>\n",
       "      <td>...</td>\n",
       "      <td>...</td>\n",
       "      <td>...</td>\n",
       "      <td>...</td>\n",
       "    </tr>\n",
       "    <tr>\n",
       "      <th>844</th>\n",
       "      <td>Becky</td>\n",
       "      <td>Agoura Hills, CA</td>\n",
       "      <td>Reviewed July 13, 2006</td>\n",
       "      <td>NaN</td>\n",
       "      <td>I ordered two venti frappacino's without whipp...</td>\n",
       "      <td>0</td>\n",
       "    </tr>\n",
       "    <tr>\n",
       "      <th>845</th>\n",
       "      <td>Bob</td>\n",
       "      <td>Goodrich, MI</td>\n",
       "      <td>Reviewed Jan. 3, 2005</td>\n",
       "      <td>NaN</td>\n",
       "      <td>No Review Text</td>\n",
       "      <td>0</td>\n",
       "    </tr>\n",
       "    <tr>\n",
       "      <th>846</th>\n",
       "      <td>Erik</td>\n",
       "      <td>Valley Village, CA</td>\n",
       "      <td>Reviewed Nov. 5, 2004</td>\n",
       "      <td>NaN</td>\n",
       "      <td>DEMANDED TIPS FROM ME, THEN MADE ME WAIT UNTIL...</td>\n",
       "      <td>0</td>\n",
       "    </tr>\n",
       "    <tr>\n",
       "      <th>847</th>\n",
       "      <td>Andrew</td>\n",
       "      <td>Fallbrook, CA</td>\n",
       "      <td>Reviewed Oct. 20, 2004</td>\n",
       "      <td>NaN</td>\n",
       "      <td>No Review Text</td>\n",
       "      <td>0</td>\n",
       "    </tr>\n",
       "    <tr>\n",
       "      <th>848</th>\n",
       "      <td>Christian</td>\n",
       "      <td>Ramsey, NJ</td>\n",
       "      <td>Reviewed July 19, 2000</td>\n",
       "      <td>NaN</td>\n",
       "      <td>No Review Text</td>\n",
       "      <td>0</td>\n",
       "    </tr>\n",
       "  </tbody>\n",
       "</table>\n",
       "<p>849 rows × 6 columns</p>\n",
       "</div>"
      ],
      "text/plain": [
       "          name            location                     Date  Rating  \\\n",
       "0        Helen   Wichita Falls, TX  Reviewed Sept. 13, 2023     5.0   \n",
       "1     Courtney          Apopka, FL   Reviewed July 16, 2023     5.0   \n",
       "2     Daynelle   Cranberry Twp, PA    Reviewed July 5, 2023     5.0   \n",
       "3       Taylor         Seattle, WA    Reviewed May 26, 2023     5.0   \n",
       "4      Tenessa         Gresham, OR   Reviewed Jan. 22, 2023     5.0   \n",
       "..         ...                 ...                      ...     ...   \n",
       "844      Becky    Agoura Hills, CA   Reviewed July 13, 2006     NaN   \n",
       "845        Bob        Goodrich, MI    Reviewed Jan. 3, 2005     NaN   \n",
       "846       Erik  Valley Village, CA    Reviewed Nov. 5, 2004     NaN   \n",
       "847     Andrew       Fallbrook, CA   Reviewed Oct. 20, 2004     NaN   \n",
       "848  Christian          Ramsey, NJ   Reviewed July 19, 2000     NaN   \n",
       "\n",
       "                                                Review  Image_Links  \n",
       "0    Amber and LaDonna at the Starbucks on Southwes...            0  \n",
       "1    ** at the Starbucks by the fire station on 436...            0  \n",
       "2    I just wanted to go out of my way to recognize...            1  \n",
       "3    Me and my friend were at Starbucks and my card...            0  \n",
       "4    I’m on this kick of drinking 5 cups of warm wa...            1  \n",
       "..                                                 ...          ...  \n",
       "844  I ordered two venti frappacino's without whipp...            0  \n",
       "845                                     No Review Text            0  \n",
       "846  DEMANDED TIPS FROM ME, THEN MADE ME WAIT UNTIL...            0  \n",
       "847                                     No Review Text            0  \n",
       "848                                     No Review Text            0  \n",
       "\n",
       "[849 rows x 6 columns]"
      ]
     },
     "execution_count": 15,
     "metadata": {},
     "output_type": "execute_result"
    }
   ],
   "source": [
    "starbucks"
   ]
  },
  {
   "cell_type": "code",
   "execution_count": 16,
   "metadata": {},
   "outputs": [
    {
     "data": {
      "text/plain": [
       "Image_Links  Rating\n",
       "0            1.0       414\n",
       "             2.0        98\n",
       "             5.0        79\n",
       "             4.0        36\n",
       "             3.0        32\n",
       "1            1.0        37\n",
       "             5.0         4\n",
       "             4.0         3\n",
       "             2.0         1\n",
       "             3.0         1\n",
       "Name: count, dtype: int64"
      ]
     },
     "execution_count": 16,
     "metadata": {},
     "output_type": "execute_result"
    }
   ],
   "source": [
    "rate_image_rows = starbucks.groupby(\"Image_Links\")['Rating'].value_counts()\n",
    "rate_image_rows"
   ]
  },
  {
   "cell_type": "code",
   "execution_count": 17,
   "metadata": {},
   "outputs": [
    {
     "data": {
      "text/plain": [
       "Image_Links\n",
       "0    803\n",
       "1     46\n",
       "Name: count, dtype: int64"
      ]
     },
     "execution_count": 17,
     "metadata": {},
     "output_type": "execute_result"
    }
   ],
   "source": [
    "starbucks['Image_Links'].value_counts()"
   ]
  },
  {
   "cell_type": "code",
   "execution_count": 18,
   "metadata": {},
   "outputs": [
    {
     "data": {
      "text/plain": [
       "Text(0, 0.5, 'Number of Reviews')"
      ]
     },
     "execution_count": 18,
     "metadata": {},
     "output_type": "execute_result"
    },
    {
     "data": {
      "image/png": "[encoded data removed]",
      "text/plain": [
       "<Figure size 1200x600 with 2 Axes>"
      ]
     },
     "metadata": {},
     "output_type": "display_data"
    }
   ],
   "source": [
    "images_0 = starbucks[starbucks['Image_Links'] == 0]\n",
    "images_1 = starbucks[starbucks['Image_Links'] == 1]\n",
    "\n",
    "# Κατασκευάστε τα δύο bar charts\n",
    "fig, axes = plt.subplots(1, 2, figsize=(12, 6))\n",
    "\n",
    "# Bar chart για Image_Links == 0\n",
    "rating_counts_0 = images_0['Rating'].value_counts()\n",
    "axes[0].bar(rating_counts_0.index.astype(str), rating_counts_0.values, color='blue')\n",
    "axes[0].set_title('Distribution of Ratings for Image_Links = 0')\n",
    "axes[0].set_xlabel('Rating')\n",
    "axes[0].set_ylabel('Number of Reviews')\n",
    "\n",
    "# Bar chart για Image_Links == 1\n",
    "rating_counts_1 = images_1['Rating'].value_counts()\n",
    "axes[1].bar(rating_counts_1.index.astype(str), rating_counts_1.values, color='red')\n",
    "axes[1].set_title('Distribution of Ratings for Image_Links = 1')\n",
    "axes[1].set_xlabel('Rating')\n",
    "axes[1].set_ylabel('Number of Reviews')\n"
   ]
  },
  {
   "cell_type": "markdown",
   "metadata": {},
   "source": [
    "# Date Analyze"
   ]
  },
  {
   "cell_type": "code",
   "execution_count": 19,
   "metadata": {},
   "outputs": [
    {
     "data": {
      "text/html": [
       "<div>\n",
       "<style scoped>\n",
       "    .dataframe tbody tr th:only-of-type {\n",
       "        vertical-align: middle;\n",
       "    }\n",
       "\n",
       "    .dataframe tbody tr th {\n",
       "        vertical-align: top;\n",
       "    }\n",
       "\n",
       "    .dataframe thead th {\n",
       "        text-align: right;\n",
       "    }\n",
       "</style>\n",
       "<table border=\"1\" class=\"dataframe\">\n",
       "  <thead>\n",
       "    <tr style=\"text-align: right;\">\n",
       "      <th></th>\n",
       "      <th>name</th>\n",
       "      <th>location</th>\n",
       "      <th>Date</th>\n",
       "      <th>Rating</th>\n",
       "      <th>Review</th>\n",
       "      <th>Image_Links</th>\n",
       "    </tr>\n",
       "  </thead>\n",
       "  <tbody>\n",
       "    <tr>\n",
       "      <th>0</th>\n",
       "      <td>Helen</td>\n",
       "      <td>Wichita Falls, TX</td>\n",
       "      <td>2023</td>\n",
       "      <td>5.0</td>\n",
       "      <td>Amber and LaDonna at the Starbucks on Southwes...</td>\n",
       "      <td>0</td>\n",
       "    </tr>\n",
       "    <tr>\n",
       "      <th>1</th>\n",
       "      <td>Courtney</td>\n",
       "      <td>Apopka, FL</td>\n",
       "      <td>2023</td>\n",
       "      <td>5.0</td>\n",
       "      <td>** at the Starbucks by the fire station on 436...</td>\n",
       "      <td>0</td>\n",
       "    </tr>\n",
       "    <tr>\n",
       "      <th>2</th>\n",
       "      <td>Daynelle</td>\n",
       "      <td>Cranberry Twp, PA</td>\n",
       "      <td>2023</td>\n",
       "      <td>5.0</td>\n",
       "      <td>I just wanted to go out of my way to recognize...</td>\n",
       "      <td>1</td>\n",
       "    </tr>\n",
       "    <tr>\n",
       "      <th>3</th>\n",
       "      <td>Taylor</td>\n",
       "      <td>Seattle, WA</td>\n",
       "      <td>2023</td>\n",
       "      <td>5.0</td>\n",
       "      <td>Me and my friend were at Starbucks and my card...</td>\n",
       "      <td>0</td>\n",
       "    </tr>\n",
       "    <tr>\n",
       "      <th>4</th>\n",
       "      <td>Tenessa</td>\n",
       "      <td>Gresham, OR</td>\n",
       "      <td>2023</td>\n",
       "      <td>5.0</td>\n",
       "      <td>I’m on this kick of drinking 5 cups of warm wa...</td>\n",
       "      <td>1</td>\n",
       "    </tr>\n",
       "    <tr>\n",
       "      <th>...</th>\n",
       "      <td>...</td>\n",
       "      <td>...</td>\n",
       "      <td>...</td>\n",
       "      <td>...</td>\n",
       "      <td>...</td>\n",
       "      <td>...</td>\n",
       "    </tr>\n",
       "    <tr>\n",
       "      <th>844</th>\n",
       "      <td>Becky</td>\n",
       "      <td>Agoura Hills, CA</td>\n",
       "      <td>2006</td>\n",
       "      <td>NaN</td>\n",
       "      <td>I ordered two venti frappacino's without whipp...</td>\n",
       "      <td>0</td>\n",
       "    </tr>\n",
       "    <tr>\n",
       "      <th>845</th>\n",
       "      <td>Bob</td>\n",
       "      <td>Goodrich, MI</td>\n",
       "      <td>2005</td>\n",
       "      <td>NaN</td>\n",
       "      <td>No Review Text</td>\n",
       "      <td>0</td>\n",
       "    </tr>\n",
       "    <tr>\n",
       "      <th>846</th>\n",
       "      <td>Erik</td>\n",
       "      <td>Valley Village, CA</td>\n",
       "      <td>2004</td>\n",
       "      <td>NaN</td>\n",
       "      <td>DEMANDED TIPS FROM ME, THEN MADE ME WAIT UNTIL...</td>\n",
       "      <td>0</td>\n",
       "    </tr>\n",
       "    <tr>\n",
       "      <th>847</th>\n",
       "      <td>Andrew</td>\n",
       "      <td>Fallbrook, CA</td>\n",
       "      <td>2004</td>\n",
       "      <td>NaN</td>\n",
       "      <td>No Review Text</td>\n",
       "      <td>0</td>\n",
       "    </tr>\n",
       "    <tr>\n",
       "      <th>848</th>\n",
       "      <td>Christian</td>\n",
       "      <td>Ramsey, NJ</td>\n",
       "      <td>2000</td>\n",
       "      <td>NaN</td>\n",
       "      <td>No Review Text</td>\n",
       "      <td>0</td>\n",
       "    </tr>\n",
       "  </tbody>\n",
       "</table>\n",
       "<p>849 rows × 6 columns</p>\n",
       "</div>"
      ],
      "text/plain": [
       "          name            location  Date  Rating  \\\n",
       "0        Helen   Wichita Falls, TX  2023     5.0   \n",
       "1     Courtney          Apopka, FL  2023     5.0   \n",
       "2     Daynelle   Cranberry Twp, PA  2023     5.0   \n",
       "3       Taylor         Seattle, WA  2023     5.0   \n",
       "4      Tenessa         Gresham, OR  2023     5.0   \n",
       "..         ...                 ...   ...     ...   \n",
       "844      Becky    Agoura Hills, CA  2006     NaN   \n",
       "845        Bob        Goodrich, MI  2005     NaN   \n",
       "846       Erik  Valley Village, CA  2004     NaN   \n",
       "847     Andrew       Fallbrook, CA  2004     NaN   \n",
       "848  Christian          Ramsey, NJ  2000     NaN   \n",
       "\n",
       "                                                Review  Image_Links  \n",
       "0    Amber and LaDonna at the Starbucks on Southwes...            0  \n",
       "1    ** at the Starbucks by the fire station on 436...            0  \n",
       "2    I just wanted to go out of my way to recognize...            1  \n",
       "3    Me and my friend were at Starbucks and my card...            0  \n",
       "4    I’m on this kick of drinking 5 cups of warm wa...            1  \n",
       "..                                                 ...          ...  \n",
       "844  I ordered two venti frappacino's without whipp...            0  \n",
       "845                                     No Review Text            0  \n",
       "846  DEMANDED TIPS FROM ME, THEN MADE ME WAIT UNTIL...            0  \n",
       "847                                     No Review Text            0  \n",
       "848                                     No Review Text            0  \n",
       "\n",
       "[849 rows x 6 columns]"
      ]
     },
     "execution_count": 19,
     "metadata": {},
     "output_type": "execute_result"
    }
   ],
   "source": [
    "def year_date(year):\n",
    "    if year != None:\n",
    "        return year.split(\",\")[1].strip()\n",
    "    else:\n",
    "        print(\"cant do that!!!!!!!\")\n",
    "\n",
    "starbucks[\"Date\"] =  starbucks[\"Date\"].apply(year_date)\n",
    "starbucks\n"
   ]
  },
  {
   "cell_type": "code",
   "execution_count": 20,
   "metadata": {},
   "outputs": [
    {
     "data": {
      "text/plain": [
       "Date\n",
       "2000      1\n",
       "2004      2\n",
       "2005      1\n",
       "2006      2\n",
       "2007      3\n",
       "2008     31\n",
       "2009     52\n",
       "2010     48\n",
       "2011     26\n",
       "2012     52\n",
       "2013     24\n",
       "2014     64\n",
       "2015     90\n",
       "2016     60\n",
       "2017    124\n",
       "2018     55\n",
       "2019     55\n",
       "2020     32\n",
       "2021     34\n",
       "2022     54\n",
       "2023     39\n",
       "Name: count, dtype: int64"
      ]
     },
     "execution_count": 20,
     "metadata": {},
     "output_type": "execute_result"
    }
   ],
   "source": [
    "date_count = starbucks['Date'].value_counts().sort_index()\n",
    "date_count"
   ]
  },
  {
   "cell_type": "code",
   "execution_count": 21,
   "metadata": {},
   "outputs": [
    {
     "data": {
      "image/png": "[encoded data removed]",
      "text/plain": [
       "<Figure size 1500x600 with 1 Axes>"
      ]
     },
     "metadata": {},
     "output_type": "display_data"
    }
   ],
   "source": [
    "\n",
    "plt.figure(figsize=(15, 6))\n",
    "plt.plot(date_count.index, date_count.values, marker='o', linestyle='-')\n",
    "plt.title('Απεικόνιση Χρονοσειράς')\n",
    "plt.ylabel('Πλήθος Rating')\n",
    "plt.grid(True)\n",
    "plt.show()\n"
   ]
  },
  {
   "cell_type": "code",
   "execution_count": 22,
   "metadata": {},
   "outputs": [
    {
     "data": {
      "text/plain": [
       "Date\n",
       "2000         NaN\n",
       "2004         NaN\n",
       "2005         NaN\n",
       "2006         NaN\n",
       "2007         NaN\n",
       "2008         NaN\n",
       "2009         NaN\n",
       "2010    5.000000\n",
       "2011    1.238095\n",
       "2012    1.653846\n",
       "2013    1.375000\n",
       "2014    1.437500\n",
       "2015    1.455556\n",
       "2016    1.716667\n",
       "2017    3.064516\n",
       "2018    1.963636\n",
       "2019    1.618182\n",
       "2020    1.593750\n",
       "2021    1.558824\n",
       "2022    1.796296\n",
       "2023    1.666667\n",
       "Name: Rating, dtype: float64"
      ]
     },
     "execution_count": 22,
     "metadata": {},
     "output_type": "execute_result"
    }
   ],
   "source": [
    "grouped_dates = starbucks.groupby(\"Date\")[\"Rating\"].agg('mean')\n",
    "grouped_dates"
   ]
  },
  {
   "cell_type": "code",
   "execution_count": 23,
   "metadata": {},
   "outputs": [
    {
     "data": {
      "text/plain": [
       "Date\n",
       "2011    1.238095\n",
       "2012    1.653846\n",
       "2013    1.375000\n",
       "2014    1.437500\n",
       "2015    1.455556\n",
       "2016    1.716667\n",
       "2017    3.064516\n",
       "2018    1.963636\n",
       "2019    1.618182\n",
       "2020    1.593750\n",
       "2021    1.558824\n",
       "2022    1.796296\n",
       "2023    1.666667\n",
       "Name: Rating, dtype: float64"
      ]
     },
     "execution_count": 23,
     "metadata": {},
     "output_type": "execute_result"
    }
   ],
   "source": [
    "mini_df = grouped_dates[8:]\n",
    "mini_df"
   ]
  },
  {
   "cell_type": "code",
   "execution_count": 24,
   "metadata": {},
   "outputs": [
    {
     "data": {
      "image/png": "[encoded data removed]",
      "text/plain": [
       "<Figure size 1500x600 with 1 Axes>"
      ]
     },
     "metadata": {},
     "output_type": "display_data"
    }
   ],
   "source": [
    "plt.figure(figsize=(15, 6))\n",
    "plt.plot(mini_df.index, mini_df.values, marker='o', linestyle='-')\n",
    "plt.title('Απεικόνιση Χρονοσειράς')\n",
    "plt.ylabel('Average Rating')\n",
    "plt.grid(True)\n",
    "plt.show()"
   ]
  },
  {
   "cell_type": "markdown",
   "metadata": {},
   "source": [
    "# Locations\n"
   ]
  },
  {
   "cell_type": "code",
   "execution_count": 25,
   "metadata": {},
   "outputs": [
    {
     "name": "stdout",
     "output_type": "stream",
     "text": [
      "cant do that!!!\n",
      "cant do that!!!\n"
     ]
    },
    {
     "data": {
      "text/html": [
       "<div>\n",
       "<style scoped>\n",
       "    .dataframe tbody tr th:only-of-type {\n",
       "        vertical-align: middle;\n",
       "    }\n",
       "\n",
       "    .dataframe tbody tr th {\n",
       "        vertical-align: top;\n",
       "    }\n",
       "\n",
       "    .dataframe thead th {\n",
       "        text-align: right;\n",
       "    }\n",
       "</style>\n",
       "<table border=\"1\" class=\"dataframe\">\n",
       "  <thead>\n",
       "    <tr style=\"text-align: right;\">\n",
       "      <th></th>\n",
       "      <th>name</th>\n",
       "      <th>location</th>\n",
       "      <th>Date</th>\n",
       "      <th>Rating</th>\n",
       "      <th>Review</th>\n",
       "      <th>Image_Links</th>\n",
       "    </tr>\n",
       "  </thead>\n",
       "  <tbody>\n",
       "    <tr>\n",
       "      <th>0</th>\n",
       "      <td>Helen</td>\n",
       "      <td>TX</td>\n",
       "      <td>2023</td>\n",
       "      <td>5.0</td>\n",
       "      <td>Amber and LaDonna at the Starbucks on Southwes...</td>\n",
       "      <td>0</td>\n",
       "    </tr>\n",
       "    <tr>\n",
       "      <th>1</th>\n",
       "      <td>Courtney</td>\n",
       "      <td>FL</td>\n",
       "      <td>2023</td>\n",
       "      <td>5.0</td>\n",
       "      <td>** at the Starbucks by the fire station on 436...</td>\n",
       "      <td>0</td>\n",
       "    </tr>\n",
       "    <tr>\n",
       "      <th>2</th>\n",
       "      <td>Daynelle</td>\n",
       "      <td>PA</td>\n",
       "      <td>2023</td>\n",
       "      <td>5.0</td>\n",
       "      <td>I just wanted to go out of my way to recognize...</td>\n",
       "      <td>1</td>\n",
       "    </tr>\n",
       "    <tr>\n",
       "      <th>3</th>\n",
       "      <td>Taylor</td>\n",
       "      <td>WA</td>\n",
       "      <td>2023</td>\n",
       "      <td>5.0</td>\n",
       "      <td>Me and my friend were at Starbucks and my card...</td>\n",
       "      <td>0</td>\n",
       "    </tr>\n",
       "    <tr>\n",
       "      <th>4</th>\n",
       "      <td>Tenessa</td>\n",
       "      <td>OR</td>\n",
       "      <td>2023</td>\n",
       "      <td>5.0</td>\n",
       "      <td>I’m on this kick of drinking 5 cups of warm wa...</td>\n",
       "      <td>1</td>\n",
       "    </tr>\n",
       "    <tr>\n",
       "      <th>...</th>\n",
       "      <td>...</td>\n",
       "      <td>...</td>\n",
       "      <td>...</td>\n",
       "      <td>...</td>\n",
       "      <td>...</td>\n",
       "      <td>...</td>\n",
       "    </tr>\n",
       "    <tr>\n",
       "      <th>844</th>\n",
       "      <td>Becky</td>\n",
       "      <td>CA</td>\n",
       "      <td>2006</td>\n",
       "      <td>NaN</td>\n",
       "      <td>I ordered two venti frappacino's without whipp...</td>\n",
       "      <td>0</td>\n",
       "    </tr>\n",
       "    <tr>\n",
       "      <th>845</th>\n",
       "      <td>Bob</td>\n",
       "      <td>MI</td>\n",
       "      <td>2005</td>\n",
       "      <td>NaN</td>\n",
       "      <td>No Review Text</td>\n",
       "      <td>0</td>\n",
       "    </tr>\n",
       "    <tr>\n",
       "      <th>846</th>\n",
       "      <td>Erik</td>\n",
       "      <td>CA</td>\n",
       "      <td>2004</td>\n",
       "      <td>NaN</td>\n",
       "      <td>DEMANDED TIPS FROM ME, THEN MADE ME WAIT UNTIL...</td>\n",
       "      <td>0</td>\n",
       "    </tr>\n",
       "    <tr>\n",
       "      <th>847</th>\n",
       "      <td>Andrew</td>\n",
       "      <td>CA</td>\n",
       "      <td>2004</td>\n",
       "      <td>NaN</td>\n",
       "      <td>No Review Text</td>\n",
       "      <td>0</td>\n",
       "    </tr>\n",
       "    <tr>\n",
       "      <th>848</th>\n",
       "      <td>Christian</td>\n",
       "      <td>NJ</td>\n",
       "      <td>2000</td>\n",
       "      <td>NaN</td>\n",
       "      <td>No Review Text</td>\n",
       "      <td>0</td>\n",
       "    </tr>\n",
       "  </tbody>\n",
       "</table>\n",
       "<p>849 rows × 6 columns</p>\n",
       "</div>"
      ],
      "text/plain": [
       "          name location  Date  Rating  \\\n",
       "0        Helen       TX  2023     5.0   \n",
       "1     Courtney       FL  2023     5.0   \n",
       "2     Daynelle       PA  2023     5.0   \n",
       "3       Taylor       WA  2023     5.0   \n",
       "4      Tenessa       OR  2023     5.0   \n",
       "..         ...      ...   ...     ...   \n",
       "844      Becky       CA  2006     NaN   \n",
       "845        Bob       MI  2005     NaN   \n",
       "846       Erik       CA  2004     NaN   \n",
       "847     Andrew       CA  2004     NaN   \n",
       "848  Christian       NJ  2000     NaN   \n",
       "\n",
       "                                                Review  Image_Links  \n",
       "0    Amber and LaDonna at the Starbucks on Southwes...            0  \n",
       "1    ** at the Starbucks by the fire station on 436...            0  \n",
       "2    I just wanted to go out of my way to recognize...            1  \n",
       "3    Me and my friend were at Starbucks and my card...            0  \n",
       "4    I’m on this kick of drinking 5 cups of warm wa...            1  \n",
       "..                                                 ...          ...  \n",
       "844  I ordered two venti frappacino's without whipp...            0  \n",
       "845                                     No Review Text            0  \n",
       "846  DEMANDED TIPS FROM ME, THEN MADE ME WAIT UNTIL...            0  \n",
       "847                                     No Review Text            0  \n",
       "848                                     No Review Text            0  \n",
       "\n",
       "[849 rows x 6 columns]"
      ]
     },
     "execution_count": 25,
     "metadata": {},
     "output_type": "execute_result"
    }
   ],
   "source": [
    "def location_area(location_):\n",
    "    if location_ is not None and len(location_.split(\",\")) > 1:\n",
    "        return location_.split(\",\")[1].strip()\n",
    "    else:\n",
    "        print('cant do that!!!')\n",
    "        \n",
    "starbucks[\"location\"] =  starbucks[\"location\"].apply(location_area)\n",
    "starbucks"
   ]
  },
  {
   "cell_type": "code",
   "execution_count": 26,
   "metadata": {},
   "outputs": [
    {
     "data": {
      "text/plain": [
       "location\n",
       "CA       172\n",
       "FL        46\n",
       "TX        40\n",
       "WA        38\n",
       "Other     38\n",
       "NY        37\n",
       "IL        27\n",
       "NC        27\n",
       "GA        27\n",
       "AZ        24\n",
       "NJ        23\n",
       "OR        20\n",
       "CO        20\n",
       "OH        19\n",
       "PA        19\n",
       "MA        17\n",
       "VA        17\n",
       "ON        13\n",
       "NV        13\n",
       "MO        12\n",
       "Name: count, dtype: int64"
      ]
     },
     "execution_count": 26,
     "metadata": {},
     "output_type": "execute_result"
    }
   ],
   "source": [
    "locations = starbucks['location'].value_counts()\n",
    "locations[:20]"
   ]
  },
  {
   "cell_type": "code",
   "execution_count": 27,
   "metadata": {},
   "outputs": [
    {
     "data": {
      "text/plain": [
       "Rating\n",
       "1.0    86\n",
       "2.0    25\n",
       "4.0    11\n",
       "5.0     9\n",
       "3.0     8\n",
       "Name: count, dtype: int64"
      ]
     },
     "execution_count": 27,
     "metadata": {},
     "output_type": "execute_result"
    }
   ],
   "source": [
    "california_rating = starbucks[starbucks[\"location\"]==\"CA\"][\"Rating\"].value_counts()\n",
    "california_rating"
   ]
  },
  {
   "cell_type": "code",
   "execution_count": 28,
   "metadata": {},
   "outputs": [
    {
     "data": {
      "text/plain": [
       "Rating\n",
       "1.0    0.639716\n",
       "2.0    0.140426\n",
       "5.0    0.117730\n",
       "4.0    0.055319\n",
       "3.0    0.046809\n",
       "Name: proportion, dtype: float64"
      ]
     },
     "execution_count": 28,
     "metadata": {},
     "output_type": "execute_result"
    }
   ],
   "source": [
    "rating_perc = starbucks['Rating'].value_counts(normalize=True)\n",
    "rating_perc"
   ]
  },
  {
   "cell_type": "code",
   "execution_count": 44,
   "metadata": {},
   "outputs": [],
   "source": [
    "new_datas = pd.read_csv('C:/Users/xrist/OneDrive/Υπολογιστής/data/Data-Science-Tutorials/data/reviews_data.csv')"
   ]
  },
  {
   "cell_type": "code",
   "execution_count": 45,
   "metadata": {},
   "outputs": [
    {
     "data": {
      "text/html": [
       "<div>\n",
       "<style scoped>\n",
       "    .dataframe tbody tr th:only-of-type {\n",
       "        vertical-align: middle;\n",
       "    }\n",
       "\n",
       "    .dataframe tbody tr th {\n",
       "        vertical-align: top;\n",
       "    }\n",
       "\n",
       "    .dataframe thead th {\n",
       "        text-align: right;\n",
       "    }\n",
       "</style>\n",
       "<table border=\"1\" class=\"dataframe\">\n",
       "  <thead>\n",
       "    <tr style=\"text-align: right;\">\n",
       "      <th></th>\n",
       "      <th>name</th>\n",
       "      <th>location</th>\n",
       "      <th>Date</th>\n",
       "      <th>Rating</th>\n",
       "      <th>Review</th>\n",
       "      <th>Image_Links</th>\n",
       "    </tr>\n",
       "  </thead>\n",
       "  <tbody>\n",
       "    <tr>\n",
       "      <th>0</th>\n",
       "      <td>Helen</td>\n",
       "      <td>Wichita Falls, TX</td>\n",
       "      <td>Reviewed Sept. 13, 2023</td>\n",
       "      <td>1</td>\n",
       "      <td>Amber and LaDonna at the Starbucks on Southwes...</td>\n",
       "      <td>['No Images']</td>\n",
       "    </tr>\n",
       "    <tr>\n",
       "      <th>1</th>\n",
       "      <td>Courtney</td>\n",
       "      <td>Apopka, FL</td>\n",
       "      <td>Reviewed July 16, 2023</td>\n",
       "      <td>1</td>\n",
       "      <td>** at the Starbucks by the fire station on 436...</td>\n",
       "      <td>['No Images']</td>\n",
       "    </tr>\n",
       "    <tr>\n",
       "      <th>2</th>\n",
       "      <td>Daynelle</td>\n",
       "      <td>Cranberry Twp, PA</td>\n",
       "      <td>Reviewed July 5, 2023</td>\n",
       "      <td>1</td>\n",
       "      <td>I just wanted to go out of my way to recognize...</td>\n",
       "      <td>['https://media.consumeraffairs.com/files/cach...</td>\n",
       "    </tr>\n",
       "    <tr>\n",
       "      <th>3</th>\n",
       "      <td>Taylor</td>\n",
       "      <td>Seattle, WA</td>\n",
       "      <td>Reviewed May 26, 2023</td>\n",
       "      <td>1</td>\n",
       "      <td>Me and my friend were at Starbucks and my card...</td>\n",
       "      <td>['No Images']</td>\n",
       "    </tr>\n",
       "    <tr>\n",
       "      <th>4</th>\n",
       "      <td>Tenessa</td>\n",
       "      <td>Gresham, OR</td>\n",
       "      <td>Reviewed Jan. 22, 2023</td>\n",
       "      <td>1</td>\n",
       "      <td>I’m on this kick of drinking 5 cups of warm wa...</td>\n",
       "      <td>['https://media.consumeraffairs.com/files/cach...</td>\n",
       "    </tr>\n",
       "    <tr>\n",
       "      <th>...</th>\n",
       "      <td>...</td>\n",
       "      <td>...</td>\n",
       "      <td>...</td>\n",
       "      <td>...</td>\n",
       "      <td>...</td>\n",
       "      <td>...</td>\n",
       "    </tr>\n",
       "    <tr>\n",
       "      <th>700</th>\n",
       "      <td>Margaret</td>\n",
       "      <td>Cotati, CA</td>\n",
       "      <td>Reviewed Oct. 2, 2011</td>\n",
       "      <td>2</td>\n",
       "      <td>I ordered Via Starbucks coffee online. I recei...</td>\n",
       "      <td>['No Images']</td>\n",
       "    </tr>\n",
       "    <tr>\n",
       "      <th>701</th>\n",
       "      <td>Ric</td>\n",
       "      <td>Oakville, ON</td>\n",
       "      <td>Reviewed Aug. 31, 2011</td>\n",
       "      <td>0</td>\n",
       "      <td>My name is Ric **, I am journalist by professi...</td>\n",
       "      <td>['No Images']</td>\n",
       "    </tr>\n",
       "    <tr>\n",
       "      <th>702</th>\n",
       "      <td>Jayne</td>\n",
       "      <td>Ny, NY</td>\n",
       "      <td>Reviewed Aug. 24, 2011</td>\n",
       "      <td>2</td>\n",
       "      <td>The bagel was ice cold, not cut and not toasted.</td>\n",
       "      <td>['No Images']</td>\n",
       "    </tr>\n",
       "    <tr>\n",
       "      <th>703</th>\n",
       "      <td>Norma</td>\n",
       "      <td>La Puente, CA</td>\n",
       "      <td>Reviewed Aug. 15, 2011</td>\n",
       "      <td>2</td>\n",
       "      <td>In the morning of Monday, August 15, 2011, at ...</td>\n",
       "      <td>['No Images']</td>\n",
       "    </tr>\n",
       "    <tr>\n",
       "      <th>749</th>\n",
       "      <td>Kenneth</td>\n",
       "      <td>Beecher, IL</td>\n",
       "      <td>Reviewed Feb. 6, 2010</td>\n",
       "      <td>1</td>\n",
       "      <td>I found the coffee at Starbucks overrated and ...</td>\n",
       "      <td>['No Images']</td>\n",
       "    </tr>\n",
       "  </tbody>\n",
       "</table>\n",
       "<p>705 rows × 6 columns</p>\n",
       "</div>"
      ],
      "text/plain": [
       "         name           location                     Date  Rating  \\\n",
       "0       Helen  Wichita Falls, TX  Reviewed Sept. 13, 2023       1   \n",
       "1    Courtney         Apopka, FL   Reviewed July 16, 2023       1   \n",
       "2    Daynelle  Cranberry Twp, PA    Reviewed July 5, 2023       1   \n",
       "3      Taylor        Seattle, WA    Reviewed May 26, 2023       1   \n",
       "4     Tenessa        Gresham, OR   Reviewed Jan. 22, 2023       1   \n",
       "..        ...                ...                      ...     ...   \n",
       "700  Margaret         Cotati, CA    Reviewed Oct. 2, 2011       2   \n",
       "701       Ric       Oakville, ON   Reviewed Aug. 31, 2011       0   \n",
       "702     Jayne             Ny, NY   Reviewed Aug. 24, 2011       2   \n",
       "703     Norma      La Puente, CA   Reviewed Aug. 15, 2011       2   \n",
       "749   Kenneth        Beecher, IL    Reviewed Feb. 6, 2010       1   \n",
       "\n",
       "                                                Review  \\\n",
       "0    Amber and LaDonna at the Starbucks on Southwes...   \n",
       "1    ** at the Starbucks by the fire station on 436...   \n",
       "2    I just wanted to go out of my way to recognize...   \n",
       "3    Me and my friend were at Starbucks and my card...   \n",
       "4    I’m on this kick of drinking 5 cups of warm wa...   \n",
       "..                                                 ...   \n",
       "700  I ordered Via Starbucks coffee online. I recei...   \n",
       "701  My name is Ric **, I am journalist by professi...   \n",
       "702   The bagel was ice cold, not cut and not toasted.   \n",
       "703  In the morning of Monday, August 15, 2011, at ...   \n",
       "749  I found the coffee at Starbucks overrated and ...   \n",
       "\n",
       "                                           Image_Links  \n",
       "0                                        ['No Images']  \n",
       "1                                        ['No Images']  \n",
       "2    ['https://media.consumeraffairs.com/files/cach...  \n",
       "3                                        ['No Images']  \n",
       "4    ['https://media.consumeraffairs.com/files/cach...  \n",
       "..                                                 ...  \n",
       "700                                      ['No Images']  \n",
       "701                                      ['No Images']  \n",
       "702                                      ['No Images']  \n",
       "703                                      ['No Images']  \n",
       "749                                      ['No Images']  \n",
       "\n",
       "[705 rows x 6 columns]"
      ]
     },
     "execution_count": 45,
     "metadata": {},
     "output_type": "execute_result"
    }
   ],
   "source": [
    "new_datas[\"Rating\"]=new_datas[\"Rating\"].replace([1,2],2)\n",
    "new_datas[\"Rating\"]=new_datas[\"Rating\"].replace(3,0)\n",
    "new_datas[\"Rating\"]=new_datas[\"Rating\"].replace([4,5],1)\n",
    "new_datas = new_datas.dropna(axis = 0, how ='any')\n",
    "new_datas[\"Rating\"]=new_datas[\"Rating\"].astype(int)\n",
    "new_datas"
   ]
  },
  {
   "cell_type": "code",
   "execution_count": 46,
   "metadata": {},
   "outputs": [
    {
     "data": {
      "image/png": "[encoded data removed]",
      "text/plain": [
       "<Figure size 600x600 with 1 Axes>"
      ]
     },
     "metadata": {},
     "output_type": "display_data"
    }
   ],
   "source": [
    "new_datas[\"Rating\"].value_counts()\n",
    "plt.figure(figsize=(6, 6))\n",
    "sns.set_style(\"whitegrid\")\n",
    "plt.pie(new_datas[\"Rating\"].value_counts(),labels=[\"Negative\",\"Positive\",\"Neural\"], autopct='%1.1f%%',colors=['#66b3ff', '#99ff99', '#ffcc99'] , startangle=90);"
   ]
  },
  {
   "cell_type": "code",
   "execution_count": 29,
   "metadata": {},
   "outputs": [
    {
     "data": {
      "image/png": "[encoded data removed]",
      "text/plain": [
       "<Figure size 900x400 with 1 Axes>"
      ]
     },
     "metadata": {},
     "output_type": "display_data"
    }
   ],
   "source": [
    "plt.figure(figsize=(9, 4))\n",
    "plt.bar(rating_perc.index.astype(str), rating_perc.values, color='blue')\n",
    "plt.xlabel('Rating')\n",
    "plt.ylabel('Number of Reviews')\n",
    "plt.title('Distribution of Ratings by perc %')\n",
    "plt.ylim(0, 1)\n",
    "plt.show()"
   ]
  },
  {
   "cell_type": "markdown",
   "metadata": {},
   "source": [
    "# Corr"
   ]
  },
  {
   "cell_type": "code",
   "execution_count": 30,
   "metadata": {},
   "outputs": [
    {
     "name": "stdout",
     "output_type": "stream",
     "text": [
      "             Image_Links    Rating\n",
      "Image_Links     1.000000 -0.049604\n",
      "Rating         -0.049604  1.000000\n"
     ]
    }
   ],
   "source": [
    "correlation_matrix = starbucks[['Image_Links', 'Rating']].corr()\n",
    "\n",
    "# Εμφάνιση του πίνακα συσχέτισης\n",
    "print(correlation_matrix)"
   ]
  },
  {
   "cell_type": "code",
   "execution_count": 31,
   "metadata": {},
   "outputs": [
    {
     "data": {
      "image/png": "[encoded data removed]",
      "text/plain": [
       "<Figure size 1000x800 with 2 Axes>"
      ]
     },
     "metadata": {},
     "output_type": "display_data"
    }
   ],
   "source": [
    "plt.figure(figsize=(10, 8))\n",
    "sns.heatmap(correlation_matrix, annot=True, cmap='coolwarm', linewidths=.5)\n",
    "plt.title('Correlation Heatmap')\n",
    "plt.show()"
   ]
  },
  {
   "cell_type": "code",
   "execution_count": 32,
   "metadata": {},
   "outputs": [
    {
     "data": {
      "text/plain": [
       "Image_Links  Rating\n",
       "0            1.0       0.628225\n",
       "             2.0       0.148710\n",
       "             5.0       0.119879\n",
       "             4.0       0.054628\n",
       "             3.0       0.048558\n",
       "1            1.0       0.804348\n",
       "             5.0       0.086957\n",
       "             4.0       0.065217\n",
       "             2.0       0.021739\n",
       "             3.0       0.021739\n",
       "Name: proportion, dtype: float64"
      ]
     },
     "execution_count": 32,
     "metadata": {},
     "output_type": "execute_result"
    }
   ],
   "source": [
    "image_rank = starbucks.groupby(\"Image_Links\")['Rating'].value_counts(normalize=True)\n",
    "image_rank"
   ]
  },
  {
   "cell_type": "code",
   "execution_count": 33,
   "metadata": {},
   "outputs": [
    {
     "data": {
      "text/html": [
       "<div>\n",
       "<style scoped>\n",
       "    .dataframe tbody tr th:only-of-type {\n",
       "        vertical-align: middle;\n",
       "    }\n",
       "\n",
       "    .dataframe tbody tr th {\n",
       "        vertical-align: top;\n",
       "    }\n",
       "\n",
       "    .dataframe thead th {\n",
       "        text-align: right;\n",
       "    }\n",
       "</style>\n",
       "<table border=\"1\" class=\"dataframe\">\n",
       "  <thead>\n",
       "    <tr style=\"text-align: right;\">\n",
       "      <th>Rating</th>\n",
       "      <th>1.0</th>\n",
       "      <th>2.0</th>\n",
       "      <th>3.0</th>\n",
       "      <th>4.0</th>\n",
       "      <th>5.0</th>\n",
       "    </tr>\n",
       "    <tr>\n",
       "      <th>Image_Links</th>\n",
       "      <th></th>\n",
       "      <th></th>\n",
       "      <th></th>\n",
       "      <th></th>\n",
       "      <th></th>\n",
       "    </tr>\n",
       "  </thead>\n",
       "  <tbody>\n",
       "    <tr>\n",
       "      <th>0</th>\n",
       "      <td>0.628225</td>\n",
       "      <td>0.148710</td>\n",
       "      <td>0.048558</td>\n",
       "      <td>0.054628</td>\n",
       "      <td>0.119879</td>\n",
       "    </tr>\n",
       "    <tr>\n",
       "      <th>1</th>\n",
       "      <td>0.804348</td>\n",
       "      <td>0.021739</td>\n",
       "      <td>0.021739</td>\n",
       "      <td>0.065217</td>\n",
       "      <td>0.086957</td>\n",
       "    </tr>\n",
       "  </tbody>\n",
       "</table>\n",
       "</div>"
      ],
      "text/plain": [
       "Rating            1.0       2.0       3.0       4.0       5.0\n",
       "Image_Links                                                  \n",
       "0            0.628225  0.148710  0.048558  0.054628  0.119879\n",
       "1            0.804348  0.021739  0.021739  0.065217  0.086957"
      ]
     },
     "execution_count": 33,
     "metadata": {},
     "output_type": "execute_result"
    }
   ],
   "source": [
    "image_rank = starbucks.groupby(\"Image_Links\")['Rating'].value_counts(normalize=True).unstack()\n",
    "image_rank"
   ]
  },
  {
   "cell_type": "code",
   "execution_count": 34,
   "metadata": {},
   "outputs": [
    {
     "data": {
      "image/png": "[encoded data removed]",
      "text/plain": [
       "<Figure size 1000x800 with 2 Axes>"
      ]
     },
     "metadata": {},
     "output_type": "display_data"
    }
   ],
   "source": [
    "image_rank = starbucks.groupby(\"Image_Links\")['Rating'].value_counts(normalize=True).unstack()\n",
    "\n",
    "# Δημιουργία του heatmap\n",
    "plt.figure(figsize=(10, 8))\n",
    "sns.heatmap(image_rank, annot=True, cmap='coolwarm', linewidths=.5)\n",
    "plt.title('Rating Distribution for each Image_Links Value')\n",
    "plt.show()"
   ]
  },
  {
   "cell_type": "code",
   "execution_count": 35,
   "metadata": {},
   "outputs": [
    {
     "data": {
      "image/png": "[encoded data removed]",
      "text/plain": [
       "<Figure size 1000x800 with 2 Axes>"
      ]
     },
     "metadata": {},
     "output_type": "display_data"
    }
   ],
   "source": [
    "correlation_data = {\n",
    "    'Image_Links': [0, 0, 0, 0, 0, 1, 1, 1, 1, 1],\n",
    "    'Rating': [1.0, 2.0, 5.0, 4.0, 3.0, 1.0, 5.0, 4.0, 2.0, 3.0],\n",
    "    'Correlation': [0.628225, 0.148710, 0.119879, 0.054628, 0.048558, 0.804348, 0.086957, 0.065217, 0.021739, 0.021739]\n",
    "}\n",
    "\n",
    "correlation_df = pd.DataFrame(correlation_data)\n",
    "\n",
    "# Δημιουργία του heatmap\n",
    "plt.figure(figsize=(10, 8))\n",
    "heatmap_data = correlation_df.pivot(index='Image_Links', columns='Rating', values='Correlation')\n",
    "sns.heatmap(heatmap_data, annot=True, cmap='coolwarm', linewidths=.5)\n",
    "plt.title('Correlation Heatmap between Image_Links and Rating')\n",
    "plt.show()"
   ]
  }
 ],
 "metadata": {
  "kernelspec": {
   "display_name": "Python 3",
   "language": "python",
   "name": "python3"
  },
  "language_info": {
   "codemirror_mode": {
    "name": "ipython",
    "version": 3
   },
   "file_extension": ".py",
   "mimetype": "text/x-python",
   "name": "python",
   "nbconvert_exporter": "python",
   "pygments_lexer": "ipython3",
   "version": "3.11.7"
  }
 },
 "nbformat": 4,
 "nbformat_minor": 2
}
