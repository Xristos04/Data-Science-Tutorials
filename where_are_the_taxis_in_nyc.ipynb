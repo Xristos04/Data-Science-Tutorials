{
 "cells": [
  {
   "cell_type": "markdown",
   "metadata": {
    "slideshow": {
     "slide_type": "slide"
    }
   },
   "source": [
    "# Πού Είναι τα Ταξί στη Νέα Υόρκη;\n",
    "\n",
    "* Εμπνευσμένο από το κεφάλαιο 2 του βιβλίου του Cyrille Rossant, Learning IPython for Interactive Computing and Data Visualization, 2η έκδοση, Packt Publishing, 2015."
   ]
  },
  {
   "cell_type": "markdown",
   "metadata": {
    "slideshow": {
     "slide_type": "slide"
    }
   },
   "source": [
    "* Ξεκινάμε εισάγοντας τις βιβλιοθήκες που θα χρειαστούμε.\n",
    "\n",
    "* Η βιβλιοθήκη [NumPy](https://numpy.org/) υλοποιηθεί πολύ βελτιστοποιημένες πράξεις πινάκων στην Python.\n",
    "\n",
    "* Η βιβλιοθήκη [pandas](https://pandas.pydata.org/) είναι η βασική βιβλιοθήκη για την επεξεργασία δεδομένων στην Python.\n",
    "\n",
    "* Με τη βιβλιοθήκη [matplotlib](https://matplotlib.org/) μπορούμε να οπτικοποιούμε τα δεδομένα μας."
   ]
  },
  {
   "cell_type": "code",
   "execution_count": null,
   "metadata": {
    "slideshow": {
     "slide_type": "fragment"
    }
   },
   "outputs": [],
   "source": [
    "import numpy as np\n",
    "import pandas as pd\n",
    "import matplotlib.pyplot as plt"
   ]
  },
  {
   "cell_type": "markdown",
   "metadata": {
    "slideshow": {
     "slide_type": "slide"
    }
   },
   "source": [
    "* Τώρα μπορούμε να διαβάσουμε τα δεδομένα που θα χρησιμοποιήσουμε.\n",
    "\n",
    "* Tα δεδομένα αρχικά έγιναν διαθέσιμα χάρη στον [Chris Wong](https://chriswhong.com/) το 2013 κατόπιν [αίτησής του σύμφωνα με τη νομοθεσία για την ελευθερία της πληροφορίας (Freedom of Information Law, FOIL)](https://chriswhong.com/open-data/foil_nyc_taxi/).\n",
    "\n",
    "* Εμείς θα χρησιμοποιήσουμε ένα τυχαίο δείγμα του 1% των δεδομένων.\n",
    "\n",
    "* Νεότερα δεδομένα είναι διαθέσιμα από το [NYC Taxi and Limousine Commission (TLC)](https://www1.nyc.gov/site/tlc/about/tlc-trip-record-data.page)."
   ]
  },
  {
   "cell_type": "code",
   "execution_count": null,
   "metadata": {
    "slideshow": {
     "slide_type": "fragment"
    }
   },
   "outputs": [],
   "source": [
    "# data_filename = \"nyc_taxi_trip_data_sample.csv.zip\""
   ]
  },
  {
   "cell_type": "markdown",
   "metadata": {
    "slideshow": {
     "slide_type": "slide"
    }
   },
   "source": [
    "* Για να διαβάσουμε τα δεδομένα θα χρησιμοποιήσουμε τη συνάρτηση `read_csv()` του pandas.\n"
   ]
  },
  {
   "cell_type": "code",
   "execution_count": null,
   "metadata": {
    "slideshow": {
     "slide_type": "fragment"
    }
   },
   "outputs": [],
   "source": [
    "# data = pd.read_csv(data_filename)"
   ]
  },
  {
   "cell_type": "markdown",
   "metadata": {
    "slideshow": {
     "slide_type": "slide"
    }
   },
   "source": [
    "* Η μεταβλητή `data` περιέχει ένα αντικείμενο `DataFrame`. \n",
    "\n",
    "* Ένα `DataFrame` είναι ένας πίνακας που περιέχει γραμμές (παρατηρήσεις) και στήλες (χαρακτηριστικά). \n",
    "\n",
    "* Ένα `DataFrame` μπορεί να περιέχει κείμενο, αριθμούς, ημερομηνίες, και άλλους τύπους δεδομένων. "
   ]
  },
  {
   "cell_type": "code",
   "execution_count": null,
   "metadata": {
    "slideshow": {
     "slide_type": "slide"
    }
   },
   "outputs": [],
   "source": [
    "# data"
   ]
  },
  {
   "cell_type": "markdown",
   "metadata": {
    "slideshow": {
     "slide_type": "slide"
    }
   },
   "source": [
    "* Μπορούμε να δούμε τις διαστάσεις ενός `DataFrame` χρησιμοποιώντας την ιδιότητα `shape`."
   ]
  },
  {
   "cell_type": "markdown",
   "metadata": {
    "slideshow": {
     "slide_type": "slide"
    }
   },
   "source": [
    "* Η μέθοδος `head()` μας δίνει τις αρχικές γραμμές ενός `DataFrame`."
   ]
  },
  {
   "cell_type": "markdown",
   "metadata": {
    "slideshow": {
     "slide_type": "slide"
    }
   },
   "source": [
    "* Μπορούμε επίσης να το χειριστούμε με το συνηθισμένο συντακτικό της Python για ακολουθίες δεδομένων:"
   ]
  },
  {
   "cell_type": "markdown",
   "metadata": {
    "slideshow": {
     "slide_type": "slide"
    }
   },
   "source": [
    "* Η μέθοδος `describe()` μας δίνει βασικά στοιχεία περιγραφικής στατιστικής."
   ]
  },
  {
   "cell_type": "markdown",
   "metadata": {
    "slideshow": {
     "slide_type": "slide"
    }
   },
   "source": [
    "* Η βασική βιβλιοθήκη για οπτικοποίηση δεδομένων με την Python είναι η [matplotlib](https://matplotlib.org/).\n",
    "\n",
    "* Θα εξετάσουμε τα σημεία της πόλης στα οποία οι επιβάτες μπαίνουν σε ταξί.\n",
    "\n",
    "* Το πρώτο βήμα είναι να βρούμε τις γεωγραφικές συντεταγμένες των σημείων από το `DataFrame`."
   ]
  },
  {
   "cell_type": "markdown",
   "metadata": {
    "slideshow": {
     "slide_type": "slide"
    }
   },
   "source": [
    "* Για να θυμηθούμε ποιες είναι οι στήλες."
   ]
  },
  {
   "cell_type": "markdown",
   "metadata": {
    "slideshow": {
     "slide_type": "slide"
    }
   },
   "source": [
    "* Υπάρχουν τέσσερεις στήλες που αντιστοιχούν στις συντεταγμένες όπου ο επιβάτης μπαίνει και κατεβαίνει από το όχημα:\n",
    "\n",
    "  * `pickup_longitude`\n",
    "  * `pickup_latitude`\n",
    "  * `dropoff_longitude`\n",
    "  * `dropoff_latitude`\n",
    "\n",
    "* Θα επικεντρωθούμε όπως είπαμε στα σημεία που ξεκινάει μια διαδρομή."
   ]
  },
  {
   "cell_type": "markdown",
   "metadata": {
    "slideshow": {
     "slide_type": "slide"
    }
   },
   "source": [
    "* Μπορούμε να αναφερθούμε σε μία στήλη ενός `DataFrame` δίνοντας το όνομα του `DataFrame`, τελεία, και το όνομα της στήλης:"
   ]
  },
  {
   "cell_type": "code",
   "execution_count": null,
   "metadata": {
    "slideshow": {
     "slide_type": "fragment"
    }
   },
   "outputs": [],
   "source": [
    "# data.pickup_longitude"
   ]
  },
  {
   "cell_type": "markdown",
   "metadata": {
    "slideshow": {
     "slide_type": "slide"
    }
   },
   "source": [
    "* Κάθε στήλη είναι ένα αντικείμενο τύπου `Series`.\n",
    "\n",
    "* Άρα, ένα `DataFrame` είναι τελικά ένα σύνολο από στήλες τύπου `Series`."
   ]
  },
  {
   "cell_type": "markdown",
   "metadata": {
    "slideshow": {
     "slide_type": "slide"
    }
   },
   "source": [
    "* Πριν είδαμε ότι κάποιες από τις τιμές του `DataFrame` δεν βγάζουν νόημα.\n",
    "\n",
    "* Το εύρος τιμών του γεωγραφικού πλάτους θα πρέπει να είναι μεταξύ 0 και 90 μοιρών.\n",
    "\n",
    "* Είναι όμως πράγματι έτσι;\n",
    "\n",
    "* Μπορούμε να το εξακριβώσουμε καλώντας τις κατάλληλες μεθόδους στα αντικείμενα `Series` της στήλης που μας ενδιάφερει."
   ]
  },
  {
   "cell_type": "code",
   "execution_count": null,
   "metadata": {
    "slideshow": {
     "slide_type": "fragment"
    }
   },
   "outputs": [],
   "source": [
    "# TODO MAX MIN PRICE OF pickup_longitude"
   ]
  },
  {
   "cell_type": "markdown",
   "metadata": {
    "slideshow": {
     "slide_type": "slide"
    }
   },
   "source": [
    "* Αν θέλουμε να ορίσουμε ένα φίλτρο στις τιμές μιας στήλης, ξεκινάμε ορίζοντας τη συνθήκη που μας ενδιαφέρει.\n",
    "\n",
    "* Μια λογική συνθήκη σε μία στήλη επιστρέφει ένα λογικό διάνυσμα (με τιμές `True` και `False`):"
   ]
  },
  {
   "cell_type": "code",
   "execution_count": null,
   "metadata": {
    "slideshow": {
     "slide_type": "fragment"
    }
   },
   "outputs": [],
   "source": [
    "# FILTER AND SHOW ONLY NON-ZERO VALUES"
   ]
  },
  {
   "cell_type": "markdown",
   "metadata": {
    "slideshow": {
     "slide_type": "slide"
    }
   },
   "source": [
    "* Αν δώσουμε ένα λογικό διάνυσμα σε ένα `DataFrame` παίρνουμε τις γραμμές του `DataFrame` για τις οποίες το διάνυσμα έχει την τιμή `True`."
   ]
  },
  {
   "cell_type": "markdown",
   "metadata": {
    "slideshow": {
     "slide_type": "slide"
    }
   },
   "source": [
    "* Εδώ όμως θέλουμε το γεωγραφικό πλάτος (pickup_latitude) να είναι από το 0 έως και το 90.\n",
    "\n",
    "* Αυτό μπορούμε να το κάνουμε συνδέοντας τις δύο αντίστοιχες λογικές συνθήκες με τον τελεστή `&` (o αντίστοιχος διαζευκτικός τελευστής, ή, είναι ο `|`)."
   ]
  },
  {
   "cell_type": "code",
   "execution_count": null,
   "metadata": {
    "slideshow": {
     "slide_type": "fragment"
    }
   },
   "outputs": [],
   "source": [
    "# TODO"
   ]
  },
  {
   "cell_type": "markdown",
   "metadata": {
    "slideshow": {
     "slide_type": "slide"
    }
   },
   "source": [
    "* Αλλά ακόμα δεν τελειώσαμε, θέλουμε και το γεωγραφικό μήκος να είναι από το -180 έως και το 0, άρα συνδέουμε και τις επιπλέον λογικές συνθήκες."
   ]
  },
  {
   "cell_type": "code",
   "execution_count": null,
   "metadata": {
    "slideshow": {
     "slide_type": "fragment"
    }
   },
   "outputs": [],
   "source": [
    "# TODO"
   ]
  },
  {
   "cell_type": "code",
   "execution_count": null,
   "metadata": {
    "slideshow": {
     "slide_type": "fragment"
    }
   },
   "outputs": [],
   "source": [
    "def lng_lat_to_pixels(lng, lat):    \n",
    "    lng_rad = lng * np.pi / 180\n",
    "    lat_rad = lat * np.pi / 180\n",
    "    x = (256/(2*np.pi))*(lng_rad + np.pi)\n",
    "    y = (256/(2*np.pi))*(np.log(np.tan(np.pi/4 + lat_rad/2)))\n",
    "    return (x, y)"
   ]
  },
  {
   "cell_type": "markdown",
   "metadata": {
    "slideshow": {
     "slide_type": "slide"
    }
   },
   "source": [
    "* Η βιβλιοθήκη NumPy προσφέρει πολλές μαθηματικές συναρτήσεις όπως `np.log()` and `np.tan()`. \n",
    "\n",
    "* Αυτές μπορούν να εφαρμοστούν είτε σε μεμονωμένους αριθμούς, είτε σε διανύσματα.\n",
    "\n",
    "* Έτσι, η παρακάτω κλήση θα μας επιστρέψει δύο *διανύσματα*."
   ]
  },
  {
   "cell_type": "code",
   "execution_count": null,
   "metadata": {
    "slideshow": {
     "slide_type": "fragment"
    }
   },
   "outputs": [],
   "source": [
    "# TODO"
   ]
  },
  {
   "cell_type": "markdown",
   "metadata": {
    "slideshow": {
     "slide_type": "slide"
    }
   },
   "source": [
    "* Για να ζωγραφίσουμε ένα σύνολο σημείων με το matplotlib χρησιμοποιούμε τη μέθοδο `scatter()`.\n",
    "\n",
    "* Η μέθοδος αυτή παίρνει ως είσοδο δύο πίνακες-διανύσματα με τις συντεταγμένες $x$ και $y$ των σημείων που θέλουμε να δείξουμε."
   ]
  },
  {
   "cell_type": "code",
   "execution_count": null,
   "metadata": {
    "slideshow": {
     "slide_type": "fragment"
    }
   },
   "outputs": [],
   "source": [
    "# plt.scatter"
   ]
  },
  {
   "cell_type": "markdown",
   "metadata": {
    "slideshow": {
     "slide_type": "slide"
    }
   },
   "source": [
    "* Το αποτέλεσμα δεν είναι ιδανικό.\n",
    "\n",
    "* Πρώτον: το αποτύπωμα του κάθε σημείου είναι πολύ μεγάλο.\n",
    "\n",
    "* Δεύτερον: τα σημεία είναι πάρα πολλά. Θα μπορούσαμε να τα κάνουμε κάπως διαφανή για να αποκτήσουμε μια καλύτερη ιδέα για την κατανομή τους.\n",
    "\n",
    "* Τρίτον: μάλλον θα πρέπει να επικεντρώσουμε την προσοχή μας στο κάτω αριστερό κομμάτι της εικόνας. \n",
    "\n",
    "* Τέταρτον: η εικόνα μπορεί να μεγαλώσει.\n",
    "\n",
    "* Τέλος, οι άξονες δεν προσφέρουν κάτι."
   ]
  },
  {
   "cell_type": "markdown",
   "metadata": {
    "slideshow": {
     "slide_type": "slide"
    }
   },
   "source": [
    "* Ευτυχώς, όλα αυτά μπορούμε να τα κάνουμε με το matplotlib."
   ]
  },
  {
   "cell_type": "code",
   "execution_count": null,
   "metadata": {
    "slideshow": {
     "slide_type": "fragment"
    },
    "tags": []
   },
   "outputs": [],
   "source": [
    "# TODO \n",
    "# HINT\n",
    "plt.figure(figsize=(12, 10))\n",
    "plt.axis('equal')\n",
    "plt.xlim(75.3, 75.55)\n",
    "plt.ylim(31.65, 31.90)\n"
   ]
  }
 ],
 "metadata": {
  "celltoolbar": "Slideshow",
  "kernelspec": {
   "display_name": "Python 3 (ipykernel)",
   "language": "python",
   "name": "python3"
  },
  "language_info": {
   "codemirror_mode": {
    "name": "ipython",
    "version": 3
   },
   "file_extension": ".py",
   "mimetype": "text/x-python",
   "name": "python",
   "nbconvert_exporter": "python",
   "pygments_lexer": "ipython3",
   "version": "3.9.9"
  }
 },
 "nbformat": 4,
 "nbformat_minor": 1
}
