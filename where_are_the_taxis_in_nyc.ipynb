{
 "cells": [
  {
   "cell_type": "markdown",
   "metadata": {
    "slideshow": {
     "slide_type": "slide"
    }
   },
   "source": [
    "# Πού Είναι τα Ταξί στη Νέα Υόρκη;\n",
    "\n",
    "* Εμπνευσμένο από το κεφάλαιο 2 του βιβλίου του Cyrille Rossant, Learning IPython for Interactive Computing and Data Visualization, 2η έκδοση, Packt Publishing, 2015."
   ]
  },
  {
   "cell_type": "markdown",
   "metadata": {
    "slideshow": {
     "slide_type": "slide"
    }
   },
   "source": [
    "* Ξεκινάμε εισάγοντας τις βιβλιοθήκες που θα χρειαστούμε.\n",
    "\n",
    "* Η βιβλιοθήκη [NumPy](https://numpy.org/) υλοποιηθεί πολύ βελτιστοποιημένες πράξεις πινάκων στην Python.\n",
    "\n",
    "* Η βιβλιοθήκη [pandas](https://pandas.pydata.org/) είναι η βασική βιβλιοθήκη για την επεξεργασία δεδομένων στην Python.\n",
    "\n",
    "* Με τη βιβλιοθήκη [matplotlib](https://matplotlib.org/) μπορούμε να οπτικοποιούμε τα δεδομένα μας."
   ]
  },
  {
   "cell_type": "code",
   "execution_count": 51,
   "metadata": {
    "slideshow": {
     "slide_type": "fragment"
    }
   },
   "outputs": [],
   "source": [
    "import numpy as np\n",
    "import pandas as pd\n",
    "import matplotlib.pyplot as plt"
   ]
  },
  {
   "cell_type": "markdown",
   "metadata": {
    "slideshow": {
     "slide_type": "slide"
    }
   },
   "source": [
    "* Τώρα μπορούμε να διαβάσουμε τα δεδομένα που θα χρησιμοποιήσουμε.\n",
    "\n",
    "* Tα δεδομένα αρχικά έγιναν διαθέσιμα χάρη στον [Chris Wong](https://chriswhong.com/) το 2013 κατόπιν [αίτησής του σύμφωνα με τη νομοθεσία για την ελευθερία της πληροφορίας (Freedom of Information Law, FOIL)](https://chriswhong.com/open-data/foil_nyc_taxi/).\n",
    "\n",
    "* Εμείς θα χρησιμοποιήσουμε ένα τυχαίο δείγμα του 1% των δεδομένων.\n",
    "\n",
    "* Νεότερα δεδομένα είναι διαθέσιμα από το [NYC Taxi and Limousine Commission (TLC)](https://www1.nyc.gov/site/tlc/about/tlc-trip-record-data.page)."
   ]
  },
  {
   "cell_type": "code",
   "execution_count": 52,
   "metadata": {
    "slideshow": {
     "slide_type": "fragment"
    }
   },
   "outputs": [],
   "source": [
    "data_filename = \"C:/Users/xrist/OneDrive/Υπολογιστής/data/Data-Science-Tutorials/data/nyc_taxi_trip_data_sample.csv\""
   ]
  },
  {
   "cell_type": "markdown",
   "metadata": {
    "slideshow": {
     "slide_type": "slide"
    }
   },
   "source": [
    "* Για να διαβάσουμε τα δεδομένα θα χρησιμοποιήσουμε τη συνάρτηση `read_csv()` του pandas.\n"
   ]
  },
  {
   "cell_type": "code",
   "execution_count": 53,
   "metadata": {
    "slideshow": {
     "slide_type": "fragment"
    }
   },
   "outputs": [],
   "source": [
    "data = pd.read_csv(data_filename)"
   ]
  },
  {
   "cell_type": "markdown",
   "metadata": {
    "slideshow": {
     "slide_type": "slide"
    }
   },
   "source": [
    "* Η μεταβλητή `data` περιέχει ένα αντικείμενο `DataFrame`. \n",
    "\n",
    "* Ένα `DataFrame` είναι ένας πίνακας που περιέχει γραμμές (παρατηρήσεις) και στήλες (χαρακτηριστικά). \n",
    "\n",
    "* Ένα `DataFrame` μπορεί να περιέχει κείμενο, αριθμούς, ημερομηνίες, και άλλους τύπους δεδομένων. "
   ]
  },
  {
   "cell_type": "markdown",
   "metadata": {},
   "source": [
    "#  FILTER AND SHOW ONLY NON-ZERO VALUES # ΤΟDO"
   ]
  },
  {
   "cell_type": "code",
   "execution_count": 54,
   "metadata": {
    "slideshow": {
     "slide_type": "slide"
    }
   },
   "outputs": [
    {
     "data": {
      "text/plain": [
       "medallion              0.000000\n",
       "hack_license           0.000000\n",
       "vendor_id              0.000000\n",
       "rate_code              0.000000\n",
       "store_and_fwd_flag    49.953950\n",
       "pickup_datetime        0.000000\n",
       "dropoff_datetime       0.000000\n",
       "passenger_count        0.000000\n",
       "trip_time_in_secs      0.000000\n",
       "trip_distance          0.000000\n",
       "pickup_longitude       0.000000\n",
       "pickup_latitude        0.000000\n",
       "dropoff_longitude      0.001732\n",
       "dropoff_latitude       0.001732\n",
       "dtype: float64"
      ]
     },
     "execution_count": 54,
     "metadata": {},
     "output_type": "execute_result"
    }
   ],
   "source": [
    "# FILTER AND SHOW ONLY NON-ZERO VALUES  #TODO\n",
    "null_values = data.isnull().sum()\n",
    "null_values\n",
    "\n",
    "missing_percentages = (null_values/len(data))*100\n",
    "missing_percentages"
   ]
  },
  {
   "cell_type": "code",
   "execution_count": 55,
   "metadata": {},
   "outputs": [
    {
     "data": {
      "text/plain": [
       "store_and_fwd_flag\n",
       "N    846092\n",
       "Y     20604\n",
       "Name: count, dtype: int64"
      ]
     },
     "execution_count": 55,
     "metadata": {},
     "output_type": "execute_result"
    }
   ],
   "source": [
    "data['store_and_fwd_flag'].value_counts()"
   ]
  },
  {
   "cell_type": "code",
   "execution_count": 56,
   "metadata": {},
   "outputs": [
    {
     "data": {
      "text/plain": [
       "Index(['medallion', 'hack_license', 'vendor_id', 'rate_code',\n",
       "       'store_and_fwd_flag', 'pickup_datetime', 'dropoff_datetime',\n",
       "       'passenger_count', 'trip_time_in_secs', 'trip_distance',\n",
       "       'pickup_longitude', 'pickup_latitude', 'dropoff_longitude',\n",
       "       'dropoff_latitude'],\n",
       "      dtype='object')"
      ]
     },
     "execution_count": 56,
     "metadata": {},
     "output_type": "execute_result"
    }
   ],
   "source": [
    "data.columns"
   ]
  },
  {
   "cell_type": "code",
   "execution_count": 57,
   "metadata": {},
   "outputs": [],
   "source": [
    "data.drop(columns='store_and_fwd_flag' ,axis=1, inplace=True)\n"
   ]
  },
  {
   "cell_type": "code",
   "execution_count": 58,
   "metadata": {},
   "outputs": [
    {
     "data": {
      "text/plain": [
       "(1731797, 13)"
      ]
     },
     "execution_count": 58,
     "metadata": {},
     "output_type": "execute_result"
    }
   ],
   "source": [
    "data.shape"
   ]
  },
  {
   "cell_type": "markdown",
   "metadata": {},
   "source": [
    "# delete NaNs in Specific Columns   "
   ]
  },
  {
   "cell_type": "code",
   "execution_count": 59,
   "metadata": {},
   "outputs": [
    {
     "data": {
      "text/plain": [
       "(1731767, 13)"
      ]
     },
     "execution_count": 59,
     "metadata": {},
     "output_type": "execute_result"
    }
   ],
   "source": [
    "data = data.dropna(subset=['dropoff_longitude', 'dropoff_latitude'])\n",
    "data.shape"
   ]
  },
  {
   "cell_type": "markdown",
   "metadata": {
    "slideshow": {
     "slide_type": "slide"
    }
   },
   "source": [
    "* Μπορούμε να δούμε τις διαστάσεις ενός `DataFrame` χρησιμοποιώντας την ιδιότητα `shape`."
   ]
  },
  {
   "cell_type": "markdown",
   "metadata": {
    "slideshow": {
     "slide_type": "slide"
    }
   },
   "source": [
    "* Η μέθοδος `head()` μας δίνει τις αρχικές γραμμές ενός `DataFrame`."
   ]
  },
  {
   "cell_type": "markdown",
   "metadata": {
    "slideshow": {
     "slide_type": "slide"
    }
   },
   "source": [
    "* Μπορούμε επίσης να το χειριστούμε με το συνηθισμένο συντακτικό της Python για ακολουθίες δεδομένων:"
   ]
  },
  {
   "cell_type": "markdown",
   "metadata": {
    "slideshow": {
     "slide_type": "slide"
    }
   },
   "source": [
    "* Η μέθοδος `describe()` μας δίνει βασικά στοιχεία περιγραφικής στατιστικής."
   ]
  },
  {
   "cell_type": "markdown",
   "metadata": {
    "slideshow": {
     "slide_type": "slide"
    }
   },
   "source": [
    "* Η βασική βιβλιοθήκη για οπτικοποίηση δεδομένων με την Python είναι η [matplotlib](https://matplotlib.org/).\n",
    "\n",
    "* Θα εξετάσουμε τα σημεία της πόλης στα οποία οι επιβάτες μπαίνουν σε ταξί.\n",
    "\n",
    "* Το πρώτο βήμα είναι να βρούμε τις γεωγραφικές συντεταγμένες των σημείων από το `DataFrame`."
   ]
  },
  {
   "cell_type": "markdown",
   "metadata": {
    "slideshow": {
     "slide_type": "slide"
    }
   },
   "source": [
    "* Για να θυμηθούμε ποιες είναι οι στήλες."
   ]
  },
  {
   "cell_type": "markdown",
   "metadata": {
    "slideshow": {
     "slide_type": "slide"
    }
   },
   "source": [
    "* Υπάρχουν τέσσερεις στήλες που αντιστοιχούν στις συντεταγμένες όπου ο επιβάτης μπαίνει και κατεβαίνει από το όχημα:\n",
    "\n",
    "  * `pickup_longitude`\n",
    "  * `pickup_latitude`\n",
    "  * `dropoff_longitude`\n",
    "  * `dropoff_latitude`\n",
    "\n",
    "* Θα επικεντρωθούμε όπως είπαμε στα σημεία που ξεκινάει μια διαδρομή."
   ]
  },
  {
   "cell_type": "markdown",
   "metadata": {
    "slideshow": {
     "slide_type": "slide"
    }
   },
   "source": [
    "* Μπορούμε να αναφερθούμε σε μία στήλη ενός `DataFrame` δίνοντας το όνομα του `DataFrame`, τελεία, και το όνομα της στήλης:"
   ]
  },
  {
   "cell_type": "code",
   "execution_count": 60,
   "metadata": {
    "slideshow": {
     "slide_type": "fragment"
    }
   },
   "outputs": [
    {
     "data": {
      "text/plain": [
       "0         -73.990089\n",
       "1         -73.960022\n",
       "2         -73.970634\n",
       "3         -73.992661\n",
       "4         -73.999107\n",
       "             ...    \n",
       "1731792   -73.995766\n",
       "1731793     0.000000\n",
       "1731794   -73.991554\n",
       "1731795   -73.865715\n",
       "1731796   -74.002968\n",
       "Name: pickup_longitude, Length: 1731767, dtype: float64"
      ]
     },
     "execution_count": 60,
     "metadata": {},
     "output_type": "execute_result"
    }
   ],
   "source": [
    "data['pickup_longitude']\n"
   ]
  },
  {
   "cell_type": "markdown",
   "metadata": {
    "slideshow": {
     "slide_type": "slide"
    }
   },
   "source": [
    "* Κάθε στήλη είναι ένα αντικείμενο τύπου `Series`.\n",
    "\n",
    "* Άρα, ένα `DataFrame` είναι τελικά ένα σύνολο από στήλες τύπου `Series`."
   ]
  },
  {
   "cell_type": "markdown",
   "metadata": {
    "slideshow": {
     "slide_type": "slide"
    }
   },
   "source": [
    "* Πριν είδαμε ότι κάποιες από τις τιμές του `DataFrame` δεν βγάζουν νόημα.\n",
    "\n",
    "* Το εύρος τιμών του γεωγραφικού πλάτους θα πρέπει να είναι μεταξύ 0 και 90 μοιρών.\n",
    "\n",
    "* Είναι όμως πράγματι έτσι;\n",
    "\n",
    "* Μπορούμε να το εξακριβώσουμε καλώντας τις κατάλληλες μεθόδους στα αντικείμενα `Series` της στήλης που μας ενδιάφερει."
   ]
  },
  {
   "cell_type": "code",
   "execution_count": 61,
   "metadata": {
    "slideshow": {
     "slide_type": "fragment"
    }
   },
   "outputs": [
    {
     "name": "stdout",
     "output_type": "stream",
     "text": [
      "Min value: -740.02167\n",
      "Max value: 51.977318\n"
     ]
    }
   ],
   "source": [
    "# TODO MAX MIN PRICE OF pickup_longitude\n",
    "min_value = data['pickup_longitude'].min()\n",
    "max_value = data['pickup_longitude'].max()\n",
    "print(\"Min value:\", min_value)\n",
    "print(\"Max value:\", max_value)\n"
   ]
  },
  {
   "cell_type": "markdown",
   "metadata": {
    "slideshow": {
     "slide_type": "slide"
    }
   },
   "source": [
    "* Αν θέλουμε να ορίσουμε ένα φίλτρο στις τιμές μιας στήλης, ξεκινάμε ορίζοντας τη συνθήκη που μας ενδιαφέρει.\n",
    "\n",
    "* Μια λογική συνθήκη σε μία στήλη επιστρέφει ένα λογικό διάνυσμα (με τιμές `True` και `False`):"
   ]
  },
  {
   "cell_type": "markdown",
   "metadata": {
    "slideshow": {
     "slide_type": "slide"
    }
   },
   "source": [
    "* Αν δώσουμε ένα λογικό διάνυσμα σε ένα `DataFrame` παίρνουμε τις γραμμές του `DataFrame` για τις οποίες το διάνυσμα έχει την τιμή `True`."
   ]
  },
  {
   "cell_type": "markdown",
   "metadata": {
    "slideshow": {
     "slide_type": "slide"
    }
   },
   "source": [
    "* Εδώ όμως θέλουμε το γεωγραφικό πλάτος (pickup_latitude) να είναι από το 0 έως και το 90.\n",
    "\n",
    "* Αυτό μπορούμε να το κάνουμε συνδέοντας τις δύο αντίστοιχες λογικές συνθήκες με τον τελεστή `&` (o αντίστοιχος διαζευκτικός τελευστής, ή, είναι ο `|`)."
   ]
  },
  {
   "cell_type": "code",
   "execution_count": 62,
   "metadata": {
    "slideshow": {
     "slide_type": "fragment"
    }
   },
   "outputs": [
    {
     "data": {
      "text/html": [
       "<div>\n",
       "<style scoped>\n",
       "    .dataframe tbody tr th:only-of-type {\n",
       "        vertical-align: middle;\n",
       "    }\n",
       "\n",
       "    .dataframe tbody tr th {\n",
       "        vertical-align: top;\n",
       "    }\n",
       "\n",
       "    .dataframe thead th {\n",
       "        text-align: right;\n",
       "    }\n",
       "</style>\n",
       "<table border=\"1\" class=\"dataframe\">\n",
       "  <thead>\n",
       "    <tr style=\"text-align: right;\">\n",
       "      <th></th>\n",
       "      <th>medallion</th>\n",
       "      <th>hack_license</th>\n",
       "      <th>vendor_id</th>\n",
       "      <th>rate_code</th>\n",
       "      <th>pickup_datetime</th>\n",
       "      <th>dropoff_datetime</th>\n",
       "      <th>passenger_count</th>\n",
       "      <th>trip_time_in_secs</th>\n",
       "      <th>trip_distance</th>\n",
       "      <th>pickup_longitude</th>\n",
       "      <th>pickup_latitude</th>\n",
       "      <th>dropoff_longitude</th>\n",
       "      <th>dropoff_latitude</th>\n",
       "    </tr>\n",
       "  </thead>\n",
       "  <tbody>\n",
       "    <tr>\n",
       "      <th>148</th>\n",
       "      <td>8C8A1481A019901E6DD5E4FA3C49C61B</td>\n",
       "      <td>F051238AE9EF6EE48C5DE7838212F7F8</td>\n",
       "      <td>CMT</td>\n",
       "      <td>1</td>\n",
       "      <td>2013-01-27 04:04:28</td>\n",
       "      <td>2013-01-27 04:16:51</td>\n",
       "      <td>1</td>\n",
       "      <td>743</td>\n",
       "      <td>3.90</td>\n",
       "      <td>0.000000</td>\n",
       "      <td>0.000000</td>\n",
       "      <td>0.0</td>\n",
       "      <td>0.0</td>\n",
       "    </tr>\n",
       "    <tr>\n",
       "      <th>211</th>\n",
       "      <td>F96FCBB3EF42D0992D228D2A44C35787</td>\n",
       "      <td>5C1FFC9372F762880A22B1B83FB86DF5</td>\n",
       "      <td>CMT</td>\n",
       "      <td>1</td>\n",
       "      <td>2013-01-27 00:33:56</td>\n",
       "      <td>2013-01-27 00:40:05</td>\n",
       "      <td>1</td>\n",
       "      <td>369</td>\n",
       "      <td>1.50</td>\n",
       "      <td>0.000000</td>\n",
       "      <td>0.000000</td>\n",
       "      <td>0.0</td>\n",
       "      <td>0.0</td>\n",
       "    </tr>\n",
       "    <tr>\n",
       "      <th>225</th>\n",
       "      <td>7108621119A6C9F88639BD26B0967F40</td>\n",
       "      <td>C2F57EB09DF16CD70A0F9B8A74AFDC27</td>\n",
       "      <td>CMT</td>\n",
       "      <td>1</td>\n",
       "      <td>2013-05-21 04:52:03</td>\n",
       "      <td>2013-05-21 04:59:42</td>\n",
       "      <td>1</td>\n",
       "      <td>459</td>\n",
       "      <td>5.50</td>\n",
       "      <td>0.000000</td>\n",
       "      <td>0.000000</td>\n",
       "      <td>0.0</td>\n",
       "      <td>0.0</td>\n",
       "    </tr>\n",
       "    <tr>\n",
       "      <th>384</th>\n",
       "      <td>3FCDBF4730E6E18FDBA01D6EDA29FF5A</td>\n",
       "      <td>229C84C2E3A7D29094103ED6BC25A864</td>\n",
       "      <td>CMT</td>\n",
       "      <td>1</td>\n",
       "      <td>2013-02-01 15:23:54</td>\n",
       "      <td>2013-02-01 15:35:12</td>\n",
       "      <td>1</td>\n",
       "      <td>677</td>\n",
       "      <td>1.80</td>\n",
       "      <td>0.000000</td>\n",
       "      <td>0.000000</td>\n",
       "      <td>0.0</td>\n",
       "      <td>0.0</td>\n",
       "    </tr>\n",
       "    <tr>\n",
       "      <th>396</th>\n",
       "      <td>B4F0FFEF3900DBC2D41A3E465BBD0A71</td>\n",
       "      <td>129CC5DF16DA30A3C4C47D8FBCCBEC1C</td>\n",
       "      <td>CMT</td>\n",
       "      <td>1</td>\n",
       "      <td>2013-12-19 03:23:56</td>\n",
       "      <td>2013-12-19 03:27:12</td>\n",
       "      <td>3</td>\n",
       "      <td>195</td>\n",
       "      <td>0.50</td>\n",
       "      <td>0.000000</td>\n",
       "      <td>0.000000</td>\n",
       "      <td>0.0</td>\n",
       "      <td>0.0</td>\n",
       "    </tr>\n",
       "    <tr>\n",
       "      <th>...</th>\n",
       "      <td>...</td>\n",
       "      <td>...</td>\n",
       "      <td>...</td>\n",
       "      <td>...</td>\n",
       "      <td>...</td>\n",
       "      <td>...</td>\n",
       "      <td>...</td>\n",
       "      <td>...</td>\n",
       "      <td>...</td>\n",
       "      <td>...</td>\n",
       "      <td>...</td>\n",
       "      <td>...</td>\n",
       "      <td>...</td>\n",
       "    </tr>\n",
       "    <tr>\n",
       "      <th>1731510</th>\n",
       "      <td>3780040B8F52026C9141895FA997EAAB</td>\n",
       "      <td>833ECDE53ECA81940D6DC3C944AE9FEB</td>\n",
       "      <td>CMT</td>\n",
       "      <td>1</td>\n",
       "      <td>2013-09-14 12:19:59</td>\n",
       "      <td>2013-09-14 12:28:52</td>\n",
       "      <td>1</td>\n",
       "      <td>533</td>\n",
       "      <td>1.70</td>\n",
       "      <td>0.000000</td>\n",
       "      <td>0.000000</td>\n",
       "      <td>0.0</td>\n",
       "      <td>0.0</td>\n",
       "    </tr>\n",
       "    <tr>\n",
       "      <th>1731515</th>\n",
       "      <td>75B38A8DE8DCE855A5BFEFD924E73404</td>\n",
       "      <td>0A1A0478120C8A7B0C035A06321D3B91</td>\n",
       "      <td>VTS</td>\n",
       "      <td>1</td>\n",
       "      <td>2013-01-19 16:50:00</td>\n",
       "      <td>2013-01-19 17:01:00</td>\n",
       "      <td>2</td>\n",
       "      <td>660</td>\n",
       "      <td>2.32</td>\n",
       "      <td>-73.991524</td>\n",
       "      <td>40.743938</td>\n",
       "      <td>0.0</td>\n",
       "      <td>0.0</td>\n",
       "    </tr>\n",
       "    <tr>\n",
       "      <th>1731660</th>\n",
       "      <td>F3BA458FFB70903630ABF3332CB983F1</td>\n",
       "      <td>53E828672C55E20A154F84C2CB195A2B</td>\n",
       "      <td>VTS</td>\n",
       "      <td>1</td>\n",
       "      <td>2013-03-19 04:17:00</td>\n",
       "      <td>2013-03-19 04:23:00</td>\n",
       "      <td>6</td>\n",
       "      <td>360</td>\n",
       "      <td>1.88</td>\n",
       "      <td>0.000000</td>\n",
       "      <td>0.000000</td>\n",
       "      <td>0.0</td>\n",
       "      <td>0.0</td>\n",
       "    </tr>\n",
       "    <tr>\n",
       "      <th>1731711</th>\n",
       "      <td>99DC8B92B9DD3926C5FDC362893ED8C3</td>\n",
       "      <td>CD6A8D56FA4FCFE68C1C44A66FD7BF1F</td>\n",
       "      <td>VTS</td>\n",
       "      <td>1</td>\n",
       "      <td>2013-07-01 07:33:00</td>\n",
       "      <td>2013-07-01 07:48:00</td>\n",
       "      <td>1</td>\n",
       "      <td>900</td>\n",
       "      <td>3.34</td>\n",
       "      <td>0.000000</td>\n",
       "      <td>0.000000</td>\n",
       "      <td>0.0</td>\n",
       "      <td>0.0</td>\n",
       "    </tr>\n",
       "    <tr>\n",
       "      <th>1731788</th>\n",
       "      <td>FFED7CFCB1A658ADEC2DC6A899047060</td>\n",
       "      <td>8029E32363EE70689848057B3F636FBA</td>\n",
       "      <td>VTS</td>\n",
       "      <td>1</td>\n",
       "      <td>2013-10-29 19:54:00</td>\n",
       "      <td>2013-10-29 20:10:00</td>\n",
       "      <td>1</td>\n",
       "      <td>960</td>\n",
       "      <td>2.45</td>\n",
       "      <td>0.000000</td>\n",
       "      <td>0.000000</td>\n",
       "      <td>0.0</td>\n",
       "      <td>0.0</td>\n",
       "    </tr>\n",
       "  </tbody>\n",
       "</table>\n",
       "<p>28188 rows × 13 columns</p>\n",
       "</div>"
      ],
      "text/plain": [
       "                                medallion                      hack_license  \\\n",
       "148      8C8A1481A019901E6DD5E4FA3C49C61B  F051238AE9EF6EE48C5DE7838212F7F8   \n",
       "211      F96FCBB3EF42D0992D228D2A44C35787  5C1FFC9372F762880A22B1B83FB86DF5   \n",
       "225      7108621119A6C9F88639BD26B0967F40  C2F57EB09DF16CD70A0F9B8A74AFDC27   \n",
       "384      3FCDBF4730E6E18FDBA01D6EDA29FF5A  229C84C2E3A7D29094103ED6BC25A864   \n",
       "396      B4F0FFEF3900DBC2D41A3E465BBD0A71  129CC5DF16DA30A3C4C47D8FBCCBEC1C   \n",
       "...                                   ...                               ...   \n",
       "1731510  3780040B8F52026C9141895FA997EAAB  833ECDE53ECA81940D6DC3C944AE9FEB   \n",
       "1731515  75B38A8DE8DCE855A5BFEFD924E73404  0A1A0478120C8A7B0C035A06321D3B91   \n",
       "1731660  F3BA458FFB70903630ABF3332CB983F1  53E828672C55E20A154F84C2CB195A2B   \n",
       "1731711  99DC8B92B9DD3926C5FDC362893ED8C3  CD6A8D56FA4FCFE68C1C44A66FD7BF1F   \n",
       "1731788  FFED7CFCB1A658ADEC2DC6A899047060  8029E32363EE70689848057B3F636FBA   \n",
       "\n",
       "        vendor_id  rate_code      pickup_datetime     dropoff_datetime  \\\n",
       "148           CMT          1  2013-01-27 04:04:28  2013-01-27 04:16:51   \n",
       "211           CMT          1  2013-01-27 00:33:56  2013-01-27 00:40:05   \n",
       "225           CMT          1  2013-05-21 04:52:03  2013-05-21 04:59:42   \n",
       "384           CMT          1  2013-02-01 15:23:54  2013-02-01 15:35:12   \n",
       "396           CMT          1  2013-12-19 03:23:56  2013-12-19 03:27:12   \n",
       "...           ...        ...                  ...                  ...   \n",
       "1731510       CMT          1  2013-09-14 12:19:59  2013-09-14 12:28:52   \n",
       "1731515       VTS          1  2013-01-19 16:50:00  2013-01-19 17:01:00   \n",
       "1731660       VTS          1  2013-03-19 04:17:00  2013-03-19 04:23:00   \n",
       "1731711       VTS          1  2013-07-01 07:33:00  2013-07-01 07:48:00   \n",
       "1731788       VTS          1  2013-10-29 19:54:00  2013-10-29 20:10:00   \n",
       "\n",
       "         passenger_count  trip_time_in_secs  trip_distance  pickup_longitude  \\\n",
       "148                    1                743           3.90          0.000000   \n",
       "211                    1                369           1.50          0.000000   \n",
       "225                    1                459           5.50          0.000000   \n",
       "384                    1                677           1.80          0.000000   \n",
       "396                    3                195           0.50          0.000000   \n",
       "...                  ...                ...            ...               ...   \n",
       "1731510                1                533           1.70          0.000000   \n",
       "1731515                2                660           2.32        -73.991524   \n",
       "1731660                6                360           1.88          0.000000   \n",
       "1731711                1                900           3.34          0.000000   \n",
       "1731788                1                960           2.45          0.000000   \n",
       "\n",
       "         pickup_latitude  dropoff_longitude  dropoff_latitude  \n",
       "148             0.000000                0.0               0.0  \n",
       "211             0.000000                0.0               0.0  \n",
       "225             0.000000                0.0               0.0  \n",
       "384             0.000000                0.0               0.0  \n",
       "396             0.000000                0.0               0.0  \n",
       "...                  ...                ...               ...  \n",
       "1731510         0.000000                0.0               0.0  \n",
       "1731515        40.743938                0.0               0.0  \n",
       "1731660         0.000000                0.0               0.0  \n",
       "1731711         0.000000                0.0               0.0  \n",
       "1731788         0.000000                0.0               0.0  \n",
       "\n",
       "[28188 rows x 13 columns]"
      ]
     },
     "execution_count": 62,
     "metadata": {},
     "output_type": "execute_result"
    }
   ],
   "source": [
    "# TODO double filtering pickup_latitude >= 0 and pickup_latitude <=90\n",
    "\n",
    "filtered_df = data[(data['pickup_latitude'] >= 0) & (data['pickup_latitude'] <= 90) & (data['dropoff_longitude'] >= -180) & (data['dropoff_latitude'] <= 0)]\n",
    "filtered_df[:-1]"
   ]
  },
  {
   "cell_type": "markdown",
   "metadata": {
    "slideshow": {
     "slide_type": "slide"
    }
   },
   "source": [
    "* Αλλά ακόμα δεν τελειώσαμε, θέλουμε και το γεωγραφικό μήκος να είναι από το -180 έως και το 0, άρα συνδέουμε και τις επιπλέον λογικές συνθήκες."
   ]
  },
  {
   "cell_type": "code",
   "execution_count": 70,
   "metadata": {
    "slideshow": {
     "slide_type": "fragment"
    }
   },
   "outputs": [],
   "source": [
    "longitude_c = filtered_df['pickup_longitude']\n",
    "latitude_c = filtered_df['pickup_latitude']"
   ]
  },
  {
   "cell_type": "code",
   "execution_count": 71,
   "metadata": {
    "slideshow": {
     "slide_type": "fragment"
    }
   },
   "outputs": [
    {
     "data": {
      "text/plain": [
       "(148        128.000000\n",
       " 211        128.000000\n",
       " 225        128.000000\n",
       " 384        128.000000\n",
       " 396        128.000000\n",
       "               ...    \n",
       " 1731515     75.383805\n",
       " 1731660    128.000000\n",
       " 1731711    128.000000\n",
       " 1731788    128.000000\n",
       " 1731793    128.000000\n",
       " Name: pickup_longitude, Length: 28189, dtype: float64,\n",
       " 148       -4.523456e-15\n",
       " 211       -4.523456e-15\n",
       " 225       -4.523456e-15\n",
       " 384       -4.523456e-15\n",
       " 396       -4.523456e-15\n",
       "                ...     \n",
       " 1731515    3.177813e+01\n",
       " 1731660   -4.523456e-15\n",
       " 1731711   -4.523456e-15\n",
       " 1731788   -4.523456e-15\n",
       " 1731793   -4.523456e-15\n",
       " Name: pickup_latitude, Length: 28189, dtype: float64)"
      ]
     },
     "execution_count": 71,
     "metadata": {},
     "output_type": "execute_result"
    }
   ],
   "source": [
    "def lng_lat_to_pixels(lng, lat):    \n",
    "    lng_rad = lng * np.pi / 180\n",
    "    lat_rad = lat * np.pi / 180\n",
    "    x = (256/(2*np.pi))*(lng_rad + np.pi)\n",
    "    y = (256/(2*np.pi))*(np.log(np.tan(np.pi/4 + lat_rad/2)))\n",
    "    return (x,y)\n",
    "\n",
    "latit_long = lng_lat_to_pixels(longitude_c,latitude_c)\n",
    "latit_long"
   ]
  },
  {
   "cell_type": "code",
   "execution_count": 72,
   "metadata": {},
   "outputs": [
    {
     "name": "stderr",
     "output_type": "stream",
     "text": [
      "C:\\Users\\xrist\\AppData\\Local\\Temp\\ipykernel_5716\\7857781.py:1: SettingWithCopyWarning: \n",
      "A value is trying to be set on a copy of a slice from a DataFrame.\n",
      "Try using .loc[row_indexer,col_indexer] = value instead\n",
      "\n",
      "See the caveats in the documentation: https://pandas.pydata.org/pandas-docs/stable/user_guide/indexing.html#returning-a-view-versus-a-copy\n",
      "  filtered_df['pixel_coordinates'] = filtered_df.apply(lambda row : lng_lat_to_pixels(row['pickup_longitude'],row['pickup_latitude']), axis = 1)\n"
     ]
    },
    {
     "data": {
      "text/html": [
       "<div>\n",
       "<style scoped>\n",
       "    .dataframe tbody tr th:only-of-type {\n",
       "        vertical-align: middle;\n",
       "    }\n",
       "\n",
       "    .dataframe tbody tr th {\n",
       "        vertical-align: top;\n",
       "    }\n",
       "\n",
       "    .dataframe thead th {\n",
       "        text-align: right;\n",
       "    }\n",
       "</style>\n",
       "<table border=\"1\" class=\"dataframe\">\n",
       "  <thead>\n",
       "    <tr style=\"text-align: right;\">\n",
       "      <th></th>\n",
       "      <th>medallion</th>\n",
       "      <th>hack_license</th>\n",
       "      <th>vendor_id</th>\n",
       "      <th>rate_code</th>\n",
       "      <th>pickup_datetime</th>\n",
       "      <th>dropoff_datetime</th>\n",
       "      <th>passenger_count</th>\n",
       "      <th>trip_time_in_secs</th>\n",
       "      <th>trip_distance</th>\n",
       "      <th>pickup_longitude</th>\n",
       "      <th>pickup_latitude</th>\n",
       "      <th>dropoff_longitude</th>\n",
       "      <th>dropoff_latitude</th>\n",
       "      <th>pixel_coordinates</th>\n",
       "    </tr>\n",
       "  </thead>\n",
       "  <tbody>\n",
       "    <tr>\n",
       "      <th>148</th>\n",
       "      <td>8C8A1481A019901E6DD5E4FA3C49C61B</td>\n",
       "      <td>F051238AE9EF6EE48C5DE7838212F7F8</td>\n",
       "      <td>CMT</td>\n",
       "      <td>1</td>\n",
       "      <td>2013-01-27 04:04:28</td>\n",
       "      <td>2013-01-27 04:16:51</td>\n",
       "      <td>1</td>\n",
       "      <td>743</td>\n",
       "      <td>3.90</td>\n",
       "      <td>0.000000</td>\n",
       "      <td>0.000000</td>\n",
       "      <td>0.0</td>\n",
       "      <td>0.0</td>\n",
       "      <td>(128.0, -4.523455546970335e-15)</td>\n",
       "    </tr>\n",
       "    <tr>\n",
       "      <th>211</th>\n",
       "      <td>F96FCBB3EF42D0992D228D2A44C35787</td>\n",
       "      <td>5C1FFC9372F762880A22B1B83FB86DF5</td>\n",
       "      <td>CMT</td>\n",
       "      <td>1</td>\n",
       "      <td>2013-01-27 00:33:56</td>\n",
       "      <td>2013-01-27 00:40:05</td>\n",
       "      <td>1</td>\n",
       "      <td>369</td>\n",
       "      <td>1.50</td>\n",
       "      <td>0.000000</td>\n",
       "      <td>0.000000</td>\n",
       "      <td>0.0</td>\n",
       "      <td>0.0</td>\n",
       "      <td>(128.0, -4.523455546970335e-15)</td>\n",
       "    </tr>\n",
       "    <tr>\n",
       "      <th>225</th>\n",
       "      <td>7108621119A6C9F88639BD26B0967F40</td>\n",
       "      <td>C2F57EB09DF16CD70A0F9B8A74AFDC27</td>\n",
       "      <td>CMT</td>\n",
       "      <td>1</td>\n",
       "      <td>2013-05-21 04:52:03</td>\n",
       "      <td>2013-05-21 04:59:42</td>\n",
       "      <td>1</td>\n",
       "      <td>459</td>\n",
       "      <td>5.50</td>\n",
       "      <td>0.000000</td>\n",
       "      <td>0.000000</td>\n",
       "      <td>0.0</td>\n",
       "      <td>0.0</td>\n",
       "      <td>(128.0, -4.523455546970335e-15)</td>\n",
       "    </tr>\n",
       "    <tr>\n",
       "      <th>384</th>\n",
       "      <td>3FCDBF4730E6E18FDBA01D6EDA29FF5A</td>\n",
       "      <td>229C84C2E3A7D29094103ED6BC25A864</td>\n",
       "      <td>CMT</td>\n",
       "      <td>1</td>\n",
       "      <td>2013-02-01 15:23:54</td>\n",
       "      <td>2013-02-01 15:35:12</td>\n",
       "      <td>1</td>\n",
       "      <td>677</td>\n",
       "      <td>1.80</td>\n",
       "      <td>0.000000</td>\n",
       "      <td>0.000000</td>\n",
       "      <td>0.0</td>\n",
       "      <td>0.0</td>\n",
       "      <td>(128.0, -4.523455546970335e-15)</td>\n",
       "    </tr>\n",
       "    <tr>\n",
       "      <th>396</th>\n",
       "      <td>B4F0FFEF3900DBC2D41A3E465BBD0A71</td>\n",
       "      <td>129CC5DF16DA30A3C4C47D8FBCCBEC1C</td>\n",
       "      <td>CMT</td>\n",
       "      <td>1</td>\n",
       "      <td>2013-12-19 03:23:56</td>\n",
       "      <td>2013-12-19 03:27:12</td>\n",
       "      <td>3</td>\n",
       "      <td>195</td>\n",
       "      <td>0.50</td>\n",
       "      <td>0.000000</td>\n",
       "      <td>0.000000</td>\n",
       "      <td>0.0</td>\n",
       "      <td>0.0</td>\n",
       "      <td>(128.0, -4.523455546970335e-15)</td>\n",
       "    </tr>\n",
       "    <tr>\n",
       "      <th>...</th>\n",
       "      <td>...</td>\n",
       "      <td>...</td>\n",
       "      <td>...</td>\n",
       "      <td>...</td>\n",
       "      <td>...</td>\n",
       "      <td>...</td>\n",
       "      <td>...</td>\n",
       "      <td>...</td>\n",
       "      <td>...</td>\n",
       "      <td>...</td>\n",
       "      <td>...</td>\n",
       "      <td>...</td>\n",
       "      <td>...</td>\n",
       "      <td>...</td>\n",
       "    </tr>\n",
       "    <tr>\n",
       "      <th>1731515</th>\n",
       "      <td>75B38A8DE8DCE855A5BFEFD924E73404</td>\n",
       "      <td>0A1A0478120C8A7B0C035A06321D3B91</td>\n",
       "      <td>VTS</td>\n",
       "      <td>1</td>\n",
       "      <td>2013-01-19 16:50:00</td>\n",
       "      <td>2013-01-19 17:01:00</td>\n",
       "      <td>2</td>\n",
       "      <td>660</td>\n",
       "      <td>2.32</td>\n",
       "      <td>-73.991524</td>\n",
       "      <td>40.743938</td>\n",
       "      <td>0.0</td>\n",
       "      <td>0.0</td>\n",
       "      <td>(75.38380515555556, 31.778134762188404)</td>\n",
       "    </tr>\n",
       "    <tr>\n",
       "      <th>1731660</th>\n",
       "      <td>F3BA458FFB70903630ABF3332CB983F1</td>\n",
       "      <td>53E828672C55E20A154F84C2CB195A2B</td>\n",
       "      <td>VTS</td>\n",
       "      <td>1</td>\n",
       "      <td>2013-03-19 04:17:00</td>\n",
       "      <td>2013-03-19 04:23:00</td>\n",
       "      <td>6</td>\n",
       "      <td>360</td>\n",
       "      <td>1.88</td>\n",
       "      <td>0.000000</td>\n",
       "      <td>0.000000</td>\n",
       "      <td>0.0</td>\n",
       "      <td>0.0</td>\n",
       "      <td>(128.0, -4.523455546970335e-15)</td>\n",
       "    </tr>\n",
       "    <tr>\n",
       "      <th>1731711</th>\n",
       "      <td>99DC8B92B9DD3926C5FDC362893ED8C3</td>\n",
       "      <td>CD6A8D56FA4FCFE68C1C44A66FD7BF1F</td>\n",
       "      <td>VTS</td>\n",
       "      <td>1</td>\n",
       "      <td>2013-07-01 07:33:00</td>\n",
       "      <td>2013-07-01 07:48:00</td>\n",
       "      <td>1</td>\n",
       "      <td>900</td>\n",
       "      <td>3.34</td>\n",
       "      <td>0.000000</td>\n",
       "      <td>0.000000</td>\n",
       "      <td>0.0</td>\n",
       "      <td>0.0</td>\n",
       "      <td>(128.0, -4.523455546970335e-15)</td>\n",
       "    </tr>\n",
       "    <tr>\n",
       "      <th>1731788</th>\n",
       "      <td>FFED7CFCB1A658ADEC2DC6A899047060</td>\n",
       "      <td>8029E32363EE70689848057B3F636FBA</td>\n",
       "      <td>VTS</td>\n",
       "      <td>1</td>\n",
       "      <td>2013-10-29 19:54:00</td>\n",
       "      <td>2013-10-29 20:10:00</td>\n",
       "      <td>1</td>\n",
       "      <td>960</td>\n",
       "      <td>2.45</td>\n",
       "      <td>0.000000</td>\n",
       "      <td>0.000000</td>\n",
       "      <td>0.0</td>\n",
       "      <td>0.0</td>\n",
       "      <td>(128.0, -4.523455546970335e-15)</td>\n",
       "    </tr>\n",
       "    <tr>\n",
       "      <th>1731793</th>\n",
       "      <td>3C16CFAD2B12F3508F7211C37F8F8B8F</td>\n",
       "      <td>A36B62F2B6D1D6C289519810E66EAAB9</td>\n",
       "      <td>VTS</td>\n",
       "      <td>1</td>\n",
       "      <td>2013-02-21 12:44:00</td>\n",
       "      <td>2013-02-21 13:11:00</td>\n",
       "      <td>6</td>\n",
       "      <td>1620</td>\n",
       "      <td>3.94</td>\n",
       "      <td>0.000000</td>\n",
       "      <td>0.000000</td>\n",
       "      <td>0.0</td>\n",
       "      <td>0.0</td>\n",
       "      <td>(128.0, -4.523455546970335e-15)</td>\n",
       "    </tr>\n",
       "  </tbody>\n",
       "</table>\n",
       "<p>28189 rows × 14 columns</p>\n",
       "</div>"
      ],
      "text/plain": [
       "                                medallion                      hack_license  \\\n",
       "148      8C8A1481A019901E6DD5E4FA3C49C61B  F051238AE9EF6EE48C5DE7838212F7F8   \n",
       "211      F96FCBB3EF42D0992D228D2A44C35787  5C1FFC9372F762880A22B1B83FB86DF5   \n",
       "225      7108621119A6C9F88639BD26B0967F40  C2F57EB09DF16CD70A0F9B8A74AFDC27   \n",
       "384      3FCDBF4730E6E18FDBA01D6EDA29FF5A  229C84C2E3A7D29094103ED6BC25A864   \n",
       "396      B4F0FFEF3900DBC2D41A3E465BBD0A71  129CC5DF16DA30A3C4C47D8FBCCBEC1C   \n",
       "...                                   ...                               ...   \n",
       "1731515  75B38A8DE8DCE855A5BFEFD924E73404  0A1A0478120C8A7B0C035A06321D3B91   \n",
       "1731660  F3BA458FFB70903630ABF3332CB983F1  53E828672C55E20A154F84C2CB195A2B   \n",
       "1731711  99DC8B92B9DD3926C5FDC362893ED8C3  CD6A8D56FA4FCFE68C1C44A66FD7BF1F   \n",
       "1731788  FFED7CFCB1A658ADEC2DC6A899047060  8029E32363EE70689848057B3F636FBA   \n",
       "1731793  3C16CFAD2B12F3508F7211C37F8F8B8F  A36B62F2B6D1D6C289519810E66EAAB9   \n",
       "\n",
       "        vendor_id  rate_code      pickup_datetime     dropoff_datetime  \\\n",
       "148           CMT          1  2013-01-27 04:04:28  2013-01-27 04:16:51   \n",
       "211           CMT          1  2013-01-27 00:33:56  2013-01-27 00:40:05   \n",
       "225           CMT          1  2013-05-21 04:52:03  2013-05-21 04:59:42   \n",
       "384           CMT          1  2013-02-01 15:23:54  2013-02-01 15:35:12   \n",
       "396           CMT          1  2013-12-19 03:23:56  2013-12-19 03:27:12   \n",
       "...           ...        ...                  ...                  ...   \n",
       "1731515       VTS          1  2013-01-19 16:50:00  2013-01-19 17:01:00   \n",
       "1731660       VTS          1  2013-03-19 04:17:00  2013-03-19 04:23:00   \n",
       "1731711       VTS          1  2013-07-01 07:33:00  2013-07-01 07:48:00   \n",
       "1731788       VTS          1  2013-10-29 19:54:00  2013-10-29 20:10:00   \n",
       "1731793       VTS          1  2013-02-21 12:44:00  2013-02-21 13:11:00   \n",
       "\n",
       "         passenger_count  trip_time_in_secs  trip_distance  pickup_longitude  \\\n",
       "148                    1                743           3.90          0.000000   \n",
       "211                    1                369           1.50          0.000000   \n",
       "225                    1                459           5.50          0.000000   \n",
       "384                    1                677           1.80          0.000000   \n",
       "396                    3                195           0.50          0.000000   \n",
       "...                  ...                ...            ...               ...   \n",
       "1731515                2                660           2.32        -73.991524   \n",
       "1731660                6                360           1.88          0.000000   \n",
       "1731711                1                900           3.34          0.000000   \n",
       "1731788                1                960           2.45          0.000000   \n",
       "1731793                6               1620           3.94          0.000000   \n",
       "\n",
       "         pickup_latitude  dropoff_longitude  dropoff_latitude  \\\n",
       "148             0.000000                0.0               0.0   \n",
       "211             0.000000                0.0               0.0   \n",
       "225             0.000000                0.0               0.0   \n",
       "384             0.000000                0.0               0.0   \n",
       "396             0.000000                0.0               0.0   \n",
       "...                  ...                ...               ...   \n",
       "1731515        40.743938                0.0               0.0   \n",
       "1731660         0.000000                0.0               0.0   \n",
       "1731711         0.000000                0.0               0.0   \n",
       "1731788         0.000000                0.0               0.0   \n",
       "1731793         0.000000                0.0               0.0   \n",
       "\n",
       "                               pixel_coordinates  \n",
       "148              (128.0, -4.523455546970335e-15)  \n",
       "211              (128.0, -4.523455546970335e-15)  \n",
       "225              (128.0, -4.523455546970335e-15)  \n",
       "384              (128.0, -4.523455546970335e-15)  \n",
       "396              (128.0, -4.523455546970335e-15)  \n",
       "...                                          ...  \n",
       "1731515  (75.38380515555556, 31.778134762188404)  \n",
       "1731660          (128.0, -4.523455546970335e-15)  \n",
       "1731711          (128.0, -4.523455546970335e-15)  \n",
       "1731788          (128.0, -4.523455546970335e-15)  \n",
       "1731793          (128.0, -4.523455546970335e-15)  \n",
       "\n",
       "[28189 rows x 14 columns]"
      ]
     },
     "execution_count": 72,
     "metadata": {},
     "output_type": "execute_result"
    }
   ],
   "source": [
    "filtered_df['pixel_coordinates'] = filtered_df.apply(lambda row : lng_lat_to_pixels(row['pickup_longitude'],row['pickup_latitude']), axis = 1)\n",
    "filtered_df"
   ]
  },
  {
   "cell_type": "markdown",
   "metadata": {
    "slideshow": {
     "slide_type": "slide"
    }
   },
   "source": [
    "* Η βιβλιοθήκη NumPy προσφέρει πολλές μαθηματικές συναρτήσεις όπως `np.log()` and `np.tan()`. \n",
    "\n",
    "* Αυτές μπορούν να εφαρμοστούν είτε σε μεμονωμένους αριθμούς, είτε σε διανύσματα.\n",
    "\n",
    "* Έτσι, η παρακάτω κλήση θα μας επιστρέψει δύο *διανύσματα*."
   ]
  },
  {
   "cell_type": "markdown",
   "metadata": {
    "slideshow": {
     "slide_type": "slide"
    }
   },
   "source": [
    "* Για να ζωγραφίσουμε ένα σύνολο σημείων με το matplotlib χρησιμοποιούμε τη μέθοδο `scatter()`.\n",
    "\n",
    "* Η μέθοδος αυτή παίρνει ως είσοδο δύο πίνακες-διανύσματα με τις συντεταγμένες $x$ και $y$ των σημείων που θέλουμε να δείξουμε."
   ]
  },
  {
   "cell_type": "code",
   "execution_count": 73,
   "metadata": {
    "slideshow": {
     "slide_type": "fragment"
    }
   },
   "outputs": [
    {
     "name": "stderr",
     "output_type": "stream",
     "text": [
      "C:\\Users\\xrist\\AppData\\Local\\Packages\\PythonSoftwareFoundation.Python.3.11_qbz5n2kfra8p0\\LocalCache\\local-packages\\Python311\\site-packages\\pandas\\core\\arraylike.py:396: RuntimeWarning: invalid value encountered in log\n",
      "  result = getattr(ufunc, method)(*inputs, **kwargs)\n"
     ]
    },
    {
     "data": {
      "image/png": "[encoded data removed]",
      "text/plain": [
       "<Figure size 640x480 with 1 Axes>"
      ]
     },
     "metadata": {},
     "output_type": "display_data"
    }
   ],
   "source": [
    "# plt.scatter \n",
    "\n",
    "ltt_array = np.array(np.log(latit_long[0]))\n",
    "lng_array = np.array(np.log(latit_long[1]))\n",
    "\n",
    "\n",
    "plt.scatter( ltt_array, lng_array , s=100, edgecolors='grey', linewidths=0.7, alpha=0.5)\n",
    "\n",
    "# Προσθήκη ετικετών στους άξονες\n",
    "plt.xlabel('latitude ')\n",
    "plt.ylabel('longtitude')\n",
    "\n",
    "plt.title('Scatter Plot latitude & longtitude')\n",
    "\n",
    "plt.show()\n"
   ]
  },
  {
   "cell_type": "markdown",
   "metadata": {
    "slideshow": {
     "slide_type": "slide"
    }
   },
   "source": [
    "* Το αποτέλεσμα δεν είναι ιδανικό.\n",
    "\n",
    "* Πρώτον: το αποτύπωμα του κάθε σημείου είναι πολύ μεγάλο.\n",
    "\n",
    "* Δεύτερον: τα σημεία είναι πάρα πολλά. Θα μπορούσαμε να τα κάνουμε κάπως διαφανή για να αποκτήσουμε μια καλύτερη ιδέα για την κατανομή τους.\n",
    "\n",
    "* Τρίτον: μάλλον θα πρέπει να επικεντρώσουμε την προσοχή μας στο κάτω αριστερό κομμάτι της εικόνας. \n",
    "\n",
    "* Τέταρτον: η εικόνα μπορεί να μεγαλώσει.\n",
    "\n",
    "* Τέλος, οι άξονες δεν προσφέρουν κάτι."
   ]
  },
  {
   "cell_type": "markdown",
   "metadata": {
    "slideshow": {
     "slide_type": "slide"
    }
   },
   "source": [
    "* Ευτυχώς, όλα αυτά μπορούμε να τα κάνουμε με το matplotlib."
   ]
  },
  {
   "cell_type": "code",
   "execution_count": 74,
   "metadata": {
    "slideshow": {
     "slide_type": "fragment"
    },
    "tags": []
   },
   "outputs": [
    {
     "data": {
      "image/png": "[encoded data removed]",
      "text/plain": [
       "<Figure size 1200x1000 with 1 Axes>"
      ]
     },
     "metadata": {},
     "output_type": "display_data"
    }
   ],
   "source": [
    "\n",
    "plt.figure(figsize=(12, 10))\n",
    "plt.axis('equal')\n",
    "plt.xlim(75.3, 75.55)\n",
    "plt.ylim(31.65, 31.90)\n",
    "plt.axis('off')\n",
    "plt.gca().set_facecolor('white')\n",
    "plt.scatter(ltt_array, lng_array, s=.1, alpha=.03, color='black') # get rid of matplotlib message output\n",
    "\n",
    "plt.show()"
   ]
  }
 ],
 "metadata": {
  "celltoolbar": "Slideshow",
  "kernelspec": {
   "display_name": "Python 3 (ipykernel)",
   "language": "python",
   "name": "python3"
  },
  "language_info": {
   "codemirror_mode": {
    "name": "ipython",
    "version": 3
   },
   "file_extension": ".py",
   "mimetype": "text/x-python",
   "name": "python",
   "nbconvert_exporter": "python",
   "pygments_lexer": "ipython3",
   "version": "3.11.5"
  }
 },
 "nbformat": 4,
 "nbformat_minor": 1
}
