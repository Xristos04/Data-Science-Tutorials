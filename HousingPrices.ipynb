{
 "cells": [
  {
   "cell_type": "code",
   "execution_count": 1,
   "metadata": {},
   "outputs": [],
   "source": [
    "import pandas as pd\n",
    "import numpy as np\n",
    "import plotly.graph_objects as go\n",
    "import plotly.express as px\n",
    "import scipy.stats as stats\n",
    "from IPython.display import display, HTML"
   ]
  },
  {
   "cell_type": "code",
   "execution_count": 2,
   "metadata": {},
   "outputs": [
    {
     "data": {
      "text/html": [
       "<div>\n",
       "<style scoped>\n",
       "    .dataframe tbody tr th:only-of-type {\n",
       "        vertical-align: middle;\n",
       "    }\n",
       "\n",
       "    .dataframe tbody tr th {\n",
       "        vertical-align: top;\n",
       "    }\n",
       "\n",
       "    .dataframe thead th {\n",
       "        text-align: right;\n",
       "    }\n",
       "</style>\n",
       "<table border=\"1\" class=\"dataframe\">\n",
       "  <thead>\n",
       "    <tr style=\"text-align: right;\">\n",
       "      <th></th>\n",
       "      <th>Id</th>\n",
       "      <th>MSSubClass</th>\n",
       "      <th>MSZoning</th>\n",
       "      <th>LotFrontage</th>\n",
       "      <th>LotArea</th>\n",
       "      <th>Street</th>\n",
       "      <th>Alley</th>\n",
       "      <th>LotShape</th>\n",
       "      <th>LandContour</th>\n",
       "      <th>Utilities</th>\n",
       "      <th>...</th>\n",
       "      <th>PoolArea</th>\n",
       "      <th>PoolQC</th>\n",
       "      <th>Fence</th>\n",
       "      <th>MiscFeature</th>\n",
       "      <th>MiscVal</th>\n",
       "      <th>MoSold</th>\n",
       "      <th>YrSold</th>\n",
       "      <th>SaleType</th>\n",
       "      <th>SaleCondition</th>\n",
       "      <th>SalePrice</th>\n",
       "    </tr>\n",
       "  </thead>\n",
       "  <tbody>\n",
       "    <tr>\n",
       "      <th>0</th>\n",
       "      <td>1</td>\n",
       "      <td>60</td>\n",
       "      <td>RL</td>\n",
       "      <td>65.0</td>\n",
       "      <td>8450</td>\n",
       "      <td>Pave</td>\n",
       "      <td>NaN</td>\n",
       "      <td>Reg</td>\n",
       "      <td>Lvl</td>\n",
       "      <td>AllPub</td>\n",
       "      <td>...</td>\n",
       "      <td>0</td>\n",
       "      <td>NaN</td>\n",
       "      <td>NaN</td>\n",
       "      <td>NaN</td>\n",
       "      <td>0</td>\n",
       "      <td>2</td>\n",
       "      <td>2008</td>\n",
       "      <td>WD</td>\n",
       "      <td>Normal</td>\n",
       "      <td>208500</td>\n",
       "    </tr>\n",
       "    <tr>\n",
       "      <th>1</th>\n",
       "      <td>2</td>\n",
       "      <td>20</td>\n",
       "      <td>RL</td>\n",
       "      <td>80.0</td>\n",
       "      <td>9600</td>\n",
       "      <td>Pave</td>\n",
       "      <td>NaN</td>\n",
       "      <td>Reg</td>\n",
       "      <td>Lvl</td>\n",
       "      <td>AllPub</td>\n",
       "      <td>...</td>\n",
       "      <td>0</td>\n",
       "      <td>NaN</td>\n",
       "      <td>NaN</td>\n",
       "      <td>NaN</td>\n",
       "      <td>0</td>\n",
       "      <td>5</td>\n",
       "      <td>2007</td>\n",
       "      <td>WD</td>\n",
       "      <td>Normal</td>\n",
       "      <td>181500</td>\n",
       "    </tr>\n",
       "    <tr>\n",
       "      <th>2</th>\n",
       "      <td>3</td>\n",
       "      <td>60</td>\n",
       "      <td>RL</td>\n",
       "      <td>68.0</td>\n",
       "      <td>11250</td>\n",
       "      <td>Pave</td>\n",
       "      <td>NaN</td>\n",
       "      <td>IR1</td>\n",
       "      <td>Lvl</td>\n",
       "      <td>AllPub</td>\n",
       "      <td>...</td>\n",
       "      <td>0</td>\n",
       "      <td>NaN</td>\n",
       "      <td>NaN</td>\n",
       "      <td>NaN</td>\n",
       "      <td>0</td>\n",
       "      <td>9</td>\n",
       "      <td>2008</td>\n",
       "      <td>WD</td>\n",
       "      <td>Normal</td>\n",
       "      <td>223500</td>\n",
       "    </tr>\n",
       "    <tr>\n",
       "      <th>3</th>\n",
       "      <td>4</td>\n",
       "      <td>70</td>\n",
       "      <td>RL</td>\n",
       "      <td>60.0</td>\n",
       "      <td>9550</td>\n",
       "      <td>Pave</td>\n",
       "      <td>NaN</td>\n",
       "      <td>IR1</td>\n",
       "      <td>Lvl</td>\n",
       "      <td>AllPub</td>\n",
       "      <td>...</td>\n",
       "      <td>0</td>\n",
       "      <td>NaN</td>\n",
       "      <td>NaN</td>\n",
       "      <td>NaN</td>\n",
       "      <td>0</td>\n",
       "      <td>2</td>\n",
       "      <td>2006</td>\n",
       "      <td>WD</td>\n",
       "      <td>Abnorml</td>\n",
       "      <td>140000</td>\n",
       "    </tr>\n",
       "    <tr>\n",
       "      <th>4</th>\n",
       "      <td>5</td>\n",
       "      <td>60</td>\n",
       "      <td>RL</td>\n",
       "      <td>84.0</td>\n",
       "      <td>14260</td>\n",
       "      <td>Pave</td>\n",
       "      <td>NaN</td>\n",
       "      <td>IR1</td>\n",
       "      <td>Lvl</td>\n",
       "      <td>AllPub</td>\n",
       "      <td>...</td>\n",
       "      <td>0</td>\n",
       "      <td>NaN</td>\n",
       "      <td>NaN</td>\n",
       "      <td>NaN</td>\n",
       "      <td>0</td>\n",
       "      <td>12</td>\n",
       "      <td>2008</td>\n",
       "      <td>WD</td>\n",
       "      <td>Normal</td>\n",
       "      <td>250000</td>\n",
       "    </tr>\n",
       "    <tr>\n",
       "      <th>5</th>\n",
       "      <td>6</td>\n",
       "      <td>50</td>\n",
       "      <td>RL</td>\n",
       "      <td>85.0</td>\n",
       "      <td>14115</td>\n",
       "      <td>Pave</td>\n",
       "      <td>NaN</td>\n",
       "      <td>IR1</td>\n",
       "      <td>Lvl</td>\n",
       "      <td>AllPub</td>\n",
       "      <td>...</td>\n",
       "      <td>0</td>\n",
       "      <td>NaN</td>\n",
       "      <td>MnPrv</td>\n",
       "      <td>Shed</td>\n",
       "      <td>700</td>\n",
       "      <td>10</td>\n",
       "      <td>2009</td>\n",
       "      <td>WD</td>\n",
       "      <td>Normal</td>\n",
       "      <td>143000</td>\n",
       "    </tr>\n",
       "    <tr>\n",
       "      <th>6</th>\n",
       "      <td>7</td>\n",
       "      <td>20</td>\n",
       "      <td>RL</td>\n",
       "      <td>75.0</td>\n",
       "      <td>10084</td>\n",
       "      <td>Pave</td>\n",
       "      <td>NaN</td>\n",
       "      <td>Reg</td>\n",
       "      <td>Lvl</td>\n",
       "      <td>AllPub</td>\n",
       "      <td>...</td>\n",
       "      <td>0</td>\n",
       "      <td>NaN</td>\n",
       "      <td>NaN</td>\n",
       "      <td>NaN</td>\n",
       "      <td>0</td>\n",
       "      <td>8</td>\n",
       "      <td>2007</td>\n",
       "      <td>WD</td>\n",
       "      <td>Normal</td>\n",
       "      <td>307000</td>\n",
       "    </tr>\n",
       "  </tbody>\n",
       "</table>\n",
       "<p>7 rows × 81 columns</p>\n",
       "</div>"
      ],
      "text/plain": [
       "   Id  MSSubClass MSZoning  LotFrontage  LotArea Street Alley LotShape  \\\n",
       "0   1          60       RL         65.0     8450   Pave   NaN      Reg   \n",
       "1   2          20       RL         80.0     9600   Pave   NaN      Reg   \n",
       "2   3          60       RL         68.0    11250   Pave   NaN      IR1   \n",
       "3   4          70       RL         60.0     9550   Pave   NaN      IR1   \n",
       "4   5          60       RL         84.0    14260   Pave   NaN      IR1   \n",
       "5   6          50       RL         85.0    14115   Pave   NaN      IR1   \n",
       "6   7          20       RL         75.0    10084   Pave   NaN      Reg   \n",
       "\n",
       "  LandContour Utilities  ... PoolArea PoolQC  Fence MiscFeature MiscVal  \\\n",
       "0         Lvl    AllPub  ...        0    NaN    NaN         NaN       0   \n",
       "1         Lvl    AllPub  ...        0    NaN    NaN         NaN       0   \n",
       "2         Lvl    AllPub  ...        0    NaN    NaN         NaN       0   \n",
       "3         Lvl    AllPub  ...        0    NaN    NaN         NaN       0   \n",
       "4         Lvl    AllPub  ...        0    NaN    NaN         NaN       0   \n",
       "5         Lvl    AllPub  ...        0    NaN  MnPrv        Shed     700   \n",
       "6         Lvl    AllPub  ...        0    NaN    NaN         NaN       0   \n",
       "\n",
       "  MoSold YrSold  SaleType  SaleCondition  SalePrice  \n",
       "0      2   2008        WD         Normal     208500  \n",
       "1      5   2007        WD         Normal     181500  \n",
       "2      9   2008        WD         Normal     223500  \n",
       "3      2   2006        WD        Abnorml     140000  \n",
       "4     12   2008        WD         Normal     250000  \n",
       "5     10   2009        WD         Normal     143000  \n",
       "6      8   2007        WD         Normal     307000  \n",
       "\n",
       "[7 rows x 81 columns]"
      ]
     },
     "execution_count": 2,
     "metadata": {},
     "output_type": "execute_result"
    }
   ],
   "source": [
    "df = pd.read_csv('./data/train.csv')\n",
    "df.head(7)\n",
    "# df.shape"
   ]
  },
  {
   "cell_type": "markdown",
   "metadata": {},
   "source": [
    "## Data Exploration"
   ]
  },
  {
   "cell_type": "code",
   "execution_count": 3,
   "metadata": {},
   "outputs": [
    {
     "data": {
      "text/html": [
       "<div>\n",
       "<style scoped>\n",
       "    .dataframe tbody tr th:only-of-type {\n",
       "        vertical-align: middle;\n",
       "    }\n",
       "\n",
       "    .dataframe tbody tr th {\n",
       "        vertical-align: top;\n",
       "    }\n",
       "\n",
       "    .dataframe thead th {\n",
       "        text-align: right;\n",
       "    }\n",
       "</style>\n",
       "<table border=\"1\" class=\"dataframe\">\n",
       "  <thead>\n",
       "    <tr style=\"text-align: right;\">\n",
       "      <th></th>\n",
       "      <th>Id</th>\n",
       "      <th>MSSubClass</th>\n",
       "      <th>LotFrontage</th>\n",
       "      <th>LotArea</th>\n",
       "      <th>OverallQual</th>\n",
       "      <th>OverallCond</th>\n",
       "      <th>YearBuilt</th>\n",
       "      <th>YearRemodAdd</th>\n",
       "      <th>MasVnrArea</th>\n",
       "      <th>BsmtFinSF1</th>\n",
       "      <th>...</th>\n",
       "      <th>WoodDeckSF</th>\n",
       "      <th>OpenPorchSF</th>\n",
       "      <th>EnclosedPorch</th>\n",
       "      <th>3SsnPorch</th>\n",
       "      <th>ScreenPorch</th>\n",
       "      <th>PoolArea</th>\n",
       "      <th>MiscVal</th>\n",
       "      <th>MoSold</th>\n",
       "      <th>YrSold</th>\n",
       "      <th>SalePrice</th>\n",
       "    </tr>\n",
       "  </thead>\n",
       "  <tbody>\n",
       "    <tr>\n",
       "      <th>count</th>\n",
       "      <td>1460.000000</td>\n",
       "      <td>1460.000000</td>\n",
       "      <td>1201.000000</td>\n",
       "      <td>1460.000000</td>\n",
       "      <td>1460.000000</td>\n",
       "      <td>1460.000000</td>\n",
       "      <td>1460.000000</td>\n",
       "      <td>1460.000000</td>\n",
       "      <td>1452.000000</td>\n",
       "      <td>1460.000000</td>\n",
       "      <td>...</td>\n",
       "      <td>1460.000000</td>\n",
       "      <td>1460.000000</td>\n",
       "      <td>1460.000000</td>\n",
       "      <td>1460.000000</td>\n",
       "      <td>1460.000000</td>\n",
       "      <td>1460.000000</td>\n",
       "      <td>1460.000000</td>\n",
       "      <td>1460.000000</td>\n",
       "      <td>1460.000000</td>\n",
       "      <td>1460.000000</td>\n",
       "    </tr>\n",
       "    <tr>\n",
       "      <th>mean</th>\n",
       "      <td>730.500000</td>\n",
       "      <td>56.897260</td>\n",
       "      <td>70.049958</td>\n",
       "      <td>10516.828082</td>\n",
       "      <td>6.099315</td>\n",
       "      <td>5.575342</td>\n",
       "      <td>1971.267808</td>\n",
       "      <td>1984.865753</td>\n",
       "      <td>103.685262</td>\n",
       "      <td>443.639726</td>\n",
       "      <td>...</td>\n",
       "      <td>94.244521</td>\n",
       "      <td>46.660274</td>\n",
       "      <td>21.954110</td>\n",
       "      <td>3.409589</td>\n",
       "      <td>15.060959</td>\n",
       "      <td>2.758904</td>\n",
       "      <td>43.489041</td>\n",
       "      <td>6.321918</td>\n",
       "      <td>2007.815753</td>\n",
       "      <td>180921.195890</td>\n",
       "    </tr>\n",
       "    <tr>\n",
       "      <th>std</th>\n",
       "      <td>421.610009</td>\n",
       "      <td>42.300571</td>\n",
       "      <td>24.284752</td>\n",
       "      <td>9981.264932</td>\n",
       "      <td>1.382997</td>\n",
       "      <td>1.112799</td>\n",
       "      <td>30.202904</td>\n",
       "      <td>20.645407</td>\n",
       "      <td>181.066207</td>\n",
       "      <td>456.098091</td>\n",
       "      <td>...</td>\n",
       "      <td>125.338794</td>\n",
       "      <td>66.256028</td>\n",
       "      <td>61.119149</td>\n",
       "      <td>29.317331</td>\n",
       "      <td>55.757415</td>\n",
       "      <td>40.177307</td>\n",
       "      <td>496.123024</td>\n",
       "      <td>2.703626</td>\n",
       "      <td>1.328095</td>\n",
       "      <td>79442.502883</td>\n",
       "    </tr>\n",
       "    <tr>\n",
       "      <th>min</th>\n",
       "      <td>1.000000</td>\n",
       "      <td>20.000000</td>\n",
       "      <td>21.000000</td>\n",
       "      <td>1300.000000</td>\n",
       "      <td>1.000000</td>\n",
       "      <td>1.000000</td>\n",
       "      <td>1872.000000</td>\n",
       "      <td>1950.000000</td>\n",
       "      <td>0.000000</td>\n",
       "      <td>0.000000</td>\n",
       "      <td>...</td>\n",
       "      <td>0.000000</td>\n",
       "      <td>0.000000</td>\n",
       "      <td>0.000000</td>\n",
       "      <td>0.000000</td>\n",
       "      <td>0.000000</td>\n",
       "      <td>0.000000</td>\n",
       "      <td>0.000000</td>\n",
       "      <td>1.000000</td>\n",
       "      <td>2006.000000</td>\n",
       "      <td>34900.000000</td>\n",
       "    </tr>\n",
       "    <tr>\n",
       "      <th>25%</th>\n",
       "      <td>365.750000</td>\n",
       "      <td>20.000000</td>\n",
       "      <td>59.000000</td>\n",
       "      <td>7553.500000</td>\n",
       "      <td>5.000000</td>\n",
       "      <td>5.000000</td>\n",
       "      <td>1954.000000</td>\n",
       "      <td>1967.000000</td>\n",
       "      <td>0.000000</td>\n",
       "      <td>0.000000</td>\n",
       "      <td>...</td>\n",
       "      <td>0.000000</td>\n",
       "      <td>0.000000</td>\n",
       "      <td>0.000000</td>\n",
       "      <td>0.000000</td>\n",
       "      <td>0.000000</td>\n",
       "      <td>0.000000</td>\n",
       "      <td>0.000000</td>\n",
       "      <td>5.000000</td>\n",
       "      <td>2007.000000</td>\n",
       "      <td>129975.000000</td>\n",
       "    </tr>\n",
       "    <tr>\n",
       "      <th>50%</th>\n",
       "      <td>730.500000</td>\n",
       "      <td>50.000000</td>\n",
       "      <td>69.000000</td>\n",
       "      <td>9478.500000</td>\n",
       "      <td>6.000000</td>\n",
       "      <td>5.000000</td>\n",
       "      <td>1973.000000</td>\n",
       "      <td>1994.000000</td>\n",
       "      <td>0.000000</td>\n",
       "      <td>383.500000</td>\n",
       "      <td>...</td>\n",
       "      <td>0.000000</td>\n",
       "      <td>25.000000</td>\n",
       "      <td>0.000000</td>\n",
       "      <td>0.000000</td>\n",
       "      <td>0.000000</td>\n",
       "      <td>0.000000</td>\n",
       "      <td>0.000000</td>\n",
       "      <td>6.000000</td>\n",
       "      <td>2008.000000</td>\n",
       "      <td>163000.000000</td>\n",
       "    </tr>\n",
       "    <tr>\n",
       "      <th>75%</th>\n",
       "      <td>1095.250000</td>\n",
       "      <td>70.000000</td>\n",
       "      <td>80.000000</td>\n",
       "      <td>11601.500000</td>\n",
       "      <td>7.000000</td>\n",
       "      <td>6.000000</td>\n",
       "      <td>2000.000000</td>\n",
       "      <td>2004.000000</td>\n",
       "      <td>166.000000</td>\n",
       "      <td>712.250000</td>\n",
       "      <td>...</td>\n",
       "      <td>168.000000</td>\n",
       "      <td>68.000000</td>\n",
       "      <td>0.000000</td>\n",
       "      <td>0.000000</td>\n",
       "      <td>0.000000</td>\n",
       "      <td>0.000000</td>\n",
       "      <td>0.000000</td>\n",
       "      <td>8.000000</td>\n",
       "      <td>2009.000000</td>\n",
       "      <td>214000.000000</td>\n",
       "    </tr>\n",
       "    <tr>\n",
       "      <th>max</th>\n",
       "      <td>1460.000000</td>\n",
       "      <td>190.000000</td>\n",
       "      <td>313.000000</td>\n",
       "      <td>215245.000000</td>\n",
       "      <td>10.000000</td>\n",
       "      <td>9.000000</td>\n",
       "      <td>2010.000000</td>\n",
       "      <td>2010.000000</td>\n",
       "      <td>1600.000000</td>\n",
       "      <td>5644.000000</td>\n",
       "      <td>...</td>\n",
       "      <td>857.000000</td>\n",
       "      <td>547.000000</td>\n",
       "      <td>552.000000</td>\n",
       "      <td>508.000000</td>\n",
       "      <td>480.000000</td>\n",
       "      <td>738.000000</td>\n",
       "      <td>15500.000000</td>\n",
       "      <td>12.000000</td>\n",
       "      <td>2010.000000</td>\n",
       "      <td>755000.000000</td>\n",
       "    </tr>\n",
       "  </tbody>\n",
       "</table>\n",
       "<p>8 rows × 38 columns</p>\n",
       "</div>"
      ],
      "text/plain": [
       "                Id   MSSubClass  LotFrontage        LotArea  OverallQual  \\\n",
       "count  1460.000000  1460.000000  1201.000000    1460.000000  1460.000000   \n",
       "mean    730.500000    56.897260    70.049958   10516.828082     6.099315   \n",
       "std     421.610009    42.300571    24.284752    9981.264932     1.382997   \n",
       "min       1.000000    20.000000    21.000000    1300.000000     1.000000   \n",
       "25%     365.750000    20.000000    59.000000    7553.500000     5.000000   \n",
       "50%     730.500000    50.000000    69.000000    9478.500000     6.000000   \n",
       "75%    1095.250000    70.000000    80.000000   11601.500000     7.000000   \n",
       "max    1460.000000   190.000000   313.000000  215245.000000    10.000000   \n",
       "\n",
       "       OverallCond    YearBuilt  YearRemodAdd   MasVnrArea   BsmtFinSF1  ...  \\\n",
       "count  1460.000000  1460.000000   1460.000000  1452.000000  1460.000000  ...   \n",
       "mean      5.575342  1971.267808   1984.865753   103.685262   443.639726  ...   \n",
       "std       1.112799    30.202904     20.645407   181.066207   456.098091  ...   \n",
       "min       1.000000  1872.000000   1950.000000     0.000000     0.000000  ...   \n",
       "25%       5.000000  1954.000000   1967.000000     0.000000     0.000000  ...   \n",
       "50%       5.000000  1973.000000   1994.000000     0.000000   383.500000  ...   \n",
       "75%       6.000000  2000.000000   2004.000000   166.000000   712.250000  ...   \n",
       "max       9.000000  2010.000000   2010.000000  1600.000000  5644.000000  ...   \n",
       "\n",
       "        WoodDeckSF  OpenPorchSF  EnclosedPorch    3SsnPorch  ScreenPorch  \\\n",
       "count  1460.000000  1460.000000    1460.000000  1460.000000  1460.000000   \n",
       "mean     94.244521    46.660274      21.954110     3.409589    15.060959   \n",
       "std     125.338794    66.256028      61.119149    29.317331    55.757415   \n",
       "min       0.000000     0.000000       0.000000     0.000000     0.000000   \n",
       "25%       0.000000     0.000000       0.000000     0.000000     0.000000   \n",
       "50%       0.000000    25.000000       0.000000     0.000000     0.000000   \n",
       "75%     168.000000    68.000000       0.000000     0.000000     0.000000   \n",
       "max     857.000000   547.000000     552.000000   508.000000   480.000000   \n",
       "\n",
       "          PoolArea       MiscVal       MoSold       YrSold      SalePrice  \n",
       "count  1460.000000   1460.000000  1460.000000  1460.000000    1460.000000  \n",
       "mean      2.758904     43.489041     6.321918  2007.815753  180921.195890  \n",
       "std      40.177307    496.123024     2.703626     1.328095   79442.502883  \n",
       "min       0.000000      0.000000     1.000000  2006.000000   34900.000000  \n",
       "25%       0.000000      0.000000     5.000000  2007.000000  129975.000000  \n",
       "50%       0.000000      0.000000     6.000000  2008.000000  163000.000000  \n",
       "75%       0.000000      0.000000     8.000000  2009.000000  214000.000000  \n",
       "max     738.000000  15500.000000    12.000000  2010.000000  755000.000000  \n",
       "\n",
       "[8 rows x 38 columns]"
      ]
     },
     "execution_count": 3,
     "metadata": {},
     "output_type": "execute_result"
    }
   ],
   "source": [
    "numerical_features = df.select_dtypes(include=[np.number])\n",
    "numerical_features.describe()"
   ]
  },
  {
   "cell_type": "code",
   "execution_count": 4,
   "metadata": {},
   "outputs": [
    {
     "data": {
      "text/html": [
       "<div>\n",
       "<style scoped>\n",
       "    .dataframe tbody tr th:only-of-type {\n",
       "        vertical-align: middle;\n",
       "    }\n",
       "\n",
       "    .dataframe tbody tr th {\n",
       "        vertical-align: top;\n",
       "    }\n",
       "\n",
       "    .dataframe thead th {\n",
       "        text-align: right;\n",
       "    }\n",
       "</style>\n",
       "<table border=\"1\" class=\"dataframe\">\n",
       "  <thead>\n",
       "    <tr style=\"text-align: right;\">\n",
       "      <th></th>\n",
       "      <th>count</th>\n",
       "      <th>mean</th>\n",
       "      <th>std</th>\n",
       "      <th>min</th>\n",
       "      <th>25%</th>\n",
       "      <th>50%</th>\n",
       "      <th>75%</th>\n",
       "      <th>max</th>\n",
       "    </tr>\n",
       "  </thead>\n",
       "  <tbody>\n",
       "    <tr>\n",
       "      <th>Id</th>\n",
       "      <td>1460.0</td>\n",
       "      <td>730.500000</td>\n",
       "      <td>421.610009</td>\n",
       "      <td>1.0</td>\n",
       "      <td>365.75</td>\n",
       "      <td>730.5</td>\n",
       "      <td>1095.25</td>\n",
       "      <td>1460.0</td>\n",
       "    </tr>\n",
       "    <tr>\n",
       "      <th>MSSubClass</th>\n",
       "      <td>1460.0</td>\n",
       "      <td>56.897260</td>\n",
       "      <td>42.300571</td>\n",
       "      <td>20.0</td>\n",
       "      <td>20.00</td>\n",
       "      <td>50.0</td>\n",
       "      <td>70.00</td>\n",
       "      <td>190.0</td>\n",
       "    </tr>\n",
       "    <tr>\n",
       "      <th>LotFrontage</th>\n",
       "      <td>1201.0</td>\n",
       "      <td>70.049958</td>\n",
       "      <td>24.284752</td>\n",
       "      <td>21.0</td>\n",
       "      <td>59.00</td>\n",
       "      <td>69.0</td>\n",
       "      <td>80.00</td>\n",
       "      <td>313.0</td>\n",
       "    </tr>\n",
       "    <tr>\n",
       "      <th>LotArea</th>\n",
       "      <td>1460.0</td>\n",
       "      <td>10516.828082</td>\n",
       "      <td>9981.264932</td>\n",
       "      <td>1300.0</td>\n",
       "      <td>7553.50</td>\n",
       "      <td>9478.5</td>\n",
       "      <td>11601.50</td>\n",
       "      <td>215245.0</td>\n",
       "    </tr>\n",
       "    <tr>\n",
       "      <th>OverallQual</th>\n",
       "      <td>1460.0</td>\n",
       "      <td>6.099315</td>\n",
       "      <td>1.382997</td>\n",
       "      <td>1.0</td>\n",
       "      <td>5.00</td>\n",
       "      <td>6.0</td>\n",
       "      <td>7.00</td>\n",
       "      <td>10.0</td>\n",
       "    </tr>\n",
       "  </tbody>\n",
       "</table>\n",
       "</div>"
      ],
      "text/plain": [
       "              count          mean          std     min      25%     50%  \\\n",
       "Id           1460.0    730.500000   421.610009     1.0   365.75   730.5   \n",
       "MSSubClass   1460.0     56.897260    42.300571    20.0    20.00    50.0   \n",
       "LotFrontage  1201.0     70.049958    24.284752    21.0    59.00    69.0   \n",
       "LotArea      1460.0  10516.828082  9981.264932  1300.0  7553.50  9478.5   \n",
       "OverallQual  1460.0      6.099315     1.382997     1.0     5.00     6.0   \n",
       "\n",
       "                  75%       max  \n",
       "Id            1095.25    1460.0  \n",
       "MSSubClass      70.00     190.0  \n",
       "LotFrontage     80.00     313.0  \n",
       "LotArea      11601.50  215245.0  \n",
       "OverallQual      7.00      10.0  "
      ]
     },
     "execution_count": 4,
     "metadata": {},
     "output_type": "execute_result"
    }
   ],
   "source": [
    "numerical_features = df.select_dtypes(include=[np.number])\n",
    "summary_stats = numerical_features.describe().T\n",
    "summary_stats.head(5)"
   ]
  },
  {
   "cell_type": "code",
   "execution_count": 5,
   "metadata": {},
   "outputs": [
    {
     "data": {
      "text/html": [
       "<div>\n",
       "<style scoped>\n",
       "    .dataframe tbody tr th:only-of-type {\n",
       "        vertical-align: middle;\n",
       "    }\n",
       "\n",
       "    .dataframe tbody tr th {\n",
       "        vertical-align: top;\n",
       "    }\n",
       "\n",
       "    .dataframe thead th {\n",
       "        text-align: right;\n",
       "    }\n",
       "</style>\n",
       "<table border=\"1\" class=\"dataframe\">\n",
       "  <thead>\n",
       "    <tr style=\"text-align: right;\">\n",
       "      <th></th>\n",
       "      <th>count</th>\n",
       "      <th>unique</th>\n",
       "      <th>top</th>\n",
       "      <th>freq</th>\n",
       "    </tr>\n",
       "  </thead>\n",
       "  <tbody>\n",
       "    <tr>\n",
       "      <th>MSZoning</th>\n",
       "      <td>1460</td>\n",
       "      <td>5</td>\n",
       "      <td>RL</td>\n",
       "      <td>1151</td>\n",
       "    </tr>\n",
       "    <tr>\n",
       "      <th>Street</th>\n",
       "      <td>1460</td>\n",
       "      <td>2</td>\n",
       "      <td>Pave</td>\n",
       "      <td>1454</td>\n",
       "    </tr>\n",
       "    <tr>\n",
       "      <th>Alley</th>\n",
       "      <td>91</td>\n",
       "      <td>2</td>\n",
       "      <td>Grvl</td>\n",
       "      <td>50</td>\n",
       "    </tr>\n",
       "    <tr>\n",
       "      <th>LotShape</th>\n",
       "      <td>1460</td>\n",
       "      <td>4</td>\n",
       "      <td>Reg</td>\n",
       "      <td>925</td>\n",
       "    </tr>\n",
       "    <tr>\n",
       "      <th>LandContour</th>\n",
       "      <td>1460</td>\n",
       "      <td>4</td>\n",
       "      <td>Lvl</td>\n",
       "      <td>1311</td>\n",
       "    </tr>\n",
       "  </tbody>\n",
       "</table>\n",
       "</div>"
      ],
      "text/plain": [
       "            count unique   top  freq\n",
       "MSZoning     1460      5    RL  1151\n",
       "Street       1460      2  Pave  1454\n",
       "Alley          91      2  Grvl    50\n",
       "LotShape     1460      4   Reg   925\n",
       "LandContour  1460      4   Lvl  1311"
      ]
     },
     "execution_count": 5,
     "metadata": {},
     "output_type": "execute_result"
    }
   ],
   "source": [
    "categorical_features = df.select_dtypes(include=[object])\n",
    "cat_summary_objects = categorical_features.describe().T\n",
    "cat_summary_objects.head(5)"
   ]
  },
  {
   "cell_type": "code",
   "execution_count": 6,
   "metadata": {},
   "outputs": [
    {
     "data": {
      "text/plain": [
       "BsmtQual        2.534247\n",
       "BsmtCond        2.534247\n",
       "BsmtExposure    2.602740\n",
       "BsmtFinType1    2.534247\n",
       "BsmtFinSF1      0.000000\n",
       "BsmtFinType2    2.602740\n",
       "BsmtFinSF2      0.000000\n",
       "BsmtUnfSF       0.000000\n",
       "TotalBsmtSF     0.000000\n",
       "Heating         0.000000\n",
       "HeatingQC       0.000000\n",
       "CentralAir      0.000000\n",
       "Electrical      0.068493\n",
       "1stFlrSF        0.000000\n",
       "2ndFlrSF        0.000000\n",
       "LowQualFinSF    0.000000\n",
       "GrLivArea       0.000000\n",
       "BsmtFullBath    0.000000\n",
       "BsmtHalfBath    0.000000\n",
       "FullBath        0.000000\n",
       "dtype: float64"
      ]
     },
     "execution_count": 6,
     "metadata": {},
     "output_type": "execute_result"
    }
   ],
   "source": [
    "null_values  = df.isnull().sum()\n",
    "null_values\n",
    "\n",
    "missing_percentages = (null_values/len(df))*100\n",
    "missing_percentages[30:50]"
   ]
  },
  {
   "cell_type": "code",
   "execution_count": 7,
   "metadata": {},
   "outputs": [
    {
     "data": {
      "text/html": [
       "<div>\n",
       "<style scoped>\n",
       "    .dataframe tbody tr th:only-of-type {\n",
       "        vertical-align: middle;\n",
       "    }\n",
       "\n",
       "    .dataframe tbody tr th {\n",
       "        vertical-align: top;\n",
       "    }\n",
       "\n",
       "    .dataframe thead th {\n",
       "        text-align: right;\n",
       "    }\n",
       "</style>\n",
       "<table border=\"1\" class=\"dataframe\">\n",
       "  <thead>\n",
       "    <tr style=\"text-align: right;\">\n",
       "      <th></th>\n",
       "      <th>Id</th>\n",
       "      <th>MSSubClass</th>\n",
       "      <th>MSZoning</th>\n",
       "      <th>LotFrontage</th>\n",
       "      <th>LotArea</th>\n",
       "      <th>Street</th>\n",
       "      <th>Alley</th>\n",
       "      <th>LotShape</th>\n",
       "      <th>LandContour</th>\n",
       "      <th>Utilities</th>\n",
       "      <th>...</th>\n",
       "      <th>PoolArea</th>\n",
       "      <th>PoolQC</th>\n",
       "      <th>Fence</th>\n",
       "      <th>MiscFeature</th>\n",
       "      <th>MiscVal</th>\n",
       "      <th>MoSold</th>\n",
       "      <th>YrSold</th>\n",
       "      <th>SaleType</th>\n",
       "      <th>SaleCondition</th>\n",
       "      <th>SalePrice</th>\n",
       "    </tr>\n",
       "  </thead>\n",
       "  <tbody>\n",
       "    <tr>\n",
       "      <th>0</th>\n",
       "      <td>1</td>\n",
       "      <td>60</td>\n",
       "      <td>RL</td>\n",
       "      <td>65.0</td>\n",
       "      <td>8450</td>\n",
       "      <td>Pave</td>\n",
       "      <td>NaN</td>\n",
       "      <td>Reg</td>\n",
       "      <td>Lvl</td>\n",
       "      <td>AllPub</td>\n",
       "      <td>...</td>\n",
       "      <td>0</td>\n",
       "      <td>NaN</td>\n",
       "      <td>NaN</td>\n",
       "      <td>NaN</td>\n",
       "      <td>0</td>\n",
       "      <td>2</td>\n",
       "      <td>2008</td>\n",
       "      <td>WD</td>\n",
       "      <td>Normal</td>\n",
       "      <td>208500</td>\n",
       "    </tr>\n",
       "    <tr>\n",
       "      <th>1</th>\n",
       "      <td>2</td>\n",
       "      <td>20</td>\n",
       "      <td>RL</td>\n",
       "      <td>80.0</td>\n",
       "      <td>9600</td>\n",
       "      <td>Pave</td>\n",
       "      <td>NaN</td>\n",
       "      <td>Reg</td>\n",
       "      <td>Lvl</td>\n",
       "      <td>AllPub</td>\n",
       "      <td>...</td>\n",
       "      <td>0</td>\n",
       "      <td>NaN</td>\n",
       "      <td>NaN</td>\n",
       "      <td>NaN</td>\n",
       "      <td>0</td>\n",
       "      <td>5</td>\n",
       "      <td>2007</td>\n",
       "      <td>WD</td>\n",
       "      <td>Normal</td>\n",
       "      <td>181500</td>\n",
       "    </tr>\n",
       "    <tr>\n",
       "      <th>2</th>\n",
       "      <td>3</td>\n",
       "      <td>60</td>\n",
       "      <td>RL</td>\n",
       "      <td>68.0</td>\n",
       "      <td>11250</td>\n",
       "      <td>Pave</td>\n",
       "      <td>NaN</td>\n",
       "      <td>IR1</td>\n",
       "      <td>Lvl</td>\n",
       "      <td>AllPub</td>\n",
       "      <td>...</td>\n",
       "      <td>0</td>\n",
       "      <td>NaN</td>\n",
       "      <td>NaN</td>\n",
       "      <td>NaN</td>\n",
       "      <td>0</td>\n",
       "      <td>9</td>\n",
       "      <td>2008</td>\n",
       "      <td>WD</td>\n",
       "      <td>Normal</td>\n",
       "      <td>223500</td>\n",
       "    </tr>\n",
       "    <tr>\n",
       "      <th>3</th>\n",
       "      <td>4</td>\n",
       "      <td>70</td>\n",
       "      <td>RL</td>\n",
       "      <td>60.0</td>\n",
       "      <td>9550</td>\n",
       "      <td>Pave</td>\n",
       "      <td>NaN</td>\n",
       "      <td>IR1</td>\n",
       "      <td>Lvl</td>\n",
       "      <td>AllPub</td>\n",
       "      <td>...</td>\n",
       "      <td>0</td>\n",
       "      <td>NaN</td>\n",
       "      <td>NaN</td>\n",
       "      <td>NaN</td>\n",
       "      <td>0</td>\n",
       "      <td>2</td>\n",
       "      <td>2006</td>\n",
       "      <td>WD</td>\n",
       "      <td>Abnorml</td>\n",
       "      <td>140000</td>\n",
       "    </tr>\n",
       "    <tr>\n",
       "      <th>4</th>\n",
       "      <td>5</td>\n",
       "      <td>60</td>\n",
       "      <td>RL</td>\n",
       "      <td>84.0</td>\n",
       "      <td>14260</td>\n",
       "      <td>Pave</td>\n",
       "      <td>NaN</td>\n",
       "      <td>IR1</td>\n",
       "      <td>Lvl</td>\n",
       "      <td>AllPub</td>\n",
       "      <td>...</td>\n",
       "      <td>0</td>\n",
       "      <td>NaN</td>\n",
       "      <td>NaN</td>\n",
       "      <td>NaN</td>\n",
       "      <td>0</td>\n",
       "      <td>12</td>\n",
       "      <td>2008</td>\n",
       "      <td>WD</td>\n",
       "      <td>Normal</td>\n",
       "      <td>250000</td>\n",
       "    </tr>\n",
       "  </tbody>\n",
       "</table>\n",
       "<p>5 rows × 81 columns</p>\n",
       "</div>"
      ],
      "text/plain": [
       "   Id  MSSubClass MSZoning  LotFrontage  LotArea Street Alley LotShape  \\\n",
       "0   1          60       RL         65.0     8450   Pave   NaN      Reg   \n",
       "1   2          20       RL         80.0     9600   Pave   NaN      Reg   \n",
       "2   3          60       RL         68.0    11250   Pave   NaN      IR1   \n",
       "3   4          70       RL         60.0     9550   Pave   NaN      IR1   \n",
       "4   5          60       RL         84.0    14260   Pave   NaN      IR1   \n",
       "\n",
       "  LandContour Utilities  ... PoolArea PoolQC Fence MiscFeature MiscVal MoSold  \\\n",
       "0         Lvl    AllPub  ...        0    NaN   NaN         NaN       0      2   \n",
       "1         Lvl    AllPub  ...        0    NaN   NaN         NaN       0      5   \n",
       "2         Lvl    AllPub  ...        0    NaN   NaN         NaN       0      9   \n",
       "3         Lvl    AllPub  ...        0    NaN   NaN         NaN       0      2   \n",
       "4         Lvl    AllPub  ...        0    NaN   NaN         NaN       0     12   \n",
       "\n",
       "  YrSold  SaleType  SaleCondition  SalePrice  \n",
       "0   2008        WD         Normal     208500  \n",
       "1   2007        WD         Normal     181500  \n",
       "2   2008        WD         Normal     223500  \n",
       "3   2006        WD        Abnorml     140000  \n",
       "4   2008        WD         Normal     250000  \n",
       "\n",
       "[5 rows x 81 columns]"
      ]
     },
     "execution_count": 7,
     "metadata": {},
     "output_type": "execute_result"
    }
   ],
   "source": [
    "rows_with_missing_values = df[df.isnull().any(axis=1)]\n",
    "rows_with_missing_values.head()\n"
   ]
  },
  {
   "cell_type": "code",
   "execution_count": 8,
   "metadata": {},
   "outputs": [
    {
     "data": {
      "text/plain": [
       "Index(['Id', 'MSSubClass', 'MSZoning', 'LotFrontage', 'LotArea', 'Street',\n",
       "       'Alley', 'LotShape', 'LandContour', 'Utilities', 'LotConfig',\n",
       "       'LandSlope', 'Neighborhood', 'Condition1', 'Condition2', 'BldgType',\n",
       "       'HouseStyle', 'OverallQual', 'OverallCond', 'YearBuilt', 'YearRemodAdd',\n",
       "       'RoofStyle', 'RoofMatl', 'Exterior1st', 'Exterior2nd', 'MasVnrType',\n",
       "       'MasVnrArea', 'ExterQual', 'ExterCond', 'Foundation', 'BsmtQual',\n",
       "       'BsmtCond', 'BsmtExposure', 'BsmtFinType1', 'BsmtFinSF1',\n",
       "       'BsmtFinType2', 'BsmtFinSF2', 'BsmtUnfSF', 'TotalBsmtSF', 'Heating',\n",
       "       'HeatingQC', 'CentralAir', 'Electrical', '1stFlrSF', '2ndFlrSF',\n",
       "       'LowQualFinSF', 'GrLivArea', 'BsmtFullBath', 'BsmtHalfBath', 'FullBath',\n",
       "       'HalfBath', 'BedroomAbvGr', 'KitchenAbvGr', 'KitchenQual',\n",
       "       'TotRmsAbvGrd', 'Functional', 'Fireplaces', 'FireplaceQu', 'GarageType',\n",
       "       'GarageYrBlt', 'GarageFinish', 'GarageCars', 'GarageArea', 'GarageQual',\n",
       "       'GarageCond', 'PavedDrive', 'WoodDeckSF', 'OpenPorchSF',\n",
       "       'EnclosedPorch', '3SsnPorch', 'ScreenPorch', 'PoolArea', 'PoolQC',\n",
       "       'Fence', 'MiscFeature', 'MiscVal', 'MoSold', 'YrSold', 'SaleType',\n",
       "       'SaleCondition', 'SalePrice'],\n",
       "      dtype='object')"
      ]
     },
     "execution_count": 8,
     "metadata": {},
     "output_type": "execute_result"
    }
   ],
   "source": [
    "df.columns"
   ]
  },
  {
   "cell_type": "code",
   "execution_count": 9,
   "metadata": {},
   "outputs": [
    {
     "data": {
      "application/vnd.plotly.v1+json": {
       "config": {
        "plotlyServerURL": "https://plot.ly"
       },
       "data": [
        {
         "histnorm": "probability density",
         "marker": {
          "color": "purple"
         },
         "name": "Histogram",
         "nbinsx": 50,
         "opacity": 0.75,
         "type": "histogram",
         "x": [
          208500,
          181500,
          223500,
          140000,
          250000,
          143000,
          307000,
          200000,
          129900,
          118000,
          129500,
          345000,
          144000,
          279500,
          157000,
          132000,
          149000,
          90000,
          159000,
          139000,
          325300,
          139400,
          230000,
          129900,
          154000,
          256300,
          134800,
          306000,
          207500,
          68500,
          40000,
          149350,
          179900,
          165500,
          277500,
          309000,
          145000,
          153000,
          109000,
          82000,
          160000,
          170000,
          144000,
          130250,
          141000,
          319900,
          239686,
          249700,
          113000,
          127000,
          177000,
          114500,
          110000,
          385000,
          130000,
          180500,
          172500,
          196500,
          438780,
          124900,
          158000,
          101000,
          202500,
          140000,
          219500,
          317000,
          180000,
          226000,
          80000,
          225000,
          244000,
          129500,
          185000,
          144900,
          107400,
          91000,
          135750,
          127000,
          136500,
          110000,
          193500,
          153500,
          245000,
          126500,
          168500,
          260000,
          174000,
          164500,
          85000,
          123600,
          109900,
          98600,
          163500,
          133900,
          204750,
          185000,
          214000,
          94750,
          83000,
          128950,
          205000,
          178000,
          118964,
          198900,
          169500,
          250000,
          100000,
          115000,
          115000,
          190000,
          136900,
          180000,
          383970,
          217000,
          259500,
          176000,
          139000,
          155000,
          320000,
          163990,
          180000,
          100000,
          136000,
          153900,
          181000,
          84500,
          128000,
          87000,
          155000,
          150000,
          226000,
          244000,
          150750,
          220000,
          180000,
          174000,
          143000,
          171000,
          230000,
          231500,
          115000,
          260000,
          166000,
          204000,
          125000,
          130000,
          105000,
          222500,
          141000,
          115000,
          122000,
          372402,
          190000,
          235000,
          125000,
          79000,
          109500,
          269500,
          254900,
          320000,
          162500,
          412500,
          220000,
          103200,
          152000,
          127500,
          190000,
          325624,
          183500,
          228000,
          128500,
          215000,
          239000,
          163000,
          184000,
          243000,
          211000,
          172500,
          501837,
          100000,
          177000,
          200100,
          120000,
          200000,
          127000,
          475000,
          173000,
          135000,
          153337,
          286000,
          315000,
          184000,
          192000,
          130000,
          127000,
          148500,
          311872,
          235000,
          104000,
          274900,
          140000,
          171500,
          112000,
          149000,
          110000,
          180500,
          143900,
          141000,
          277000,
          145000,
          98000,
          186000,
          252678,
          156000,
          161750,
          134450,
          210000,
          107000,
          311500,
          167240,
          204900,
          200000,
          179900,
          97000,
          386250,
          112000,
          290000,
          106000,
          125000,
          192500,
          148000,
          403000,
          94500,
          128200,
          216500,
          89500,
          185500,
          194500,
          318000,
          113000,
          262500,
          110500,
          79000,
          120000,
          205000,
          241500,
          137000,
          140000,
          180000,
          277000,
          76500,
          235000,
          173000,
          158000,
          145000,
          230000,
          207500,
          220000,
          231500,
          97000,
          176000,
          276000,
          151000,
          130000,
          73000,
          175500,
          185000,
          179500,
          120500,
          148000,
          266000,
          241500,
          290000,
          139000,
          124500,
          205000,
          201000,
          141000,
          415298,
          192000,
          228500,
          185000,
          207500,
          244600,
          179200,
          164700,
          159000,
          88000,
          122000,
          153575,
          233230,
          135900,
          131000,
          235000,
          167000,
          142500,
          152000,
          239000,
          175000,
          158500,
          157000,
          267000,
          205000,
          149900,
          295000,
          305900,
          225000,
          89500,
          82500,
          360000,
          165600,
          132000,
          119900,
          375000,
          178000,
          188500,
          260000,
          270000,
          260000,
          187500,
          342643,
          354000,
          301000,
          126175,
          242000,
          87000,
          324000,
          145250,
          214500,
          78000,
          119000,
          139000,
          284000,
          207000,
          192000,
          228950,
          377426,
          214000,
          202500,
          155000,
          202900,
          82000,
          87500,
          266000,
          85000,
          140200,
          151500,
          157500,
          154000,
          437154,
          318061,
          190000,
          95000,
          105900,
          140000,
          177500,
          173000,
          134000,
          130000,
          280000,
          156000,
          145000,
          198500,
          118000,
          190000,
          147000,
          159000,
          165000,
          132000,
          162000,
          172400,
          134432,
          125000,
          123000,
          219500,
          61000,
          148000,
          340000,
          394432,
          179000,
          127000,
          187750,
          213500,
          76000,
          240000,
          192000,
          81000,
          125000,
          191000,
          426000,
          119000,
          215000,
          106500,
          100000,
          109000,
          129000,
          123000,
          169500,
          67000,
          241000,
          245500,
          164990,
          108000,
          258000,
          168000,
          150000,
          115000,
          177000,
          280000,
          339750,
          60000,
          145000,
          222000,
          115000,
          228000,
          181134,
          149500,
          239000,
          126000,
          142000,
          206300,
          215000,
          113000,
          315000,
          139000,
          135000,
          275000,
          109008,
          195400,
          175000,
          85400,
          79900,
          122500,
          181000,
          81000,
          212000,
          116000,
          119000,
          90350,
          110000,
          555000,
          118000,
          162900,
          172500,
          210000,
          127500,
          190000,
          199900,
          119500,
          120000,
          110000,
          280000,
          204000,
          210000,
          188000,
          175500,
          98000,
          256000,
          161000,
          110000,
          263435,
          155000,
          62383,
          188700,
          124000,
          178740,
          167000,
          146500,
          250000,
          187000,
          212000,
          190000,
          148000,
          440000,
          251000,
          132500,
          208900,
          380000,
          297000,
          89471,
          326000,
          374000,
          155000,
          164000,
          132500,
          147000,
          156000,
          175000,
          160000,
          86000,
          115000,
          133000,
          172785,
          155000,
          91300,
          34900,
          430000,
          184000,
          130000,
          120000,
          113000,
          226700,
          140000,
          289000,
          147000,
          124500,
          215000,
          208300,
          161000,
          124500,
          164900,
          202665,
          129900,
          134000,
          96500,
          402861,
          158000,
          265000,
          211000,
          234000,
          106250,
          150000,
          159000,
          184750,
          315750,
          176000,
          132000,
          446261,
          86000,
          200624,
          175000,
          128000,
          107500,
          39300,
          178000,
          107500,
          188000,
          111250,
          158000,
          272000,
          315000,
          248000,
          213250,
          133000,
          179665,
          229000,
          210000,
          129500,
          125000,
          263000,
          140000,
          112500,
          255500,
          108000,
          284000,
          113000,
          141000,
          108000,
          175000,
          234000,
          121500,
          170000,
          108000,
          185000,
          268000,
          128000,
          325000,
          214000,
          316600,
          135960,
          142600,
          120000,
          224500,
          170000,
          139000,
          118500,
          145000,
          164500,
          146000,
          131500,
          181900,
          253293,
          118500,
          325000,
          133000,
          369900,
          130000,
          137000,
          143000,
          79500,
          185900,
          451950,
          138000,
          140000,
          110000,
          319000,
          114504,
          194201,
          217500,
          151000,
          275000,
          141000,
          220000,
          151000,
          221000,
          205000,
          152000,
          225000,
          359100,
          118500,
          313000,
          148000,
          261500,
          147000,
          75500,
          137500,
          183200,
          105500,
          314813,
          305000,
          67000,
          240000,
          135000,
          168500,
          165150,
          160000,
          139900,
          153000,
          135000,
          168500,
          124000,
          209500,
          82500,
          139400,
          144000,
          200000,
          60000,
          93000,
          85000,
          264561,
          274000,
          226000,
          345000,
          152000,
          370878,
          143250,
          98300,
          155000,
          155000,
          84500,
          205950,
          108000,
          191000,
          135000,
          350000,
          88000,
          145500,
          149000,
          97500,
          167000,
          197900,
          402000,
          110000,
          137500,
          423000,
          230500,
          129000,
          193500,
          168000,
          137500,
          173500,
          103600,
          165000,
          257500,
          140000,
          148500,
          87000,
          109500,
          372500,
          128500,
          143000,
          159434,
          173000,
          285000,
          221000,
          207500,
          227875,
          148800,
          392000,
          194700,
          141000,
          755000,
          335000,
          108480,
          141500,
          176000,
          89000,
          123500,
          138500,
          196000,
          312500,
          140000,
          361919,
          140000,
          213000,
          55000,
          302000,
          254000,
          179540,
          109900,
          52000,
          102776,
          189000,
          129000,
          130500,
          165000,
          159500,
          157000,
          341000,
          128500,
          275000,
          143000,
          124500,
          135000,
          320000,
          120500,
          222000,
          194500,
          110000,
          103000,
          236500,
          187500,
          222500,
          131400,
          108000,
          163000,
          93500,
          239900,
          179000,
          190000,
          132000,
          142000,
          179000,
          175000,
          180000,
          299800,
          236000,
          265979,
          260400,
          98000,
          96500,
          162000,
          217000,
          275500,
          156000,
          172500,
          212000,
          158900,
          179400,
          290000,
          127500,
          100000,
          215200,
          337000,
          270000,
          264132,
          196500,
          160000,
          216837,
          538000,
          134900,
          102000,
          107000,
          114500,
          395000,
          162000,
          221500,
          142500,
          144000,
          135000,
          176000,
          175900,
          187100,
          165500,
          128000,
          161500,
          139000,
          233000,
          107900,
          187500,
          160200,
          146800,
          269790,
          225000,
          194500,
          171000,
          143500,
          110000,
          485000,
          175000,
          200000,
          109900,
          189000,
          582933,
          118000,
          227680,
          135500,
          223500,
          159950,
          106000,
          181000,
          144500,
          55993,
          157900,
          116000,
          224900,
          137000,
          271000,
          155000,
          224000,
          183000,
          93000,
          225000,
          139500,
          232600,
          385000,
          109500,
          189000,
          185000,
          147400,
          166000,
          151000,
          237000,
          167000,
          139950,
          128000,
          153500,
          100000,
          144000,
          130500,
          140000,
          157500,
          174900,
          141000,
          153900,
          171000,
          213000,
          133500,
          240000,
          187000,
          131500,
          215000,
          164000,
          158000,
          170000,
          127000,
          147000,
          174000,
          152000,
          250000,
          189950,
          131500,
          152000,
          132500,
          250580,
          148500,
          248900,
          129000,
          169000,
          236000,
          109500,
          200500,
          116000,
          133000,
          66500,
          303477,
          132250,
          350000,
          148000,
          136500,
          157000,
          187500,
          178000,
          118500,
          100000,
          328900,
          145000,
          135500,
          268000,
          149500,
          122900,
          172500,
          154500,
          165000,
          118858,
          140000,
          106500,
          142953,
          611657,
          135000,
          110000,
          153000,
          180000,
          240000,
          125500,
          128000,
          255000,
          250000,
          131000,
          174000,
          154300,
          143500,
          88000,
          145000,
          173733,
          75000,
          35311,
          135000,
          238000,
          176500,
          201000,
          145900,
          169990,
          193000,
          207500,
          175000,
          285000,
          176000,
          236500,
          222000,
          201000,
          117500,
          320000,
          190000,
          242000,
          79900,
          184900,
          253000,
          239799,
          244400,
          150900,
          214000,
          150000,
          143000,
          137500,
          124900,
          143000,
          270000,
          192500,
          197500,
          129000,
          119900,
          133900,
          172000,
          127500,
          145000,
          124000,
          132000,
          185000,
          155000,
          116500,
          272000,
          155000,
          239000,
          214900,
          178900,
          160000,
          135000,
          37900,
          140000,
          135000,
          173000,
          99500,
          182000,
          167500,
          165000,
          85500,
          199900,
          110000,
          139000,
          178400,
          336000,
          159895,
          255900,
          126000,
          125000,
          117000,
          395192,
          195000,
          197000,
          348000,
          168000,
          187000,
          173900,
          337500,
          121600,
          136500,
          185000,
          91000,
          206000,
          82000,
          86000,
          232000,
          136905,
          181000,
          149900,
          163500,
          88000,
          240000,
          102000,
          135000,
          100000,
          165000,
          85000,
          119200,
          227000,
          203000,
          187500,
          160000,
          213490,
          176000,
          194000,
          87000,
          191000,
          287000,
          112500,
          167500,
          293077,
          105000,
          118000,
          160000,
          197000,
          310000,
          230000,
          119750,
          84000,
          315500,
          287000,
          97000,
          80000,
          155000,
          173000,
          196000,
          262280,
          278000,
          139600,
          556581,
          145000,
          115000,
          84900,
          176485,
          200141,
          165000,
          144500,
          255000,
          180000,
          185850,
          248000,
          335000,
          220000,
          213500,
          81000,
          90000,
          110500,
          154000,
          328000,
          178000,
          167900,
          151400,
          135000,
          135000,
          154000,
          91500,
          159500,
          194000,
          219500,
          170000,
          138800,
          155900,
          126000,
          145000,
          133000,
          192000,
          160000,
          187500,
          147000,
          83500,
          252000,
          137500,
          197000,
          92900,
          160000,
          136500,
          146000,
          129000,
          176432,
          127000,
          170000,
          128000,
          157000,
          60000,
          119500,
          135000,
          159500,
          106000,
          325000,
          179900,
          274725,
          181000,
          280000,
          188000,
          205000,
          129900,
          134500,
          117000,
          318000,
          184100,
          130000,
          140000,
          133700,
          118400,
          212900,
          112000,
          118000,
          163900,
          115000,
          174000,
          259000,
          215000,
          140000,
          135000,
          93500,
          117500,
          239500,
          169000,
          102000,
          119000,
          94000,
          196000,
          144000,
          139000,
          197500,
          424870,
          80000,
          80000,
          149000,
          180000,
          174500,
          116900,
          143000,
          124000,
          149900,
          230000,
          120500,
          201800,
          218000,
          179900,
          230000,
          235128,
          185000,
          146000,
          224000,
          129000,
          108959,
          194000,
          233170,
          245350,
          173000,
          235000,
          625000,
          171000,
          163000,
          171900,
          200500,
          239000,
          285000,
          119500,
          115000,
          154900,
          93000,
          250000,
          392500,
          745000,
          120000,
          186700,
          104900,
          95000,
          262000,
          195000,
          189000,
          168000,
          174000,
          125000,
          165000,
          158000,
          176000,
          219210,
          144000,
          178000,
          148000,
          116050,
          197900,
          117000,
          213000,
          153500,
          271900,
          107000,
          200000,
          140000,
          290000,
          189000,
          164000,
          113000,
          145000,
          134500,
          125000,
          112000,
          229456,
          80500,
          91500,
          115000,
          134000,
          143000,
          137900,
          184000,
          145000,
          214000,
          147000,
          367294,
          127000,
          190000,
          132500,
          101800,
          142000,
          130000,
          138887,
          175500,
          195000,
          142500,
          265900,
          224900,
          248328,
          170000,
          465000,
          230000,
          178000,
          186500,
          169900,
          129500,
          119000,
          244000,
          171750,
          130000,
          294000,
          165400,
          127500,
          301500,
          99900,
          190000,
          151000,
          181000,
          128900,
          161500,
          180500,
          181000,
          183900,
          122000,
          378500,
          381000,
          144000,
          260000,
          185750,
          137000,
          177000,
          139000,
          137000,
          162000,
          197900,
          237000,
          68400,
          227000,
          180000,
          150500,
          139000,
          169000,
          132500,
          143000,
          190000,
          278000,
          281000,
          180500,
          119500,
          107500,
          162900,
          115000,
          138500,
          155000,
          140000,
          160000,
          154000,
          225000,
          177500,
          290000,
          232000,
          130000,
          325000,
          202500,
          138000,
          147000,
          179200,
          335000,
          203000,
          302000,
          333168,
          119000,
          206900,
          295493,
          208900,
          275000,
          111000,
          156500,
          72500,
          190000,
          82500,
          147000,
          55000,
          79000,
          130500,
          256000,
          176500,
          227000,
          132500,
          100000,
          125500,
          125000,
          167900,
          135000,
          52500,
          200000,
          128500,
          123000,
          155000,
          228500,
          177000,
          155835,
          108500,
          262500,
          283463,
          215000,
          122000,
          200000,
          171000,
          134900,
          410000,
          235000,
          170000,
          110000,
          149900,
          177500,
          315000,
          189000,
          260000,
          104900,
          156932,
          144152,
          216000,
          193000,
          127000,
          144000,
          232000,
          105000,
          165500,
          274300,
          466500,
          250000,
          239000,
          91000,
          117000,
          83000,
          167500,
          58500,
          237500,
          157000,
          112000,
          105000,
          125500,
          250000,
          136000,
          377500,
          131000,
          235000,
          124000,
          123000,
          163000,
          246578,
          281213,
          160000,
          137500,
          138000,
          137450,
          120000,
          193000,
          193879,
          282922,
          105000,
          275000,
          133000,
          112000,
          125500,
          215000,
          230000,
          140000,
          90000,
          257000,
          207000,
          175900,
          122500,
          340000,
          124000,
          223000,
          179900,
          127500,
          136500,
          274970,
          144000,
          142000,
          271000,
          140000,
          119000,
          182900,
          192140,
          143750,
          64500,
          186500,
          160000,
          174000,
          120500,
          394617,
          149700,
          197000,
          191000,
          149300,
          310000,
          121000,
          179600,
          129000,
          157900,
          240000,
          112000,
          92000,
          136000,
          287090,
          145000,
          84500,
          185000,
          175000,
          210000,
          266500,
          142125,
          147500
         ]
        },
        {
         "line": {
          "color": "green"
         },
         "mode": "lines",
         "name": "Normal dist. (μ=180921.20, σ=79415.29)",
         "type": "scatter",
         "x": [
          34900,
          42173.73737373737,
          49447.47474747475,
          56721.21212121212,
          63994.9494949495,
          71268.68686868687,
          78542.42424242424,
          85816.16161616161,
          93089.898989899,
          100363.63636363635,
          107637.37373737374,
          114911.11111111111,
          122184.84848484848,
          129458.58585858585,
          136732.32323232322,
          144006.0606060606,
          151279.797979798,
          158553.53535353535,
          165827.2727272727,
          173101.0101010101,
          180374.74747474748,
          187648.48484848483,
          194922.22222222222,
          202195.9595959596,
          209469.69696969696,
          216743.43434343435,
          224017.1717171717,
          231290.9090909091,
          238564.64646464647,
          245838.38383838383,
          253112.12121212122,
          260385.85858585857,
          267659.595959596,
          274933.3333333334,
          282207.0707070707,
          289480.8080808081,
          296754.5454545454,
          304028.2828282828,
          311302.0202020202,
          318575.75757575757,
          325849.49494949495,
          333123.23232323234,
          340396.96969696967,
          347670.70707070705,
          354944.44444444444,
          362218.1818181818,
          369491.9191919192,
          376765.65656565654,
          384039.3939393939,
          391313.1313131313,
          398586.8686868687,
          405860.6060606061,
          413134.3434343434,
          420408.0808080808,
          427681.8181818182,
          434955.55555555556,
          442229.29292929295,
          449503.0303030303,
          456776.76767676766,
          464050.50505050505,
          471324.24242424243,
          478597.9797979798,
          485871.71717171714,
          493145.45454545453,
          500419.1919191919,
          507692.9292929293,
          514966.6666666667,
          522240.404040404,
          529514.1414141414,
          536787.8787878788,
          544061.6161616162,
          551335.3535353536,
          558609.0909090908,
          565882.8282828283,
          573156.5656565656,
          580430.303030303,
          587704.0404040404,
          594977.7777777778,
          602251.5151515151,
          609525.2525252525,
          616798.9898989899,
          624072.7272727273,
          631346.4646464647,
          638620.2020202021,
          645893.9393939393,
          653167.6767676767,
          660441.4141414141,
          667715.1515151515,
          674988.8888888889,
          682262.6262626263,
          689536.3636363636,
          696810.101010101,
          704083.8383838384,
          711357.5757575758,
          718631.3131313131,
          725905.0505050505,
          733178.7878787878,
          740452.5252525252,
          747726.2626262626,
          755000
         ],
         "y": [
          9.265475079809133e-7,
          0.000001091905737961625,
          0.0000012760254454810792,
          0.0000014787346591858991,
          0.0000016993306875281943,
          0.0000019365213036808242,
          0.0000021883832829484586,
          0.0000024523430878584085,
          0.000002725183807382214,
          0.000003003081381614699,
          0.000003281671715336769,
          0.000003556148572175578,
          0.000003821390247613441,
          0.000004072111073060128,
          0.000004303031951406431,
          0.000004509062519110609,
          0.000004685486314553372,
          0.000004828139627960475,
          0.0000049335745997376805,
          0.000004999197660840197,
          0.000005023375558168319,
          0.000005005502914348565,
          0.00000494602742030693,
          0.000004846431196978712,
          0.000004709169409466667,
          0.0000045375696831957195,
          0.000004335698074690961,
          0.000004108199130878408,
          0.000003860118809321614,
          0.0000035967196542471724,
          0.000003323297608921799,
          0.000003045009225647027,
          0.0000027667168891073134,
          0.000002492858113278154,
          0.000002227343147662232,
          0.0000019734831870908866,
          0.0000017339495691654547,
          0.0000015107625971271428,
          0.0000013053071501439212,
          0.0000011183711118602758,
          9.502019004965338e-7,
          8.00576024281688e-7,
          6.688765884751017e-7,
          5.541739942651802e-7,
          4.553056283094488e-7,
          3.7095106885203217e-7,
          2.9970015350029974e-7,
          2.4011209371824796e-7,
          1.9076462130812311e-7,
          1.5029286574013257e-7,
          1.1741825639699119e-7,
          9.096820375110187e-8,
          6.988763468378053e-8,
          5.324364705578648e-8,
          4.0224622804399856e-8,
          3.0135117935759436e-8,
          2.2387754780616666e-8,
          1.649319971696885e-8,
          1.2049139298217507e-8,
          8.728987332865294e-9,
          6.270879160643391e-9,
          4.467347453032484e-9,
          3.1559329064888737e-9,
          2.2108665182678574e-9,
          1.5358684331435147e-9,
          1.0580403653235294e-9,
          7.227817694580448e-10,
          4.896309631318992e-10,
          3.289177330481684e-10,
          2.1911011847649877e-10,
          1.4474191349641605e-10,
          9.481628091368071e-11,
          6.159255982121023e-11,
          3.9676222969033986e-11,
          2.53448147455466e-11,
          1.605479079672695e-11,
          1.0085023423205656e-11,
          6.282115290116518e-12,
          3.8805351729804216e-12,
          2.377026792054622e-12,
          1.443887179031701e-12,
          8.697394594345841e-13,
          5.195194588468783e-13,
          3.077309619307323e-13,
          1.8075790559582485e-13,
          1.0528830581598464e-13,
          6.08162594783885e-14,
          3.483501513960706e-14,
          1.978650243052378e-14,
          1.1144967146570904e-14,
          6.2250849615596384e-15,
          3.4480099029001073e-15,
          1.8938625512584654e-15,
          1.031537781565291e-15,
          5.57158233484461e-16,
          2.984205297336035e-16,
          1.5850230121447633e-16,
          8.348321727810413e-17,
          4.360331556422964e-17,
          2.2583777223181174e-17
         ]
        }
       ],
       "layout": {
        "font": {
         "color": "white"
        },
        "legend": {
         "title": {
          "text": "Fitted Normal Distribution"
         }
        },
        "paper_bgcolor": "rgba(32, 32, 32, 1)",
        "plot_bgcolor": "rgba(32, 32, 32, 1)",
        "template": {
         "data": {
          "bar": [
           {
            "error_x": {
             "color": "#2a3f5f"
            },
            "error_y": {
             "color": "#2a3f5f"
            },
            "marker": {
             "line": {
              "color": "#E5ECF6",
              "width": 0.5
             },
             "pattern": {
              "fillmode": "overlay",
              "size": 10,
              "solidity": 0.2
             }
            },
            "type": "bar"
           }
          ],
          "barpolar": [
           {
            "marker": {
             "line": {
              "color": "#E5ECF6",
              "width": 0.5
             },
             "pattern": {
              "fillmode": "overlay",
              "size": 10,
              "solidity": 0.2
             }
            },
            "type": "barpolar"
           }
          ],
          "carpet": [
           {
            "aaxis": {
             "endlinecolor": "#2a3f5f",
             "gridcolor": "white",
             "linecolor": "white",
             "minorgridcolor": "white",
             "startlinecolor": "#2a3f5f"
            },
            "baxis": {
             "endlinecolor": "#2a3f5f",
             "gridcolor": "white",
             "linecolor": "white",
             "minorgridcolor": "white",
             "startlinecolor": "#2a3f5f"
            },
            "type": "carpet"
           }
          ],
          "choropleth": [
           {
            "colorbar": {
             "outlinewidth": 0,
             "ticks": ""
            },
            "type": "choropleth"
           }
          ],
          "contour": [
           {
            "colorbar": {
             "outlinewidth": 0,
             "ticks": ""
            },
            "colorscale": [
             [
              0,
              "#0d0887"
             ],
             [
              0.1111111111111111,
              "#46039f"
             ],
             [
              0.2222222222222222,
              "#7201a8"
             ],
             [
              0.3333333333333333,
              "#9c179e"
             ],
             [
              0.4444444444444444,
              "#bd3786"
             ],
             [
              0.5555555555555556,
              "#d8576b"
             ],
             [
              0.6666666666666666,
              "#ed7953"
             ],
             [
              0.7777777777777778,
              "#fb9f3a"
             ],
             [
              0.8888888888888888,
              "#fdca26"
             ],
             [
              1,
              "#f0f921"
             ]
            ],
            "type": "contour"
           }
          ],
          "contourcarpet": [
           {
            "colorbar": {
             "outlinewidth": 0,
             "ticks": ""
            },
            "type": "contourcarpet"
           }
          ],
          "heatmap": [
           {
            "colorbar": {
             "outlinewidth": 0,
             "ticks": ""
            },
            "colorscale": [
             [
              0,
              "#0d0887"
             ],
             [
              0.1111111111111111,
              "#46039f"
             ],
             [
              0.2222222222222222,
              "#7201a8"
             ],
             [
              0.3333333333333333,
              "#9c179e"
             ],
             [
              0.4444444444444444,
              "#bd3786"
             ],
             [
              0.5555555555555556,
              "#d8576b"
             ],
             [
              0.6666666666666666,
              "#ed7953"
             ],
             [
              0.7777777777777778,
              "#fb9f3a"
             ],
             [
              0.8888888888888888,
              "#fdca26"
             ],
             [
              1,
              "#f0f921"
             ]
            ],
            "type": "heatmap"
           }
          ],
          "heatmapgl": [
           {
            "colorbar": {
             "outlinewidth": 0,
             "ticks": ""
            },
            "colorscale": [
             [
              0,
              "#0d0887"
             ],
             [
              0.1111111111111111,
              "#46039f"
             ],
             [
              0.2222222222222222,
              "#7201a8"
             ],
             [
              0.3333333333333333,
              "#9c179e"
             ],
             [
              0.4444444444444444,
              "#bd3786"
             ],
             [
              0.5555555555555556,
              "#d8576b"
             ],
             [
              0.6666666666666666,
              "#ed7953"
             ],
             [
              0.7777777777777778,
              "#fb9f3a"
             ],
             [
              0.8888888888888888,
              "#fdca26"
             ],
             [
              1,
              "#f0f921"
             ]
            ],
            "type": "heatmapgl"
           }
          ],
          "histogram": [
           {
            "marker": {
             "pattern": {
              "fillmode": "overlay",
              "size": 10,
              "solidity": 0.2
             }
            },
            "type": "histogram"
           }
          ],
          "histogram2d": [
           {
            "colorbar": {
             "outlinewidth": 0,
             "ticks": ""
            },
            "colorscale": [
             [
              0,
              "#0d0887"
             ],
             [
              0.1111111111111111,
              "#46039f"
             ],
             [
              0.2222222222222222,
              "#7201a8"
             ],
             [
              0.3333333333333333,
              "#9c179e"
             ],
             [
              0.4444444444444444,
              "#bd3786"
             ],
             [
              0.5555555555555556,
              "#d8576b"
             ],
             [
              0.6666666666666666,
              "#ed7953"
             ],
             [
              0.7777777777777778,
              "#fb9f3a"
             ],
             [
              0.8888888888888888,
              "#fdca26"
             ],
             [
              1,
              "#f0f921"
             ]
            ],
            "type": "histogram2d"
           }
          ],
          "histogram2dcontour": [
           {
            "colorbar": {
             "outlinewidth": 0,
             "ticks": ""
            },
            "colorscale": [
             [
              0,
              "#0d0887"
             ],
             [
              0.1111111111111111,
              "#46039f"
             ],
             [
              0.2222222222222222,
              "#7201a8"
             ],
             [
              0.3333333333333333,
              "#9c179e"
             ],
             [
              0.4444444444444444,
              "#bd3786"
             ],
             [
              0.5555555555555556,
              "#d8576b"
             ],
             [
              0.6666666666666666,
              "#ed7953"
             ],
             [
              0.7777777777777778,
              "#fb9f3a"
             ],
             [
              0.8888888888888888,
              "#fdca26"
             ],
             [
              1,
              "#f0f921"
             ]
            ],
            "type": "histogram2dcontour"
           }
          ],
          "mesh3d": [
           {
            "colorbar": {
             "outlinewidth": 0,
             "ticks": ""
            },
            "type": "mesh3d"
           }
          ],
          "parcoords": [
           {
            "line": {
             "colorbar": {
              "outlinewidth": 0,
              "ticks": ""
             }
            },
            "type": "parcoords"
           }
          ],
          "pie": [
           {
            "automargin": true,
            "type": "pie"
           }
          ],
          "scatter": [
           {
            "fillpattern": {
             "fillmode": "overlay",
             "size": 10,
             "solidity": 0.2
            },
            "type": "scatter"
           }
          ],
          "scatter3d": [
           {
            "line": {
             "colorbar": {
              "outlinewidth": 0,
              "ticks": ""
             }
            },
            "marker": {
             "colorbar": {
              "outlinewidth": 0,
              "ticks": ""
             }
            },
            "type": "scatter3d"
           }
          ],
          "scattercarpet": [
           {
            "marker": {
             "colorbar": {
              "outlinewidth": 0,
              "ticks": ""
             }
            },
            "type": "scattercarpet"
           }
          ],
          "scattergeo": [
           {
            "marker": {
             "colorbar": {
              "outlinewidth": 0,
              "ticks": ""
             }
            },
            "type": "scattergeo"
           }
          ],
          "scattergl": [
           {
            "marker": {
             "colorbar": {
              "outlinewidth": 0,
              "ticks": ""
             }
            },
            "type": "scattergl"
           }
          ],
          "scattermapbox": [
           {
            "marker": {
             "colorbar": {
              "outlinewidth": 0,
              "ticks": ""
             }
            },
            "type": "scattermapbox"
           }
          ],
          "scatterpolar": [
           {
            "marker": {
             "colorbar": {
              "outlinewidth": 0,
              "ticks": ""
             }
            },
            "type": "scatterpolar"
           }
          ],
          "scatterpolargl": [
           {
            "marker": {
             "colorbar": {
              "outlinewidth": 0,
              "ticks": ""
             }
            },
            "type": "scatterpolargl"
           }
          ],
          "scatterternary": [
           {
            "marker": {
             "colorbar": {
              "outlinewidth": 0,
              "ticks": ""
             }
            },
            "type": "scatterternary"
           }
          ],
          "surface": [
           {
            "colorbar": {
             "outlinewidth": 0,
             "ticks": ""
            },
            "colorscale": [
             [
              0,
              "#0d0887"
             ],
             [
              0.1111111111111111,
              "#46039f"
             ],
             [
              0.2222222222222222,
              "#7201a8"
             ],
             [
              0.3333333333333333,
              "#9c179e"
             ],
             [
              0.4444444444444444,
              "#bd3786"
             ],
             [
              0.5555555555555556,
              "#d8576b"
             ],
             [
              0.6666666666666666,
              "#ed7953"
             ],
             [
              0.7777777777777778,
              "#fb9f3a"
             ],
             [
              0.8888888888888888,
              "#fdca26"
             ],
             [
              1,
              "#f0f921"
             ]
            ],
            "type": "surface"
           }
          ],
          "table": [
           {
            "cells": {
             "fill": {
              "color": "#EBF0F8"
             },
             "line": {
              "color": "white"
             }
            },
            "header": {
             "fill": {
              "color": "#C8D4E3"
             },
             "line": {
              "color": "white"
             }
            },
            "type": "table"
           }
          ]
         },
         "layout": {
          "annotationdefaults": {
           "arrowcolor": "#2a3f5f",
           "arrowhead": 0,
           "arrowwidth": 1
          },
          "autotypenumbers": "strict",
          "coloraxis": {
           "colorbar": {
            "outlinewidth": 0,
            "ticks": ""
           }
          },
          "colorscale": {
           "diverging": [
            [
             0,
             "#8e0152"
            ],
            [
             0.1,
             "#c51b7d"
            ],
            [
             0.2,
             "#de77ae"
            ],
            [
             0.3,
             "#f1b6da"
            ],
            [
             0.4,
             "#fde0ef"
            ],
            [
             0.5,
             "#f7f7f7"
            ],
            [
             0.6,
             "#e6f5d0"
            ],
            [
             0.7,
             "#b8e186"
            ],
            [
             0.8,
             "#7fbc41"
            ],
            [
             0.9,
             "#4d9221"
            ],
            [
             1,
             "#276419"
            ]
           ],
           "sequential": [
            [
             0,
             "#0d0887"
            ],
            [
             0.1111111111111111,
             "#46039f"
            ],
            [
             0.2222222222222222,
             "#7201a8"
            ],
            [
             0.3333333333333333,
             "#9c179e"
            ],
            [
             0.4444444444444444,
             "#bd3786"
            ],
            [
             0.5555555555555556,
             "#d8576b"
            ],
            [
             0.6666666666666666,
             "#ed7953"
            ],
            [
             0.7777777777777778,
             "#fb9f3a"
            ],
            [
             0.8888888888888888,
             "#fdca26"
            ],
            [
             1,
             "#f0f921"
            ]
           ],
           "sequentialminus": [
            [
             0,
             "#0d0887"
            ],
            [
             0.1111111111111111,
             "#46039f"
            ],
            [
             0.2222222222222222,
             "#7201a8"
            ],
            [
             0.3333333333333333,
             "#9c179e"
            ],
            [
             0.4444444444444444,
             "#bd3786"
            ],
            [
             0.5555555555555556,
             "#d8576b"
            ],
            [
             0.6666666666666666,
             "#ed7953"
            ],
            [
             0.7777777777777778,
             "#fb9f3a"
            ],
            [
             0.8888888888888888,
             "#fdca26"
            ],
            [
             1,
             "#f0f921"
            ]
           ]
          },
          "colorway": [
           "#636efa",
           "#EF553B",
           "#00cc96",
           "#ab63fa",
           "#FFA15A",
           "#19d3f3",
           "#FF6692",
           "#B6E880",
           "#FF97FF",
           "#FECB52"
          ],
          "font": {
           "color": "#2a3f5f"
          },
          "geo": {
           "bgcolor": "white",
           "lakecolor": "white",
           "landcolor": "#E5ECF6",
           "showlakes": true,
           "showland": true,
           "subunitcolor": "white"
          },
          "hoverlabel": {
           "align": "left"
          },
          "hovermode": "closest",
          "mapbox": {
           "style": "light"
          },
          "paper_bgcolor": "white",
          "plot_bgcolor": "#E5ECF6",
          "polar": {
           "angularaxis": {
            "gridcolor": "white",
            "linecolor": "white",
            "ticks": ""
           },
           "bgcolor": "#E5ECF6",
           "radialaxis": {
            "gridcolor": "white",
            "linecolor": "white",
            "ticks": ""
           }
          },
          "scene": {
           "xaxis": {
            "backgroundcolor": "#E5ECF6",
            "gridcolor": "white",
            "gridwidth": 2,
            "linecolor": "white",
            "showbackground": true,
            "ticks": "",
            "zerolinecolor": "white"
           },
           "yaxis": {
            "backgroundcolor": "#E5ECF6",
            "gridcolor": "white",
            "gridwidth": 2,
            "linecolor": "white",
            "showbackground": true,
            "ticks": "",
            "zerolinecolor": "white"
           },
           "zaxis": {
            "backgroundcolor": "#E5ECF6",
            "gridcolor": "white",
            "gridwidth": 2,
            "linecolor": "white",
            "showbackground": true,
            "ticks": "",
            "zerolinecolor": "white"
           }
          },
          "shapedefaults": {
           "line": {
            "color": "#2a3f5f"
           }
          },
          "ternary": {
           "aaxis": {
            "gridcolor": "white",
            "linecolor": "white",
            "ticks": ""
           },
           "baxis": {
            "gridcolor": "white",
            "linecolor": "white",
            "ticks": ""
           },
           "bgcolor": "#E5ECF6",
           "caxis": {
            "gridcolor": "white",
            "linecolor": "white",
            "ticks": ""
           }
          },
          "title": {
           "x": 0.05
          },
          "xaxis": {
           "automargin": true,
           "gridcolor": "white",
           "linecolor": "white",
           "ticks": "",
           "title": {
            "standoff": 15
           },
           "zerolinecolor": "white",
           "zerolinewidth": 2
          },
          "yaxis": {
           "automargin": true,
           "gridcolor": "white",
           "linecolor": "white",
           "ticks": "",
           "title": {
            "standoff": 15
           },
           "zerolinecolor": "white",
           "zerolinewidth": 2
          }
         }
        },
        "title": {
         "text": "SalePrice Distribution"
        },
        "xaxis": {
         "title": {
          "text": "SalePrice"
         }
        },
        "yaxis": {
         "title": {
          "text": "Density"
         }
        }
       }
      }
     },
     "metadata": {},
     "output_type": "display_data"
    }
   ],
   "source": [
    "import scipy.stats as stats\n",
    "\n",
    "#Fit a normal distribution to the SalePrice data\n",
    "mu, sigma = stats.norm.fit(df['SalePrice'])\n",
    "mu, sigma \n",
    "\n",
    "#Create a histogram of the SalePrice column\n",
    "hist_data = go.Histogram(x=df['SalePrice'], nbinsx=50, name=\"Histogram\", opacity=0.75, histnorm='probability density', marker=dict(color='purple'))\n",
    "\n",
    "# Calculate the normal distribution based on fiited parameters\n",
    "x_norm = np.linspace(df['SalePrice'].min(),df['SalePrice'].max(), 100)\n",
    "y_norm = stats.norm.pdf(x_norm, mu, sigma)\n",
    "\n",
    "# Overlay\n",
    "\n",
    "norm_data = go.Scatter(x=x_norm, y=y_norm, mode=\"lines\", name=f\"Normal dist. (μ={mu:.2f}, σ={sigma:.2f})\", line=dict(color=\"green\"))\n",
    "\n",
    "fig = go.Figure(data=[hist_data, norm_data])\n",
    "\n",
    "\n",
    "fig.update_layout(\n",
    "    title=\"SalePrice Distribution\",\n",
    "    xaxis_title=\"SalePrice\",\n",
    "    yaxis_title = \"Density\",\n",
    "    legend_title_text=\"Fitted Normal Distribution\",\n",
    "    plot_bgcolor='rgba(32, 32, 32, 1)',\n",
    "    paper_bgcolor='rgba(32, 32, 32, 1)',\n",
    "    font=dict(color='white')\n",
    ")\n"
   ]
  },
  {
   "cell_type": "code",
   "execution_count": 10,
   "metadata": {},
   "outputs": [
    {
     "data": {
      "application/vnd.plotly.v1+json": {
       "config": {
        "plotlyServerURL": "https://plot.ly"
       },
       "data": [
        {
         "histnorm": "probability density",
         "marker": {
          "color": "purple"
         },
         "name": "Histogram",
         "nbinsx": 50,
         "opacity": 0.75,
         "type": "histogram",
         "x": [
          208500,
          181500,
          223500,
          140000,
          250000,
          143000,
          307000,
          200000,
          129900,
          118000,
          129500,
          345000,
          144000,
          279500,
          157000,
          132000,
          149000,
          90000,
          159000,
          139000,
          325300,
          139400,
          230000,
          129900,
          154000,
          256300,
          134800,
          306000,
          207500,
          68500,
          40000,
          149350,
          179900,
          165500,
          277500,
          309000,
          145000,
          153000,
          109000,
          82000,
          160000,
          170000,
          144000,
          130250,
          141000,
          319900,
          239686,
          249700,
          113000,
          127000,
          177000,
          114500,
          110000,
          385000,
          130000,
          180500,
          172500,
          196500,
          438780,
          124900,
          158000,
          101000,
          202500,
          140000,
          219500,
          317000,
          180000,
          226000,
          80000,
          225000,
          244000,
          129500,
          185000,
          144900,
          107400,
          91000,
          135750,
          127000,
          136500,
          110000,
          193500,
          153500,
          245000,
          126500,
          168500,
          260000,
          174000,
          164500,
          85000,
          123600,
          109900,
          98600,
          163500,
          133900,
          204750,
          185000,
          214000,
          94750,
          83000,
          128950,
          205000,
          178000,
          118964,
          198900,
          169500,
          250000,
          100000,
          115000,
          115000,
          190000,
          136900,
          180000,
          383970,
          217000,
          259500,
          176000,
          139000,
          155000,
          320000,
          163990,
          180000,
          100000,
          136000,
          153900,
          181000,
          84500,
          128000,
          87000,
          155000,
          150000,
          226000,
          244000,
          150750,
          220000,
          180000,
          174000,
          143000,
          171000,
          230000,
          231500,
          115000,
          260000,
          166000,
          204000,
          125000,
          130000,
          105000,
          222500,
          141000,
          115000,
          122000,
          372402,
          190000,
          235000,
          125000,
          79000,
          109500,
          269500,
          254900,
          320000,
          162500,
          412500,
          220000,
          103200,
          152000,
          127500,
          190000,
          325624,
          183500,
          228000,
          128500,
          215000,
          239000,
          163000,
          184000,
          243000,
          211000,
          172500,
          501837,
          100000,
          177000,
          200100,
          120000,
          200000,
          127000,
          475000,
          173000,
          135000,
          153337,
          286000,
          315000,
          184000,
          192000,
          130000,
          127000,
          148500,
          311872,
          235000,
          104000,
          274900,
          140000,
          171500,
          112000,
          149000,
          110000,
          180500,
          143900,
          141000,
          277000,
          145000,
          98000,
          186000,
          252678,
          156000,
          161750,
          134450,
          210000,
          107000,
          311500,
          167240,
          204900,
          200000,
          179900,
          97000,
          386250,
          112000,
          290000,
          106000,
          125000,
          192500,
          148000,
          403000,
          94500,
          128200,
          216500,
          89500,
          185500,
          194500,
          318000,
          113000,
          262500,
          110500,
          79000,
          120000,
          205000,
          241500,
          137000,
          140000,
          180000,
          277000,
          76500,
          235000,
          173000,
          158000,
          145000,
          230000,
          207500,
          220000,
          231500,
          97000,
          176000,
          276000,
          151000,
          130000,
          73000,
          175500,
          185000,
          179500,
          120500,
          148000,
          266000,
          241500,
          290000,
          139000,
          124500,
          205000,
          201000,
          141000,
          415298,
          192000,
          228500,
          185000,
          207500,
          244600,
          179200,
          164700,
          159000,
          88000,
          122000,
          153575,
          233230,
          135900,
          131000,
          235000,
          167000,
          142500,
          152000,
          239000,
          175000,
          158500,
          157000,
          267000,
          205000,
          149900,
          295000,
          305900,
          225000,
          89500,
          82500,
          360000,
          165600,
          132000,
          119900,
          375000,
          178000,
          188500,
          260000,
          270000,
          260000,
          187500,
          342643,
          354000,
          301000,
          126175,
          242000,
          87000,
          324000,
          145250,
          214500,
          78000,
          119000,
          139000,
          284000,
          207000,
          192000,
          228950,
          377426,
          214000,
          202500,
          155000,
          202900,
          82000,
          87500,
          266000,
          85000,
          140200,
          151500,
          157500,
          154000,
          437154,
          318061,
          190000,
          95000,
          105900,
          140000,
          177500,
          173000,
          134000,
          130000,
          280000,
          156000,
          145000,
          198500,
          118000,
          190000,
          147000,
          159000,
          165000,
          132000,
          162000,
          172400,
          134432,
          125000,
          123000,
          219500,
          61000,
          148000,
          340000,
          394432,
          179000,
          127000,
          187750,
          213500,
          76000,
          240000,
          192000,
          81000,
          125000,
          191000,
          426000,
          119000,
          215000,
          106500,
          100000,
          109000,
          129000,
          123000,
          169500,
          67000,
          241000,
          245500,
          164990,
          108000,
          258000,
          168000,
          150000,
          115000,
          177000,
          280000,
          339750,
          60000,
          145000,
          222000,
          115000,
          228000,
          181134,
          149500,
          239000,
          126000,
          142000,
          206300,
          215000,
          113000,
          315000,
          139000,
          135000,
          275000,
          109008,
          195400,
          175000,
          85400,
          79900,
          122500,
          181000,
          81000,
          212000,
          116000,
          119000,
          90350,
          110000,
          555000,
          118000,
          162900,
          172500,
          210000,
          127500,
          190000,
          199900,
          119500,
          120000,
          110000,
          280000,
          204000,
          210000,
          188000,
          175500,
          98000,
          256000,
          161000,
          110000,
          263435,
          155000,
          62383,
          188700,
          124000,
          178740,
          167000,
          146500,
          250000,
          187000,
          212000,
          190000,
          148000,
          440000,
          251000,
          132500,
          208900,
          380000,
          297000,
          89471,
          326000,
          374000,
          155000,
          164000,
          132500,
          147000,
          156000,
          175000,
          160000,
          86000,
          115000,
          133000,
          172785,
          155000,
          91300,
          34900,
          430000,
          184000,
          130000,
          120000,
          113000,
          226700,
          140000,
          289000,
          147000,
          124500,
          215000,
          208300,
          161000,
          124500,
          164900,
          202665,
          129900,
          134000,
          96500,
          402861,
          158000,
          265000,
          211000,
          234000,
          106250,
          150000,
          159000,
          184750,
          315750,
          176000,
          132000,
          446261,
          86000,
          200624,
          175000,
          128000,
          107500,
          39300,
          178000,
          107500,
          188000,
          111250,
          158000,
          272000,
          315000,
          248000,
          213250,
          133000,
          179665,
          229000,
          210000,
          129500,
          125000,
          263000,
          140000,
          112500,
          255500,
          108000,
          284000,
          113000,
          141000,
          108000,
          175000,
          234000,
          121500,
          170000,
          108000,
          185000,
          268000,
          128000,
          325000,
          214000,
          316600,
          135960,
          142600,
          120000,
          224500,
          170000,
          139000,
          118500,
          145000,
          164500,
          146000,
          131500,
          181900,
          253293,
          118500,
          325000,
          133000,
          369900,
          130000,
          137000,
          143000,
          79500,
          185900,
          451950,
          138000,
          140000,
          110000,
          319000,
          114504,
          194201,
          217500,
          151000,
          275000,
          141000,
          220000,
          151000,
          221000,
          205000,
          152000,
          225000,
          359100,
          118500,
          313000,
          148000,
          261500,
          147000,
          75500,
          137500,
          183200,
          105500,
          314813,
          305000,
          67000,
          240000,
          135000,
          168500,
          165150,
          160000,
          139900,
          153000,
          135000,
          168500,
          124000,
          209500,
          82500,
          139400,
          144000,
          200000,
          60000,
          93000,
          85000,
          264561,
          274000,
          226000,
          345000,
          152000,
          370878,
          143250,
          98300,
          155000,
          155000,
          84500,
          205950,
          108000,
          191000,
          135000,
          350000,
          88000,
          145500,
          149000,
          97500,
          167000,
          197900,
          402000,
          110000,
          137500,
          423000,
          230500,
          129000,
          193500,
          168000,
          137500,
          173500,
          103600,
          165000,
          257500,
          140000,
          148500,
          87000,
          109500,
          372500,
          128500,
          143000,
          159434,
          173000,
          285000,
          221000,
          207500,
          227875,
          148800,
          392000,
          194700,
          141000,
          755000,
          335000,
          108480,
          141500,
          176000,
          89000,
          123500,
          138500,
          196000,
          312500,
          140000,
          361919,
          140000,
          213000,
          55000,
          302000,
          254000,
          179540,
          109900,
          52000,
          102776,
          189000,
          129000,
          130500,
          165000,
          159500,
          157000,
          341000,
          128500,
          275000,
          143000,
          124500,
          135000,
          320000,
          120500,
          222000,
          194500,
          110000,
          103000,
          236500,
          187500,
          222500,
          131400,
          108000,
          163000,
          93500,
          239900,
          179000,
          190000,
          132000,
          142000,
          179000,
          175000,
          180000,
          299800,
          236000,
          265979,
          260400,
          98000,
          96500,
          162000,
          217000,
          275500,
          156000,
          172500,
          212000,
          158900,
          179400,
          290000,
          127500,
          100000,
          215200,
          337000,
          270000,
          264132,
          196500,
          160000,
          216837,
          538000,
          134900,
          102000,
          107000,
          114500,
          395000,
          162000,
          221500,
          142500,
          144000,
          135000,
          176000,
          175900,
          187100,
          165500,
          128000,
          161500,
          139000,
          233000,
          107900,
          187500,
          160200,
          146800,
          269790,
          225000,
          194500,
          171000,
          143500,
          110000,
          485000,
          175000,
          200000,
          109900,
          189000,
          582933,
          118000,
          227680,
          135500,
          223500,
          159950,
          106000,
          181000,
          144500,
          55993,
          157900,
          116000,
          224900,
          137000,
          271000,
          155000,
          224000,
          183000,
          93000,
          225000,
          139500,
          232600,
          385000,
          109500,
          189000,
          185000,
          147400,
          166000,
          151000,
          237000,
          167000,
          139950,
          128000,
          153500,
          100000,
          144000,
          130500,
          140000,
          157500,
          174900,
          141000,
          153900,
          171000,
          213000,
          133500,
          240000,
          187000,
          131500,
          215000,
          164000,
          158000,
          170000,
          127000,
          147000,
          174000,
          152000,
          250000,
          189950,
          131500,
          152000,
          132500,
          250580,
          148500,
          248900,
          129000,
          169000,
          236000,
          109500,
          200500,
          116000,
          133000,
          66500,
          303477,
          132250,
          350000,
          148000,
          136500,
          157000,
          187500,
          178000,
          118500,
          100000,
          328900,
          145000,
          135500,
          268000,
          149500,
          122900,
          172500,
          154500,
          165000,
          118858,
          140000,
          106500,
          142953,
          611657,
          135000,
          110000,
          153000,
          180000,
          240000,
          125500,
          128000,
          255000,
          250000,
          131000,
          174000,
          154300,
          143500,
          88000,
          145000,
          173733,
          75000,
          35311,
          135000,
          238000,
          176500,
          201000,
          145900,
          169990,
          193000,
          207500,
          175000,
          285000,
          176000,
          236500,
          222000,
          201000,
          117500,
          320000,
          190000,
          242000,
          79900,
          184900,
          253000,
          239799,
          244400,
          150900,
          214000,
          150000,
          143000,
          137500,
          124900,
          143000,
          270000,
          192500,
          197500,
          129000,
          119900,
          133900,
          172000,
          127500,
          145000,
          124000,
          132000,
          185000,
          155000,
          116500,
          272000,
          155000,
          239000,
          214900,
          178900,
          160000,
          135000,
          37900,
          140000,
          135000,
          173000,
          99500,
          182000,
          167500,
          165000,
          85500,
          199900,
          110000,
          139000,
          178400,
          336000,
          159895,
          255900,
          126000,
          125000,
          117000,
          395192,
          195000,
          197000,
          348000,
          168000,
          187000,
          173900,
          337500,
          121600,
          136500,
          185000,
          91000,
          206000,
          82000,
          86000,
          232000,
          136905,
          181000,
          149900,
          163500,
          88000,
          240000,
          102000,
          135000,
          100000,
          165000,
          85000,
          119200,
          227000,
          203000,
          187500,
          160000,
          213490,
          176000,
          194000,
          87000,
          191000,
          287000,
          112500,
          167500,
          293077,
          105000,
          118000,
          160000,
          197000,
          310000,
          230000,
          119750,
          84000,
          315500,
          287000,
          97000,
          80000,
          155000,
          173000,
          196000,
          262280,
          278000,
          139600,
          556581,
          145000,
          115000,
          84900,
          176485,
          200141,
          165000,
          144500,
          255000,
          180000,
          185850,
          248000,
          335000,
          220000,
          213500,
          81000,
          90000,
          110500,
          154000,
          328000,
          178000,
          167900,
          151400,
          135000,
          135000,
          154000,
          91500,
          159500,
          194000,
          219500,
          170000,
          138800,
          155900,
          126000,
          145000,
          133000,
          192000,
          160000,
          187500,
          147000,
          83500,
          252000,
          137500,
          197000,
          92900,
          160000,
          136500,
          146000,
          129000,
          176432,
          127000,
          170000,
          128000,
          157000,
          60000,
          119500,
          135000,
          159500,
          106000,
          325000,
          179900,
          274725,
          181000,
          280000,
          188000,
          205000,
          129900,
          134500,
          117000,
          318000,
          184100,
          130000,
          140000,
          133700,
          118400,
          212900,
          112000,
          118000,
          163900,
          115000,
          174000,
          259000,
          215000,
          140000,
          135000,
          93500,
          117500,
          239500,
          169000,
          102000,
          119000,
          94000,
          196000,
          144000,
          139000,
          197500,
          424870,
          80000,
          80000,
          149000,
          180000,
          174500,
          116900,
          143000,
          124000,
          149900,
          230000,
          120500,
          201800,
          218000,
          179900,
          230000,
          235128,
          185000,
          146000,
          224000,
          129000,
          108959,
          194000,
          233170,
          245350,
          173000,
          235000,
          625000,
          171000,
          163000,
          171900,
          200500,
          239000,
          285000,
          119500,
          115000,
          154900,
          93000,
          250000,
          392500,
          745000,
          120000,
          186700,
          104900,
          95000,
          262000,
          195000,
          189000,
          168000,
          174000,
          125000,
          165000,
          158000,
          176000,
          219210,
          144000,
          178000,
          148000,
          116050,
          197900,
          117000,
          213000,
          153500,
          271900,
          107000,
          200000,
          140000,
          290000,
          189000,
          164000,
          113000,
          145000,
          134500,
          125000,
          112000,
          229456,
          80500,
          91500,
          115000,
          134000,
          143000,
          137900,
          184000,
          145000,
          214000,
          147000,
          367294,
          127000,
          190000,
          132500,
          101800,
          142000,
          130000,
          138887,
          175500,
          195000,
          142500,
          265900,
          224900,
          248328,
          170000,
          465000,
          230000,
          178000,
          186500,
          169900,
          129500,
          119000,
          244000,
          171750,
          130000,
          294000,
          165400,
          127500,
          301500,
          99900,
          190000,
          151000,
          181000,
          128900,
          161500,
          180500,
          181000,
          183900,
          122000,
          378500,
          381000,
          144000,
          260000,
          185750,
          137000,
          177000,
          139000,
          137000,
          162000,
          197900,
          237000,
          68400,
          227000,
          180000,
          150500,
          139000,
          169000,
          132500,
          143000,
          190000,
          278000,
          281000,
          180500,
          119500,
          107500,
          162900,
          115000,
          138500,
          155000,
          140000,
          160000,
          154000,
          225000,
          177500,
          290000,
          232000,
          130000,
          325000,
          202500,
          138000,
          147000,
          179200,
          335000,
          203000,
          302000,
          333168,
          119000,
          206900,
          295493,
          208900,
          275000,
          111000,
          156500,
          72500,
          190000,
          82500,
          147000,
          55000,
          79000,
          130500,
          256000,
          176500,
          227000,
          132500,
          100000,
          125500,
          125000,
          167900,
          135000,
          52500,
          200000,
          128500,
          123000,
          155000,
          228500,
          177000,
          155835,
          108500,
          262500,
          283463,
          215000,
          122000,
          200000,
          171000,
          134900,
          410000,
          235000,
          170000,
          110000,
          149900,
          177500,
          315000,
          189000,
          260000,
          104900,
          156932,
          144152,
          216000,
          193000,
          127000,
          144000,
          232000,
          105000,
          165500,
          274300,
          466500,
          250000,
          239000,
          91000,
          117000,
          83000,
          167500,
          58500,
          237500,
          157000,
          112000,
          105000,
          125500,
          250000,
          136000,
          377500,
          131000,
          235000,
          124000,
          123000,
          163000,
          246578,
          281213,
          160000,
          137500,
          138000,
          137450,
          120000,
          193000,
          193879,
          282922,
          105000,
          275000,
          133000,
          112000,
          125500,
          215000,
          230000,
          140000,
          90000,
          257000,
          207000,
          175900,
          122500,
          340000,
          124000,
          223000,
          179900,
          127500,
          136500,
          274970,
          144000,
          142000,
          271000,
          140000,
          119000,
          182900,
          192140,
          143750,
          64500,
          186500,
          160000,
          174000,
          120500,
          394617,
          149700,
          197000,
          191000,
          149300,
          310000,
          121000,
          179600,
          129000,
          157900,
          240000,
          112000,
          92000,
          136000,
          287090,
          145000,
          84500,
          185000,
          175000,
          210000,
          266500,
          142125,
          147500
         ]
        },
        {
         "line": {
          "color": "green"
         },
         "mode": "lines",
         "name": "Normal dist. (μ=180921.20, σ=79415.29)",
         "type": "scatter",
         "x": [
          34900,
          42173.73737373737,
          49447.47474747475,
          56721.21212121212,
          63994.9494949495,
          71268.68686868687,
          78542.42424242424,
          85816.16161616161,
          93089.898989899,
          100363.63636363635,
          107637.37373737374,
          114911.11111111111,
          122184.84848484848,
          129458.58585858585,
          136732.32323232322,
          144006.0606060606,
          151279.797979798,
          158553.53535353535,
          165827.2727272727,
          173101.0101010101,
          180374.74747474748,
          187648.48484848483,
          194922.22222222222,
          202195.9595959596,
          209469.69696969696,
          216743.43434343435,
          224017.1717171717,
          231290.9090909091,
          238564.64646464647,
          245838.38383838383,
          253112.12121212122,
          260385.85858585857,
          267659.595959596,
          274933.3333333334,
          282207.0707070707,
          289480.8080808081,
          296754.5454545454,
          304028.2828282828,
          311302.0202020202,
          318575.75757575757,
          325849.49494949495,
          333123.23232323234,
          340396.96969696967,
          347670.70707070705,
          354944.44444444444,
          362218.1818181818,
          369491.9191919192,
          376765.65656565654,
          384039.3939393939,
          391313.1313131313,
          398586.8686868687,
          405860.6060606061,
          413134.3434343434,
          420408.0808080808,
          427681.8181818182,
          434955.55555555556,
          442229.29292929295,
          449503.0303030303,
          456776.76767676766,
          464050.50505050505,
          471324.24242424243,
          478597.9797979798,
          485871.71717171714,
          493145.45454545453,
          500419.1919191919,
          507692.9292929293,
          514966.6666666667,
          522240.404040404,
          529514.1414141414,
          536787.8787878788,
          544061.6161616162,
          551335.3535353536,
          558609.0909090908,
          565882.8282828283,
          573156.5656565656,
          580430.303030303,
          587704.0404040404,
          594977.7777777778,
          602251.5151515151,
          609525.2525252525,
          616798.9898989899,
          624072.7272727273,
          631346.4646464647,
          638620.2020202021,
          645893.9393939393,
          653167.6767676767,
          660441.4141414141,
          667715.1515151515,
          674988.8888888889,
          682262.6262626263,
          689536.3636363636,
          696810.101010101,
          704083.8383838384,
          711357.5757575758,
          718631.3131313131,
          725905.0505050505,
          733178.7878787878,
          740452.5252525252,
          747726.2626262626,
          755000
         ],
         "y": [
          9.265475079809133e-7,
          0.000001091905737961625,
          0.0000012760254454810792,
          0.0000014787346591858991,
          0.0000016993306875281943,
          0.0000019365213036808242,
          0.0000021883832829484586,
          0.0000024523430878584085,
          0.000002725183807382214,
          0.000003003081381614699,
          0.000003281671715336769,
          0.000003556148572175578,
          0.000003821390247613441,
          0.000004072111073060128,
          0.000004303031951406431,
          0.000004509062519110609,
          0.000004685486314553372,
          0.000004828139627960475,
          0.0000049335745997376805,
          0.000004999197660840197,
          0.000005023375558168319,
          0.000005005502914348565,
          0.00000494602742030693,
          0.000004846431196978712,
          0.000004709169409466667,
          0.0000045375696831957195,
          0.000004335698074690961,
          0.000004108199130878408,
          0.000003860118809321614,
          0.0000035967196542471724,
          0.000003323297608921799,
          0.000003045009225647027,
          0.0000027667168891073134,
          0.000002492858113278154,
          0.000002227343147662232,
          0.0000019734831870908866,
          0.0000017339495691654547,
          0.0000015107625971271428,
          0.0000013053071501439212,
          0.0000011183711118602758,
          9.502019004965338e-7,
          8.00576024281688e-7,
          6.688765884751017e-7,
          5.541739942651802e-7,
          4.553056283094488e-7,
          3.7095106885203217e-7,
          2.9970015350029974e-7,
          2.4011209371824796e-7,
          1.9076462130812311e-7,
          1.5029286574013257e-7,
          1.1741825639699119e-7,
          9.096820375110187e-8,
          6.988763468378053e-8,
          5.324364705578648e-8,
          4.0224622804399856e-8,
          3.0135117935759436e-8,
          2.2387754780616666e-8,
          1.649319971696885e-8,
          1.2049139298217507e-8,
          8.728987332865294e-9,
          6.270879160643391e-9,
          4.467347453032484e-9,
          3.1559329064888737e-9,
          2.2108665182678574e-9,
          1.5358684331435147e-9,
          1.0580403653235294e-9,
          7.227817694580448e-10,
          4.896309631318992e-10,
          3.289177330481684e-10,
          2.1911011847649877e-10,
          1.4474191349641605e-10,
          9.481628091368071e-11,
          6.159255982121023e-11,
          3.9676222969033986e-11,
          2.53448147455466e-11,
          1.605479079672695e-11,
          1.0085023423205656e-11,
          6.282115290116518e-12,
          3.8805351729804216e-12,
          2.377026792054622e-12,
          1.443887179031701e-12,
          8.697394594345841e-13,
          5.195194588468783e-13,
          3.077309619307323e-13,
          1.8075790559582485e-13,
          1.0528830581598464e-13,
          6.08162594783885e-14,
          3.483501513960706e-14,
          1.978650243052378e-14,
          1.1144967146570904e-14,
          6.2250849615596384e-15,
          3.4480099029001073e-15,
          1.8938625512584654e-15,
          1.031537781565291e-15,
          5.57158233484461e-16,
          2.984205297336035e-16,
          1.5850230121447633e-16,
          8.348321727810413e-17,
          4.360331556422964e-17,
          2.2583777223181174e-17
         ]
        }
       ],
       "layout": {
        "font": {
         "color": "white"
        },
        "legend": {
         "title": {
          "text": "Fitted Normal Distribution"
         }
        },
        "paper_bgcolor": "rgba(32, 32, 32, 1)",
        "plot_bgcolor": "rgba(32, 32, 32, 1)",
        "template": {
         "data": {
          "bar": [
           {
            "error_x": {
             "color": "#2a3f5f"
            },
            "error_y": {
             "color": "#2a3f5f"
            },
            "marker": {
             "line": {
              "color": "#E5ECF6",
              "width": 0.5
             },
             "pattern": {
              "fillmode": "overlay",
              "size": 10,
              "solidity": 0.2
             }
            },
            "type": "bar"
           }
          ],
          "barpolar": [
           {
            "marker": {
             "line": {
              "color": "#E5ECF6",
              "width": 0.5
             },
             "pattern": {
              "fillmode": "overlay",
              "size": 10,
              "solidity": 0.2
             }
            },
            "type": "barpolar"
           }
          ],
          "carpet": [
           {
            "aaxis": {
             "endlinecolor": "#2a3f5f",
             "gridcolor": "white",
             "linecolor": "white",
             "minorgridcolor": "white",
             "startlinecolor": "#2a3f5f"
            },
            "baxis": {
             "endlinecolor": "#2a3f5f",
             "gridcolor": "white",
             "linecolor": "white",
             "minorgridcolor": "white",
             "startlinecolor": "#2a3f5f"
            },
            "type": "carpet"
           }
          ],
          "choropleth": [
           {
            "colorbar": {
             "outlinewidth": 0,
             "ticks": ""
            },
            "type": "choropleth"
           }
          ],
          "contour": [
           {
            "colorbar": {
             "outlinewidth": 0,
             "ticks": ""
            },
            "colorscale": [
             [
              0,
              "#0d0887"
             ],
             [
              0.1111111111111111,
              "#46039f"
             ],
             [
              0.2222222222222222,
              "#7201a8"
             ],
             [
              0.3333333333333333,
              "#9c179e"
             ],
             [
              0.4444444444444444,
              "#bd3786"
             ],
             [
              0.5555555555555556,
              "#d8576b"
             ],
             [
              0.6666666666666666,
              "#ed7953"
             ],
             [
              0.7777777777777778,
              "#fb9f3a"
             ],
             [
              0.8888888888888888,
              "#fdca26"
             ],
             [
              1,
              "#f0f921"
             ]
            ],
            "type": "contour"
           }
          ],
          "contourcarpet": [
           {
            "colorbar": {
             "outlinewidth": 0,
             "ticks": ""
            },
            "type": "contourcarpet"
           }
          ],
          "heatmap": [
           {
            "colorbar": {
             "outlinewidth": 0,
             "ticks": ""
            },
            "colorscale": [
             [
              0,
              "#0d0887"
             ],
             [
              0.1111111111111111,
              "#46039f"
             ],
             [
              0.2222222222222222,
              "#7201a8"
             ],
             [
              0.3333333333333333,
              "#9c179e"
             ],
             [
              0.4444444444444444,
              "#bd3786"
             ],
             [
              0.5555555555555556,
              "#d8576b"
             ],
             [
              0.6666666666666666,
              "#ed7953"
             ],
             [
              0.7777777777777778,
              "#fb9f3a"
             ],
             [
              0.8888888888888888,
              "#fdca26"
             ],
             [
              1,
              "#f0f921"
             ]
            ],
            "type": "heatmap"
           }
          ],
          "heatmapgl": [
           {
            "colorbar": {
             "outlinewidth": 0,
             "ticks": ""
            },
            "colorscale": [
             [
              0,
              "#0d0887"
             ],
             [
              0.1111111111111111,
              "#46039f"
             ],
             [
              0.2222222222222222,
              "#7201a8"
             ],
             [
              0.3333333333333333,
              "#9c179e"
             ],
             [
              0.4444444444444444,
              "#bd3786"
             ],
             [
              0.5555555555555556,
              "#d8576b"
             ],
             [
              0.6666666666666666,
              "#ed7953"
             ],
             [
              0.7777777777777778,
              "#fb9f3a"
             ],
             [
              0.8888888888888888,
              "#fdca26"
             ],
             [
              1,
              "#f0f921"
             ]
            ],
            "type": "heatmapgl"
           }
          ],
          "histogram": [
           {
            "marker": {
             "pattern": {
              "fillmode": "overlay",
              "size": 10,
              "solidity": 0.2
             }
            },
            "type": "histogram"
           }
          ],
          "histogram2d": [
           {
            "colorbar": {
             "outlinewidth": 0,
             "ticks": ""
            },
            "colorscale": [
             [
              0,
              "#0d0887"
             ],
             [
              0.1111111111111111,
              "#46039f"
             ],
             [
              0.2222222222222222,
              "#7201a8"
             ],
             [
              0.3333333333333333,
              "#9c179e"
             ],
             [
              0.4444444444444444,
              "#bd3786"
             ],
             [
              0.5555555555555556,
              "#d8576b"
             ],
             [
              0.6666666666666666,
              "#ed7953"
             ],
             [
              0.7777777777777778,
              "#fb9f3a"
             ],
             [
              0.8888888888888888,
              "#fdca26"
             ],
             [
              1,
              "#f0f921"
             ]
            ],
            "type": "histogram2d"
           }
          ],
          "histogram2dcontour": [
           {
            "colorbar": {
             "outlinewidth": 0,
             "ticks": ""
            },
            "colorscale": [
             [
              0,
              "#0d0887"
             ],
             [
              0.1111111111111111,
              "#46039f"
             ],
             [
              0.2222222222222222,
              "#7201a8"
             ],
             [
              0.3333333333333333,
              "#9c179e"
             ],
             [
              0.4444444444444444,
              "#bd3786"
             ],
             [
              0.5555555555555556,
              "#d8576b"
             ],
             [
              0.6666666666666666,
              "#ed7953"
             ],
             [
              0.7777777777777778,
              "#fb9f3a"
             ],
             [
              0.8888888888888888,
              "#fdca26"
             ],
             [
              1,
              "#f0f921"
             ]
            ],
            "type": "histogram2dcontour"
           }
          ],
          "mesh3d": [
           {
            "colorbar": {
             "outlinewidth": 0,
             "ticks": ""
            },
            "type": "mesh3d"
           }
          ],
          "parcoords": [
           {
            "line": {
             "colorbar": {
              "outlinewidth": 0,
              "ticks": ""
             }
            },
            "type": "parcoords"
           }
          ],
          "pie": [
           {
            "automargin": true,
            "type": "pie"
           }
          ],
          "scatter": [
           {
            "fillpattern": {
             "fillmode": "overlay",
             "size": 10,
             "solidity": 0.2
            },
            "type": "scatter"
           }
          ],
          "scatter3d": [
           {
            "line": {
             "colorbar": {
              "outlinewidth": 0,
              "ticks": ""
             }
            },
            "marker": {
             "colorbar": {
              "outlinewidth": 0,
              "ticks": ""
             }
            },
            "type": "scatter3d"
           }
          ],
          "scattercarpet": [
           {
            "marker": {
             "colorbar": {
              "outlinewidth": 0,
              "ticks": ""
             }
            },
            "type": "scattercarpet"
           }
          ],
          "scattergeo": [
           {
            "marker": {
             "colorbar": {
              "outlinewidth": 0,
              "ticks": ""
             }
            },
            "type": "scattergeo"
           }
          ],
          "scattergl": [
           {
            "marker": {
             "colorbar": {
              "outlinewidth": 0,
              "ticks": ""
             }
            },
            "type": "scattergl"
           }
          ],
          "scattermapbox": [
           {
            "marker": {
             "colorbar": {
              "outlinewidth": 0,
              "ticks": ""
             }
            },
            "type": "scattermapbox"
           }
          ],
          "scatterpolar": [
           {
            "marker": {
             "colorbar": {
              "outlinewidth": 0,
              "ticks": ""
             }
            },
            "type": "scatterpolar"
           }
          ],
          "scatterpolargl": [
           {
            "marker": {
             "colorbar": {
              "outlinewidth": 0,
              "ticks": ""
             }
            },
            "type": "scatterpolargl"
           }
          ],
          "scatterternary": [
           {
            "marker": {
             "colorbar": {
              "outlinewidth": 0,
              "ticks": ""
             }
            },
            "type": "scatterternary"
           }
          ],
          "surface": [
           {
            "colorbar": {
             "outlinewidth": 0,
             "ticks": ""
            },
            "colorscale": [
             [
              0,
              "#0d0887"
             ],
             [
              0.1111111111111111,
              "#46039f"
             ],
             [
              0.2222222222222222,
              "#7201a8"
             ],
             [
              0.3333333333333333,
              "#9c179e"
             ],
             [
              0.4444444444444444,
              "#bd3786"
             ],
             [
              0.5555555555555556,
              "#d8576b"
             ],
             [
              0.6666666666666666,
              "#ed7953"
             ],
             [
              0.7777777777777778,
              "#fb9f3a"
             ],
             [
              0.8888888888888888,
              "#fdca26"
             ],
             [
              1,
              "#f0f921"
             ]
            ],
            "type": "surface"
           }
          ],
          "table": [
           {
            "cells": {
             "fill": {
              "color": "#EBF0F8"
             },
             "line": {
              "color": "white"
             }
            },
            "header": {
             "fill": {
              "color": "#C8D4E3"
             },
             "line": {
              "color": "white"
             }
            },
            "type": "table"
           }
          ]
         },
         "layout": {
          "annotationdefaults": {
           "arrowcolor": "#2a3f5f",
           "arrowhead": 0,
           "arrowwidth": 1
          },
          "autotypenumbers": "strict",
          "coloraxis": {
           "colorbar": {
            "outlinewidth": 0,
            "ticks": ""
           }
          },
          "colorscale": {
           "diverging": [
            [
             0,
             "#8e0152"
            ],
            [
             0.1,
             "#c51b7d"
            ],
            [
             0.2,
             "#de77ae"
            ],
            [
             0.3,
             "#f1b6da"
            ],
            [
             0.4,
             "#fde0ef"
            ],
            [
             0.5,
             "#f7f7f7"
            ],
            [
             0.6,
             "#e6f5d0"
            ],
            [
             0.7,
             "#b8e186"
            ],
            [
             0.8,
             "#7fbc41"
            ],
            [
             0.9,
             "#4d9221"
            ],
            [
             1,
             "#276419"
            ]
           ],
           "sequential": [
            [
             0,
             "#0d0887"
            ],
            [
             0.1111111111111111,
             "#46039f"
            ],
            [
             0.2222222222222222,
             "#7201a8"
            ],
            [
             0.3333333333333333,
             "#9c179e"
            ],
            [
             0.4444444444444444,
             "#bd3786"
            ],
            [
             0.5555555555555556,
             "#d8576b"
            ],
            [
             0.6666666666666666,
             "#ed7953"
            ],
            [
             0.7777777777777778,
             "#fb9f3a"
            ],
            [
             0.8888888888888888,
             "#fdca26"
            ],
            [
             1,
             "#f0f921"
            ]
           ],
           "sequentialminus": [
            [
             0,
             "#0d0887"
            ],
            [
             0.1111111111111111,
             "#46039f"
            ],
            [
             0.2222222222222222,
             "#7201a8"
            ],
            [
             0.3333333333333333,
             "#9c179e"
            ],
            [
             0.4444444444444444,
             "#bd3786"
            ],
            [
             0.5555555555555556,
             "#d8576b"
            ],
            [
             0.6666666666666666,
             "#ed7953"
            ],
            [
             0.7777777777777778,
             "#fb9f3a"
            ],
            [
             0.8888888888888888,
             "#fdca26"
            ],
            [
             1,
             "#f0f921"
            ]
           ]
          },
          "colorway": [
           "#636efa",
           "#EF553B",
           "#00cc96",
           "#ab63fa",
           "#FFA15A",
           "#19d3f3",
           "#FF6692",
           "#B6E880",
           "#FF97FF",
           "#FECB52"
          ],
          "font": {
           "color": "#2a3f5f"
          },
          "geo": {
           "bgcolor": "white",
           "lakecolor": "white",
           "landcolor": "#E5ECF6",
           "showlakes": true,
           "showland": true,
           "subunitcolor": "white"
          },
          "hoverlabel": {
           "align": "left"
          },
          "hovermode": "closest",
          "mapbox": {
           "style": "light"
          },
          "paper_bgcolor": "white",
          "plot_bgcolor": "#E5ECF6",
          "polar": {
           "angularaxis": {
            "gridcolor": "white",
            "linecolor": "white",
            "ticks": ""
           },
           "bgcolor": "#E5ECF6",
           "radialaxis": {
            "gridcolor": "white",
            "linecolor": "white",
            "ticks": ""
           }
          },
          "scene": {
           "xaxis": {
            "backgroundcolor": "#E5ECF6",
            "gridcolor": "white",
            "gridwidth": 2,
            "linecolor": "white",
            "showbackground": true,
            "ticks": "",
            "zerolinecolor": "white"
           },
           "yaxis": {
            "backgroundcolor": "#E5ECF6",
            "gridcolor": "white",
            "gridwidth": 2,
            "linecolor": "white",
            "showbackground": true,
            "ticks": "",
            "zerolinecolor": "white"
           },
           "zaxis": {
            "backgroundcolor": "#E5ECF6",
            "gridcolor": "white",
            "gridwidth": 2,
            "linecolor": "white",
            "showbackground": true,
            "ticks": "",
            "zerolinecolor": "white"
           }
          },
          "shapedefaults": {
           "line": {
            "color": "#2a3f5f"
           }
          },
          "ternary": {
           "aaxis": {
            "gridcolor": "white",
            "linecolor": "white",
            "ticks": ""
           },
           "baxis": {
            "gridcolor": "white",
            "linecolor": "white",
            "ticks": ""
           },
           "bgcolor": "#E5ECF6",
           "caxis": {
            "gridcolor": "white",
            "linecolor": "white",
            "ticks": ""
           }
          },
          "title": {
           "x": 0.05
          },
          "xaxis": {
           "automargin": true,
           "gridcolor": "white",
           "linecolor": "white",
           "ticks": "",
           "title": {
            "standoff": 15
           },
           "zerolinecolor": "white",
           "zerolinewidth": 2
          },
          "yaxis": {
           "automargin": true,
           "gridcolor": "white",
           "linecolor": "white",
           "ticks": "",
           "title": {
            "standoff": 15
           },
           "zerolinecolor": "white",
           "zerolinewidth": 2
          }
         }
        },
        "title": {
         "text": "SalePrice Distribution"
        },
        "xaxis": {
         "title": {
          "text": "SalePrice"
         }
        },
        "yaxis": {
         "title": {
          "text": "Density"
         }
        }
       }
      }
     },
     "metadata": {},
     "output_type": "display_data"
    },
    {
     "data": {
      "application/vnd.plotly.v1+json": {
       "config": {
        "plotlyServerURL": "https://plot.ly"
       },
       "data": [
        {
         "hovertemplate": "Theoretical Quantiles=%{x}<br>Ordered Values=%{y}<extra></extra>",
         "legendgroup": "",
         "marker": {
          "color": "purple",
          "symbol": "circle"
         },
         "mode": "markers",
         "name": "",
         "showlegend": false,
         "type": "scattergl",
         "x": [
          -3.3051395167814683,
          -3.0479322815593966,
          -2.904897054373036,
          -2.804257577088836,
          -2.7258928953018007,
          -2.661371628034595,
          -2.606330093123921,
          -2.558207064305793,
          -2.5153667138865545,
          -2.4766985810550324,
          -2.4414132158894555,
          -2.408928666689735,
          -2.378803216572886,
          -2.3506934169794063,
          -2.3243267774067866,
          -2.299483357623831,
          -2.27598298580045,
          -2.253676153647657,
          -2.2324373854907016,
          -2.2121603143850823,
          -2.192753962536843,
          -2.1741398882162106,
          -2.1562499671434123,
          -2.1390246458303954,
          -2.122411551019908,
          -2.1063643712970768,
          -2.0908419491919106,
          -2.0758075378344465,
          -2.061228187531006,
          -2.047074235860353,
          -2.0333188809539484,
          -2.019937822145938,
          -2.0069089555848576,
          -1.9942121149908159,
          -1.9818288497320584,
          -1.9697422339361639,
          -1.9579367015546087,
          -1.9463979032461383,
          -1.9351125816944554,
          -1.9240684625740423,
          -1.913254158858108,
          -1.902659086550429,
          -1.8922733902377356,
          -1.8820878771163612,
          -1.8720939583578335,
          -1.8622835968520262,
          -1.8526492605106,
          -1.8431838804333354,
          -1.833880813340153,
          -1.8247338077556352,
          -1.8157369735036384,
          -1.8068847541294042,
          -1.7981719019172842,
          -1.7895934552154027,
          -1.781144717815409,
          -1.7728212401670644,
          -1.7646188022345295,
          -1.7565333978245536,
          -1.748561220236995,
          -1.7406986491055418,
          -1.7329422383117126,
          -1.725288704868419,
          -1.7177349186809125,
          -1.710277893103026,
          -1.7029147762154613,
          -1.695642842760643,
          -1.688459486675509,
          -1.68136221416963,
          -1.6743486373013883,
          -1.6674164680096728,
          -1.6605635125627376,
          -1.6537876663895876,
          -1.6470869092625828,
          -1.6404593008029007,
          -1.6339029762831458,
          -1.6274161427037548,
          -1.6209970751219607,
          -1.614644113213993,
          -1.6083556580528837,
          -1.602130169085797,
          -1.5959661612961904,
          -1.5898622025373461,
          -1.5838169110249731,
          -1.5778289529775722,
          -1.5718970403942023,
          -1.5660199289601262,
          -1.5601964160715662,
          -1.5544253389715095,
          -1.548705572989113,
          -1.543036029875874,
          -1.5374156562321981,
          -1.5318434320185408,
          -1.5263183691456872,
          -1.5208395101391625,
          -1.515405926873127,
          -1.5100167193694458,
          -1.5046710146579263,
          -1.4993679656940233,
          -1.4941067503305367,
          -1.488886570340107,
          -1.483706650485504,
          -1.4785662376349242,
          -1.473464599919699,
          -1.4684010259319837,
          -1.46337482396017,
          -1.4583853212598927,
          -1.4534318633586685,
          -1.4485138133922981,
          -1.4436305514713166,
          -1.4387814740758507,
          -1.433965993477378,
          -1.4291835371859438,
          -1.4244335474215153,
          -1.4197154806081949,
          -1.4150288068901304,
          -1.410373009667995,
          -1.4057475851550019,
          -1.40115204195147,
          -1.396585900637007,
          -1.3920486933794467,
          -1.3875399635597165,
          -1.3830592654118496,
          -1.3786061636774278,
          -1.3741802332737496,
          -1.3697810589750807,
          -1.365408235106361,
          -1.3610613652487984,
          -1.3567400619567853,
          -1.3524439464856295,
          -1.348172648529592,
          -1.3439258059697774,
          -1.3397030646314252,
          -1.33550407805019,
          -1.3313285072470025,
          -1.327176020511146,
          -1.3230462931911822,
          -1.3189390074933853,
          -1.3148538522873692,
          -1.3107905229185968,
          -1.3067487210274764,
          -1.3027281543747713,
          -1.2987285366730605,
          -1.2947495874240016,
          -1.2907910317611448,
          -1.2868526002980887,
          -1.282934028981744,
          -1.2790350589505124,
          -1.2751554363971793,
          -1.2712949124363244,
          -1.2674532429760905,
          -1.2636301885941175,
          -1.2598255144174937,
          -1.2560389900065707,
          -1.2522703892424765,
          -1.2485194902182069,
          -1.2447860751331414,
          -1.2410699301908656,
          -1.2373708455001706,
          -1.2336886149791129,
          -1.2300230362620237,
          -1.226373910609353,
          -1.2227410428202479,
          -1.219124241147774,
          -1.2155233172166664,
          -1.211938085943538,
          -1.2083683654594424,
          -1.204813977034724,
          -1.2012747450060555,
          -1.1977504967056032,
          -1.194241062392236,
          -1.19074627518471,
          -1.187265970996764,
          -1.1837999884740529,
          -1.1803481689328668,
          -1.1769103563005632,
          -1.1734863970576668,
          -1.170076140181572,
          -1.1666794370917977,
          -1.1632961415967524,
          -1.1599261098419347,
          -1.1565692002595551,
          -1.1532252735195074,
          -1.1498941924816592,
          -1.14657582214941,
          -1.1432700296244898,
          -1.1399766840629417,
          -1.1366956566322672,
          -1.133426820469682,
          -1.1301700506414656,
          -1.1269252241033514,
          -1.1236922196619408,
          -1.1204709179370997,
          -1.1172612013253125,
          -1.1140629539639642,
          -1.1108760616965176,
          -1.107700412038565,
          -1.1045358941447236,
          -1.1013823987763518,
          -1.098239818270064,
          -1.0951080465070084,
          -1.091986978882908,
          -1.088876512278816,
          -1.0857765450325874,
          -1.08268697691103,
          -1.079607709082725,
          -1.076538644091494,
          -1.0734796858304931,
          -1.0704307395169186,
          -1.0673917116673077,
          -1.0643625100734122,
          -1.0613430437786373,
          -1.0583332230550193,
          -1.0553329593807401,
          -1.0523421654181524,
          -1.0493607549923047,
          -1.046388643069957,
          -1.0434257457390708,
          -1.0404719801887554,
          -1.0375272646896687,
          -1.034591518574851,
          -1.0316646622209835,
          -1.0287466170300648,
          -1.0258373054114833,
          -1.022936650764488,
          -1.0200445774610387,
          -1.0171610108290257,
          -1.014285877135855,
          -1.0114191035723847,
          -1.0085606182372053,
          -1.005710350121255,
          -1.0028682290927602,
          -1.0000341858824953,
          -0.9972081520693514,
          -0.9943900600662088,
          -0.9915798431061004,
          -0.9887774352286662,
          -0.9859827712668857,
          -0.9831957868340818,
          -0.9804164183111951,
          -0.9776446028343138,
          -0.9748802782824595,
          -0.9721233832656183,
          -0.9693738571130146,
          -0.9666316398616198,
          -0.9638966722448893,
          -0.9611688956817256,
          -0.9584482522656588,
          -0.9557346847542417,
          -0.9530281365586519,
          -0.9503285517334988,
          -0.9476358749668283,
          -0.944950051570324,
          -0.9422710274696935,
          -0.9395987491952444,
          -0.936933163872639,
          -0.9342742192138261,
          -0.9316218635081447,
          -0.928976045613598,
          -0.926336714948291,
          -0.9237038214820296,
          -0.9210773157280767,
          -0.918457148735064,
          -0.9158432720790515,
          -0.913235637855736,
          -0.9106341986728039,
          -0.9080389076424221,
          -0.9054497183738697,
          -0.902866584966301,
          -0.9002894620016422,
          -0.8977183045376171,
          -0.8951530681008963,
          -0.8925937086803719,
          -0.8900401827205507,
          -0.8874924471150675,
          -0.8849504592003118,
          -0.8824141767491687,
          -0.879883557964869,
          -0.8773585614749486,
          -0.8748391463253133,
          -0.8723252719744071,
          -0.8698168982874821,
          -0.8673139855309677,
          -0.8648164943669367,
          -0.8623243858476675,
          -0.8598376214102982,
          -0.8573561628715735,
          -0.8548799724226802,
          -0.8524090126241703,
          -0.8499432464009701,
          -0.8474826370374737,
          -0.845027148172718,
          -0.8425767437956391,
          -0.8401313882404087,
          -0.8376910461818454,
          -0.8352556826309047,
          -0.8328252629302412,
          -0.8303997527498457,
          -0.8279791180827528,
          -0.8255633252408182,
          -0.8231523408505658,
          -0.820746131849101,
          -0.8183446654800914,
          -0.8159479092898112,
          -0.8135558311232493,
          -0.8111683991202799,
          -0.8087855817118943,
          -0.806407347616493,
          -0.8040336658362348,
          -0.8016645056534454,
          -0.7992998366270821,
          -0.7969396285892534,
          -0.7945838516417938,
          -0.7922324761528915,
          -0.7898854727537681,
          -0.7875428123354107,
          -0.7852044660453541,
          -0.7828704052845121,
          -0.7805406017040574,
          -0.7782150272023504,
          -0.7758936539219129,
          -0.7735764542464494,
          -0.7712634007979123,
          -0.7689544664336131,
          -0.7666496242433741,
          -0.7643488475467267,
          -0.7620521098901483,
          -0.7597593850443417,
          -0.7574706470015556,
          -0.7551858699729429,
          -0.7529050283859603,
          -0.750628096881805,
          -0.7483550503128882,
          -0.7460858637403467,
          -0.7438205124315915,
          -0.7415589718578898,
          -0.7393012176919841,
          -0.7370472258057444,
          -0.7347969722678559,
          -0.7325504333415371,
          -0.7303075854822935,
          -0.7280684053357017,
          -0.7258328697352254,
          -0.723600955700063,
          -0.7213726404330241,
          -0.7191479013184383,
          -0.7169267159200906,
          -0.7147090619791885,
          -0.7124949174123555,
          -0.7102842603096535,
          -0.7080770689326331,
          -0.7058733217124092,
          -0.7036729972477651,
          -0.7014760743032818,
          -0.6992825318074931,
          -0.6970923488510655,
          -0.6949055046850048,
          -0.6927219787188839,
          -0.6905417505190978,
          -0.6883647998071408,
          -0.6861911064579067,
          -0.6840206504980123,
          -0.6818534121041437,
          -0.679689371601424,
          -0.6775285094618035,
          -0.6753708063024713,
          -0.6732162428842859,
          -0.6710648001102308,
          -0.668916459023886,
          -0.666771200807923,
          -0.6646290067826167,
          -0.6624898584043798,
          -0.6603537372643133,
          -0.6582206250867779,
          -0.6560905037279832,
          -0.653963355174595,
          -0.6518391615423612,
          -0.6497179050747549,
          -0.6475995681416339,
          -0.6454841332379199,
          -0.6433715829822922,
          -0.6412619001158991,
          -0.6391550675010849,
          -0.6370510681201338,
          -0.6349498850740294,
          -0.6328515015812298,
          -0.6307559009764575,
          -0.6286630667095052,
          -0.6265729823440563,
          -0.6244856315565197,
          -0.6224009981348796,
          -0.6203190659775589,
          -0.6182398190922972,
          -0.6161632415950422,
          -0.6140893177088551,
          -0.612018031762829,
          -0.6099493681910203,
          -0.6078833115313944,
          -0.6058198464247821,
          -0.6037589576138508,
          -0.6017006299420862,
          -0.5996448483527876,
          -0.597591597888075,
          -0.5955408636879074,
          -0.5934926309891135,
          -0.5914468851244341,
          -0.5894036115215749,
          -0.5873627957022716,
          -0.5853244232813654,
          -0.5832884799658895,
          -0.581254951554167,
          -0.5792238239349173,
          -0.5771950830863763,
          -0.5751687150754236,
          -0.5731447060567215,
          -0.5711230422718643,
          -0.5691037100485359,
          -0.5670866957996782,
          -0.5650719860226703,
          -0.5630595672985134,
          -0.5610494262910288,
          -0.5590415497460635,
          -0.5570359244907042,
          -0.5550325374325018,
          -0.5530313755587032,
          -0.5510324259354925,
          -0.5490356757072407,
          -0.5470411120957637,
          -0.5450487223995887,
          -0.5430584939932283,
          -0.5410704143264639,
          -0.5390844709236355,
          -0.5371006513829408,
          -0.5351189433757407,
          -0.5331393346458737,
          -0.5311618130089767,
          -0.5291863663518149,
          -0.5272129826316164,
          -0.5252416498754169,
          -0.5232723561794093,
          -0.5213050897083018,
          -0.5193398386946825,
          -0.51737659143839,
          -0.5154153363058925,
          -0.5134560617296722,
          -0.5114987562076159,
          -0.5095434083024144,
          -0.5075900066409657,
          -0.5056385399137857,
          -0.5036889968744253,
          -0.5017413663388933,
          -0.49979563718508563,
          -0.4978517983522201,
          -0.4959098388402777,
          -0.493969747709449,
          -0.49203151407958773,
          -0.49009512712966763,
          -0.4881605760972473,
          -0.4862278502779395,
          -0.4842969390248859,
          -0.48236783174823733,
          -0.48044051791463954,
          -0.47851498704672407,
          -0.47659122872260423,
          -0.47466923257537613,
          -0.47274898829262574,
          -0.47083048561593904,
          -0.46891371434041856,
          -0.466998664314205,
          -0.46508532543800235,
          -0.4631736876646086,
          -0.46126374099845147,
          -0.4593554754951277,
          -0.45744888126094785,
          -0.45554394845248536,
          -0.45364066727612967,
          -0.4517390279876441,
          -0.44983902089172795,
          -0.44794063634158315,
          -0.4460438647384848,
          -0.44414869653135586,
          -0.44225512221634633,
          -0.44036313233641605,
          -0.4384727174809222,
          -0.4365838682852096,
          -0.4346965754302064,
          -0.4328108296420224,
          -0.430926621691552,
          -0.4290439423940805,
          -0.42716278260889423,
          -0.4252831332388945,
          -0.42340498523021514,
          -0.4215283295718433,
          -0.4196531572952447,
          -0.41777945947399114,
          -0.41590722722339246,
          -0.4140364517001313,
          -0.41216712410190204,
          -0.41029923566705223,
          -0.4084327776742275,
          -0.4065677414420203,
          -0.4047041183286211,
          -0.4028418997314736,
          -0.40098107708693204,
          -0.39912164186992255,
          -0.3972635855936069,
          -0.39540689980905014,
          -0.39355157610489,
          -0.39169760610701065,
          -0.38984498147821783,
          -0.38799369391791866,
          -0.3861437351618023,
          -0.38429509698152575,
          -0.38244777118439993,
          -0.38060174961308046,
          -0.37875702414526013,
          -0.37691358669336483,
          -0.37507142920425107,
          -0.3732305436589073,
          -0.37139092207215685,
          -0.36955255649236407,
          -0.36771543900114295,
          -0.3658795617130677,
          -0.3640449167753863,
          -0.3622114963677364,
          -0.3603792927018639,
          -0.3585482980213431,
          -0.35671850460130006,
          -0.35488990474813803,
          -0.3530624907992648,
          -0.3512362551228233,
          -0.34941119011742283,
          -0.34758728821187435,
          -0.34576454186492667,
          -0.3439429435650052,
          -0.34212248582995347,
          -0.34030316120677534,
          -0.3384849622713809,
          -0.3366678816283332,
          -0.33485191191059777,
          -0.33303704577929427,
          -0.3312232759234489,
          -0.3294105950597508,
          -0.3275989959323081,
          -0.32578847131240835,
          -0.3239790139982787,
          -0.32217061681484926,
          -0.32036327261351777,
          -0.31855697427191654,
          -0.316751714693681,
          -0.31494748680821955,
          -0.313144283570486,
          -0.31134209796075357,
          -0.3095409229843901,
          -0.3077407516716359,
          -0.3059415770773822,
          -0.30414339228095216,
          -0.3023461903858833,
          -0.3005499645197115,
          -0.2987547078337565,
          -0.2969604135029091,
          -0.29516707472542014,
          -0.2933746847226909,
          -0.29158323673906494,
          -0.2897927240416216,
          -0.2880031399199712,
          -0.28621447768605107,
          -0.2844267306739239,
          -0.2826398922395774,
          -0.2808539557607246,
          -0.27906891463660616,
          -0.2772847622877948,
          -0.2755014921559997,
          -0.2737190977038734,
          -0.2719375724148195,
          -0.2701569097928017,
          -0.26837710336215476,
          -0.26659814666739623,
          -0.2648200332730394,
          -0.26304275676340777,
          -0.26126631074245116,
          -0.2594906888335621,
          -0.25771588467939455,
          -0.25594189194168326,
          -0.2541687043010642,
          -0.25239631545689656,
          -0.2506247191270858,
          -0.2488539090479083,
          -0.2470838789738358,
          -0.24531462267736276,
          -0.24354613394883362,
          -0.24177840659627167,
          -0.2400114344452091,
          -0.2382452113385176,
          -0.23647973113624085,
          -0.2347149877154271,
          -0.23295097496996423,
          -0.23118768681041393,
          -0.22942511716384859,
          -0.2276632599736883,
          -0.22590210919953937,
          -0.2241416588170333,
          -0.22238190281766715,
          -0.2206228352086449,
          -0.21886445001271912,
          -0.21710674126803498,
          -0.21534970302797327,
          -0.21359332936099604,
          -0.21183761435049228,
          -0.21008255209462467,
          -0.20832813670617734,
          -0.20657436231240436,
          -0.20482122305487915,
          -0.203068713089345,
          -0.20131682658556552,
          -0.19956555772717774,
          -0.1978149007115438,
          -0.19606484974960506,
          -0.19431539906573647,
          -0.1925665428976018,
          -0.19081827549600958,
          -0.1890705911247699,
          -0.18732348406055188,
          -0.1855769485927419,
          -0.18383097902330328,
          -0.18208556966663503,
          -0.18034071484943304,
          -0.1785964089105511,
          -0.176852646200863,
          -0.17510942108312488,
          -0.17336672793183883,
          -0.17162456113311683,
          -0.1698829150845451,
          -0.16814178419505033,
          -0.16640116288476456,
          -0.16466104558489258,
          -0.16292142673757895,
          -0.161182300795776,
          -0.1594436622231123,
          -0.15770550549376192,
          -0.15596782509231405,
          -0.15423061551364345,
          -0.15249387126278116,
          -0.1507575868547867,
          -0.14902175681461924,
          -0.1472863756770107,
          -0.14555143798633904,
          -0.1438169382965019,
          -0.14208287117079088,
          -0.14034923118176634,
          -0.13861601291113282,
          -0.13688321094961478,
          -0.13515081989683336,
          -0.13341883436118268,
          -0.13168724895970746,
          -0.12995605831798104,
          -0.12822525706998342,
          -0.1264948398579803,
          -0.12476480133240217,
          -0.12303513615172412,
          -0.121305838982346,
          -0.11957690449847282,
          -0.11784832738199645,
          -0.1161201023223762,
          -0.11439222401652127,
          -0.11266468716867292,
          -0.11093748649028717,
          -0.10921061669991797,
          -0.1074840725231006,
          -0.10575784869223562,
          -0.10403193994647304,
          -0.10230634103159744,
          -0.10058104669991214,
          -0.09885605171012518,
          -0.0971313508272349,
          -0.09540693882241588,
          -0.09368281047290553,
          -0.09195896056189062,
          -0.09023538387839454,
          -0.08851207521716437,
          -0.08678902937855917,
          -0.08506624116843729,
          -0.083343705398045,
          -0.08162141688390505,
          -0.0798993704477056,
          -0.0781775609161893,
          -0.07645598312104275,
          -0.07473463189878621,
          -0.07301350209066355,
          -0.0712925885425324,
          -0.06957188610475507,
          -0.06785138963208853,
          -0.06613109398357588,
          -0.06441099402243741,
          -0.06269108461596203,
          -0.06097136063539882,
          -0.05925181695584904,
          -0.05753244845615804,
          -0.055813250018807437,
          -0.054094216529808135,
          -0.05237534287859212,
          -0.05065662395790586,
          -0.04893805466370315,
          -0.04721962989503833,
          -0.0455013445539596,
          -0.04378319354540255,
          -0.04206517177708381,
          -0.0403472741593949,
          -0.038629495605295994,
          -0.03691183103021061,
          -0.03519427535191898,
          -0.033476823490452993,
          -0.03175947036799051,
          -0.03004221090874995,
          -0.028325040038885013,
          -0.026607952686379447,
          -0.024890943780941994,
          -0.02317400825390121,
          -0.021457141038101108,
          -0.019740337067795516,
          -0.018023591278543825,
          -0.016306898607106192,
          -0.014590253991338896,
          -0.012873652370089774,
          -0.011157088683093699,
          -0.00944055787086812,
          -0.007724054874608484,
          -0.00600757463608441,
          -0.004291112097534494,
          -0.002574662201562523,
          -0.0008582198910330266,
          0.0008582198910330266,
          0.002574662201562523,
          0.004291112097534494,
          0.00600757463608441,
          0.007724054874608484,
          0.009440557870867979,
          0.011157088683093558,
          0.012873652370089635,
          0.014590253991338757,
          0.01630689860710633,
          0.018023591278543964,
          0.019740337067795655,
          0.021457141038101247,
          0.023174008253901347,
          0.024890943780941994,
          0.026607952686379447,
          0.028325040038885013,
          0.03004221090874995,
          0.03175947036799051,
          0.033476823490452993,
          0.03519427535191898,
          0.03691183103021061,
          0.038629495605295994,
          0.040347274159394764,
          0.042065171777083674,
          0.04378319354540241,
          0.04550134455395946,
          0.04721962989503819,
          0.04893805466370329,
          0.050656623957905995,
          0.05237534287859226,
          0.054094216529808274,
          0.055813250018807575,
          0.05753244845615804,
          0.05925181695584904,
          0.06097136063539882,
          0.06269108461596203,
          0.06441099402243741,
          0.06613109398357588,
          0.06785138963208853,
          0.06957188610475507,
          0.0712925885425324,
          0.07301350209066342,
          0.07473463189878607,
          0.07645598312104261,
          0.07817756091618916,
          0.07989937044770547,
          0.08162141688390519,
          0.08334370539804514,
          0.08506624116843743,
          0.08678902937855931,
          0.0885120752171645,
          0.09023538387839454,
          0.09195896056189062,
          0.09368281047290553,
          0.09540693882241588,
          0.0971313508272349,
          0.09885605171012518,
          0.10058104669991214,
          0.10230634103159744,
          0.10403193994647304,
          0.10575784869223548,
          0.10748407252310047,
          0.10921061669991783,
          0.11093748649028704,
          0.11266468716867278,
          0.11439222401652141,
          0.11612010232237634,
          0.11784832738199659,
          0.11957690449847296,
          0.121305838982346,
          0.12303513615172412,
          0.12476480133240217,
          0.1264948398579803,
          0.12822525706998342,
          0.12995605831798104,
          0.13168724895970746,
          0.13341883436118268,
          0.13515081989683336,
          0.13688321094961478,
          0.13861601291113268,
          0.1403492311817662,
          0.14208287117079074,
          0.14381693829650177,
          0.14555143798633918,
          0.14728637567701083,
          0.14902175681461938,
          0.15075758685478685,
          0.1524938712627813,
          0.15423061551364345,
          0.15596782509231405,
          0.15770550549376192,
          0.1594436622231123,
          0.161182300795776,
          0.16292142673757895,
          0.16466104558489258,
          0.16640116288476456,
          0.16814178419505033,
          0.1698829150845451,
          0.1716245611331167,
          0.1733667279318387,
          0.17510942108312474,
          0.17685264620086286,
          0.17859640891055123,
          0.18034071484943318,
          0.18208556966663517,
          0.18383097902330342,
          0.18557694859274204,
          0.18732348406055188,
          0.1890705911247699,
          0.19081827549600958,
          0.1925665428976018,
          0.19431539906573647,
          0.19606484974960506,
          0.1978149007115438,
          0.19956555772717774,
          0.20131682658556552,
          0.20306871308934485,
          0.20482122305487901,
          0.2065743623124042,
          0.2083281367061772,
          0.21008255209462454,
          0.21183761435049242,
          0.21359332936099623,
          0.2153497030279734,
          0.2171067412680351,
          0.21886445001271926,
          0.2206228352086449,
          0.22238190281766715,
          0.2241416588170333,
          0.22590210919953937,
          0.2276632599736883,
          0.22942511716384859,
          0.23118768681041393,
          0.23295097496996423,
          0.2347149877154271,
          0.2364797311362407,
          0.23824521133851745,
          0.24001143444520895,
          0.24177840659627153,
          0.24354613394883345,
          0.24531462267736293,
          0.24708387897383594,
          0.24885390904790844,
          0.25062471912708595,
          0.25239631545689656,
          0.2541687043010642,
          0.25594189194168326,
          0.25771588467939455,
          0.2594906888335621,
          0.26126631074245116,
          0.26304275676340777,
          0.2648200332730394,
          0.26659814666739623,
          0.26837710336215476,
          0.27015690979280155,
          0.27193757241481936,
          0.27371909770387326,
          0.2755014921559996,
          0.2772847622877947,
          0.2790689146366063,
          0.2808539557607247,
          0.2826398922395776,
          0.28442673067392404,
          0.28621447768605107,
          0.2880031399199712,
          0.2897927240416216,
          0.29158323673906494,
          0.2933746847226909,
          0.29516707472542014,
          0.2969604135029091,
          0.2987547078337565,
          0.3005499645197115,
          0.3023461903858833,
          0.30414339228095205,
          0.30594157707738207,
          0.3077407516716358,
          0.30954092298439,
          0.3113420979607537,
          0.3131442835704861,
          0.31494748680821966,
          0.3167517146936812,
          0.3185569742719167,
          0.32036327261351777,
          0.32217061681484926,
          0.3239790139982787,
          0.32578847131240835,
          0.3275989959323081,
          0.3294105950597508,
          0.3312232759234489,
          0.33303704577929427,
          0.33485191191059777,
          0.3366678816283331,
          0.3384849622713808,
          0.34030316120677523,
          0.3421224858299533,
          0.3439429435650051,
          0.3457645418649268,
          0.3475872882118745,
          0.34941119011742305,
          0.3512362551228234,
          0.353062490799265,
          0.35488990474813803,
          0.35671850460130006,
          0.3585482980213431,
          0.3603792927018639,
          0.3622114963677364,
          0.3640449167753863,
          0.3658795617130677,
          0.36771543900114295,
          0.36955255649236407,
          0.37139092207215674,
          0.3732305436589072,
          0.37507142920425096,
          0.37691358669336467,
          0.37875702414525997,
          0.3806017496130806,
          0.38244777118440015,
          0.3842950969815259,
          0.3861437351618025,
          0.38799369391791866,
          0.38984498147821783,
          0.39169760610701065,
          0.39355157610489,
          0.39540689980905014,
          0.3972635855936069,
          0.39912164186992255,
          0.40098107708693204,
          0.4028418997314736,
          0.4047041183286211,
          0.4065677414420201,
          0.4084327776742273,
          0.41029923566705206,
          0.4121671241019019,
          0.4140364517001312,
          0.4159072272233926,
          0.4177794594739913,
          0.4196531572952449,
          0.42152832957184344,
          0.42340498523021514,
          0.4252831332388945,
          0.42716278260889423,
          0.4290439423940805,
          0.430926621691552,
          0.4328108296420224,
          0.4346965754302064,
          0.4365838682852096,
          0.4384727174809222,
          0.44036313233641605,
          0.4422551222163462,
          0.4441486965313557,
          0.4460438647384846,
          0.44794063634158304,
          0.44983902089172806,
          0.4517390279876442,
          0.45364066727612984,
          0.4555439484524855,
          0.45744888126094796,
          0.4593554754951277,
          0.46126374099845147,
          0.4631736876646086,
          0.46508532543800235,
          0.466998664314205,
          0.46891371434041856,
          0.47083048561593904,
          0.47274898829262574,
          0.47466923257537613,
          0.47659122872260407,
          0.4785149870467239,
          0.4804405179146394,
          0.48236783174823716,
          0.48429693902488574,
          0.4862278502779397,
          0.4881605760972475,
          0.49009512712966774,
          0.49203151407958795,
          0.49396974770944924,
          0.4959098388402777,
          0.4978517983522201,
          0.49979563718508563,
          0.5017413663388933,
          0.5036889968744253,
          0.5056385399137857,
          0.5075900066409657,
          0.5095434083024144,
          0.5114987562076159,
          0.5134560617296721,
          0.5154153363058924,
          0.5173765914383899,
          0.5193398386946823,
          0.5213050897083017,
          0.5232723561794094,
          0.525241649875417,
          0.5272129826316166,
          0.5291863663518147,
          0.5311618130089766,
          0.5331393346458734,
          0.5351189433757404,
          0.5371006513829405,
          0.5390844709236353,
          0.5410704143264636,
          0.5430584939932279,
          0.5450487223995883,
          0.5470411120957633,
          0.5490356757072407,
          0.5510324259354924,
          0.5530313755587031,
          0.5550325374325017,
          0.557035924490704,
          0.5590415497460632,
          0.5610494262910286,
          0.5630595672985133,
          0.5650719860226702,
          0.5670866957996781,
          0.5691037100485354,
          0.571123042271864,
          0.5731447060567212,
          0.5751687150754232,
          0.577195083086376,
          0.579223823934917,
          0.5812549515541666,
          0.5832884799658893,
          0.585324423281365,
          0.5873627957022716,
          0.5894036115215747,
          0.591446885124434,
          0.5934926309891133,
          0.5955408636879073,
          0.5975915978880748,
          0.5996448483527875,
          0.6017006299420861,
          0.6037589576138507,
          0.6058198464247819,
          0.6078833115313941,
          0.60994936819102,
          0.6120180317628285,
          0.6140893177088548,
          0.6161632415950419,
          0.6182398190922969,
          0.6203190659775586,
          0.6224009981348793,
          0.6244856315565193,
          0.6265729823440562,
          0.628663066709505,
          0.6307559009764573,
          0.6328515015812297,
          0.6349498850740292,
          0.6370510681201336,
          0.6391550675010848,
          0.641261900115899,
          0.6433715829822921,
          0.6454841332379198,
          0.6475995681416336,
          0.6497179050747545,
          0.651839161542361,
          0.6539633551745947,
          0.6560905037279827,
          0.6582206250867776,
          0.660353737264313,
          0.6624898584043796,
          0.6646290067826167,
          0.6667712008079228,
          0.6689164590238859,
          0.6710648001102305,
          0.6732162428842857,
          0.6753708063024709,
          0.6775285094618034,
          0.6796893716014237,
          0.6818534121041433,
          0.6840206504980119,
          0.6861911064579064,
          0.6883647998071405,
          0.6905417505190975,
          0.6927219787188835,
          0.6949055046850044,
          0.6970923488510653,
          0.6992825318074927,
          0.7014760743032814,
          0.7036729972477648,
          0.7058733217124092,
          0.7080770689326331,
          0.7102842603096535,
          0.7124949174123553,
          0.7147090619791883,
          0.7169267159200905,
          0.719147901318438,
          0.721372640433024,
          0.7236009557000627,
          0.7258328697352251,
          0.7280684053357013,
          0.730307585482293,
          0.7325504333415367,
          0.7347969722678556,
          0.7370472258057441,
          0.7393012176919836,
          0.7415589718578894,
          0.7438205124315911,
          0.7460858637403465,
          0.7483550503128882,
          0.750628096881805,
          0.7529050283859603,
          0.7551858699729428,
          0.7574706470015553,
          0.7597593850443416,
          0.7620521098901482,
          0.7643488475467266,
          0.7666496242433739,
          0.7689544664336126,
          0.771263400797912,
          0.7735764542464489,
          0.7758936539219126,
          0.77821502720235,
          0.780540601704057,
          0.7828704052845117,
          0.7852044660453539,
          0.7875428123354102,
          0.7898854727537677,
          0.7922324761528915,
          0.7945838516417938,
          0.7969396285892534,
          0.7992998366270819,
          0.8016645056534453,
          0.8040336658362346,
          0.8064073476164929,
          0.8087855817118942,
          0.8111683991202795,
          0.8135558311232489,
          0.8159479092898108,
          0.818344665480091,
          0.8207461318491005,
          0.8231523408505653,
          0.8255633252408179,
          0.8279791180827524,
          0.8303997527498452,
          0.8328252629302407,
          0.8352556826309047,
          0.8376910461818454,
          0.8401313882404087,
          0.8425767437956391,
          0.8450271481727176,
          0.8474826370374735,
          0.84994324640097,
          0.85240901262417,
          0.85487997242268,
          0.8573561628715731,
          0.8598376214102977,
          0.862324385847667,
          0.8648164943669363,
          0.8673139855309673,
          0.8698168982874819,
          0.8723252719744068,
          0.874839146325313,
          0.8773585614749481,
          0.8798835579648685,
          0.8824141767491687,
          0.8849504592003118,
          0.8874924471150675,
          0.8900401827205506,
          0.8925937086803717,
          0.8951530681008962,
          0.897718304537617,
          0.9002894620016418,
          0.9028665849663006,
          0.9054497183738692,
          0.9080389076424219,
          0.9106341986728034,
          0.9132356378557356,
          0.9158432720790509,
          0.9184571487350636,
          0.9210773157280762,
          0.923703821482029,
          0.9263367149482906,
          0.9289760456135976,
          0.9316218635081447,
          0.9342742192138261,
          0.936933163872639,
          0.9395987491952444,
          0.9422710274696932,
          0.9449500515703237,
          0.9476358749668283,
          0.9503285517334984,
          0.9530281365586516,
          0.9557346847542414,
          0.9584482522656584,
          0.9611688956817248,
          0.9638966722448887,
          0.9666316398616194,
          0.9693738571130143,
          0.9721233832656179,
          0.9748802782824589,
          0.9776446028343133,
          0.9804164183111947,
          0.9831957868340818,
          0.9859827712668857,
          0.9887774352286662,
          0.9915798431061,
          0.9943900600662084,
          0.997208152069351,
          1.0000341858824946,
          1.0028682290927597,
          1.0057103501212548,
          1.0085606182372049,
          1.011419103572384,
          1.0142858771358545,
          1.0171610108290254,
          1.020044577461038,
          1.0229366507644875,
          1.0258373054114829,
          1.028746617030064,
          1.0316646622209833,
          1.034591518574851,
          1.0375272646896687,
          1.0404719801887554,
          1.0434257457390708,
          1.0463886430699567,
          1.049360754992304,
          1.0523421654181522,
          1.0553329593807401,
          1.0583332230550189,
          1.0613430437786364,
          1.0643625100734118,
          1.0673917116673073,
          1.0704307395169184,
          1.073479685830493,
          1.0765386440914937,
          1.0796077090827245,
          1.0826869769110297,
          1.085776545032587,
          1.0888765122788158,
          1.091986978882908,
          1.0951080465070084,
          1.098239818270064,
          1.1013823987763522,
          1.1045358941447236,
          1.107700412038565,
          1.1108760616965176,
          1.1140629539639642,
          1.117261201325312,
          1.120470917937099,
          1.1236922196619403,
          1.126925224103351,
          1.1301700506414654,
          1.1334268204696816,
          1.1366956566322668,
          1.1399766840629413,
          1.1432700296244893,
          1.1465758221494093,
          1.149894192481658,
          1.1532252735195074,
          1.1565692002595547,
          1.1599261098419347,
          1.163296141596752,
          1.1666794370917977,
          1.1700761401815711,
          1.1734863970576668,
          1.1769103563005632,
          1.1803481689328665,
          1.1837999884740529,
          1.1872659709967635,
          1.1907462751847093,
          1.1942410623922353,
          1.1977504967056032,
          1.201274745006055,
          1.2048139770347235,
          1.208368365459442,
          1.2119380859435371,
          1.215523317216666,
          1.219124241147774,
          1.2227410428202479,
          1.2263739106093516,
          1.2300230362620237,
          1.2336886149791122,
          1.23737084550017,
          1.241069930190865,
          1.2447860751331414,
          1.2485194902182064,
          1.2522703892424758,
          1.2560389900065698,
          1.2598255144174932,
          1.2636301885941168,
          1.26745324297609,
          1.271294912436324,
          1.275155436397178,
          1.2790350589505117,
          1.2829340289817428,
          1.2868526002980887,
          1.2907910317611448,
          1.2947495874240016,
          1.2987285366730605,
          1.3027281543747704,
          1.3067487210274764,
          1.3107905229185968,
          1.3148538522873685,
          1.3189390074933844,
          1.3230462931911817,
          1.327176020511146,
          1.331328507247002,
          1.3355040780501892,
          1.3397030646314247,
          1.3439258059697767,
          1.3481726485295915,
          1.352443946485629,
          1.3567400619567849,
          1.3610613652487973,
          1.365408235106361,
          1.3697810589750807,
          1.3741802332737496,
          1.3786061636774274,
          1.3830592654118488,
          1.387539963559716,
          1.3920486933794467,
          1.396585900637006,
          1.4011520419514691,
          1.4057475851550012,
          1.4103730096679943,
          1.4150288068901298,
          1.4197154806081944,
          1.4244335474215142,
          1.4291835371859434,
          1.433965993477377,
          1.4387814740758504,
          1.443630551471316,
          1.448513813392297,
          1.453431863358668,
          1.4583853212598927,
          1.4633748239601694,
          1.4684010259319833,
          1.4734645999196982,
          1.4785662376349238,
          1.4837066504855034,
          1.4888865703401066,
          1.494106750330536,
          1.4993679656940224,
          1.504671014657926,
          1.5100167193694451,
          1.5154059268731266,
          1.5208395101391616,
          1.526318369145686,
          1.53184343201854,
          1.5374156562321972,
          1.543036029875873,
          1.5487055729891122,
          1.554425338971509,
          1.5601964160715662,
          1.5660199289601255,
          1.5718970403942023,
          1.5778289529775718,
          1.5838169110249731,
          1.5898622025373461,
          1.5959661612961897,
          1.6021301690857965,
          1.6083556580528826,
          1.6146441132139921,
          1.6209970751219596,
          1.6274161427037532,
          1.633902976283145,
          1.6404593008028996,
          1.647086909262582,
          1.6537876663895867,
          1.6605635125627365,
          1.6674164680096712,
          1.6743486373013876,
          1.6813622141696296,
          1.6884594866755085,
          1.6956428427606423,
          1.7029147762154606,
          1.7102778931030258,
          1.7177349186809119,
          1.7252887048684178,
          1.7329422383117121,
          1.7406986491055407,
          1.7485612202369938,
          1.756533397824552,
          1.7646188022345282,
          1.7728212401670627,
          1.7811447178154074,
          1.7895934552154011,
          1.7981719019172833,
          1.8068847541294026,
          1.8157369735036384,
          1.8247338077556343,
          1.8338808133401525,
          1.8431838804333347,
          1.8526492605105989,
          1.8622835968520257,
          1.872093958357833,
          1.8820878771163607,
          1.8922733902377344,
          1.9026590865504274,
          1.9132541588581065,
          1.9240684625740412,
          1.935112581694454,
          1.9463979032461367,
          1.9579367015546074,
          1.9697422339361612,
          1.9818288497320564,
          1.9942121149908139,
          2.006908955584855,
          2.0199378221459376,
          2.0333188809539475,
          2.047074235860352,
          2.0612281875310057,
          2.075807537834446,
          2.090841949191909,
          2.106364371297075,
          2.1224115510199066,
          2.1390246458303936,
          2.1562499671434106,
          2.174139888216208,
          2.1927539625368406,
          2.2121603143850797,
          2.2324373854906985,
          2.2536761536476533,
          2.2759829858004466,
          2.299483357623827,
          2.3243267774067817,
          2.350693416979401,
          2.378803216572884,
          2.4089286666897327,
          2.4414132158894533,
          2.4766985810550297,
          2.5153667138865514,
          2.5582070643057895,
          2.6063300931239155,
          2.661371628034589,
          2.7258928953017927,
          2.804257577088826,
          2.9048970543730204,
          3.0479322815593726,
          3.3051395167814683
         ],
         "xaxis": "x",
         "y": [
          34900,
          35311,
          37900,
          39300,
          40000,
          52000,
          52500,
          55000,
          55000,
          55993,
          58500,
          60000,
          60000,
          60000,
          61000,
          62383,
          64500,
          66500,
          67000,
          67000,
          68400,
          68500,
          72500,
          73000,
          75000,
          75500,
          76000,
          76500,
          78000,
          79000,
          79000,
          79000,
          79500,
          79900,
          79900,
          80000,
          80000,
          80000,
          80000,
          80500,
          81000,
          81000,
          81000,
          82000,
          82000,
          82000,
          82500,
          82500,
          82500,
          83000,
          83000,
          83500,
          84000,
          84500,
          84500,
          84500,
          84900,
          85000,
          85000,
          85000,
          85000,
          85400,
          85500,
          86000,
          86000,
          86000,
          87000,
          87000,
          87000,
          87000,
          87500,
          88000,
          88000,
          88000,
          88000,
          89000,
          89471,
          89500,
          89500,
          90000,
          90000,
          90000,
          90350,
          91000,
          91000,
          91000,
          91300,
          91500,
          91500,
          92000,
          92900,
          93000,
          93000,
          93000,
          93500,
          93500,
          94000,
          94500,
          94750,
          95000,
          95000,
          96500,
          96500,
          97000,
          97000,
          97000,
          97500,
          98000,
          98000,
          98000,
          98300,
          98600,
          99500,
          99900,
          100000,
          100000,
          100000,
          100000,
          100000,
          100000,
          100000,
          100000,
          100000,
          101000,
          101800,
          102000,
          102000,
          102000,
          102776,
          103000,
          103200,
          103600,
          104000,
          104900,
          104900,
          105000,
          105000,
          105000,
          105000,
          105000,
          105500,
          105900,
          106000,
          106000,
          106000,
          106250,
          106500,
          106500,
          107000,
          107000,
          107000,
          107400,
          107500,
          107500,
          107500,
          107900,
          108000,
          108000,
          108000,
          108000,
          108000,
          108000,
          108480,
          108500,
          108959,
          109000,
          109000,
          109008,
          109500,
          109500,
          109500,
          109500,
          109900,
          109900,
          109900,
          110000,
          110000,
          110000,
          110000,
          110000,
          110000,
          110000,
          110000,
          110000,
          110000,
          110000,
          110000,
          110000,
          110500,
          110500,
          111000,
          111250,
          112000,
          112000,
          112000,
          112000,
          112000,
          112000,
          112000,
          112500,
          112500,
          113000,
          113000,
          113000,
          113000,
          113000,
          113000,
          114500,
          114500,
          114504,
          115000,
          115000,
          115000,
          115000,
          115000,
          115000,
          115000,
          115000,
          115000,
          115000,
          115000,
          115000,
          116000,
          116000,
          116000,
          116050,
          116500,
          116900,
          117000,
          117000,
          117000,
          117000,
          117500,
          117500,
          118000,
          118000,
          118000,
          118000,
          118000,
          118000,
          118400,
          118500,
          118500,
          118500,
          118500,
          118858,
          118964,
          119000,
          119000,
          119000,
          119000,
          119000,
          119000,
          119000,
          119200,
          119500,
          119500,
          119500,
          119500,
          119750,
          119900,
          119900,
          120000,
          120000,
          120000,
          120000,
          120000,
          120000,
          120000,
          120500,
          120500,
          120500,
          120500,
          121000,
          121500,
          121600,
          122000,
          122000,
          122000,
          122000,
          122500,
          122500,
          122900,
          123000,
          123000,
          123000,
          123000,
          123500,
          123600,
          124000,
          124000,
          124000,
          124000,
          124000,
          124000,
          124500,
          124500,
          124500,
          124500,
          124900,
          124900,
          125000,
          125000,
          125000,
          125000,
          125000,
          125000,
          125000,
          125000,
          125000,
          125000,
          125500,
          125500,
          125500,
          125500,
          126000,
          126000,
          126000,
          126175,
          126500,
          127000,
          127000,
          127000,
          127000,
          127000,
          127000,
          127000,
          127000,
          127000,
          127500,
          127500,
          127500,
          127500,
          127500,
          127500,
          128000,
          128000,
          128000,
          128000,
          128000,
          128000,
          128000,
          128200,
          128500,
          128500,
          128500,
          128500,
          128900,
          128950,
          129000,
          129000,
          129000,
          129000,
          129000,
          129000,
          129000,
          129000,
          129500,
          129500,
          129500,
          129500,
          129900,
          129900,
          129900,
          129900,
          130000,
          130000,
          130000,
          130000,
          130000,
          130000,
          130000,
          130000,
          130000,
          130000,
          130000,
          130250,
          130500,
          130500,
          130500,
          131000,
          131000,
          131000,
          131400,
          131500,
          131500,
          131500,
          132000,
          132000,
          132000,
          132000,
          132000,
          132000,
          132250,
          132500,
          132500,
          132500,
          132500,
          132500,
          132500,
          133000,
          133000,
          133000,
          133000,
          133000,
          133000,
          133500,
          133700,
          133900,
          133900,
          134000,
          134000,
          134000,
          134432,
          134450,
          134500,
          134500,
          134800,
          134900,
          134900,
          135000,
          135000,
          135000,
          135000,
          135000,
          135000,
          135000,
          135000,
          135000,
          135000,
          135000,
          135000,
          135000,
          135000,
          135000,
          135000,
          135000,
          135500,
          135500,
          135750,
          135900,
          135960,
          136000,
          136000,
          136000,
          136500,
          136500,
          136500,
          136500,
          136500,
          136900,
          136905,
          137000,
          137000,
          137000,
          137000,
          137000,
          137450,
          137500,
          137500,
          137500,
          137500,
          137500,
          137500,
          137900,
          138000,
          138000,
          138000,
          138500,
          138500,
          138800,
          138887,
          139000,
          139000,
          139000,
          139000,
          139000,
          139000,
          139000,
          139000,
          139000,
          139000,
          139000,
          139400,
          139400,
          139500,
          139600,
          139900,
          139950,
          140000,
          140000,
          140000,
          140000,
          140000,
          140000,
          140000,
          140000,
          140000,
          140000,
          140000,
          140000,
          140000,
          140000,
          140000,
          140000,
          140000,
          140000,
          140000,
          140000,
          140200,
          141000,
          141000,
          141000,
          141000,
          141000,
          141000,
          141000,
          141000,
          141500,
          142000,
          142000,
          142000,
          142000,
          142125,
          142500,
          142500,
          142500,
          142600,
          142953,
          143000,
          143000,
          143000,
          143000,
          143000,
          143000,
          143000,
          143000,
          143000,
          143000,
          143250,
          143500,
          143500,
          143750,
          143900,
          144000,
          144000,
          144000,
          144000,
          144000,
          144000,
          144000,
          144000,
          144000,
          144000,
          144152,
          144500,
          144500,
          144900,
          145000,
          145000,
          145000,
          145000,
          145000,
          145000,
          145000,
          145000,
          145000,
          145000,
          145000,
          145000,
          145000,
          145000,
          145250,
          145500,
          145900,
          146000,
          146000,
          146000,
          146500,
          146800,
          147000,
          147000,
          147000,
          147000,
          147000,
          147000,
          147000,
          147000,
          147000,
          147400,
          147500,
          148000,
          148000,
          148000,
          148000,
          148000,
          148000,
          148000,
          148500,
          148500,
          148500,
          148800,
          149000,
          149000,
          149000,
          149000,
          149300,
          149350,
          149500,
          149500,
          149700,
          149900,
          149900,
          149900,
          149900,
          150000,
          150000,
          150000,
          150000,
          150500,
          150750,
          150900,
          151000,
          151000,
          151000,
          151000,
          151000,
          151400,
          151500,
          152000,
          152000,
          152000,
          152000,
          152000,
          152000,
          153000,
          153000,
          153000,
          153337,
          153500,
          153500,
          153500,
          153575,
          153900,
          153900,
          154000,
          154000,
          154000,
          154000,
          154000,
          154300,
          154500,
          154900,
          155000,
          155000,
          155000,
          155000,
          155000,
          155000,
          155000,
          155000,
          155000,
          155000,
          155000,
          155000,
          155000,
          155000,
          155835,
          155900,
          156000,
          156000,
          156000,
          156000,
          156500,
          156932,
          157000,
          157000,
          157000,
          157000,
          157000,
          157000,
          157500,
          157500,
          157900,
          157900,
          158000,
          158000,
          158000,
          158000,
          158000,
          158000,
          158500,
          158900,
          159000,
          159000,
          159000,
          159000,
          159434,
          159500,
          159500,
          159500,
          159895,
          159950,
          160000,
          160000,
          160000,
          160000,
          160000,
          160000,
          160000,
          160000,
          160000,
          160000,
          160000,
          160000,
          160200,
          161000,
          161000,
          161500,
          161500,
          161750,
          162000,
          162000,
          162000,
          162000,
          162500,
          162900,
          162900,
          163000,
          163000,
          163000,
          163000,
          163500,
          163500,
          163900,
          163990,
          164000,
          164000,
          164000,
          164500,
          164500,
          164700,
          164900,
          164990,
          165000,
          165000,
          165000,
          165000,
          165000,
          165000,
          165000,
          165000,
          165150,
          165400,
          165500,
          165500,
          165500,
          165600,
          166000,
          166000,
          167000,
          167000,
          167000,
          167000,
          167240,
          167500,
          167500,
          167500,
          167900,
          167900,
          168000,
          168000,
          168000,
          168000,
          168500,
          168500,
          168500,
          169000,
          169000,
          169000,
          169500,
          169500,
          169900,
          169990,
          170000,
          170000,
          170000,
          170000,
          170000,
          170000,
          170000,
          170000,
          171000,
          171000,
          171000,
          171000,
          171000,
          171500,
          171750,
          171900,
          172000,
          172400,
          172500,
          172500,
          172500,
          172500,
          172500,
          172785,
          173000,
          173000,
          173000,
          173000,
          173000,
          173000,
          173000,
          173500,
          173733,
          173900,
          174000,
          174000,
          174000,
          174000,
          174000,
          174000,
          174000,
          174500,
          174900,
          175000,
          175000,
          175000,
          175000,
          175000,
          175000,
          175000,
          175000,
          175000,
          175500,
          175500,
          175500,
          175900,
          175900,
          176000,
          176000,
          176000,
          176000,
          176000,
          176000,
          176000,
          176000,
          176432,
          176485,
          176500,
          176500,
          177000,
          177000,
          177000,
          177000,
          177000,
          177500,
          177500,
          177500,
          178000,
          178000,
          178000,
          178000,
          178000,
          178000,
          178000,
          178400,
          178740,
          178900,
          179000,
          179000,
          179000,
          179200,
          179200,
          179400,
          179500,
          179540,
          179600,
          179665,
          179900,
          179900,
          179900,
          179900,
          179900,
          180000,
          180000,
          180000,
          180000,
          180000,
          180000,
          180000,
          180000,
          180000,
          180000,
          180500,
          180500,
          180500,
          180500,
          181000,
          181000,
          181000,
          181000,
          181000,
          181000,
          181000,
          181134,
          181500,
          181900,
          182000,
          182900,
          183000,
          183200,
          183500,
          183900,
          184000,
          184000,
          184000,
          184000,
          184100,
          184750,
          184900,
          185000,
          185000,
          185000,
          185000,
          185000,
          185000,
          185000,
          185000,
          185000,
          185000,
          185500,
          185750,
          185850,
          185900,
          186000,
          186500,
          186500,
          186700,
          187000,
          187000,
          187000,
          187100,
          187500,
          187500,
          187500,
          187500,
          187500,
          187500,
          187750,
          188000,
          188000,
          188000,
          188500,
          188700,
          189000,
          189000,
          189000,
          189000,
          189000,
          189000,
          189950,
          190000,
          190000,
          190000,
          190000,
          190000,
          190000,
          190000,
          190000,
          190000,
          190000,
          190000,
          190000,
          190000,
          191000,
          191000,
          191000,
          191000,
          192000,
          192000,
          192000,
          192000,
          192000,
          192140,
          192500,
          192500,
          193000,
          193000,
          193000,
          193500,
          193500,
          193879,
          194000,
          194000,
          194000,
          194201,
          194500,
          194500,
          194500,
          194700,
          195000,
          195000,
          195000,
          195400,
          196000,
          196000,
          196000,
          196500,
          196500,
          197000,
          197000,
          197000,
          197000,
          197500,
          197500,
          197900,
          197900,
          197900,
          198500,
          198900,
          199900,
          199900,
          200000,
          200000,
          200000,
          200000,
          200000,
          200000,
          200000,
          200000,
          200100,
          200141,
          200500,
          200500,
          200624,
          201000,
          201000,
          201000,
          201800,
          202500,
          202500,
          202500,
          202665,
          202900,
          203000,
          203000,
          204000,
          204000,
          204750,
          204900,
          205000,
          205000,
          205000,
          205000,
          205000,
          205000,
          205950,
          206000,
          206300,
          206900,
          207000,
          207000,
          207500,
          207500,
          207500,
          207500,
          207500,
          208300,
          208500,
          208900,
          208900,
          209500,
          210000,
          210000,
          210000,
          210000,
          210000,
          211000,
          211000,
          212000,
          212000,
          212000,
          212900,
          213000,
          213000,
          213000,
          213250,
          213490,
          213500,
          213500,
          214000,
          214000,
          214000,
          214000,
          214000,
          214500,
          214900,
          215000,
          215000,
          215000,
          215000,
          215000,
          215000,
          215000,
          215000,
          215200,
          216000,
          216500,
          216837,
          217000,
          217000,
          217500,
          218000,
          219210,
          219500,
          219500,
          219500,
          220000,
          220000,
          220000,
          220000,
          220000,
          221000,
          221000,
          221500,
          222000,
          222000,
          222000,
          222500,
          222500,
          223000,
          223500,
          223500,
          224000,
          224000,
          224500,
          224900,
          224900,
          225000,
          225000,
          225000,
          225000,
          225000,
          225000,
          226000,
          226000,
          226000,
          226700,
          227000,
          227000,
          227000,
          227680,
          227875,
          228000,
          228000,
          228500,
          228500,
          228950,
          229000,
          229456,
          230000,
          230000,
          230000,
          230000,
          230000,
          230000,
          230000,
          230000,
          230500,
          231500,
          231500,
          232000,
          232000,
          232000,
          232600,
          233000,
          233170,
          233230,
          234000,
          234000,
          235000,
          235000,
          235000,
          235000,
          235000,
          235000,
          235000,
          235128,
          236000,
          236000,
          236500,
          236500,
          237000,
          237000,
          237500,
          238000,
          239000,
          239000,
          239000,
          239000,
          239000,
          239000,
          239500,
          239686,
          239799,
          239900,
          240000,
          240000,
          240000,
          240000,
          240000,
          240000,
          241000,
          241500,
          241500,
          242000,
          242000,
          243000,
          244000,
          244000,
          244000,
          244400,
          244600,
          245000,
          245350,
          245500,
          246578,
          248000,
          248000,
          248328,
          248900,
          249700,
          250000,
          250000,
          250000,
          250000,
          250000,
          250000,
          250000,
          250000,
          250580,
          251000,
          252000,
          252678,
          253000,
          253293,
          254000,
          254900,
          255000,
          255000,
          255500,
          255900,
          256000,
          256000,
          256300,
          257000,
          257500,
          258000,
          259000,
          259500,
          260000,
          260000,
          260000,
          260000,
          260000,
          260000,
          260400,
          261500,
          262000,
          262280,
          262500,
          262500,
          263000,
          263435,
          264132,
          264561,
          265000,
          265900,
          265979,
          266000,
          266000,
          266500,
          267000,
          268000,
          268000,
          269500,
          269790,
          270000,
          270000,
          270000,
          271000,
          271000,
          271900,
          272000,
          272000,
          274000,
          274300,
          274725,
          274900,
          274970,
          275000,
          275000,
          275000,
          275000,
          275000,
          275500,
          276000,
          277000,
          277000,
          277500,
          278000,
          278000,
          279500,
          280000,
          280000,
          280000,
          280000,
          281000,
          281213,
          282922,
          283463,
          284000,
          284000,
          285000,
          285000,
          285000,
          286000,
          287000,
          287000,
          287090,
          289000,
          290000,
          290000,
          290000,
          290000,
          290000,
          293077,
          294000,
          295000,
          295493,
          297000,
          299800,
          301000,
          301500,
          302000,
          302000,
          303477,
          305000,
          305900,
          306000,
          307000,
          309000,
          310000,
          310000,
          311500,
          311872,
          312500,
          313000,
          314813,
          315000,
          315000,
          315000,
          315000,
          315500,
          315750,
          316600,
          317000,
          318000,
          318000,
          318061,
          319000,
          319900,
          320000,
          320000,
          320000,
          320000,
          324000,
          325000,
          325000,
          325000,
          325000,
          325300,
          325624,
          326000,
          328000,
          328900,
          333168,
          335000,
          335000,
          335000,
          336000,
          337000,
          337500,
          339750,
          340000,
          340000,
          341000,
          342643,
          345000,
          345000,
          348000,
          350000,
          350000,
          354000,
          359100,
          360000,
          361919,
          367294,
          369900,
          370878,
          372402,
          372500,
          374000,
          375000,
          377426,
          377500,
          378500,
          380000,
          381000,
          383970,
          385000,
          385000,
          386250,
          392000,
          392500,
          394432,
          394617,
          395000,
          395192,
          402000,
          402861,
          403000,
          410000,
          412500,
          415298,
          423000,
          424870,
          426000,
          430000,
          437154,
          438780,
          440000,
          446261,
          451950,
          465000,
          466500,
          475000,
          485000,
          501837,
          538000,
          555000,
          556581,
          582933,
          611657,
          625000,
          745000,
          755000
         ],
         "yaxis": "y"
        },
        {
         "line": {
          "color": "green"
         },
         "mode": "lines",
         "name": "Normal Line",
         "type": "scatter",
         "x": [
          -3.3051395167814683,
          -3.0479322815593966,
          -2.904897054373036,
          -2.804257577088836,
          -2.7258928953018007,
          -2.661371628034595,
          -2.606330093123921,
          -2.558207064305793,
          -2.5153667138865545,
          -2.4766985810550324,
          -2.4414132158894555,
          -2.408928666689735,
          -2.378803216572886,
          -2.3506934169794063,
          -2.3243267774067866,
          -2.299483357623831,
          -2.27598298580045,
          -2.253676153647657,
          -2.2324373854907016,
          -2.2121603143850823,
          -2.192753962536843,
          -2.1741398882162106,
          -2.1562499671434123,
          -2.1390246458303954,
          -2.122411551019908,
          -2.1063643712970768,
          -2.0908419491919106,
          -2.0758075378344465,
          -2.061228187531006,
          -2.047074235860353,
          -2.0333188809539484,
          -2.019937822145938,
          -2.0069089555848576,
          -1.9942121149908159,
          -1.9818288497320584,
          -1.9697422339361639,
          -1.9579367015546087,
          -1.9463979032461383,
          -1.9351125816944554,
          -1.9240684625740423,
          -1.913254158858108,
          -1.902659086550429,
          -1.8922733902377356,
          -1.8820878771163612,
          -1.8720939583578335,
          -1.8622835968520262,
          -1.8526492605106,
          -1.8431838804333354,
          -1.833880813340153,
          -1.8247338077556352,
          -1.8157369735036384,
          -1.8068847541294042,
          -1.7981719019172842,
          -1.7895934552154027,
          -1.781144717815409,
          -1.7728212401670644,
          -1.7646188022345295,
          -1.7565333978245536,
          -1.748561220236995,
          -1.7406986491055418,
          -1.7329422383117126,
          -1.725288704868419,
          -1.7177349186809125,
          -1.710277893103026,
          -1.7029147762154613,
          -1.695642842760643,
          -1.688459486675509,
          -1.68136221416963,
          -1.6743486373013883,
          -1.6674164680096728,
          -1.6605635125627376,
          -1.6537876663895876,
          -1.6470869092625828,
          -1.6404593008029007,
          -1.6339029762831458,
          -1.6274161427037548,
          -1.6209970751219607,
          -1.614644113213993,
          -1.6083556580528837,
          -1.602130169085797,
          -1.5959661612961904,
          -1.5898622025373461,
          -1.5838169110249731,
          -1.5778289529775722,
          -1.5718970403942023,
          -1.5660199289601262,
          -1.5601964160715662,
          -1.5544253389715095,
          -1.548705572989113,
          -1.543036029875874,
          -1.5374156562321981,
          -1.5318434320185408,
          -1.5263183691456872,
          -1.5208395101391625,
          -1.515405926873127,
          -1.5100167193694458,
          -1.5046710146579263,
          -1.4993679656940233,
          -1.4941067503305367,
          -1.488886570340107,
          -1.483706650485504,
          -1.4785662376349242,
          -1.473464599919699,
          -1.4684010259319837,
          -1.46337482396017,
          -1.4583853212598927,
          -1.4534318633586685,
          -1.4485138133922981,
          -1.4436305514713166,
          -1.4387814740758507,
          -1.433965993477378,
          -1.4291835371859438,
          -1.4244335474215153,
          -1.4197154806081949,
          -1.4150288068901304,
          -1.410373009667995,
          -1.4057475851550019,
          -1.40115204195147,
          -1.396585900637007,
          -1.3920486933794467,
          -1.3875399635597165,
          -1.3830592654118496,
          -1.3786061636774278,
          -1.3741802332737496,
          -1.3697810589750807,
          -1.365408235106361,
          -1.3610613652487984,
          -1.3567400619567853,
          -1.3524439464856295,
          -1.348172648529592,
          -1.3439258059697774,
          -1.3397030646314252,
          -1.33550407805019,
          -1.3313285072470025,
          -1.327176020511146,
          -1.3230462931911822,
          -1.3189390074933853,
          -1.3148538522873692,
          -1.3107905229185968,
          -1.3067487210274764,
          -1.3027281543747713,
          -1.2987285366730605,
          -1.2947495874240016,
          -1.2907910317611448,
          -1.2868526002980887,
          -1.282934028981744,
          -1.2790350589505124,
          -1.2751554363971793,
          -1.2712949124363244,
          -1.2674532429760905,
          -1.2636301885941175,
          -1.2598255144174937,
          -1.2560389900065707,
          -1.2522703892424765,
          -1.2485194902182069,
          -1.2447860751331414,
          -1.2410699301908656,
          -1.2373708455001706,
          -1.2336886149791129,
          -1.2300230362620237,
          -1.226373910609353,
          -1.2227410428202479,
          -1.219124241147774,
          -1.2155233172166664,
          -1.211938085943538,
          -1.2083683654594424,
          -1.204813977034724,
          -1.2012747450060555,
          -1.1977504967056032,
          -1.194241062392236,
          -1.19074627518471,
          -1.187265970996764,
          -1.1837999884740529,
          -1.1803481689328668,
          -1.1769103563005632,
          -1.1734863970576668,
          -1.170076140181572,
          -1.1666794370917977,
          -1.1632961415967524,
          -1.1599261098419347,
          -1.1565692002595551,
          -1.1532252735195074,
          -1.1498941924816592,
          -1.14657582214941,
          -1.1432700296244898,
          -1.1399766840629417,
          -1.1366956566322672,
          -1.133426820469682,
          -1.1301700506414656,
          -1.1269252241033514,
          -1.1236922196619408,
          -1.1204709179370997,
          -1.1172612013253125,
          -1.1140629539639642,
          -1.1108760616965176,
          -1.107700412038565,
          -1.1045358941447236,
          -1.1013823987763518,
          -1.098239818270064,
          -1.0951080465070084,
          -1.091986978882908,
          -1.088876512278816,
          -1.0857765450325874,
          -1.08268697691103,
          -1.079607709082725,
          -1.076538644091494,
          -1.0734796858304931,
          -1.0704307395169186,
          -1.0673917116673077,
          -1.0643625100734122,
          -1.0613430437786373,
          -1.0583332230550193,
          -1.0553329593807401,
          -1.0523421654181524,
          -1.0493607549923047,
          -1.046388643069957,
          -1.0434257457390708,
          -1.0404719801887554,
          -1.0375272646896687,
          -1.034591518574851,
          -1.0316646622209835,
          -1.0287466170300648,
          -1.0258373054114833,
          -1.022936650764488,
          -1.0200445774610387,
          -1.0171610108290257,
          -1.014285877135855,
          -1.0114191035723847,
          -1.0085606182372053,
          -1.005710350121255,
          -1.0028682290927602,
          -1.0000341858824953,
          -0.9972081520693514,
          -0.9943900600662088,
          -0.9915798431061004,
          -0.9887774352286662,
          -0.9859827712668857,
          -0.9831957868340818,
          -0.9804164183111951,
          -0.9776446028343138,
          -0.9748802782824595,
          -0.9721233832656183,
          -0.9693738571130146,
          -0.9666316398616198,
          -0.9638966722448893,
          -0.9611688956817256,
          -0.9584482522656588,
          -0.9557346847542417,
          -0.9530281365586519,
          -0.9503285517334988,
          -0.9476358749668283,
          -0.944950051570324,
          -0.9422710274696935,
          -0.9395987491952444,
          -0.936933163872639,
          -0.9342742192138261,
          -0.9316218635081447,
          -0.928976045613598,
          -0.926336714948291,
          -0.9237038214820296,
          -0.9210773157280767,
          -0.918457148735064,
          -0.9158432720790515,
          -0.913235637855736,
          -0.9106341986728039,
          -0.9080389076424221,
          -0.9054497183738697,
          -0.902866584966301,
          -0.9002894620016422,
          -0.8977183045376171,
          -0.8951530681008963,
          -0.8925937086803719,
          -0.8900401827205507,
          -0.8874924471150675,
          -0.8849504592003118,
          -0.8824141767491687,
          -0.879883557964869,
          -0.8773585614749486,
          -0.8748391463253133,
          -0.8723252719744071,
          -0.8698168982874821,
          -0.8673139855309677,
          -0.8648164943669367,
          -0.8623243858476675,
          -0.8598376214102982,
          -0.8573561628715735,
          -0.8548799724226802,
          -0.8524090126241703,
          -0.8499432464009701,
          -0.8474826370374737,
          -0.845027148172718,
          -0.8425767437956391,
          -0.8401313882404087,
          -0.8376910461818454,
          -0.8352556826309047,
          -0.8328252629302412,
          -0.8303997527498457,
          -0.8279791180827528,
          -0.8255633252408182,
          -0.8231523408505658,
          -0.820746131849101,
          -0.8183446654800914,
          -0.8159479092898112,
          -0.8135558311232493,
          -0.8111683991202799,
          -0.8087855817118943,
          -0.806407347616493,
          -0.8040336658362348,
          -0.8016645056534454,
          -0.7992998366270821,
          -0.7969396285892534,
          -0.7945838516417938,
          -0.7922324761528915,
          -0.7898854727537681,
          -0.7875428123354107,
          -0.7852044660453541,
          -0.7828704052845121,
          -0.7805406017040574,
          -0.7782150272023504,
          -0.7758936539219129,
          -0.7735764542464494,
          -0.7712634007979123,
          -0.7689544664336131,
          -0.7666496242433741,
          -0.7643488475467267,
          -0.7620521098901483,
          -0.7597593850443417,
          -0.7574706470015556,
          -0.7551858699729429,
          -0.7529050283859603,
          -0.750628096881805,
          -0.7483550503128882,
          -0.7460858637403467,
          -0.7438205124315915,
          -0.7415589718578898,
          -0.7393012176919841,
          -0.7370472258057444,
          -0.7347969722678559,
          -0.7325504333415371,
          -0.7303075854822935,
          -0.7280684053357017,
          -0.7258328697352254,
          -0.723600955700063,
          -0.7213726404330241,
          -0.7191479013184383,
          -0.7169267159200906,
          -0.7147090619791885,
          -0.7124949174123555,
          -0.7102842603096535,
          -0.7080770689326331,
          -0.7058733217124092,
          -0.7036729972477651,
          -0.7014760743032818,
          -0.6992825318074931,
          -0.6970923488510655,
          -0.6949055046850048,
          -0.6927219787188839,
          -0.6905417505190978,
          -0.6883647998071408,
          -0.6861911064579067,
          -0.6840206504980123,
          -0.6818534121041437,
          -0.679689371601424,
          -0.6775285094618035,
          -0.6753708063024713,
          -0.6732162428842859,
          -0.6710648001102308,
          -0.668916459023886,
          -0.666771200807923,
          -0.6646290067826167,
          -0.6624898584043798,
          -0.6603537372643133,
          -0.6582206250867779,
          -0.6560905037279832,
          -0.653963355174595,
          -0.6518391615423612,
          -0.6497179050747549,
          -0.6475995681416339,
          -0.6454841332379199,
          -0.6433715829822922,
          -0.6412619001158991,
          -0.6391550675010849,
          -0.6370510681201338,
          -0.6349498850740294,
          -0.6328515015812298,
          -0.6307559009764575,
          -0.6286630667095052,
          -0.6265729823440563,
          -0.6244856315565197,
          -0.6224009981348796,
          -0.6203190659775589,
          -0.6182398190922972,
          -0.6161632415950422,
          -0.6140893177088551,
          -0.612018031762829,
          -0.6099493681910203,
          -0.6078833115313944,
          -0.6058198464247821,
          -0.6037589576138508,
          -0.6017006299420862,
          -0.5996448483527876,
          -0.597591597888075,
          -0.5955408636879074,
          -0.5934926309891135,
          -0.5914468851244341,
          -0.5894036115215749,
          -0.5873627957022716,
          -0.5853244232813654,
          -0.5832884799658895,
          -0.581254951554167,
          -0.5792238239349173,
          -0.5771950830863763,
          -0.5751687150754236,
          -0.5731447060567215,
          -0.5711230422718643,
          -0.5691037100485359,
          -0.5670866957996782,
          -0.5650719860226703,
          -0.5630595672985134,
          -0.5610494262910288,
          -0.5590415497460635,
          -0.5570359244907042,
          -0.5550325374325018,
          -0.5530313755587032,
          -0.5510324259354925,
          -0.5490356757072407,
          -0.5470411120957637,
          -0.5450487223995887,
          -0.5430584939932283,
          -0.5410704143264639,
          -0.5390844709236355,
          -0.5371006513829408,
          -0.5351189433757407,
          -0.5331393346458737,
          -0.5311618130089767,
          -0.5291863663518149,
          -0.5272129826316164,
          -0.5252416498754169,
          -0.5232723561794093,
          -0.5213050897083018,
          -0.5193398386946825,
          -0.51737659143839,
          -0.5154153363058925,
          -0.5134560617296722,
          -0.5114987562076159,
          -0.5095434083024144,
          -0.5075900066409657,
          -0.5056385399137857,
          -0.5036889968744253,
          -0.5017413663388933,
          -0.49979563718508563,
          -0.4978517983522201,
          -0.4959098388402777,
          -0.493969747709449,
          -0.49203151407958773,
          -0.49009512712966763,
          -0.4881605760972473,
          -0.4862278502779395,
          -0.4842969390248859,
          -0.48236783174823733,
          -0.48044051791463954,
          -0.47851498704672407,
          -0.47659122872260423,
          -0.47466923257537613,
          -0.47274898829262574,
          -0.47083048561593904,
          -0.46891371434041856,
          -0.466998664314205,
          -0.46508532543800235,
          -0.4631736876646086,
          -0.46126374099845147,
          -0.4593554754951277,
          -0.45744888126094785,
          -0.45554394845248536,
          -0.45364066727612967,
          -0.4517390279876441,
          -0.44983902089172795,
          -0.44794063634158315,
          -0.4460438647384848,
          -0.44414869653135586,
          -0.44225512221634633,
          -0.44036313233641605,
          -0.4384727174809222,
          -0.4365838682852096,
          -0.4346965754302064,
          -0.4328108296420224,
          -0.430926621691552,
          -0.4290439423940805,
          -0.42716278260889423,
          -0.4252831332388945,
          -0.42340498523021514,
          -0.4215283295718433,
          -0.4196531572952447,
          -0.41777945947399114,
          -0.41590722722339246,
          -0.4140364517001313,
          -0.41216712410190204,
          -0.41029923566705223,
          -0.4084327776742275,
          -0.4065677414420203,
          -0.4047041183286211,
          -0.4028418997314736,
          -0.40098107708693204,
          -0.39912164186992255,
          -0.3972635855936069,
          -0.39540689980905014,
          -0.39355157610489,
          -0.39169760610701065,
          -0.38984498147821783,
          -0.38799369391791866,
          -0.3861437351618023,
          -0.38429509698152575,
          -0.38244777118439993,
          -0.38060174961308046,
          -0.37875702414526013,
          -0.37691358669336483,
          -0.37507142920425107,
          -0.3732305436589073,
          -0.37139092207215685,
          -0.36955255649236407,
          -0.36771543900114295,
          -0.3658795617130677,
          -0.3640449167753863,
          -0.3622114963677364,
          -0.3603792927018639,
          -0.3585482980213431,
          -0.35671850460130006,
          -0.35488990474813803,
          -0.3530624907992648,
          -0.3512362551228233,
          -0.34941119011742283,
          -0.34758728821187435,
          -0.34576454186492667,
          -0.3439429435650052,
          -0.34212248582995347,
          -0.34030316120677534,
          -0.3384849622713809,
          -0.3366678816283332,
          -0.33485191191059777,
          -0.33303704577929427,
          -0.3312232759234489,
          -0.3294105950597508,
          -0.3275989959323081,
          -0.32578847131240835,
          -0.3239790139982787,
          -0.32217061681484926,
          -0.32036327261351777,
          -0.31855697427191654,
          -0.316751714693681,
          -0.31494748680821955,
          -0.313144283570486,
          -0.31134209796075357,
          -0.3095409229843901,
          -0.3077407516716359,
          -0.3059415770773822,
          -0.30414339228095216,
          -0.3023461903858833,
          -0.3005499645197115,
          -0.2987547078337565,
          -0.2969604135029091,
          -0.29516707472542014,
          -0.2933746847226909,
          -0.29158323673906494,
          -0.2897927240416216,
          -0.2880031399199712,
          -0.28621447768605107,
          -0.2844267306739239,
          -0.2826398922395774,
          -0.2808539557607246,
          -0.27906891463660616,
          -0.2772847622877948,
          -0.2755014921559997,
          -0.2737190977038734,
          -0.2719375724148195,
          -0.2701569097928017,
          -0.26837710336215476,
          -0.26659814666739623,
          -0.2648200332730394,
          -0.26304275676340777,
          -0.26126631074245116,
          -0.2594906888335621,
          -0.25771588467939455,
          -0.25594189194168326,
          -0.2541687043010642,
          -0.25239631545689656,
          -0.2506247191270858,
          -0.2488539090479083,
          -0.2470838789738358,
          -0.24531462267736276,
          -0.24354613394883362,
          -0.24177840659627167,
          -0.2400114344452091,
          -0.2382452113385176,
          -0.23647973113624085,
          -0.2347149877154271,
          -0.23295097496996423,
          -0.23118768681041393,
          -0.22942511716384859,
          -0.2276632599736883,
          -0.22590210919953937,
          -0.2241416588170333,
          -0.22238190281766715,
          -0.2206228352086449,
          -0.21886445001271912,
          -0.21710674126803498,
          -0.21534970302797327,
          -0.21359332936099604,
          -0.21183761435049228,
          -0.21008255209462467,
          -0.20832813670617734,
          -0.20657436231240436,
          -0.20482122305487915,
          -0.203068713089345,
          -0.20131682658556552,
          -0.19956555772717774,
          -0.1978149007115438,
          -0.19606484974960506,
          -0.19431539906573647,
          -0.1925665428976018,
          -0.19081827549600958,
          -0.1890705911247699,
          -0.18732348406055188,
          -0.1855769485927419,
          -0.18383097902330328,
          -0.18208556966663503,
          -0.18034071484943304,
          -0.1785964089105511,
          -0.176852646200863,
          -0.17510942108312488,
          -0.17336672793183883,
          -0.17162456113311683,
          -0.1698829150845451,
          -0.16814178419505033,
          -0.16640116288476456,
          -0.16466104558489258,
          -0.16292142673757895,
          -0.161182300795776,
          -0.1594436622231123,
          -0.15770550549376192,
          -0.15596782509231405,
          -0.15423061551364345,
          -0.15249387126278116,
          -0.1507575868547867,
          -0.14902175681461924,
          -0.1472863756770107,
          -0.14555143798633904,
          -0.1438169382965019,
          -0.14208287117079088,
          -0.14034923118176634,
          -0.13861601291113282,
          -0.13688321094961478,
          -0.13515081989683336,
          -0.13341883436118268,
          -0.13168724895970746,
          -0.12995605831798104,
          -0.12822525706998342,
          -0.1264948398579803,
          -0.12476480133240217,
          -0.12303513615172412,
          -0.121305838982346,
          -0.11957690449847282,
          -0.11784832738199645,
          -0.1161201023223762,
          -0.11439222401652127,
          -0.11266468716867292,
          -0.11093748649028717,
          -0.10921061669991797,
          -0.1074840725231006,
          -0.10575784869223562,
          -0.10403193994647304,
          -0.10230634103159744,
          -0.10058104669991214,
          -0.09885605171012518,
          -0.0971313508272349,
          -0.09540693882241588,
          -0.09368281047290553,
          -0.09195896056189062,
          -0.09023538387839454,
          -0.08851207521716437,
          -0.08678902937855917,
          -0.08506624116843729,
          -0.083343705398045,
          -0.08162141688390505,
          -0.0798993704477056,
          -0.0781775609161893,
          -0.07645598312104275,
          -0.07473463189878621,
          -0.07301350209066355,
          -0.0712925885425324,
          -0.06957188610475507,
          -0.06785138963208853,
          -0.06613109398357588,
          -0.06441099402243741,
          -0.06269108461596203,
          -0.06097136063539882,
          -0.05925181695584904,
          -0.05753244845615804,
          -0.055813250018807437,
          -0.054094216529808135,
          -0.05237534287859212,
          -0.05065662395790586,
          -0.04893805466370315,
          -0.04721962989503833,
          -0.0455013445539596,
          -0.04378319354540255,
          -0.04206517177708381,
          -0.0403472741593949,
          -0.038629495605295994,
          -0.03691183103021061,
          -0.03519427535191898,
          -0.033476823490452993,
          -0.03175947036799051,
          -0.03004221090874995,
          -0.028325040038885013,
          -0.026607952686379447,
          -0.024890943780941994,
          -0.02317400825390121,
          -0.021457141038101108,
          -0.019740337067795516,
          -0.018023591278543825,
          -0.016306898607106192,
          -0.014590253991338896,
          -0.012873652370089774,
          -0.011157088683093699,
          -0.00944055787086812,
          -0.007724054874608484,
          -0.00600757463608441,
          -0.004291112097534494,
          -0.002574662201562523,
          -0.0008582198910330266,
          0.0008582198910330266,
          0.002574662201562523,
          0.004291112097534494,
          0.00600757463608441,
          0.007724054874608484,
          0.009440557870867979,
          0.011157088683093558,
          0.012873652370089635,
          0.014590253991338757,
          0.01630689860710633,
          0.018023591278543964,
          0.019740337067795655,
          0.021457141038101247,
          0.023174008253901347,
          0.024890943780941994,
          0.026607952686379447,
          0.028325040038885013,
          0.03004221090874995,
          0.03175947036799051,
          0.033476823490452993,
          0.03519427535191898,
          0.03691183103021061,
          0.038629495605295994,
          0.040347274159394764,
          0.042065171777083674,
          0.04378319354540241,
          0.04550134455395946,
          0.04721962989503819,
          0.04893805466370329,
          0.050656623957905995,
          0.05237534287859226,
          0.054094216529808274,
          0.055813250018807575,
          0.05753244845615804,
          0.05925181695584904,
          0.06097136063539882,
          0.06269108461596203,
          0.06441099402243741,
          0.06613109398357588,
          0.06785138963208853,
          0.06957188610475507,
          0.0712925885425324,
          0.07301350209066342,
          0.07473463189878607,
          0.07645598312104261,
          0.07817756091618916,
          0.07989937044770547,
          0.08162141688390519,
          0.08334370539804514,
          0.08506624116843743,
          0.08678902937855931,
          0.0885120752171645,
          0.09023538387839454,
          0.09195896056189062,
          0.09368281047290553,
          0.09540693882241588,
          0.0971313508272349,
          0.09885605171012518,
          0.10058104669991214,
          0.10230634103159744,
          0.10403193994647304,
          0.10575784869223548,
          0.10748407252310047,
          0.10921061669991783,
          0.11093748649028704,
          0.11266468716867278,
          0.11439222401652141,
          0.11612010232237634,
          0.11784832738199659,
          0.11957690449847296,
          0.121305838982346,
          0.12303513615172412,
          0.12476480133240217,
          0.1264948398579803,
          0.12822525706998342,
          0.12995605831798104,
          0.13168724895970746,
          0.13341883436118268,
          0.13515081989683336,
          0.13688321094961478,
          0.13861601291113268,
          0.1403492311817662,
          0.14208287117079074,
          0.14381693829650177,
          0.14555143798633918,
          0.14728637567701083,
          0.14902175681461938,
          0.15075758685478685,
          0.1524938712627813,
          0.15423061551364345,
          0.15596782509231405,
          0.15770550549376192,
          0.1594436622231123,
          0.161182300795776,
          0.16292142673757895,
          0.16466104558489258,
          0.16640116288476456,
          0.16814178419505033,
          0.1698829150845451,
          0.1716245611331167,
          0.1733667279318387,
          0.17510942108312474,
          0.17685264620086286,
          0.17859640891055123,
          0.18034071484943318,
          0.18208556966663517,
          0.18383097902330342,
          0.18557694859274204,
          0.18732348406055188,
          0.1890705911247699,
          0.19081827549600958,
          0.1925665428976018,
          0.19431539906573647,
          0.19606484974960506,
          0.1978149007115438,
          0.19956555772717774,
          0.20131682658556552,
          0.20306871308934485,
          0.20482122305487901,
          0.2065743623124042,
          0.2083281367061772,
          0.21008255209462454,
          0.21183761435049242,
          0.21359332936099623,
          0.2153497030279734,
          0.2171067412680351,
          0.21886445001271926,
          0.2206228352086449,
          0.22238190281766715,
          0.2241416588170333,
          0.22590210919953937,
          0.2276632599736883,
          0.22942511716384859,
          0.23118768681041393,
          0.23295097496996423,
          0.2347149877154271,
          0.2364797311362407,
          0.23824521133851745,
          0.24001143444520895,
          0.24177840659627153,
          0.24354613394883345,
          0.24531462267736293,
          0.24708387897383594,
          0.24885390904790844,
          0.25062471912708595,
          0.25239631545689656,
          0.2541687043010642,
          0.25594189194168326,
          0.25771588467939455,
          0.2594906888335621,
          0.26126631074245116,
          0.26304275676340777,
          0.2648200332730394,
          0.26659814666739623,
          0.26837710336215476,
          0.27015690979280155,
          0.27193757241481936,
          0.27371909770387326,
          0.2755014921559996,
          0.2772847622877947,
          0.2790689146366063,
          0.2808539557607247,
          0.2826398922395776,
          0.28442673067392404,
          0.28621447768605107,
          0.2880031399199712,
          0.2897927240416216,
          0.29158323673906494,
          0.2933746847226909,
          0.29516707472542014,
          0.2969604135029091,
          0.2987547078337565,
          0.3005499645197115,
          0.3023461903858833,
          0.30414339228095205,
          0.30594157707738207,
          0.3077407516716358,
          0.30954092298439,
          0.3113420979607537,
          0.3131442835704861,
          0.31494748680821966,
          0.3167517146936812,
          0.3185569742719167,
          0.32036327261351777,
          0.32217061681484926,
          0.3239790139982787,
          0.32578847131240835,
          0.3275989959323081,
          0.3294105950597508,
          0.3312232759234489,
          0.33303704577929427,
          0.33485191191059777,
          0.3366678816283331,
          0.3384849622713808,
          0.34030316120677523,
          0.3421224858299533,
          0.3439429435650051,
          0.3457645418649268,
          0.3475872882118745,
          0.34941119011742305,
          0.3512362551228234,
          0.353062490799265,
          0.35488990474813803,
          0.35671850460130006,
          0.3585482980213431,
          0.3603792927018639,
          0.3622114963677364,
          0.3640449167753863,
          0.3658795617130677,
          0.36771543900114295,
          0.36955255649236407,
          0.37139092207215674,
          0.3732305436589072,
          0.37507142920425096,
          0.37691358669336467,
          0.37875702414525997,
          0.3806017496130806,
          0.38244777118440015,
          0.3842950969815259,
          0.3861437351618025,
          0.38799369391791866,
          0.38984498147821783,
          0.39169760610701065,
          0.39355157610489,
          0.39540689980905014,
          0.3972635855936069,
          0.39912164186992255,
          0.40098107708693204,
          0.4028418997314736,
          0.4047041183286211,
          0.4065677414420201,
          0.4084327776742273,
          0.41029923566705206,
          0.4121671241019019,
          0.4140364517001312,
          0.4159072272233926,
          0.4177794594739913,
          0.4196531572952449,
          0.42152832957184344,
          0.42340498523021514,
          0.4252831332388945,
          0.42716278260889423,
          0.4290439423940805,
          0.430926621691552,
          0.4328108296420224,
          0.4346965754302064,
          0.4365838682852096,
          0.4384727174809222,
          0.44036313233641605,
          0.4422551222163462,
          0.4441486965313557,
          0.4460438647384846,
          0.44794063634158304,
          0.44983902089172806,
          0.4517390279876442,
          0.45364066727612984,
          0.4555439484524855,
          0.45744888126094796,
          0.4593554754951277,
          0.46126374099845147,
          0.4631736876646086,
          0.46508532543800235,
          0.466998664314205,
          0.46891371434041856,
          0.47083048561593904,
          0.47274898829262574,
          0.47466923257537613,
          0.47659122872260407,
          0.4785149870467239,
          0.4804405179146394,
          0.48236783174823716,
          0.48429693902488574,
          0.4862278502779397,
          0.4881605760972475,
          0.49009512712966774,
          0.49203151407958795,
          0.49396974770944924,
          0.4959098388402777,
          0.4978517983522201,
          0.49979563718508563,
          0.5017413663388933,
          0.5036889968744253,
          0.5056385399137857,
          0.5075900066409657,
          0.5095434083024144,
          0.5114987562076159,
          0.5134560617296721,
          0.5154153363058924,
          0.5173765914383899,
          0.5193398386946823,
          0.5213050897083017,
          0.5232723561794094,
          0.525241649875417,
          0.5272129826316166,
          0.5291863663518147,
          0.5311618130089766,
          0.5331393346458734,
          0.5351189433757404,
          0.5371006513829405,
          0.5390844709236353,
          0.5410704143264636,
          0.5430584939932279,
          0.5450487223995883,
          0.5470411120957633,
          0.5490356757072407,
          0.5510324259354924,
          0.5530313755587031,
          0.5550325374325017,
          0.557035924490704,
          0.5590415497460632,
          0.5610494262910286,
          0.5630595672985133,
          0.5650719860226702,
          0.5670866957996781,
          0.5691037100485354,
          0.571123042271864,
          0.5731447060567212,
          0.5751687150754232,
          0.577195083086376,
          0.579223823934917,
          0.5812549515541666,
          0.5832884799658893,
          0.585324423281365,
          0.5873627957022716,
          0.5894036115215747,
          0.591446885124434,
          0.5934926309891133,
          0.5955408636879073,
          0.5975915978880748,
          0.5996448483527875,
          0.6017006299420861,
          0.6037589576138507,
          0.6058198464247819,
          0.6078833115313941,
          0.60994936819102,
          0.6120180317628285,
          0.6140893177088548,
          0.6161632415950419,
          0.6182398190922969,
          0.6203190659775586,
          0.6224009981348793,
          0.6244856315565193,
          0.6265729823440562,
          0.628663066709505,
          0.6307559009764573,
          0.6328515015812297,
          0.6349498850740292,
          0.6370510681201336,
          0.6391550675010848,
          0.641261900115899,
          0.6433715829822921,
          0.6454841332379198,
          0.6475995681416336,
          0.6497179050747545,
          0.651839161542361,
          0.6539633551745947,
          0.6560905037279827,
          0.6582206250867776,
          0.660353737264313,
          0.6624898584043796,
          0.6646290067826167,
          0.6667712008079228,
          0.6689164590238859,
          0.6710648001102305,
          0.6732162428842857,
          0.6753708063024709,
          0.6775285094618034,
          0.6796893716014237,
          0.6818534121041433,
          0.6840206504980119,
          0.6861911064579064,
          0.6883647998071405,
          0.6905417505190975,
          0.6927219787188835,
          0.6949055046850044,
          0.6970923488510653,
          0.6992825318074927,
          0.7014760743032814,
          0.7036729972477648,
          0.7058733217124092,
          0.7080770689326331,
          0.7102842603096535,
          0.7124949174123553,
          0.7147090619791883,
          0.7169267159200905,
          0.719147901318438,
          0.721372640433024,
          0.7236009557000627,
          0.7258328697352251,
          0.7280684053357013,
          0.730307585482293,
          0.7325504333415367,
          0.7347969722678556,
          0.7370472258057441,
          0.7393012176919836,
          0.7415589718578894,
          0.7438205124315911,
          0.7460858637403465,
          0.7483550503128882,
          0.750628096881805,
          0.7529050283859603,
          0.7551858699729428,
          0.7574706470015553,
          0.7597593850443416,
          0.7620521098901482,
          0.7643488475467266,
          0.7666496242433739,
          0.7689544664336126,
          0.771263400797912,
          0.7735764542464489,
          0.7758936539219126,
          0.77821502720235,
          0.780540601704057,
          0.7828704052845117,
          0.7852044660453539,
          0.7875428123354102,
          0.7898854727537677,
          0.7922324761528915,
          0.7945838516417938,
          0.7969396285892534,
          0.7992998366270819,
          0.8016645056534453,
          0.8040336658362346,
          0.8064073476164929,
          0.8087855817118942,
          0.8111683991202795,
          0.8135558311232489,
          0.8159479092898108,
          0.818344665480091,
          0.8207461318491005,
          0.8231523408505653,
          0.8255633252408179,
          0.8279791180827524,
          0.8303997527498452,
          0.8328252629302407,
          0.8352556826309047,
          0.8376910461818454,
          0.8401313882404087,
          0.8425767437956391,
          0.8450271481727176,
          0.8474826370374735,
          0.84994324640097,
          0.85240901262417,
          0.85487997242268,
          0.8573561628715731,
          0.8598376214102977,
          0.862324385847667,
          0.8648164943669363,
          0.8673139855309673,
          0.8698168982874819,
          0.8723252719744068,
          0.874839146325313,
          0.8773585614749481,
          0.8798835579648685,
          0.8824141767491687,
          0.8849504592003118,
          0.8874924471150675,
          0.8900401827205506,
          0.8925937086803717,
          0.8951530681008962,
          0.897718304537617,
          0.9002894620016418,
          0.9028665849663006,
          0.9054497183738692,
          0.9080389076424219,
          0.9106341986728034,
          0.9132356378557356,
          0.9158432720790509,
          0.9184571487350636,
          0.9210773157280762,
          0.923703821482029,
          0.9263367149482906,
          0.9289760456135976,
          0.9316218635081447,
          0.9342742192138261,
          0.936933163872639,
          0.9395987491952444,
          0.9422710274696932,
          0.9449500515703237,
          0.9476358749668283,
          0.9503285517334984,
          0.9530281365586516,
          0.9557346847542414,
          0.9584482522656584,
          0.9611688956817248,
          0.9638966722448887,
          0.9666316398616194,
          0.9693738571130143,
          0.9721233832656179,
          0.9748802782824589,
          0.9776446028343133,
          0.9804164183111947,
          0.9831957868340818,
          0.9859827712668857,
          0.9887774352286662,
          0.9915798431061,
          0.9943900600662084,
          0.997208152069351,
          1.0000341858824946,
          1.0028682290927597,
          1.0057103501212548,
          1.0085606182372049,
          1.011419103572384,
          1.0142858771358545,
          1.0171610108290254,
          1.020044577461038,
          1.0229366507644875,
          1.0258373054114829,
          1.028746617030064,
          1.0316646622209833,
          1.034591518574851,
          1.0375272646896687,
          1.0404719801887554,
          1.0434257457390708,
          1.0463886430699567,
          1.049360754992304,
          1.0523421654181522,
          1.0553329593807401,
          1.0583332230550189,
          1.0613430437786364,
          1.0643625100734118,
          1.0673917116673073,
          1.0704307395169184,
          1.073479685830493,
          1.0765386440914937,
          1.0796077090827245,
          1.0826869769110297,
          1.085776545032587,
          1.0888765122788158,
          1.091986978882908,
          1.0951080465070084,
          1.098239818270064,
          1.1013823987763522,
          1.1045358941447236,
          1.107700412038565,
          1.1108760616965176,
          1.1140629539639642,
          1.117261201325312,
          1.120470917937099,
          1.1236922196619403,
          1.126925224103351,
          1.1301700506414654,
          1.1334268204696816,
          1.1366956566322668,
          1.1399766840629413,
          1.1432700296244893,
          1.1465758221494093,
          1.149894192481658,
          1.1532252735195074,
          1.1565692002595547,
          1.1599261098419347,
          1.163296141596752,
          1.1666794370917977,
          1.1700761401815711,
          1.1734863970576668,
          1.1769103563005632,
          1.1803481689328665,
          1.1837999884740529,
          1.1872659709967635,
          1.1907462751847093,
          1.1942410623922353,
          1.1977504967056032,
          1.201274745006055,
          1.2048139770347235,
          1.208368365459442,
          1.2119380859435371,
          1.215523317216666,
          1.219124241147774,
          1.2227410428202479,
          1.2263739106093516,
          1.2300230362620237,
          1.2336886149791122,
          1.23737084550017,
          1.241069930190865,
          1.2447860751331414,
          1.2485194902182064,
          1.2522703892424758,
          1.2560389900065698,
          1.2598255144174932,
          1.2636301885941168,
          1.26745324297609,
          1.271294912436324,
          1.275155436397178,
          1.2790350589505117,
          1.2829340289817428,
          1.2868526002980887,
          1.2907910317611448,
          1.2947495874240016,
          1.2987285366730605,
          1.3027281543747704,
          1.3067487210274764,
          1.3107905229185968,
          1.3148538522873685,
          1.3189390074933844,
          1.3230462931911817,
          1.327176020511146,
          1.331328507247002,
          1.3355040780501892,
          1.3397030646314247,
          1.3439258059697767,
          1.3481726485295915,
          1.352443946485629,
          1.3567400619567849,
          1.3610613652487973,
          1.365408235106361,
          1.3697810589750807,
          1.3741802332737496,
          1.3786061636774274,
          1.3830592654118488,
          1.387539963559716,
          1.3920486933794467,
          1.396585900637006,
          1.4011520419514691,
          1.4057475851550012,
          1.4103730096679943,
          1.4150288068901298,
          1.4197154806081944,
          1.4244335474215142,
          1.4291835371859434,
          1.433965993477377,
          1.4387814740758504,
          1.443630551471316,
          1.448513813392297,
          1.453431863358668,
          1.4583853212598927,
          1.4633748239601694,
          1.4684010259319833,
          1.4734645999196982,
          1.4785662376349238,
          1.4837066504855034,
          1.4888865703401066,
          1.494106750330536,
          1.4993679656940224,
          1.504671014657926,
          1.5100167193694451,
          1.5154059268731266,
          1.5208395101391616,
          1.526318369145686,
          1.53184343201854,
          1.5374156562321972,
          1.543036029875873,
          1.5487055729891122,
          1.554425338971509,
          1.5601964160715662,
          1.5660199289601255,
          1.5718970403942023,
          1.5778289529775718,
          1.5838169110249731,
          1.5898622025373461,
          1.5959661612961897,
          1.6021301690857965,
          1.6083556580528826,
          1.6146441132139921,
          1.6209970751219596,
          1.6274161427037532,
          1.633902976283145,
          1.6404593008028996,
          1.647086909262582,
          1.6537876663895867,
          1.6605635125627365,
          1.6674164680096712,
          1.6743486373013876,
          1.6813622141696296,
          1.6884594866755085,
          1.6956428427606423,
          1.7029147762154606,
          1.7102778931030258,
          1.7177349186809119,
          1.7252887048684178,
          1.7329422383117121,
          1.7406986491055407,
          1.7485612202369938,
          1.756533397824552,
          1.7646188022345282,
          1.7728212401670627,
          1.7811447178154074,
          1.7895934552154011,
          1.7981719019172833,
          1.8068847541294026,
          1.8157369735036384,
          1.8247338077556343,
          1.8338808133401525,
          1.8431838804333347,
          1.8526492605105989,
          1.8622835968520257,
          1.872093958357833,
          1.8820878771163607,
          1.8922733902377344,
          1.9026590865504274,
          1.9132541588581065,
          1.9240684625740412,
          1.935112581694454,
          1.9463979032461367,
          1.9579367015546074,
          1.9697422339361612,
          1.9818288497320564,
          1.9942121149908139,
          2.006908955584855,
          2.0199378221459376,
          2.0333188809539475,
          2.047074235860352,
          2.0612281875310057,
          2.075807537834446,
          2.090841949191909,
          2.106364371297075,
          2.1224115510199066,
          2.1390246458303936,
          2.1562499671434106,
          2.174139888216208,
          2.1927539625368406,
          2.2121603143850797,
          2.2324373854906985,
          2.2536761536476533,
          2.2759829858004466,
          2.299483357623827,
          2.3243267774067817,
          2.350693416979401,
          2.378803216572884,
          2.4089286666897327,
          2.4414132158894533,
          2.4766985810550297,
          2.5153667138865514,
          2.5582070643057895,
          2.6063300931239155,
          2.661371628034589,
          2.7258928953017927,
          2.804257577088826,
          2.9048970543730204,
          3.0479322815593726,
          3.3051395167814683
         ],
         "y": [
          -64188.49517995413,
          -45113.964242229384,
          -34506.44822972262,
          -27043.008014456136,
          -21231.470302924863,
          -16446.562492820172,
          -12364.673196016229,
          -8795.861450826167,
          -5618.814005993569,
          -2751.1789048188366,
          -134.4104110453336,
          2274.6491092793003,
          4508.757452967955,
          6593.384821774816,
          8548.73915625742,
          10391.131260195456,
          12133.922706190671,
          13788.201053585217,
          15363.271599090018,
          16867.02253283275,
          18306.200783001404,
          19686.62360119878,
          21013.34309523602,
          22290.775761598255,
          23522.805609671515,
          24712.867101612443,
          25864.01248217601,
          26978.96690529256,
          28060.17392567359,
          29109.83331336474,
          30129.93269935233,
          31122.2742250195,
          32088.497115632374,
          33030.09690582997,
          33948.44189750287,
          34844.787316138274,
          35720.28754245912,
          36576.006725976855,
          37412.928031452146,
          38231.961724887544,
          39033.95227006578,
          39819.684577890526,
          40589.889527433406,
          41345.24885852888,
          42086.39952011136,
          42813.937545591965,
          43528.42151588274,
          44230.37566178857,
          44920.29265005456,
          45598.63609112761,
          46265.842801440886,
          46922.3248485947,
          47568.47140404605,
          48204.65042471545,
          48831.210182187875,
          49448.48065584205,
          50056.774804231056,
          50656.38972730639,
          51247.607730577685,
          51830.69730100705,
          52405.91400330883,
          52973.501304346355,
          53533.69133246179,
          54086.705577826986,
          54632.75553924691,
          55172.04332227232,
          55704.762192969254,
          56231.097091246775,
          56751.225107248654,
          57265.31592396386,
          57773.53222890005,
          58276.03009738894,
          58772.95934984516,
          59264.463885081816,
          59750.681991589794,
          60231.74663851209,
          60707.78574788848,
          61178.9224496033,
          61645.275320343935,
          62106.958607762484,
          62564.08244093036,
          63016.75302808413,
          63465.07284257443,
          63909.14079785699,
          64349.05241229379,
          64784.89996447075,
          65216.77263968211,
          65644.75666817954,
          66068.93545573801,
          66489.3897070458,
          66906.19754239035,
          67319.43460807235,
          67729.17418095072,
          68135.48726749029,
          68538.44269765621,
          68938.10721397524,
          69334.5455560607,
          69727.82054087556,
          70117.99313899167,
          70505.12254708151,
          70889.26625686577,
          71270.48012072308,
          71648.81841415449,
          72024.33389528292,
          72397.07786155524,
          72767.1002038044,
          73134.44945781758,
          73499.1728535487,
          73861.31636210262,
          74220.92474061258,
          74578.04157512258,
          74932.70932158204,
          75284.96934505005,
          75634.86195720472,
          75982.42645224335,
          76327.70114125713,
          76670.72338515717,
          77011.52962622474,
          77350.15541835516,
          77686.63545605892,
          78021.00360228168,
          78353.29291510097,
          78683.5356733528,
          79011.76340124034,
          79338.00689197246,
          79662.29623047843,
          79984.6608152412,
          80305.12937929083,
          80623.73001039612,
          80940.49017049167,
          81255.43671437443,
          81568.59590770297,
          81879.99344433023,
          82189.65446299984,
          82497.60356343318,
          82803.86482183443,
          83108.46180583863,
          83411.41758892647,
          83712.75476432862,
          84012.49545844154,
          84310.6613437752,
          84607.27365145185,
          84902.35318327483,
          85195.9203233853,
          85487.9950495232,
          85778.59694390913,
          86067.74520376184,
          86355.45865146618,
          86641.75574440595,
          86926.65458447348,
          87210.17292727044,
          87492.32819101065,
          87773.13746513639,
          88052.61751866048,
          88330.78480824291,
          88607.65548601355,
          88883.24540714975,
          89157.5701372181,
          89430.64495928954,
          89702.48488083536,
          89973.10464041332,
          90242.51871415086,
          90510.74132203222,
          90777.78643399807,
          91043.6677758629,
          91308.39883505773,
          91571.99286620326,
          91834.46289652078,
          92095.82173108529,
          92356.08195792705,
          92615.25595298657,
          92873.35588492804,
          93130.39371981625,
          93386.38122566129,
          93641.32997683603,
          93895.25135837006,
          94148.15657012467,
          94400.05663085285,
          94650.96238214709,
          94900.88449228091,
          95149.83345994489,
          95397.81961788269,
          95644.8531364291,
          95890.94402695427,
          96136.10214521579,
          96380.33719462305,
          96623.65872941537,
          96866.07615775774,
          97107.59874475544,
          97348.23561539158,
          97587.99575738852,
          97826.88802399671,
          98064.92113671225,
          98302.10368792572,
          98538.44414350473,
          98773.95084531153,
          99008.63201365792,
          99242.49574969958,
          99475.55003777092,
          99707.80274766346,
          99939.26163684764,
          100169.93435264153,
          100399.82843432655,
          100628.95131521273,
          100857.31032465442,
          101084.91269001782,
          101311.76553860231,
          101537.87589951625,
          101763.25070550863,
          101987.89679475833,
          102211.82091262139,
          102435.0297133384,
          102657.52976170197,
          102879.32753468641,
          103100.42942304032,
          103320.84173284277,
          103540.57068702439,
          103759.62242685446,
          103978.00301339445,
          104195.7184289194,
          104412.77457830773,
          104629.17729040018,
          104844.9323193293,
          105060.04534581938,
          105274.52197845836,
          105488.36775494218,
          105701.58814329219,
          105914.18854304632,
          106126.17428642494,
          106337.55063947178,
          106548.32280317074,
          106758.49591453899,
          106968.07504769722,
          107177.0652149174,
          107385.47136764877,
          107593.29839752252,
          107800.55113733561,
          108007.23436201464,
          108213.35278955953,
          108418.91108196833,
          108623.91384614303,
          108828.36563477718,
          109032.2709472255,
          109235.63423035604,
          109438.45987938554,
          109640.75223869785,
          109842.5156026463,
          110043.75421634018,
          110244.47227641594,
          110444.67393179292,
          110644.36328441475,
          110843.54438997601,
          111042.22125863511,
          111240.39785571327,
          111438.07810238005,
          111635.26587632597,
          111831.96501242215,
          112028.17930336752,
          112223.91250032374,
          112419.16831353822,
          112613.95041295557,
          112808.26242881731,
          113002.10795225082,
          113195.4905358471,
          113388.41369422794,
          113580.88090460279,
          113772.89560731512,
          113964.46120637923,
          114155.58107000696,
          114346.25853112488,
          114536.49688788247,
          114726.29940415073,
          114915.66931001219,
          115104.60980224203,
          115293.1240447806,
          115481.21516919773,
          115668.88627514869,
          115856.14043082221,
          116042.98067338069,
          116229.41000939262,
          116415.43141525748,
          116601.04783762345,
          116786.26219379765,
          116971.07737214956,
          117155.49623250736,
          117339.52160654755,
          117523.15629817796,
          117706.40308391419,
          117889.26471324987,
          118071.74390902033,
          118253.8433677606,
          118435.5657600571,
          118616.91373089358,
          118797.88989999125,
          118978.49686214345,
          119158.73718754463,
          119338.61342211391,
          119518.12808781344,
          119697.28368296157,
          119876.08268254079,
          120054.52753850078,
          120232.62068005657,
          120410.36451398183,
          120587.76142489743,
          120764.81377555558,
          120941.52390711918,
          121117.89413943677,
          121293.92677131339,
          121469.62408077682,
          121644.98832533977,
          121820.02174225808,
          121994.72654878462,
          122169.10494241942,
          122343.15910115594,
          122516.89118372338,
          122690.30332982528,
          122863.39766037461,
          123036.17627772508,
          123208.6412658989,
          123380.79469081122,
          123552.63860049112,
          123724.17502529906,
          123895.40597814132,
          124066.33345468112,
          124236.9594335464,
          124407.28587653476,
          124577.31472881517,
          124747.04791912678,
          124916.48735997474,
          125085.63494782305,
          125254.49256328473,
          125423.0620713091,
          125591.34532136636,
          125759.3441476294,
          125927.06036915304,
          126094.49579005077,
          126261.65219966864,
          126428.5313727569,
          126595.13506963919,
          126761.4650363791,
          126927.52300494452,
          127093.31069336958,
          127258.82980591434,
          127424.08203322218,
          127589.06905247494,
          127753.79252754603,
          127918.25410915115,
          128082.45543499716,
          128246.39812992868,
          128410.08380607268,
          128573.51406298124,
          128736.69048777214,
          128899.6146552675,
          129062.28812813078,
          129224.71245700157,
          129386.8891806287,
          129548.81982600165,
          129710.50590847988,
          129871.9489319208,
          130033.15038880553,
          130194.11176036348,
          130354.83451669489,
          130515.32011689186,
          130675.57000915776,
          130835.58563092507,
          130995.36840897167,
          131154.91975953546,
          131314.24108842766,
          131473.33379114445,
          131632.19925297733,
          131790.8388491218,
          131949.2539447848,
          132107.44589529082,
          132265.4160461863,
          132423.16573334305,
          132580.6962830602,
          132738.00901216472,
          132895.1052281108,
          133051.98622907797,
          133208.6533040678,
          133365.10773299963,
          133521.3507868048,
          133677.38372751992,
          133833.20780837885,
          133988.82427390345,
          134144.23435999348,
          134299.43929401506,
          134454.4402948881,
          134609.23857317283,
          134763.835331155,
          134918.23176293023,
          135072.42905448715,
          135226.42838378975,
          135380.2309208584,
          135533.83782785007,
          135687.2502591378,
          135840.46936138856,
          135993.4962736409,
          136146.3321273811,
          136298.97804661875,
          136451.43514796125,
          136603.7045406875,
          136755.78732682051,
          136907.68460119958,
          137059.397451551,
          137210.92695855853,
          137362.27419593267,
          137513.44023047914,
          137664.4261221667,
          137815.23292419408,
          137965.86168305614,
          138116.31343860924,
          138266.5892241359,
          138416.6900664086,
          138566.616985753,
          138716.37099611032,
          138865.953105099,
          139015.36431407568,
          139164.60561819546,
          139313.6780064716,
          139462.58246183424,
          139611.3199611888,
          139759.89147547347,
          139908.2979697162,
          140056.54040309082,
          140204.619728973,
          140352.5368949949,
          140500.29284309986,
          140647.88850959612,
          140795.32482520991,
          140942.60271513832,
          141089.72309910096,
          141236.6868913918,
          141383.49500092975,
          141530.14833130923,
          141676.6477808497,
          141822.9942426451,
          141969.18860461246,
          142115.23174954005,
          142261.1245551351,
          142406.86789407075,
          142552.46263403294,
          142697.9096377663,
          142843.20976311987,
          142988.36386309227,
          143133.37278587616,
          143278.23737490273,
          143422.95846888516,
          143567.53690186198,
          143711.9735032398,
          143856.2690978357,
          144000.42450591913,
          144144.44054325327,
          144288.31802113622,
          144432.0577464414,
          144575.66052165793,
          144719.1271449302,
          144862.45841009734,
          145005.65510673216,
          145148.71802017957,
          145291.64793159487,
          145434.44561798143,
          145577.11185222812,
          145719.64740314617,
          145862.05303550596,
          146004.32951007315,
          146146.4775836446,
          146288.49800908388,
          146430.39153535647,
          146572.15890756447,
          146713.8008669812,
          146855.3181510853,
          146996.71149359428,
          147137.9816244984,
          147279.12927009337,
          147420.1551530134,
          147561.05999226356,
          147701.84450325204,
          147842.50939782182,
          147983.05538428237,
          148123.48316744075,
          148263.7934486326,
          148403.98692575278,
          148544.06429328566,
          148684.02624233512,
          148823.8734606544,
          148963.6066326755,
          149103.22643953835,
          149242.7335591198,
          149382.12866606217,
          149521.4124318017,
          149660.58552459656,
          149799.64860955472,
          149938.6023486616,
          150077.44740080726,
          150216.18442181358,
          150354.814064461,
          150493.33697851512,
          150631.753810753,
          150770.06520498922,
          150908.27180210187,
          151046.3742400579,
          151184.37315393868,
          151322.2691759651,
          151460.06293552252,
          151597.75505918532,
          151735.34617074148,
          151872.83689121687,
          152010.22783889915,
          152147.51962936166,
          152284.71287548708,
          152421.80818749062,
          152558.80617294353,
          152695.70743679575,
          152832.51258139897,
          152969.222206529,
          153105.83690940827,
          153242.357284728,
          153378.78392467022,
          153515.11741892956,
          153651.35835473478,
          153787.5073168704,
          153923.5648876978,
          154059.5316471763,
          154195.40817288417,
          154331.19504003917,
          154466.89282151923,
          154602.50208788278,
          154738.0234073889,
          154873.45734601733,
          155008.80446748852,
          155144.06533328307,
          155279.2405026614,
          155414.33053268315,
          155549.33597822624,
          155684.2573920061,
          155819.09532459453,
          155953.85032443824,
          156088.52293787777,
          156223.11370916571,
          156357.62318048507,
          156492.0518919674,
          156626.4003817108,
          156760.6691857978,
          156894.85883831303,
          157028.96987136093,
          157163.00281508293,
          157296.95819767503,
          157430.83654540483,
          157564.63838262853,
          157698.3642318079,
          157832.01461352708,
          157965.5900465091,
          158099.09104763254,
          158232.51813194779,
          158365.8718126933,
          158499.152601312,
          158632.36100746688,
          158765.49753905722,
          158898.56270223422,
          159031.55700141675,
          159164.48093930678,
          159297.33501690495,
          159430.1197335257,
          159562.8355868127,
          159695.4830727537,
          159828.0626856958,
          159960.57491835995,
          160093.02026185615,
          160225.3992056977,
          160357.71223781607,
          160489.9598445752,
          160622.1425107858,
          160754.26071971978,
          160886.3149531242,
          161018.30569123555,
          161150.2334127934,
          161282.09859505456,
          161413.90171380658,
          161545.6432433817,
          161677.32365667008,
          161808.9434251336,
          161940.50301881903,
          162072.0029063715,
          162203.4435550475,
          162334.82543072826,
          162466.1489979325,
          162597.41471982969,
          162728.6230582526,
          162859.77447371033,
          162990.86942540092,
          163121.90837122386,
          163252.8917677929,
          163383.8200704481,
          163514.69373326865,
          163645.5132090848,
          163776.2789494903,
          163906.99140485446,
          164037.65102433425,
          164168.25825588626,
          164298.81354627866,
          164429.317341103,
          164559.77008478603,
          164690.17222060138,
          164820.52419068123,
          164950.82643602783,
          165081.07939652496,
          165211.28351094952,
          165341.43921698275,
          165471.5469512215,
          165601.60714918963,
          165731.62024534895,
          165861.58667311055,
          165991.50686484572,
          166121.3812518969,
          166251.21026458865,
          166380.9943322385,
          166510.7338831678,
          166640.4293447123,
          166770.08114323302,
          166899.68970412677,
          167029.25545183668,
          167158.7788098628,
          167288.26020077243,
          167417.70004621078,
          167547.0987669109,
          167676.45678270442,
          167805.7745125314,
          167935.05237445084,
          168064.29078565052,
          168193.49016245737,
          168322.65092034725,
          168451.77347395514,
          168580.85823708493,
          168709.90562271938,
          168838.91604303,
          168967.88990938675,
          169096.82763236784,
          169225.72962176945,
          169354.5962866153,
          169483.42803516646,
          169612.22527493068,
          169740.98841267204,
          169869.71785442054,
          169998.4140054813,
          170127.07727044413,
          170255.70805319294,
          170384.3067569149,
          170512.8737841098,
          170641.40953659939,
          170769.91441553636,
          170898.3888214137,
          171026.83315407386,
          171155.24781271766,
          171283.63319591343,
          171411.9897016061,
          171540.31772712618,
          171668.61766919857,
          171796.8899239517,
          171925.1348869262,
          172053.35295308387,
          172181.5445168165,
          172309.70997195473,
          172437.84971177657,
          172565.9641290164,
          172694.0536158735,
          172822.11856402078,
          172950.1593646134,
          173078.17640829744,
          173206.17008521836,
          173334.14078502965,
          173462.0888969014,
          173590.01480952863,
          173717.91891113995,
          173845.80158950592,
          173973.6632319475,
          174101.50422534434,
          174229.32495614336,
          174357.12581036703,
          174484.9071736215,
          174612.66943110523,
          174740.412967617,
          174868.13816756438,
          174995.84541497182,
          175123.5350934889,
          175251.20758639864,
          175378.86327662552,
          175506.50254674375,
          175634.1257789854,
          175761.73335524843,
          175889.3256571049,
          176016.90306580905,
          176144.4659623053,
          176272.0147272363,
          176399.54974095113,
          176527.0713835131,
          176654.58003470788,
          176782.07607405147,
          176909.55988079816,
          177037.03183394854,
          177164.4923122573,
          177291.9416942414,
          177419.3803581878,
          177546.80868216147,
          177674.22704401318,
          177801.63582138752,
          177929.03539173072,
          178056.42613229845,
          178183.80842016375,
          178311.18263222493,
          178438.54914521318,
          178565.90833570066,
          178693.26058010818,
          178820.60625471303,
          178947.9457356567,
          179075.27939895293,
          179202.60762049514,
          179329.93077606452,
          179457.24924133756,
          179584.5633918941,
          179711.87360322478,
          179839.18025073904,
          179966.48370977273,
          180093.78435559597,
          180221.08256342082,
          180348.37870840906,
          180475.67316567988,
          180602.9663103177,
          180730.25851737984,
          180857.55016190434,
          180984.84161891756,
          181112.13326344205,
          181239.4254705042,
          181366.71861514202,
          181494.01307241284,
          181621.30921740105,
          181748.6074252259,
          181875.90807104917,
          182003.21153008286,
          182130.51817759714,
          182257.82838892782,
          182385.14253948434,
          182512.4610047574,
          182639.78416032676,
          182767.11238186897,
          182894.44604516518,
          183021.78552610887,
          183149.13120071372,
          183276.48344512124,
          183403.84263560871,
          183531.20914859697,
          183658.58336065814,
          183785.96564852344,
          183913.35638909118,
          184040.75595943438,
          184168.1647368087,
          184295.58309866043,
          184423.01142263407,
          184550.4500865805,
          184677.8994685646,
          184805.3599468734,
          184932.83190002374,
          185060.31570677043,
          185187.81174611402,
          185315.3203973088,
          185442.84203987077,
          185570.3770535856,
          185697.9258185166,
          185825.48871501285,
          185953.066123717,
          186080.65842557346,
          186208.26600183648,
          186335.88923407812,
          186463.52850419638,
          186591.18419442326,
          186718.856687333,
          186846.54636585008,
          186974.25361325752,
          187101.9788132049,
          187229.7223497167,
          187357.4846072004,
          187485.26597045487,
          187613.06682467854,
          187740.88755547756,
          187868.7285488744,
          187996.59019131598,
          188124.47286968195,
          188252.37697129327,
          188380.3028839205,
          188508.25099579224,
          188636.22169560354,
          188764.21537252446,
          188892.23241620848,
          189020.2732168011,
          189148.3381649484,
          189276.42765180548,
          189404.54206904533,
          189532.68180886717,
          189660.8472640054,
          189789.03882773806,
          189917.2568938957,
          190045.5018568702,
          190173.77411162332,
          190302.07405369572,
          190430.4020792158,
          190558.75858490847,
          190687.14396810424,
          190815.55862674804,
          190944.0029594082,
          191072.47736528554,
          191200.9822442225,
          191329.51799671206,
          191458.08502390698,
          191586.68372762893,
          191715.31451037776,
          191843.97777534064,
          191972.6739264014,
          192101.40336814985,
          192230.16650589125,
          192358.96374565543,
          192487.7954942066,
          192616.66215905244,
          192745.56414845405,
          192874.50187143515,
          193003.4757377919,
          193132.48615810252,
          193261.53354373696,
          193390.61830686676,
          193519.74086047465,
          193648.90161836453,
          193778.10099517135,
          193907.33940637106,
          194036.6172682905,
          194165.9349981175,
          194295.293013911,
          194424.69173461114,
          194554.13158004946,
          194683.61297095913,
          194813.13632898522,
          194942.70207669513,
          195072.31063758887,
          195201.9624361096,
          195331.6578976541,
          195461.3974485834,
          195591.18151623325,
          195721.010528925,
          195850.88491597617,
          195980.80510771132,
          196110.77153547294,
          196240.78463163227,
          196370.8448296004,
          196500.95256383915,
          196631.10826987238,
          196761.31238429694,
          196891.5653447941,
          197021.86759014067,
          197152.21956022052,
          197282.62169603587,
          197413.0744397189,
          197543.57823454324,
          197674.13352493563,
          197804.74075648765,
          197935.40037596744,
          198066.1128313316,
          198196.8785717371,
          198327.69804755325,
          198458.57171037377,
          198589.500013029,
          198720.483409598,
          198851.52235542098,
          198982.61730711156,
          199113.76872256934,
          199244.97706099224,
          199376.2427828894,
          199507.56635009366,
          199638.9482257744,
          199770.3888744504,
          199901.88876200287,
          200033.4483556883,
          200165.06812415182,
          200296.7485374402,
          200428.49006701531,
          200560.29318576734,
          200692.1583680285,
          200824.08608958634,
          200956.07682769766,
          201088.13106110212,
          201220.2492700361,
          201352.4319362467,
          201484.6795430058,
          201616.9925751242,
          201749.37151896575,
          201881.81686246194,
          202014.32909512613,
          202146.9087080682,
          202279.5561940092,
          202412.2720472962,
          202545.05676391695,
          202677.9108415151,
          202810.83477940515,
          202943.82907858767,
          203076.89424176468,
          203210.030773355,
          203343.2391795099,
          203476.51996812856,
          203609.8736488741,
          203743.30073318933,
          203876.80173431276,
          204010.37716729482,
          204144.027549014,
          204277.7533981934,
          204411.5552354171,
          204545.43358314686,
          204679.38896573897,
          204813.42190946097,
          204947.53294250887,
          205081.7225950241,
          205215.9913991111,
          205350.3398888545,
          205484.76860033683,
          205619.27807165618,
          205753.86884294412,
          205888.54145638365,
          206023.29645622737,
          206158.13438881576,
          206293.05580259563,
          206428.06124813875,
          206563.1512781605,
          206698.32644753886,
          206833.5873133334,
          206968.93443480457,
          207104.36837343304,
          207239.88969293912,
          207375.49895930267,
          207511.19674078273,
          207646.98360793773,
          207782.8601336456,
          207918.8268931241,
          208054.8844639515,
          208191.03342608712,
          208327.27436189234,
          208463.60785615165,
          208600.0344960939,
          208736.55487141362,
          208873.1695742929,
          209009.8791994229,
          209146.68434402614,
          209283.58560787837,
          209420.58359333128,
          209557.67890533485,
          209694.87215146024,
          209832.16394192274,
          209969.55488960503,
          210107.04561008041,
          210244.63672163658,
          210382.32884529937,
          210520.1226048568,
          210658.01862688322,
          210796.017540764,
          210934.11997872003,
          211072.32657583267,
          211210.6379700689,
          211349.05480230678,
          211487.5777163609,
          211626.20735900832,
          211764.94438001464,
          211903.78943216032,
          212042.74317126718,
          212181.80625622536,
          212320.9793490202,
          212460.26311475973,
          212599.6582217021,
          212739.16534128354,
          212878.7851481464,
          213018.5183201675,
          213158.36553848677,
          213298.32748753624,
          213438.40485506912,
          213578.59833218929,
          213718.90861338115,
          213859.33639653953,
          213999.88238300005,
          214140.54727756986,
          214281.33178855834,
          214422.2366278085,
          214563.26251072856,
          214704.41015632352,
          214845.68028722762,
          214987.0736297366,
          215128.5909138407,
          215270.23287325742,
          215412.00024546543,
          215553.89377173802,
          215695.9141971773,
          215838.06227074875,
          215980.33874531594,
          216122.74437767573,
          216265.27992859378,
          216407.94616284044,
          216550.743849227,
          216693.6737606423,
          216836.7366740897,
          216979.93337072455,
          217123.2646358917,
          217266.731259164,
          217410.3340343805,
          217554.0737596857,
          217697.95123756863,
          217841.96727490277,
          217986.1226829862,
          218130.4182775821,
          218274.85487895992,
          218419.43331193674,
          218564.15440591917,
          218709.01899494574,
          218854.02791772963,
          218999.182017702,
          219144.4821430556,
          219289.92914678896,
          219435.52388675115,
          219581.2672256868,
          219727.16003128188,
          219873.20317620947,
          220019.39753817683,
          220165.74399997218,
          220312.24344951267,
          220458.89677989212,
          220605.70488943008,
          220752.6686817209,
          220899.78906568358,
          221047.06695561195,
          221194.50327122575,
          221342.098937722,
          221489.854885827,
          221637.7720518489,
          221785.85137773107,
          221934.0938111057,
          222082.50030534843,
          222231.0718196331,
          222379.80931898765,
          222528.7137743503,
          222677.78616262643,
          222827.02746674622,
          222976.43867572286,
          223126.02078471155,
          223275.77479506886,
          223425.70171441327,
          223575.802556686,
          223726.07834221263,
          223876.53009776573,
          224027.1588566278,
          224177.9656586552,
          224328.95155034272,
          224480.11758488923,
          224631.46482226334,
          224782.9943292709,
          224934.70717962232,
          225086.60445400135,
          225238.6872401344,
          225390.95663286065,
          225543.41373420315,
          225696.0596534408,
          225848.895507181,
          226001.9224194333,
          226155.14152168407,
          226308.55395297176,
          226462.1608599635,
          226615.96339703212,
          226769.96272633472,
          226924.16001789167,
          227078.55644966688,
          227233.15320764904,
          227387.9514859338,
          227542.95248680684,
          227698.1574208284,
          227853.56750691845,
          228009.18397244305,
          228165.00805330195,
          228321.0409940171,
          228477.28404782226,
          228633.73847675408,
          228790.40555174393,
          228947.28655271107,
          229104.38276865715,
          229261.69549776166,
          229419.2260474788,
          229576.97573463558,
          229734.94588553105,
          229893.13783603706,
          230051.55293170008,
          230210.19252784457,
          230369.05798967744,
          230528.15069239424,
          230687.47202128643,
          230847.02337185023,
          231006.80614989682,
          231166.82177166414,
          231327.07166393002,
          231487.55726412698,
          231648.2800204584,
          231809.24139201635,
          231970.4428489011,
          232131.88587234198,
          232293.57195482025,
          232455.50260019317,
          232617.6793238203,
          232780.10365269106,
          232942.77712555436,
          233105.70129304973,
          233268.87771784066,
          233432.30797474922,
          233595.99365089322,
          233759.9363458247,
          233924.13767167073,
          234088.59925327587,
          234253.32272834695,
          234418.3097475997,
          234583.56197490753,
          234749.0810874523,
          234914.86877587734,
          235080.92674444275,
          235247.25671118268,
          235413.86040806497,
          235580.73958115326,
          235747.8959907711,
          235915.33141166883,
          236083.04763319247,
          236251.0464594555,
          236419.3297095128,
          236587.89921753717,
          236756.75683299883,
          236925.90442084716,
          237095.3438616951,
          237265.07705200673,
          237435.10590428713,
          237605.4323472755,
          237776.05832614074,
          237946.98580268055,
          238118.21675552282,
          238289.75318033074,
          238461.59709001065,
          238633.75051492298,
          238806.21550309678,
          238978.99412044726,
          239152.0884509966,
          239325.5005970985,
          239499.23267966593,
          239673.28683840248,
          239847.66523203728,
          240022.37003856382,
          240197.40345548213,
          240372.76770004508,
          240548.46500950848,
          240724.49764138513,
          240900.86787370272,
          241077.5780052663,
          241254.63035592443,
          241432.02726684004,
          241609.7711007653,
          241787.86424232108,
          241966.30909828108,
          242145.1080978603,
          242324.26369300843,
          242503.77835870796,
          242683.65459327723,
          242863.89491867844,
          243044.50188083065,
          243225.47804992832,
          243406.8260207648,
          243588.54841306127,
          243770.64787180157,
          243953.12706757203,
          244135.98869690768,
          244319.23548264394,
          244502.8701742743,
          244686.8955483145,
          244871.3144086723,
          245056.12958702422,
          245241.34394319842,
          245426.9603655644,
          245612.98177142924,
          245799.41110744118,
          245986.25134999966,
          246173.50550567318,
          246361.17661162416,
          246549.26773604128,
          246737.78197857988,
          246926.7224708097,
          247116.09237667115,
          247305.89489293942,
          247496.13324969698,
          247686.8107108149,
          247877.93057444264,
          248069.49617350672,
          248261.51087621908,
          248453.9780865939,
          248646.90124497475,
          248840.28382857103,
          249034.12935200456,
          249228.4413678663,
          249423.22346728365,
          249618.47928049814,
          249814.21247745433,
          250010.42676839975,
          250207.12590449594,
          250404.31367844186,
          250601.99392510863,
          250800.17052218676,
          250998.84739084588,
          251198.02849640715,
          251397.71784902894,
          251597.91950440593,
          251798.6375644817,
          251999.8761781756,
          252201.639542124,
          252403.9319014363,
          252606.75755046582,
          252810.1208335964,
          253014.0261460447,
          253218.47793467884,
          253423.48069885353,
          253629.03899126232,
          253835.15741880727,
          254041.8406434863,
          254249.09338329936,
          254456.9204131731,
          254665.32656590448,
          254874.31673312464,
          255083.89586628287,
          255294.06897765113,
          255504.8411413501,
          255716.21749439693,
          255928.20323777554,
          256140.80363752967,
          256354.02402587968,
          256567.8698023635,
          256782.34643500246,
          256997.45946149257,
          257213.21449042164,
          257429.61720251414,
          257646.67335190251,
          257864.38876742744,
          258082.76935396745,
          258301.8210937975,
          258521.5500479791,
          258741.96235778154,
          258963.06424613547,
          259184.86201911993,
          259407.36206748345,
          259630.57086820045,
          259854.49498606354,
          260079.14107531324,
          260304.51588130562,
          260530.6262422196,
          260757.47909080406,
          260985.08145616745,
          261213.44046560914,
          261442.56334649533,
          261672.45742818035,
          261903.13014397427,
          262134.58903315844,
          262366.84174305096,
          262599.89603112236,
          262833.759767164,
          263068.4409355104,
          263303.9476373172,
          263540.28809289617,
          263777.47064410965,
          264015.5037568251,
          264254.3960234333,
          264494.1561654303,
          264734.79303606646,
          264976.3156230641,
          265218.7330514065,
          265462.0545861988,
          265706.2896356061,
          265951.4477538676,
          266197.5386443927,
          266444.57216293924,
          266692.55832087697,
          266941.507288541,
          267191.42939867475,
          267442.33514996903,
          267694.23521069717,
          267947.14042245183,
          268201.06180398585,
          268456.0105551606,
          268711.99806100567,
          268969.0358958938,
          269227.1358278353,
          269486.3098228948,
          269746.5700497366,
          270007.9288843011,
          270270.3989146186,
          270533.99294576416,
          270798.72400495893,
          271064.6053468238,
          271331.65045878966,
          271599.873066671,
          271869.2871404085,
          272139.90689998656,
          272411.7468215323,
          272684.82164360373,
          272959.1463736721,
          273234.73629480833,
          273511.606972579,
          273789.77426216134,
          274069.2543156854,
          274350.0635898112,
          274632.2188535514,
          274915.7371963484,
          275200.63603641593,
          275486.9331293556,
          275774.64657706,
          276063.79483691265,
          276354.3967312987,
          276646.47145743656,
          276940.0385975471,
          277235.11812937004,
          277531.7304370466,
          277829.89632238034,
          278129.63701649325,
          278430.9741918954,
          278733.9299749832,
          279038.52695898747,
          279344.78821738873,
          279652.73731782206,
          279962.3983364916,
          280273.7958731189,
          280586.95506644744,
          280901.9016103302,
          281218.66177042574,
          281537.26240153104,
          281857.7309655806,
          282180.09555034345,
          282504.38488884945,
          282830.62837958155,
          283158.85610746907,
          283489.09886572085,
          283821.38817854016,
          284155.75632476294,
          284492.2363624667,
          284830.86215459707,
          285171.66839566466,
          285514.6906395647,
          285859.9653285785,
          286207.52982361714,
          286557.4224357718,
          286909.68245923985,
          287264.3502056992,
          287621.46704020933,
          287981.0754187192,
          288343.2189272731,
          288707.9423230043,
          289075.2915770175,
          289445.31391926657,
          289818.05788553896,
          290193.5733666674,
          290571.9116600988,
          290953.1255239561,
          291337.26923374034,
          291724.3986418302,
          292114.5712399463,
          292507.8462247612,
          292904.2845668466,
          293303.9490831657,
          293706.90451333154,
          294113.2175998711,
          294522.9571727495,
          294936.19423843146,
          295353.00207377604,
          295773.4563250838,
          296197.6351126423,
          296625.6191411398,
          297057.4918163511,
          297493.3393685281,
          297933.2509829649,
          298377.31893824745,
          298825.6387527378,
          299278.3093398915,
          299735.43317305937,
          300197.1164604779,
          300663.4693312185,
          301134.60603293334,
          301610.6451423097,
          302091.709789232,
          302577.92789574,
          303069.43243097665,
          303566.3616834329,
          304068.8595519218,
          304577.07585685793,
          305091.1666735732,
          305611.2946895751,
          306137.6295878526,
          306670.34845854953,
          307209.63624157495,
          307755.6862029949,
          308308.70044836006,
          308868.89047647547,
          309436.47777751304,
          310011.69447981473,
          310594.78405024414,
          311186.0020535154,
          311785.6169765907,
          312393.9111249797,
          313011.1815986339,
          313637.74135610636,
          314273.9203767758,
          314920.0669322271,
          315576.548979381,
          316243.7556896942,
          316922.0991307673,
          317612.01611903333,
          318313.97026493907,
          319028.4542352299,
          319755.99226071045,
          320497.142922293,
          321252.5022533884,
          322022.7072029313,
          322808.439510756,
          323610.43005593424,
          324429.4637493696,
          325266.3850548449,
          326122.10423836263,
          326997.60446468345,
          327893.94988331886,
          328812.29487499176,
          329753.8946651893,
          330720.11755580234,
          331712.4590814695,
          332732.5584674571,
          333782.21785514825,
          334863.4248755293,
          335978.37929864577,
          337129.52467920934,
          338319.58617115027,
          339551.6160192235,
          340829.04868558573,
          342155.76817962294,
          343536.19099782035,
          344975.3692479889,
          346479.12018173165,
          348054.19072723645,
          349708.469074631,
          351451.26052062615,
          353293.6526245641,
          355249.0069590467,
          357333.6343278538,
          359567.74267154245,
          361976.802191867,
          364593.57068564056,
          367461.20578681526,
          370638.2532316478,
          374207.0649768377,
          378288.9542736417,
          383073.8620837462,
          388885.3997952773,
          396348.84001054335,
          406956.3560230495,
          426030.88696077606
         ]
        }
       ],
       "layout": {
        "font": {
         "color": "white"
        },
        "legend": {
         "tracegroupgap": 0
        },
        "margin": {
         "t": 60
        },
        "paper_bgcolor": "rgba(32, 32, 32, 1)",
        "plot_bgcolor": "rgba(32, 32, 32, 1)",
        "template": {
         "data": {
          "bar": [
           {
            "error_x": {
             "color": "#2a3f5f"
            },
            "error_y": {
             "color": "#2a3f5f"
            },
            "marker": {
             "line": {
              "color": "#E5ECF6",
              "width": 0.5
             },
             "pattern": {
              "fillmode": "overlay",
              "size": 10,
              "solidity": 0.2
             }
            },
            "type": "bar"
           }
          ],
          "barpolar": [
           {
            "marker": {
             "line": {
              "color": "#E5ECF6",
              "width": 0.5
             },
             "pattern": {
              "fillmode": "overlay",
              "size": 10,
              "solidity": 0.2
             }
            },
            "type": "barpolar"
           }
          ],
          "carpet": [
           {
            "aaxis": {
             "endlinecolor": "#2a3f5f",
             "gridcolor": "white",
             "linecolor": "white",
             "minorgridcolor": "white",
             "startlinecolor": "#2a3f5f"
            },
            "baxis": {
             "endlinecolor": "#2a3f5f",
             "gridcolor": "white",
             "linecolor": "white",
             "minorgridcolor": "white",
             "startlinecolor": "#2a3f5f"
            },
            "type": "carpet"
           }
          ],
          "choropleth": [
           {
            "colorbar": {
             "outlinewidth": 0,
             "ticks": ""
            },
            "type": "choropleth"
           }
          ],
          "contour": [
           {
            "colorbar": {
             "outlinewidth": 0,
             "ticks": ""
            },
            "colorscale": [
             [
              0,
              "#0d0887"
             ],
             [
              0.1111111111111111,
              "#46039f"
             ],
             [
              0.2222222222222222,
              "#7201a8"
             ],
             [
              0.3333333333333333,
              "#9c179e"
             ],
             [
              0.4444444444444444,
              "#bd3786"
             ],
             [
              0.5555555555555556,
              "#d8576b"
             ],
             [
              0.6666666666666666,
              "#ed7953"
             ],
             [
              0.7777777777777778,
              "#fb9f3a"
             ],
             [
              0.8888888888888888,
              "#fdca26"
             ],
             [
              1,
              "#f0f921"
             ]
            ],
            "type": "contour"
           }
          ],
          "contourcarpet": [
           {
            "colorbar": {
             "outlinewidth": 0,
             "ticks": ""
            },
            "type": "contourcarpet"
           }
          ],
          "heatmap": [
           {
            "colorbar": {
             "outlinewidth": 0,
             "ticks": ""
            },
            "colorscale": [
             [
              0,
              "#0d0887"
             ],
             [
              0.1111111111111111,
              "#46039f"
             ],
             [
              0.2222222222222222,
              "#7201a8"
             ],
             [
              0.3333333333333333,
              "#9c179e"
             ],
             [
              0.4444444444444444,
              "#bd3786"
             ],
             [
              0.5555555555555556,
              "#d8576b"
             ],
             [
              0.6666666666666666,
              "#ed7953"
             ],
             [
              0.7777777777777778,
              "#fb9f3a"
             ],
             [
              0.8888888888888888,
              "#fdca26"
             ],
             [
              1,
              "#f0f921"
             ]
            ],
            "type": "heatmap"
           }
          ],
          "heatmapgl": [
           {
            "colorbar": {
             "outlinewidth": 0,
             "ticks": ""
            },
            "colorscale": [
             [
              0,
              "#0d0887"
             ],
             [
              0.1111111111111111,
              "#46039f"
             ],
             [
              0.2222222222222222,
              "#7201a8"
             ],
             [
              0.3333333333333333,
              "#9c179e"
             ],
             [
              0.4444444444444444,
              "#bd3786"
             ],
             [
              0.5555555555555556,
              "#d8576b"
             ],
             [
              0.6666666666666666,
              "#ed7953"
             ],
             [
              0.7777777777777778,
              "#fb9f3a"
             ],
             [
              0.8888888888888888,
              "#fdca26"
             ],
             [
              1,
              "#f0f921"
             ]
            ],
            "type": "heatmapgl"
           }
          ],
          "histogram": [
           {
            "marker": {
             "pattern": {
              "fillmode": "overlay",
              "size": 10,
              "solidity": 0.2
             }
            },
            "type": "histogram"
           }
          ],
          "histogram2d": [
           {
            "colorbar": {
             "outlinewidth": 0,
             "ticks": ""
            },
            "colorscale": [
             [
              0,
              "#0d0887"
             ],
             [
              0.1111111111111111,
              "#46039f"
             ],
             [
              0.2222222222222222,
              "#7201a8"
             ],
             [
              0.3333333333333333,
              "#9c179e"
             ],
             [
              0.4444444444444444,
              "#bd3786"
             ],
             [
              0.5555555555555556,
              "#d8576b"
             ],
             [
              0.6666666666666666,
              "#ed7953"
             ],
             [
              0.7777777777777778,
              "#fb9f3a"
             ],
             [
              0.8888888888888888,
              "#fdca26"
             ],
             [
              1,
              "#f0f921"
             ]
            ],
            "type": "histogram2d"
           }
          ],
          "histogram2dcontour": [
           {
            "colorbar": {
             "outlinewidth": 0,
             "ticks": ""
            },
            "colorscale": [
             [
              0,
              "#0d0887"
             ],
             [
              0.1111111111111111,
              "#46039f"
             ],
             [
              0.2222222222222222,
              "#7201a8"
             ],
             [
              0.3333333333333333,
              "#9c179e"
             ],
             [
              0.4444444444444444,
              "#bd3786"
             ],
             [
              0.5555555555555556,
              "#d8576b"
             ],
             [
              0.6666666666666666,
              "#ed7953"
             ],
             [
              0.7777777777777778,
              "#fb9f3a"
             ],
             [
              0.8888888888888888,
              "#fdca26"
             ],
             [
              1,
              "#f0f921"
             ]
            ],
            "type": "histogram2dcontour"
           }
          ],
          "mesh3d": [
           {
            "colorbar": {
             "outlinewidth": 0,
             "ticks": ""
            },
            "type": "mesh3d"
           }
          ],
          "parcoords": [
           {
            "line": {
             "colorbar": {
              "outlinewidth": 0,
              "ticks": ""
             }
            },
            "type": "parcoords"
           }
          ],
          "pie": [
           {
            "automargin": true,
            "type": "pie"
           }
          ],
          "scatter": [
           {
            "fillpattern": {
             "fillmode": "overlay",
             "size": 10,
             "solidity": 0.2
            },
            "type": "scatter"
           }
          ],
          "scatter3d": [
           {
            "line": {
             "colorbar": {
              "outlinewidth": 0,
              "ticks": ""
             }
            },
            "marker": {
             "colorbar": {
              "outlinewidth": 0,
              "ticks": ""
             }
            },
            "type": "scatter3d"
           }
          ],
          "scattercarpet": [
           {
            "marker": {
             "colorbar": {
              "outlinewidth": 0,
              "ticks": ""
             }
            },
            "type": "scattercarpet"
           }
          ],
          "scattergeo": [
           {
            "marker": {
             "colorbar": {
              "outlinewidth": 0,
              "ticks": ""
             }
            },
            "type": "scattergeo"
           }
          ],
          "scattergl": [
           {
            "marker": {
             "colorbar": {
              "outlinewidth": 0,
              "ticks": ""
             }
            },
            "type": "scattergl"
           }
          ],
          "scattermapbox": [
           {
            "marker": {
             "colorbar": {
              "outlinewidth": 0,
              "ticks": ""
             }
            },
            "type": "scattermapbox"
           }
          ],
          "scatterpolar": [
           {
            "marker": {
             "colorbar": {
              "outlinewidth": 0,
              "ticks": ""
             }
            },
            "type": "scatterpolar"
           }
          ],
          "scatterpolargl": [
           {
            "marker": {
             "colorbar": {
              "outlinewidth": 0,
              "ticks": ""
             }
            },
            "type": "scatterpolargl"
           }
          ],
          "scatterternary": [
           {
            "marker": {
             "colorbar": {
              "outlinewidth": 0,
              "ticks": ""
             }
            },
            "type": "scatterternary"
           }
          ],
          "surface": [
           {
            "colorbar": {
             "outlinewidth": 0,
             "ticks": ""
            },
            "colorscale": [
             [
              0,
              "#0d0887"
             ],
             [
              0.1111111111111111,
              "#46039f"
             ],
             [
              0.2222222222222222,
              "#7201a8"
             ],
             [
              0.3333333333333333,
              "#9c179e"
             ],
             [
              0.4444444444444444,
              "#bd3786"
             ],
             [
              0.5555555555555556,
              "#d8576b"
             ],
             [
              0.6666666666666666,
              "#ed7953"
             ],
             [
              0.7777777777777778,
              "#fb9f3a"
             ],
             [
              0.8888888888888888,
              "#fdca26"
             ],
             [
              1,
              "#f0f921"
             ]
            ],
            "type": "surface"
           }
          ],
          "table": [
           {
            "cells": {
             "fill": {
              "color": "#EBF0F8"
             },
             "line": {
              "color": "white"
             }
            },
            "header": {
             "fill": {
              "color": "#C8D4E3"
             },
             "line": {
              "color": "white"
             }
            },
            "type": "table"
           }
          ]
         },
         "layout": {
          "annotationdefaults": {
           "arrowcolor": "#2a3f5f",
           "arrowhead": 0,
           "arrowwidth": 1
          },
          "autotypenumbers": "strict",
          "coloraxis": {
           "colorbar": {
            "outlinewidth": 0,
            "ticks": ""
           }
          },
          "colorscale": {
           "diverging": [
            [
             0,
             "#8e0152"
            ],
            [
             0.1,
             "#c51b7d"
            ],
            [
             0.2,
             "#de77ae"
            ],
            [
             0.3,
             "#f1b6da"
            ],
            [
             0.4,
             "#fde0ef"
            ],
            [
             0.5,
             "#f7f7f7"
            ],
            [
             0.6,
             "#e6f5d0"
            ],
            [
             0.7,
             "#b8e186"
            ],
            [
             0.8,
             "#7fbc41"
            ],
            [
             0.9,
             "#4d9221"
            ],
            [
             1,
             "#276419"
            ]
           ],
           "sequential": [
            [
             0,
             "#0d0887"
            ],
            [
             0.1111111111111111,
             "#46039f"
            ],
            [
             0.2222222222222222,
             "#7201a8"
            ],
            [
             0.3333333333333333,
             "#9c179e"
            ],
            [
             0.4444444444444444,
             "#bd3786"
            ],
            [
             0.5555555555555556,
             "#d8576b"
            ],
            [
             0.6666666666666666,
             "#ed7953"
            ],
            [
             0.7777777777777778,
             "#fb9f3a"
            ],
            [
             0.8888888888888888,
             "#fdca26"
            ],
            [
             1,
             "#f0f921"
            ]
           ],
           "sequentialminus": [
            [
             0,
             "#0d0887"
            ],
            [
             0.1111111111111111,
             "#46039f"
            ],
            [
             0.2222222222222222,
             "#7201a8"
            ],
            [
             0.3333333333333333,
             "#9c179e"
            ],
            [
             0.4444444444444444,
             "#bd3786"
            ],
            [
             0.5555555555555556,
             "#d8576b"
            ],
            [
             0.6666666666666666,
             "#ed7953"
            ],
            [
             0.7777777777777778,
             "#fb9f3a"
            ],
            [
             0.8888888888888888,
             "#fdca26"
            ],
            [
             1,
             "#f0f921"
            ]
           ]
          },
          "colorway": [
           "#636efa",
           "#EF553B",
           "#00cc96",
           "#ab63fa",
           "#FFA15A",
           "#19d3f3",
           "#FF6692",
           "#B6E880",
           "#FF97FF",
           "#FECB52"
          ],
          "font": {
           "color": "#2a3f5f"
          },
          "geo": {
           "bgcolor": "white",
           "lakecolor": "white",
           "landcolor": "#E5ECF6",
           "showlakes": true,
           "showland": true,
           "subunitcolor": "white"
          },
          "hoverlabel": {
           "align": "left"
          },
          "hovermode": "closest",
          "mapbox": {
           "style": "light"
          },
          "paper_bgcolor": "white",
          "plot_bgcolor": "#E5ECF6",
          "polar": {
           "angularaxis": {
            "gridcolor": "white",
            "linecolor": "white",
            "ticks": ""
           },
           "bgcolor": "#E5ECF6",
           "radialaxis": {
            "gridcolor": "white",
            "linecolor": "white",
            "ticks": ""
           }
          },
          "scene": {
           "xaxis": {
            "backgroundcolor": "#E5ECF6",
            "gridcolor": "white",
            "gridwidth": 2,
            "linecolor": "white",
            "showbackground": true,
            "ticks": "",
            "zerolinecolor": "white"
           },
           "yaxis": {
            "backgroundcolor": "#E5ECF6",
            "gridcolor": "white",
            "gridwidth": 2,
            "linecolor": "white",
            "showbackground": true,
            "ticks": "",
            "zerolinecolor": "white"
           },
           "zaxis": {
            "backgroundcolor": "#E5ECF6",
            "gridcolor": "white",
            "gridwidth": 2,
            "linecolor": "white",
            "showbackground": true,
            "ticks": "",
            "zerolinecolor": "white"
           }
          },
          "shapedefaults": {
           "line": {
            "color": "#2a3f5f"
           }
          },
          "ternary": {
           "aaxis": {
            "gridcolor": "white",
            "linecolor": "white",
            "ticks": ""
           },
           "baxis": {
            "gridcolor": "white",
            "linecolor": "white",
            "ticks": ""
           },
           "bgcolor": "#E5ECF6",
           "caxis": {
            "gridcolor": "white",
            "linecolor": "white",
            "ticks": ""
           }
          },
          "title": {
           "x": 0.05
          },
          "xaxis": {
           "automargin": true,
           "gridcolor": "white",
           "linecolor": "white",
           "ticks": "",
           "title": {
            "standoff": 15
           },
           "zerolinecolor": "white",
           "zerolinewidth": 2
          },
          "yaxis": {
           "automargin": true,
           "gridcolor": "white",
           "linecolor": "white",
           "ticks": "",
           "title": {
            "standoff": 15
           },
           "zerolinecolor": "white",
           "zerolinewidth": 2
          }
         }
        },
        "title": {
         "text": "Q-Q Plot"
        },
        "xaxis": {
         "anchor": "y",
         "domain": [
          0,
          1
         ],
         "title": {
          "text": "Theoretical Quantiles"
         }
        },
        "yaxis": {
         "anchor": "x",
         "domain": [
          0,
          1
         ],
         "title": {
          "text": "Ordered Values"
         }
        }
       }
      }
     },
     "metadata": {},
     "output_type": "display_data"
    },
    {
     "data": {
      "text/plain": [
       "((array([-3.30513952, -3.04793228, -2.90489705, ...,  2.90489705,\n",
       "          3.04793228,  3.30513952]),\n",
       "  array([ 34900,  35311,  37900, ..., 625000, 745000, 755000], dtype=int64)),\n",
       " (74160.16474519415, 180921.19589041095, 0.9319665641512986))"
      ]
     },
     "execution_count": 10,
     "metadata": {},
     "output_type": "execute_result"
    }
   ],
   "source": [
    "qq_data = stats.probplot(df['SalePrice'], dist=\"norm\")\n",
    "qq_fig = px.scatter(x=qq_data[0][0], y=qq_data[0][1],labels={'x': 'Theoretical Quantiles', 'y': 'Ordered Values'}, color_discrete_sequence=[\"purple\"])\n",
    "qq_fig.update_layout(\n",
    "    title=\"Q-Q Plot\",\n",
    "    plot_bgcolor='rgba(32, 32, 32, 1)',\n",
    "    paper_bgcolor='rgba(32, 32, 32, 1)',\n",
    "    font=dict(color='white')\n",
    "    )\n",
    "\n",
    "# Calculate the best fitting line\n",
    "# y=ax + b\n",
    "slope, intercept, r_value, p_value, std_err = stats.linregress(qq_data[0][0], qq_data[0][1])\n",
    "\n",
    "line_x = np.array(qq_data[0][0])\n",
    "line_y =  slope * line_x + intercept\n",
    "\n",
    "line_data = go.Scatter(x=line_x, y=line_y, mode=\"lines\", name=\"Normal Line\", line=dict(color=\"green\"))\n",
    "\n",
    "# Update Q-Q Plot\n",
    "\n",
    "qq_fig.add_trace(line_data)\n",
    "fig.show()\n",
    "qq_fig.show()\n",
    "qq_data"
   ]
  },
  {
   "cell_type": "code",
   "execution_count": 11,
   "metadata": {},
   "outputs": [
    {
     "data": {
      "application/vnd.plotly.v1+json": {
       "config": {
        "plotlyServerURL": "https://plot.ly"
       },
       "data": [
        {
         "marker": {
          "color": "rgb(76, 175, 80)",
          "line": {
           "color": "rgba(0,0,0,1)",
           "width": 2
          },
          "opacity": 1
         },
         "text": [
          1220,
          114,
          52,
          43,
          31
         ],
         "textposition": "outside",
         "type": "bar",
         "width": 0.4,
         "x": [
          "1Fam",
          "TwnhsE",
          "Duplex",
          "Twnhs",
          "2fmCon"
         ],
         "y": [
          1220,
          114,
          52,
          43,
          31
         ]
        }
       ],
       "layout": {
        "font": {
         "color": "white"
        },
        "paper_bgcolor": "rgba(34, 34, 34, 1)",
        "plot_bgcolor": "rgba(34, 34, 34, 1)",
        "template": {
         "data": {
          "bar": [
           {
            "error_x": {
             "color": "#2a3f5f"
            },
            "error_y": {
             "color": "#2a3f5f"
            },
            "marker": {
             "line": {
              "color": "#E5ECF6",
              "width": 0.5
             },
             "pattern": {
              "fillmode": "overlay",
              "size": 10,
              "solidity": 0.2
             }
            },
            "type": "bar"
           }
          ],
          "barpolar": [
           {
            "marker": {
             "line": {
              "color": "#E5ECF6",
              "width": 0.5
             },
             "pattern": {
              "fillmode": "overlay",
              "size": 10,
              "solidity": 0.2
             }
            },
            "type": "barpolar"
           }
          ],
          "carpet": [
           {
            "aaxis": {
             "endlinecolor": "#2a3f5f",
             "gridcolor": "white",
             "linecolor": "white",
             "minorgridcolor": "white",
             "startlinecolor": "#2a3f5f"
            },
            "baxis": {
             "endlinecolor": "#2a3f5f",
             "gridcolor": "white",
             "linecolor": "white",
             "minorgridcolor": "white",
             "startlinecolor": "#2a3f5f"
            },
            "type": "carpet"
           }
          ],
          "choropleth": [
           {
            "colorbar": {
             "outlinewidth": 0,
             "ticks": ""
            },
            "type": "choropleth"
           }
          ],
          "contour": [
           {
            "colorbar": {
             "outlinewidth": 0,
             "ticks": ""
            },
            "colorscale": [
             [
              0,
              "#0d0887"
             ],
             [
              0.1111111111111111,
              "#46039f"
             ],
             [
              0.2222222222222222,
              "#7201a8"
             ],
             [
              0.3333333333333333,
              "#9c179e"
             ],
             [
              0.4444444444444444,
              "#bd3786"
             ],
             [
              0.5555555555555556,
              "#d8576b"
             ],
             [
              0.6666666666666666,
              "#ed7953"
             ],
             [
              0.7777777777777778,
              "#fb9f3a"
             ],
             [
              0.8888888888888888,
              "#fdca26"
             ],
             [
              1,
              "#f0f921"
             ]
            ],
            "type": "contour"
           }
          ],
          "contourcarpet": [
           {
            "colorbar": {
             "outlinewidth": 0,
             "ticks": ""
            },
            "type": "contourcarpet"
           }
          ],
          "heatmap": [
           {
            "colorbar": {
             "outlinewidth": 0,
             "ticks": ""
            },
            "colorscale": [
             [
              0,
              "#0d0887"
             ],
             [
              0.1111111111111111,
              "#46039f"
             ],
             [
              0.2222222222222222,
              "#7201a8"
             ],
             [
              0.3333333333333333,
              "#9c179e"
             ],
             [
              0.4444444444444444,
              "#bd3786"
             ],
             [
              0.5555555555555556,
              "#d8576b"
             ],
             [
              0.6666666666666666,
              "#ed7953"
             ],
             [
              0.7777777777777778,
              "#fb9f3a"
             ],
             [
              0.8888888888888888,
              "#fdca26"
             ],
             [
              1,
              "#f0f921"
             ]
            ],
            "type": "heatmap"
           }
          ],
          "heatmapgl": [
           {
            "colorbar": {
             "outlinewidth": 0,
             "ticks": ""
            },
            "colorscale": [
             [
              0,
              "#0d0887"
             ],
             [
              0.1111111111111111,
              "#46039f"
             ],
             [
              0.2222222222222222,
              "#7201a8"
             ],
             [
              0.3333333333333333,
              "#9c179e"
             ],
             [
              0.4444444444444444,
              "#bd3786"
             ],
             [
              0.5555555555555556,
              "#d8576b"
             ],
             [
              0.6666666666666666,
              "#ed7953"
             ],
             [
              0.7777777777777778,
              "#fb9f3a"
             ],
             [
              0.8888888888888888,
              "#fdca26"
             ],
             [
              1,
              "#f0f921"
             ]
            ],
            "type": "heatmapgl"
           }
          ],
          "histogram": [
           {
            "marker": {
             "pattern": {
              "fillmode": "overlay",
              "size": 10,
              "solidity": 0.2
             }
            },
            "type": "histogram"
           }
          ],
          "histogram2d": [
           {
            "colorbar": {
             "outlinewidth": 0,
             "ticks": ""
            },
            "colorscale": [
             [
              0,
              "#0d0887"
             ],
             [
              0.1111111111111111,
              "#46039f"
             ],
             [
              0.2222222222222222,
              "#7201a8"
             ],
             [
              0.3333333333333333,
              "#9c179e"
             ],
             [
              0.4444444444444444,
              "#bd3786"
             ],
             [
              0.5555555555555556,
              "#d8576b"
             ],
             [
              0.6666666666666666,
              "#ed7953"
             ],
             [
              0.7777777777777778,
              "#fb9f3a"
             ],
             [
              0.8888888888888888,
              "#fdca26"
             ],
             [
              1,
              "#f0f921"
             ]
            ],
            "type": "histogram2d"
           }
          ],
          "histogram2dcontour": [
           {
            "colorbar": {
             "outlinewidth": 0,
             "ticks": ""
            },
            "colorscale": [
             [
              0,
              "#0d0887"
             ],
             [
              0.1111111111111111,
              "#46039f"
             ],
             [
              0.2222222222222222,
              "#7201a8"
             ],
             [
              0.3333333333333333,
              "#9c179e"
             ],
             [
              0.4444444444444444,
              "#bd3786"
             ],
             [
              0.5555555555555556,
              "#d8576b"
             ],
             [
              0.6666666666666666,
              "#ed7953"
             ],
             [
              0.7777777777777778,
              "#fb9f3a"
             ],
             [
              0.8888888888888888,
              "#fdca26"
             ],
             [
              1,
              "#f0f921"
             ]
            ],
            "type": "histogram2dcontour"
           }
          ],
          "mesh3d": [
           {
            "colorbar": {
             "outlinewidth": 0,
             "ticks": ""
            },
            "type": "mesh3d"
           }
          ],
          "parcoords": [
           {
            "line": {
             "colorbar": {
              "outlinewidth": 0,
              "ticks": ""
             }
            },
            "type": "parcoords"
           }
          ],
          "pie": [
           {
            "automargin": true,
            "type": "pie"
           }
          ],
          "scatter": [
           {
            "fillpattern": {
             "fillmode": "overlay",
             "size": 10,
             "solidity": 0.2
            },
            "type": "scatter"
           }
          ],
          "scatter3d": [
           {
            "line": {
             "colorbar": {
              "outlinewidth": 0,
              "ticks": ""
             }
            },
            "marker": {
             "colorbar": {
              "outlinewidth": 0,
              "ticks": ""
             }
            },
            "type": "scatter3d"
           }
          ],
          "scattercarpet": [
           {
            "marker": {
             "colorbar": {
              "outlinewidth": 0,
              "ticks": ""
             }
            },
            "type": "scattercarpet"
           }
          ],
          "scattergeo": [
           {
            "marker": {
             "colorbar": {
              "outlinewidth": 0,
              "ticks": ""
             }
            },
            "type": "scattergeo"
           }
          ],
          "scattergl": [
           {
            "marker": {
             "colorbar": {
              "outlinewidth": 0,
              "ticks": ""
             }
            },
            "type": "scattergl"
           }
          ],
          "scattermapbox": [
           {
            "marker": {
             "colorbar": {
              "outlinewidth": 0,
              "ticks": ""
             }
            },
            "type": "scattermapbox"
           }
          ],
          "scatterpolar": [
           {
            "marker": {
             "colorbar": {
              "outlinewidth": 0,
              "ticks": ""
             }
            },
            "type": "scatterpolar"
           }
          ],
          "scatterpolargl": [
           {
            "marker": {
             "colorbar": {
              "outlinewidth": 0,
              "ticks": ""
             }
            },
            "type": "scatterpolargl"
           }
          ],
          "scatterternary": [
           {
            "marker": {
             "colorbar": {
              "outlinewidth": 0,
              "ticks": ""
             }
            },
            "type": "scatterternary"
           }
          ],
          "surface": [
           {
            "colorbar": {
             "outlinewidth": 0,
             "ticks": ""
            },
            "colorscale": [
             [
              0,
              "#0d0887"
             ],
             [
              0.1111111111111111,
              "#46039f"
             ],
             [
              0.2222222222222222,
              "#7201a8"
             ],
             [
              0.3333333333333333,
              "#9c179e"
             ],
             [
              0.4444444444444444,
              "#bd3786"
             ],
             [
              0.5555555555555556,
              "#d8576b"
             ],
             [
              0.6666666666666666,
              "#ed7953"
             ],
             [
              0.7777777777777778,
              "#fb9f3a"
             ],
             [
              0.8888888888888888,
              "#fdca26"
             ],
             [
              1,
              "#f0f921"
             ]
            ],
            "type": "surface"
           }
          ],
          "table": [
           {
            "cells": {
             "fill": {
              "color": "#EBF0F8"
             },
             "line": {
              "color": "white"
             }
            },
            "header": {
             "fill": {
              "color": "#C8D4E3"
             },
             "line": {
              "color": "white"
             }
            },
            "type": "table"
           }
          ]
         },
         "layout": {
          "annotationdefaults": {
           "arrowcolor": "#2a3f5f",
           "arrowhead": 0,
           "arrowwidth": 1
          },
          "autotypenumbers": "strict",
          "coloraxis": {
           "colorbar": {
            "outlinewidth": 0,
            "ticks": ""
           }
          },
          "colorscale": {
           "diverging": [
            [
             0,
             "#8e0152"
            ],
            [
             0.1,
             "#c51b7d"
            ],
            [
             0.2,
             "#de77ae"
            ],
            [
             0.3,
             "#f1b6da"
            ],
            [
             0.4,
             "#fde0ef"
            ],
            [
             0.5,
             "#f7f7f7"
            ],
            [
             0.6,
             "#e6f5d0"
            ],
            [
             0.7,
             "#b8e186"
            ],
            [
             0.8,
             "#7fbc41"
            ],
            [
             0.9,
             "#4d9221"
            ],
            [
             1,
             "#276419"
            ]
           ],
           "sequential": [
            [
             0,
             "#0d0887"
            ],
            [
             0.1111111111111111,
             "#46039f"
            ],
            [
             0.2222222222222222,
             "#7201a8"
            ],
            [
             0.3333333333333333,
             "#9c179e"
            ],
            [
             0.4444444444444444,
             "#bd3786"
            ],
            [
             0.5555555555555556,
             "#d8576b"
            ],
            [
             0.6666666666666666,
             "#ed7953"
            ],
            [
             0.7777777777777778,
             "#fb9f3a"
            ],
            [
             0.8888888888888888,
             "#fdca26"
            ],
            [
             1,
             "#f0f921"
            ]
           ],
           "sequentialminus": [
            [
             0,
             "#0d0887"
            ],
            [
             0.1111111111111111,
             "#46039f"
            ],
            [
             0.2222222222222222,
             "#7201a8"
            ],
            [
             0.3333333333333333,
             "#9c179e"
            ],
            [
             0.4444444444444444,
             "#bd3786"
            ],
            [
             0.5555555555555556,
             "#d8576b"
            ],
            [
             0.6666666666666666,
             "#ed7953"
            ],
            [
             0.7777777777777778,
             "#fb9f3a"
            ],
            [
             0.8888888888888888,
             "#fdca26"
            ],
            [
             1,
             "#f0f921"
            ]
           ]
          },
          "colorway": [
           "#636efa",
           "#EF553B",
           "#00cc96",
           "#ab63fa",
           "#FFA15A",
           "#19d3f3",
           "#FF6692",
           "#B6E880",
           "#FF97FF",
           "#FECB52"
          ],
          "font": {
           "color": "#2a3f5f"
          },
          "geo": {
           "bgcolor": "white",
           "lakecolor": "white",
           "landcolor": "#E5ECF6",
           "showlakes": true,
           "showland": true,
           "subunitcolor": "white"
          },
          "hoverlabel": {
           "align": "left"
          },
          "hovermode": "closest",
          "mapbox": {
           "style": "light"
          },
          "paper_bgcolor": "white",
          "plot_bgcolor": "#E5ECF6",
          "polar": {
           "angularaxis": {
            "gridcolor": "white",
            "linecolor": "white",
            "ticks": ""
           },
           "bgcolor": "#E5ECF6",
           "radialaxis": {
            "gridcolor": "white",
            "linecolor": "white",
            "ticks": ""
           }
          },
          "scene": {
           "xaxis": {
            "backgroundcolor": "#E5ECF6",
            "gridcolor": "white",
            "gridwidth": 2,
            "linecolor": "white",
            "showbackground": true,
            "ticks": "",
            "zerolinecolor": "white"
           },
           "yaxis": {
            "backgroundcolor": "#E5ECF6",
            "gridcolor": "white",
            "gridwidth": 2,
            "linecolor": "white",
            "showbackground": true,
            "ticks": "",
            "zerolinecolor": "white"
           },
           "zaxis": {
            "backgroundcolor": "#E5ECF6",
            "gridcolor": "white",
            "gridwidth": 2,
            "linecolor": "white",
            "showbackground": true,
            "ticks": "",
            "zerolinecolor": "white"
           }
          },
          "shapedefaults": {
           "line": {
            "color": "#2a3f5f"
           }
          },
          "ternary": {
           "aaxis": {
            "gridcolor": "white",
            "linecolor": "white",
            "ticks": ""
           },
           "baxis": {
            "gridcolor": "white",
            "linecolor": "white",
            "ticks": ""
           },
           "bgcolor": "#E5ECF6",
           "caxis": {
            "gridcolor": "white",
            "linecolor": "white",
            "ticks": ""
           }
          },
          "title": {
           "x": 0.05
          },
          "xaxis": {
           "automargin": true,
           "gridcolor": "white",
           "linecolor": "white",
           "ticks": "",
           "title": {
            "standoff": 15
           },
           "zerolinecolor": "white",
           "zerolinewidth": 2
          },
          "yaxis": {
           "automargin": true,
           "gridcolor": "white",
           "linecolor": "white",
           "ticks": "",
           "title": {
            "standoff": 15
           },
           "zerolinecolor": "white",
           "zerolinewidth": 2
          }
         }
        },
        "title": {
         "text": "Distribution of Building Types"
        },
        "xaxis": {
         "title": {
          "text": "Building Type"
         }
        },
        "yaxis": {
         "title": {
          "text": "Count"
         }
        }
       }
      }
     },
     "metadata": {},
     "output_type": "display_data"
    },
    {
     "data": {
      "application/vnd.plotly.v1+json": {
       "config": {
        "plotlyServerURL": "https://plot.ly"
       },
       "data": [
        {
         "marker": {
          "color": "rgb(156, 39, 176)",
          "line": {
           "color": "rgba(0,0,0,1)",
           "width": 2
          },
          "opacity": 1
         },
         "text": [
          "$34,900.00",
          "$55,000.00",
          "$82,000.00",
          "$75,000.00",
          "$75,500.00"
         ],
         "textposition": "outside",
         "type": "bar",
         "width": 0.4,
         "x": [
          "1Fam",
          "2fmCon",
          "Duplex",
          "Twnhs",
          "TwnhsE"
         ],
         "y": [
          34900,
          55000,
          82000,
          75000,
          75500
         ]
        }
       ],
       "layout": {
        "font": {
         "color": "white"
        },
        "paper_bgcolor": "rgba(34, 34, 34, 1)",
        "plot_bgcolor": "rgba(34, 34, 34, 1)",
        "template": {
         "data": {
          "bar": [
           {
            "error_x": {
             "color": "#2a3f5f"
            },
            "error_y": {
             "color": "#2a3f5f"
            },
            "marker": {
             "line": {
              "color": "#E5ECF6",
              "width": 0.5
             },
             "pattern": {
              "fillmode": "overlay",
              "size": 10,
              "solidity": 0.2
             }
            },
            "type": "bar"
           }
          ],
          "barpolar": [
           {
            "marker": {
             "line": {
              "color": "#E5ECF6",
              "width": 0.5
             },
             "pattern": {
              "fillmode": "overlay",
              "size": 10,
              "solidity": 0.2
             }
            },
            "type": "barpolar"
           }
          ],
          "carpet": [
           {
            "aaxis": {
             "endlinecolor": "#2a3f5f",
             "gridcolor": "white",
             "linecolor": "white",
             "minorgridcolor": "white",
             "startlinecolor": "#2a3f5f"
            },
            "baxis": {
             "endlinecolor": "#2a3f5f",
             "gridcolor": "white",
             "linecolor": "white",
             "minorgridcolor": "white",
             "startlinecolor": "#2a3f5f"
            },
            "type": "carpet"
           }
          ],
          "choropleth": [
           {
            "colorbar": {
             "outlinewidth": 0,
             "ticks": ""
            },
            "type": "choropleth"
           }
          ],
          "contour": [
           {
            "colorbar": {
             "outlinewidth": 0,
             "ticks": ""
            },
            "colorscale": [
             [
              0,
              "#0d0887"
             ],
             [
              0.1111111111111111,
              "#46039f"
             ],
             [
              0.2222222222222222,
              "#7201a8"
             ],
             [
              0.3333333333333333,
              "#9c179e"
             ],
             [
              0.4444444444444444,
              "#bd3786"
             ],
             [
              0.5555555555555556,
              "#d8576b"
             ],
             [
              0.6666666666666666,
              "#ed7953"
             ],
             [
              0.7777777777777778,
              "#fb9f3a"
             ],
             [
              0.8888888888888888,
              "#fdca26"
             ],
             [
              1,
              "#f0f921"
             ]
            ],
            "type": "contour"
           }
          ],
          "contourcarpet": [
           {
            "colorbar": {
             "outlinewidth": 0,
             "ticks": ""
            },
            "type": "contourcarpet"
           }
          ],
          "heatmap": [
           {
            "colorbar": {
             "outlinewidth": 0,
             "ticks": ""
            },
            "colorscale": [
             [
              0,
              "#0d0887"
             ],
             [
              0.1111111111111111,
              "#46039f"
             ],
             [
              0.2222222222222222,
              "#7201a8"
             ],
             [
              0.3333333333333333,
              "#9c179e"
             ],
             [
              0.4444444444444444,
              "#bd3786"
             ],
             [
              0.5555555555555556,
              "#d8576b"
             ],
             [
              0.6666666666666666,
              "#ed7953"
             ],
             [
              0.7777777777777778,
              "#fb9f3a"
             ],
             [
              0.8888888888888888,
              "#fdca26"
             ],
             [
              1,
              "#f0f921"
             ]
            ],
            "type": "heatmap"
           }
          ],
          "heatmapgl": [
           {
            "colorbar": {
             "outlinewidth": 0,
             "ticks": ""
            },
            "colorscale": [
             [
              0,
              "#0d0887"
             ],
             [
              0.1111111111111111,
              "#46039f"
             ],
             [
              0.2222222222222222,
              "#7201a8"
             ],
             [
              0.3333333333333333,
              "#9c179e"
             ],
             [
              0.4444444444444444,
              "#bd3786"
             ],
             [
              0.5555555555555556,
              "#d8576b"
             ],
             [
              0.6666666666666666,
              "#ed7953"
             ],
             [
              0.7777777777777778,
              "#fb9f3a"
             ],
             [
              0.8888888888888888,
              "#fdca26"
             ],
             [
              1,
              "#f0f921"
             ]
            ],
            "type": "heatmapgl"
           }
          ],
          "histogram": [
           {
            "marker": {
             "pattern": {
              "fillmode": "overlay",
              "size": 10,
              "solidity": 0.2
             }
            },
            "type": "histogram"
           }
          ],
          "histogram2d": [
           {
            "colorbar": {
             "outlinewidth": 0,
             "ticks": ""
            },
            "colorscale": [
             [
              0,
              "#0d0887"
             ],
             [
              0.1111111111111111,
              "#46039f"
             ],
             [
              0.2222222222222222,
              "#7201a8"
             ],
             [
              0.3333333333333333,
              "#9c179e"
             ],
             [
              0.4444444444444444,
              "#bd3786"
             ],
             [
              0.5555555555555556,
              "#d8576b"
             ],
             [
              0.6666666666666666,
              "#ed7953"
             ],
             [
              0.7777777777777778,
              "#fb9f3a"
             ],
             [
              0.8888888888888888,
              "#fdca26"
             ],
             [
              1,
              "#f0f921"
             ]
            ],
            "type": "histogram2d"
           }
          ],
          "histogram2dcontour": [
           {
            "colorbar": {
             "outlinewidth": 0,
             "ticks": ""
            },
            "colorscale": [
             [
              0,
              "#0d0887"
             ],
             [
              0.1111111111111111,
              "#46039f"
             ],
             [
              0.2222222222222222,
              "#7201a8"
             ],
             [
              0.3333333333333333,
              "#9c179e"
             ],
             [
              0.4444444444444444,
              "#bd3786"
             ],
             [
              0.5555555555555556,
              "#d8576b"
             ],
             [
              0.6666666666666666,
              "#ed7953"
             ],
             [
              0.7777777777777778,
              "#fb9f3a"
             ],
             [
              0.8888888888888888,
              "#fdca26"
             ],
             [
              1,
              "#f0f921"
             ]
            ],
            "type": "histogram2dcontour"
           }
          ],
          "mesh3d": [
           {
            "colorbar": {
             "outlinewidth": 0,
             "ticks": ""
            },
            "type": "mesh3d"
           }
          ],
          "parcoords": [
           {
            "line": {
             "colorbar": {
              "outlinewidth": 0,
              "ticks": ""
             }
            },
            "type": "parcoords"
           }
          ],
          "pie": [
           {
            "automargin": true,
            "type": "pie"
           }
          ],
          "scatter": [
           {
            "fillpattern": {
             "fillmode": "overlay",
             "size": 10,
             "solidity": 0.2
            },
            "type": "scatter"
           }
          ],
          "scatter3d": [
           {
            "line": {
             "colorbar": {
              "outlinewidth": 0,
              "ticks": ""
             }
            },
            "marker": {
             "colorbar": {
              "outlinewidth": 0,
              "ticks": ""
             }
            },
            "type": "scatter3d"
           }
          ],
          "scattercarpet": [
           {
            "marker": {
             "colorbar": {
              "outlinewidth": 0,
              "ticks": ""
             }
            },
            "type": "scattercarpet"
           }
          ],
          "scattergeo": [
           {
            "marker": {
             "colorbar": {
              "outlinewidth": 0,
              "ticks": ""
             }
            },
            "type": "scattergeo"
           }
          ],
          "scattergl": [
           {
            "marker": {
             "colorbar": {
              "outlinewidth": 0,
              "ticks": ""
             }
            },
            "type": "scattergl"
           }
          ],
          "scattermapbox": [
           {
            "marker": {
             "colorbar": {
              "outlinewidth": 0,
              "ticks": ""
             }
            },
            "type": "scattermapbox"
           }
          ],
          "scatterpolar": [
           {
            "marker": {
             "colorbar": {
              "outlinewidth": 0,
              "ticks": ""
             }
            },
            "type": "scatterpolar"
           }
          ],
          "scatterpolargl": [
           {
            "marker": {
             "colorbar": {
              "outlinewidth": 0,
              "ticks": ""
             }
            },
            "type": "scatterpolargl"
           }
          ],
          "scatterternary": [
           {
            "marker": {
             "colorbar": {
              "outlinewidth": 0,
              "ticks": ""
             }
            },
            "type": "scatterternary"
           }
          ],
          "surface": [
           {
            "colorbar": {
             "outlinewidth": 0,
             "ticks": ""
            },
            "colorscale": [
             [
              0,
              "#0d0887"
             ],
             [
              0.1111111111111111,
              "#46039f"
             ],
             [
              0.2222222222222222,
              "#7201a8"
             ],
             [
              0.3333333333333333,
              "#9c179e"
             ],
             [
              0.4444444444444444,
              "#bd3786"
             ],
             [
              0.5555555555555556,
              "#d8576b"
             ],
             [
              0.6666666666666666,
              "#ed7953"
             ],
             [
              0.7777777777777778,
              "#fb9f3a"
             ],
             [
              0.8888888888888888,
              "#fdca26"
             ],
             [
              1,
              "#f0f921"
             ]
            ],
            "type": "surface"
           }
          ],
          "table": [
           {
            "cells": {
             "fill": {
              "color": "#EBF0F8"
             },
             "line": {
              "color": "white"
             }
            },
            "header": {
             "fill": {
              "color": "#C8D4E3"
             },
             "line": {
              "color": "white"
             }
            },
            "type": "table"
           }
          ]
         },
         "layout": {
          "annotationdefaults": {
           "arrowcolor": "#2a3f5f",
           "arrowhead": 0,
           "arrowwidth": 1
          },
          "autotypenumbers": "strict",
          "coloraxis": {
           "colorbar": {
            "outlinewidth": 0,
            "ticks": ""
           }
          },
          "colorscale": {
           "diverging": [
            [
             0,
             "#8e0152"
            ],
            [
             0.1,
             "#c51b7d"
            ],
            [
             0.2,
             "#de77ae"
            ],
            [
             0.3,
             "#f1b6da"
            ],
            [
             0.4,
             "#fde0ef"
            ],
            [
             0.5,
             "#f7f7f7"
            ],
            [
             0.6,
             "#e6f5d0"
            ],
            [
             0.7,
             "#b8e186"
            ],
            [
             0.8,
             "#7fbc41"
            ],
            [
             0.9,
             "#4d9221"
            ],
            [
             1,
             "#276419"
            ]
           ],
           "sequential": [
            [
             0,
             "#0d0887"
            ],
            [
             0.1111111111111111,
             "#46039f"
            ],
            [
             0.2222222222222222,
             "#7201a8"
            ],
            [
             0.3333333333333333,
             "#9c179e"
            ],
            [
             0.4444444444444444,
             "#bd3786"
            ],
            [
             0.5555555555555556,
             "#d8576b"
            ],
            [
             0.6666666666666666,
             "#ed7953"
            ],
            [
             0.7777777777777778,
             "#fb9f3a"
            ],
            [
             0.8888888888888888,
             "#fdca26"
            ],
            [
             1,
             "#f0f921"
            ]
           ],
           "sequentialminus": [
            [
             0,
             "#0d0887"
            ],
            [
             0.1111111111111111,
             "#46039f"
            ],
            [
             0.2222222222222222,
             "#7201a8"
            ],
            [
             0.3333333333333333,
             "#9c179e"
            ],
            [
             0.4444444444444444,
             "#bd3786"
            ],
            [
             0.5555555555555556,
             "#d8576b"
            ],
            [
             0.6666666666666666,
             "#ed7953"
            ],
            [
             0.7777777777777778,
             "#fb9f3a"
            ],
            [
             0.8888888888888888,
             "#fdca26"
            ],
            [
             1,
             "#f0f921"
            ]
           ]
          },
          "colorway": [
           "#636efa",
           "#EF553B",
           "#00cc96",
           "#ab63fa",
           "#FFA15A",
           "#19d3f3",
           "#FF6692",
           "#B6E880",
           "#FF97FF",
           "#FECB52"
          ],
          "font": {
           "color": "#2a3f5f"
          },
          "geo": {
           "bgcolor": "white",
           "lakecolor": "white",
           "landcolor": "#E5ECF6",
           "showlakes": true,
           "showland": true,
           "subunitcolor": "white"
          },
          "hoverlabel": {
           "align": "left"
          },
          "hovermode": "closest",
          "mapbox": {
           "style": "light"
          },
          "paper_bgcolor": "white",
          "plot_bgcolor": "#E5ECF6",
          "polar": {
           "angularaxis": {
            "gridcolor": "white",
            "linecolor": "white",
            "ticks": ""
           },
           "bgcolor": "#E5ECF6",
           "radialaxis": {
            "gridcolor": "white",
            "linecolor": "white",
            "ticks": ""
           }
          },
          "scene": {
           "xaxis": {
            "backgroundcolor": "#E5ECF6",
            "gridcolor": "white",
            "gridwidth": 2,
            "linecolor": "white",
            "showbackground": true,
            "ticks": "",
            "zerolinecolor": "white"
           },
           "yaxis": {
            "backgroundcolor": "#E5ECF6",
            "gridcolor": "white",
            "gridwidth": 2,
            "linecolor": "white",
            "showbackground": true,
            "ticks": "",
            "zerolinecolor": "white"
           },
           "zaxis": {
            "backgroundcolor": "#E5ECF6",
            "gridcolor": "white",
            "gridwidth": 2,
            "linecolor": "white",
            "showbackground": true,
            "ticks": "",
            "zerolinecolor": "white"
           }
          },
          "shapedefaults": {
           "line": {
            "color": "#2a3f5f"
           }
          },
          "ternary": {
           "aaxis": {
            "gridcolor": "white",
            "linecolor": "white",
            "ticks": ""
           },
           "baxis": {
            "gridcolor": "white",
            "linecolor": "white",
            "ticks": ""
           },
           "bgcolor": "#E5ECF6",
           "caxis": {
            "gridcolor": "white",
            "linecolor": "white",
            "ticks": ""
           }
          },
          "title": {
           "x": 0.05
          },
          "xaxis": {
           "automargin": true,
           "gridcolor": "white",
           "linecolor": "white",
           "ticks": "",
           "title": {
            "standoff": 15
           },
           "zerolinecolor": "white",
           "zerolinewidth": 2
          },
          "yaxis": {
           "automargin": true,
           "gridcolor": "white",
           "linecolor": "white",
           "ticks": "",
           "title": {
            "standoff": 15
           },
           "zerolinecolor": "white",
           "zerolinewidth": 2
          }
         }
        },
        "title": {
         "text": "Average Sale Price by Building Type"
        },
        "xaxis": {
         "title": {
          "text": "Building Type"
         }
        },
        "yaxis": {
         "title": {
          "text": "Price"
         }
        }
       }
      }
     },
     "metadata": {},
     "output_type": "display_data"
    }
   ],
   "source": [
    "dwelling_types = df['BldgType'].value_counts()\n",
    "dwelling_prices = df.groupby('BldgType')['SalePrice'].min()\n",
    "\n",
    "# Format labels for the second graph\n",
    "formatted_dwelling_prices = ['$' + f'{value:,.2f}' for value in dwelling_prices.values]\n",
    "formatted_dwelling_prices \n",
    "\n",
    "# Create bar charts\n",
    "fig1 = go.Figure(data=[go.Bar(\n",
    "    x=dwelling_types.index,\n",
    "    y=dwelling_types.values,\n",
    "    marker_color='rgb(76, 175, 80)',\n",
    "    text=dwelling_types.values,\n",
    "    textposition='outside',\n",
    "    width=0.4,\n",
    "    marker=dict(line=dict(width=2, color='rgba(0,0,0,1)'), opacity=1)\n",
    ")])\n",
    "fig1.update_layout(\n",
    "    title='Distribution of Building Types',\n",
    "    xaxis_title='Building Type',\n",
    "    yaxis_title='Count',\n",
    "    plot_bgcolor='rgba(34, 34, 34, 1)',\n",
    "    paper_bgcolor='rgba(34, 34, 34, 1)',\n",
    "    font=dict(color='white')\n",
    ")\n",
    "\n",
    "fig2 = go.Figure(data=[go.Bar(\n",
    "    x=dwelling_prices.index,\n",
    "    y=dwelling_prices.values,\n",
    "    marker_color='rgb(156, 39, 176)',\n",
    "    text=formatted_dwelling_prices,\n",
    "    textposition='outside',\n",
    "    width=0.4,\n",
    "    marker=dict(line=dict(width=2, color='rgba(0,0,0,1)'), opacity=1)\n",
    ")])\n",
    "fig2.update_layout(\n",
    "    title='Average Sale Price by Building Type',\n",
    "    xaxis_title='Building Type',\n",
    "    yaxis_title='Price',\n",
    "    plot_bgcolor='rgba(34, 34, 34, 1)',\n",
    "    paper_bgcolor='rgba(34, 34, 34, 1)',\n",
    "    font=dict(color='white')\n",
    ")\n",
    "\n",
    "# Show the figures\n",
    "fig1.show()\n",
    "fig2.show()\n",
    "\n"
   ]
  },
  {
   "cell_type": "code",
   "execution_count": 12,
   "metadata": {},
   "outputs": [
    {
     "data": {
      "text/plain": [
       "BldgType\n",
       "1Fam      1220\n",
       "TwnhsE     114\n",
       "Duplex      52\n",
       "Twnhs       43\n",
       "2fmCon      31\n",
       "Name: count, dtype: int64"
      ]
     },
     "execution_count": 12,
     "metadata": {},
     "output_type": "execute_result"
    }
   ],
   "source": [
    "df['BldgType'].value_counts()"
   ]
  },
  {
   "cell_type": "code",
   "execution_count": 13,
   "metadata": {},
   "outputs": [
    {
     "data": {
      "text/html": [
       "<div>\n",
       "<style scoped>\n",
       "    .dataframe tbody tr th:only-of-type {\n",
       "        vertical-align: middle;\n",
       "    }\n",
       "\n",
       "    .dataframe tbody tr th {\n",
       "        vertical-align: top;\n",
       "    }\n",
       "\n",
       "    .dataframe thead th {\n",
       "        text-align: right;\n",
       "    }\n",
       "</style>\n",
       "<table border=\"1\" class=\"dataframe\">\n",
       "  <thead>\n",
       "    <tr style=\"text-align: right;\">\n",
       "      <th></th>\n",
       "      <th>SalePrice</th>\n",
       "      <th>MSZoning</th>\n",
       "      <th>Av_SalePrice</th>\n",
       "    </tr>\n",
       "    <tr>\n",
       "      <th>MSZoning</th>\n",
       "      <th></th>\n",
       "      <th></th>\n",
       "      <th></th>\n",
       "    </tr>\n",
       "  </thead>\n",
       "  <tbody>\n",
       "    <tr>\n",
       "      <th>C (all)</th>\n",
       "      <td>745280</td>\n",
       "      <td>10</td>\n",
       "      <td>74528.000000</td>\n",
       "    </tr>\n",
       "    <tr>\n",
       "      <th>FV</th>\n",
       "      <td>13910914</td>\n",
       "      <td>65</td>\n",
       "      <td>214014.061538</td>\n",
       "    </tr>\n",
       "    <tr>\n",
       "      <th>RH</th>\n",
       "      <td>2104934</td>\n",
       "      <td>16</td>\n",
       "      <td>131558.375000</td>\n",
       "    </tr>\n",
       "    <tr>\n",
       "      <th>RL</th>\n",
       "      <td>219846749</td>\n",
       "      <td>1151</td>\n",
       "      <td>191004.994787</td>\n",
       "    </tr>\n",
       "    <tr>\n",
       "      <th>RM</th>\n",
       "      <td>27537069</td>\n",
       "      <td>218</td>\n",
       "      <td>126316.830275</td>\n",
       "    </tr>\n",
       "  </tbody>\n",
       "</table>\n",
       "</div>"
      ],
      "text/plain": [
       "          SalePrice  MSZoning   Av_SalePrice\n",
       "MSZoning                                    \n",
       "C (all)      745280        10   74528.000000\n",
       "FV         13910914        65  214014.061538\n",
       "RH          2104934        16  131558.375000\n",
       "RL        219846749      1151  191004.994787\n",
       "RM         27537069       218  126316.830275"
      ]
     },
     "execution_count": 13,
     "metadata": {},
     "output_type": "execute_result"
    }
   ],
   "source": [
    "# AV zoning Price\n",
    "\n",
    "\n",
    "zoning_prices = df.groupby('MSZoning')['SalePrice'].sum()\n",
    "\n",
    "zoning_prices_agg = df.groupby('MSZoning')['MSZoning'].agg('count')\n",
    "\n",
    "combined_df = pd.concat([zoning_prices, zoning_prices_agg], axis=1)\n",
    "combined_df[\"Av_SalePrice\"] = combined_df['SalePrice']/combined_df['MSZoning']\n",
    "combined_df\n",
    "\n"
   ]
  },
  {
   "cell_type": "code",
   "execution_count": 17,
   "metadata": {},
   "outputs": [
    {
     "data": {
      "application/vnd.plotly.v1+json": {
       "config": {
        "plotlyServerURL": "https://plot.ly"
       },
       "data": [
        {
         "marker": {
          "color": "rgb(156, 39, 176)",
          "line": {
           "color": "rgba(0,0,0,1)",
           "width": 2
          },
          "opacity": 1
         },
         "textposition": "outside",
         "type": "bar",
         "width": 0.4,
         "x": [
          "C (all)",
          "FV",
          "RH",
          "RL",
          "RM"
         ],
         "y": [
          74528,
          214014.06153846154,
          131558.375,
          191004.99478714162,
          126316.83027522935
         ]
        }
       ],
       "layout": {
        "font": {
         "color": "white"
        },
        "paper_bgcolor": "rgba(34, 34, 34, 1)",
        "plot_bgcolor": "rgba(34, 34, 34, 1)",
        "template": {
         "data": {
          "bar": [
           {
            "error_x": {
             "color": "#2a3f5f"
            },
            "error_y": {
             "color": "#2a3f5f"
            },
            "marker": {
             "line": {
              "color": "#E5ECF6",
              "width": 0.5
             },
             "pattern": {
              "fillmode": "overlay",
              "size": 10,
              "solidity": 0.2
             }
            },
            "type": "bar"
           }
          ],
          "barpolar": [
           {
            "marker": {
             "line": {
              "color": "#E5ECF6",
              "width": 0.5
             },
             "pattern": {
              "fillmode": "overlay",
              "size": 10,
              "solidity": 0.2
             }
            },
            "type": "barpolar"
           }
          ],
          "carpet": [
           {
            "aaxis": {
             "endlinecolor": "#2a3f5f",
             "gridcolor": "white",
             "linecolor": "white",
             "minorgridcolor": "white",
             "startlinecolor": "#2a3f5f"
            },
            "baxis": {
             "endlinecolor": "#2a3f5f",
             "gridcolor": "white",
             "linecolor": "white",
             "minorgridcolor": "white",
             "startlinecolor": "#2a3f5f"
            },
            "type": "carpet"
           }
          ],
          "choropleth": [
           {
            "colorbar": {
             "outlinewidth": 0,
             "ticks": ""
            },
            "type": "choropleth"
           }
          ],
          "contour": [
           {
            "colorbar": {
             "outlinewidth": 0,
             "ticks": ""
            },
            "colorscale": [
             [
              0,
              "#0d0887"
             ],
             [
              0.1111111111111111,
              "#46039f"
             ],
             [
              0.2222222222222222,
              "#7201a8"
             ],
             [
              0.3333333333333333,
              "#9c179e"
             ],
             [
              0.4444444444444444,
              "#bd3786"
             ],
             [
              0.5555555555555556,
              "#d8576b"
             ],
             [
              0.6666666666666666,
              "#ed7953"
             ],
             [
              0.7777777777777778,
              "#fb9f3a"
             ],
             [
              0.8888888888888888,
              "#fdca26"
             ],
             [
              1,
              "#f0f921"
             ]
            ],
            "type": "contour"
           }
          ],
          "contourcarpet": [
           {
            "colorbar": {
             "outlinewidth": 0,
             "ticks": ""
            },
            "type": "contourcarpet"
           }
          ],
          "heatmap": [
           {
            "colorbar": {
             "outlinewidth": 0,
             "ticks": ""
            },
            "colorscale": [
             [
              0,
              "#0d0887"
             ],
             [
              0.1111111111111111,
              "#46039f"
             ],
             [
              0.2222222222222222,
              "#7201a8"
             ],
             [
              0.3333333333333333,
              "#9c179e"
             ],
             [
              0.4444444444444444,
              "#bd3786"
             ],
             [
              0.5555555555555556,
              "#d8576b"
             ],
             [
              0.6666666666666666,
              "#ed7953"
             ],
             [
              0.7777777777777778,
              "#fb9f3a"
             ],
             [
              0.8888888888888888,
              "#fdca26"
             ],
             [
              1,
              "#f0f921"
             ]
            ],
            "type": "heatmap"
           }
          ],
          "heatmapgl": [
           {
            "colorbar": {
             "outlinewidth": 0,
             "ticks": ""
            },
            "colorscale": [
             [
              0,
              "#0d0887"
             ],
             [
              0.1111111111111111,
              "#46039f"
             ],
             [
              0.2222222222222222,
              "#7201a8"
             ],
             [
              0.3333333333333333,
              "#9c179e"
             ],
             [
              0.4444444444444444,
              "#bd3786"
             ],
             [
              0.5555555555555556,
              "#d8576b"
             ],
             [
              0.6666666666666666,
              "#ed7953"
             ],
             [
              0.7777777777777778,
              "#fb9f3a"
             ],
             [
              0.8888888888888888,
              "#fdca26"
             ],
             [
              1,
              "#f0f921"
             ]
            ],
            "type": "heatmapgl"
           }
          ],
          "histogram": [
           {
            "marker": {
             "pattern": {
              "fillmode": "overlay",
              "size": 10,
              "solidity": 0.2
             }
            },
            "type": "histogram"
           }
          ],
          "histogram2d": [
           {
            "colorbar": {
             "outlinewidth": 0,
             "ticks": ""
            },
            "colorscale": [
             [
              0,
              "#0d0887"
             ],
             [
              0.1111111111111111,
              "#46039f"
             ],
             [
              0.2222222222222222,
              "#7201a8"
             ],
             [
              0.3333333333333333,
              "#9c179e"
             ],
             [
              0.4444444444444444,
              "#bd3786"
             ],
             [
              0.5555555555555556,
              "#d8576b"
             ],
             [
              0.6666666666666666,
              "#ed7953"
             ],
             [
              0.7777777777777778,
              "#fb9f3a"
             ],
             [
              0.8888888888888888,
              "#fdca26"
             ],
             [
              1,
              "#f0f921"
             ]
            ],
            "type": "histogram2d"
           }
          ],
          "histogram2dcontour": [
           {
            "colorbar": {
             "outlinewidth": 0,
             "ticks": ""
            },
            "colorscale": [
             [
              0,
              "#0d0887"
             ],
             [
              0.1111111111111111,
              "#46039f"
             ],
             [
              0.2222222222222222,
              "#7201a8"
             ],
             [
              0.3333333333333333,
              "#9c179e"
             ],
             [
              0.4444444444444444,
              "#bd3786"
             ],
             [
              0.5555555555555556,
              "#d8576b"
             ],
             [
              0.6666666666666666,
              "#ed7953"
             ],
             [
              0.7777777777777778,
              "#fb9f3a"
             ],
             [
              0.8888888888888888,
              "#fdca26"
             ],
             [
              1,
              "#f0f921"
             ]
            ],
            "type": "histogram2dcontour"
           }
          ],
          "mesh3d": [
           {
            "colorbar": {
             "outlinewidth": 0,
             "ticks": ""
            },
            "type": "mesh3d"
           }
          ],
          "parcoords": [
           {
            "line": {
             "colorbar": {
              "outlinewidth": 0,
              "ticks": ""
             }
            },
            "type": "parcoords"
           }
          ],
          "pie": [
           {
            "automargin": true,
            "type": "pie"
           }
          ],
          "scatter": [
           {
            "fillpattern": {
             "fillmode": "overlay",
             "size": 10,
             "solidity": 0.2
            },
            "type": "scatter"
           }
          ],
          "scatter3d": [
           {
            "line": {
             "colorbar": {
              "outlinewidth": 0,
              "ticks": ""
             }
            },
            "marker": {
             "colorbar": {
              "outlinewidth": 0,
              "ticks": ""
             }
            },
            "type": "scatter3d"
           }
          ],
          "scattercarpet": [
           {
            "marker": {
             "colorbar": {
              "outlinewidth": 0,
              "ticks": ""
             }
            },
            "type": "scattercarpet"
           }
          ],
          "scattergeo": [
           {
            "marker": {
             "colorbar": {
              "outlinewidth": 0,
              "ticks": ""
             }
            },
            "type": "scattergeo"
           }
          ],
          "scattergl": [
           {
            "marker": {
             "colorbar": {
              "outlinewidth": 0,
              "ticks": ""
             }
            },
            "type": "scattergl"
           }
          ],
          "scattermapbox": [
           {
            "marker": {
             "colorbar": {
              "outlinewidth": 0,
              "ticks": ""
             }
            },
            "type": "scattermapbox"
           }
          ],
          "scatterpolar": [
           {
            "marker": {
             "colorbar": {
              "outlinewidth": 0,
              "ticks": ""
             }
            },
            "type": "scatterpolar"
           }
          ],
          "scatterpolargl": [
           {
            "marker": {
             "colorbar": {
              "outlinewidth": 0,
              "ticks": ""
             }
            },
            "type": "scatterpolargl"
           }
          ],
          "scatterternary": [
           {
            "marker": {
             "colorbar": {
              "outlinewidth": 0,
              "ticks": ""
             }
            },
            "type": "scatterternary"
           }
          ],
          "surface": [
           {
            "colorbar": {
             "outlinewidth": 0,
             "ticks": ""
            },
            "colorscale": [
             [
              0,
              "#0d0887"
             ],
             [
              0.1111111111111111,
              "#46039f"
             ],
             [
              0.2222222222222222,
              "#7201a8"
             ],
             [
              0.3333333333333333,
              "#9c179e"
             ],
             [
              0.4444444444444444,
              "#bd3786"
             ],
             [
              0.5555555555555556,
              "#d8576b"
             ],
             [
              0.6666666666666666,
              "#ed7953"
             ],
             [
              0.7777777777777778,
              "#fb9f3a"
             ],
             [
              0.8888888888888888,
              "#fdca26"
             ],
             [
              1,
              "#f0f921"
             ]
            ],
            "type": "surface"
           }
          ],
          "table": [
           {
            "cells": {
             "fill": {
              "color": "#EBF0F8"
             },
             "line": {
              "color": "white"
             }
            },
            "header": {
             "fill": {
              "color": "#C8D4E3"
             },
             "line": {
              "color": "white"
             }
            },
            "type": "table"
           }
          ]
         },
         "layout": {
          "annotationdefaults": {
           "arrowcolor": "#2a3f5f",
           "arrowhead": 0,
           "arrowwidth": 1
          },
          "autotypenumbers": "strict",
          "coloraxis": {
           "colorbar": {
            "outlinewidth": 0,
            "ticks": ""
           }
          },
          "colorscale": {
           "diverging": [
            [
             0,
             "#8e0152"
            ],
            [
             0.1,
             "#c51b7d"
            ],
            [
             0.2,
             "#de77ae"
            ],
            [
             0.3,
             "#f1b6da"
            ],
            [
             0.4,
             "#fde0ef"
            ],
            [
             0.5,
             "#f7f7f7"
            ],
            [
             0.6,
             "#e6f5d0"
            ],
            [
             0.7,
             "#b8e186"
            ],
            [
             0.8,
             "#7fbc41"
            ],
            [
             0.9,
             "#4d9221"
            ],
            [
             1,
             "#276419"
            ]
           ],
           "sequential": [
            [
             0,
             "#0d0887"
            ],
            [
             0.1111111111111111,
             "#46039f"
            ],
            [
             0.2222222222222222,
             "#7201a8"
            ],
            [
             0.3333333333333333,
             "#9c179e"
            ],
            [
             0.4444444444444444,
             "#bd3786"
            ],
            [
             0.5555555555555556,
             "#d8576b"
            ],
            [
             0.6666666666666666,
             "#ed7953"
            ],
            [
             0.7777777777777778,
             "#fb9f3a"
            ],
            [
             0.8888888888888888,
             "#fdca26"
            ],
            [
             1,
             "#f0f921"
            ]
           ],
           "sequentialminus": [
            [
             0,
             "#0d0887"
            ],
            [
             0.1111111111111111,
             "#46039f"
            ],
            [
             0.2222222222222222,
             "#7201a8"
            ],
            [
             0.3333333333333333,
             "#9c179e"
            ],
            [
             0.4444444444444444,
             "#bd3786"
            ],
            [
             0.5555555555555556,
             "#d8576b"
            ],
            [
             0.6666666666666666,
             "#ed7953"
            ],
            [
             0.7777777777777778,
             "#fb9f3a"
            ],
            [
             0.8888888888888888,
             "#fdca26"
            ],
            [
             1,
             "#f0f921"
            ]
           ]
          },
          "colorway": [
           "#636efa",
           "#EF553B",
           "#00cc96",
           "#ab63fa",
           "#FFA15A",
           "#19d3f3",
           "#FF6692",
           "#B6E880",
           "#FF97FF",
           "#FECB52"
          ],
          "font": {
           "color": "#2a3f5f"
          },
          "geo": {
           "bgcolor": "white",
           "lakecolor": "white",
           "landcolor": "#E5ECF6",
           "showlakes": true,
           "showland": true,
           "subunitcolor": "white"
          },
          "hoverlabel": {
           "align": "left"
          },
          "hovermode": "closest",
          "mapbox": {
           "style": "light"
          },
          "paper_bgcolor": "white",
          "plot_bgcolor": "#E5ECF6",
          "polar": {
           "angularaxis": {
            "gridcolor": "white",
            "linecolor": "white",
            "ticks": ""
           },
           "bgcolor": "#E5ECF6",
           "radialaxis": {
            "gridcolor": "white",
            "linecolor": "white",
            "ticks": ""
           }
          },
          "scene": {
           "xaxis": {
            "backgroundcolor": "#E5ECF6",
            "gridcolor": "white",
            "gridwidth": 2,
            "linecolor": "white",
            "showbackground": true,
            "ticks": "",
            "zerolinecolor": "white"
           },
           "yaxis": {
            "backgroundcolor": "#E5ECF6",
            "gridcolor": "white",
            "gridwidth": 2,
            "linecolor": "white",
            "showbackground": true,
            "ticks": "",
            "zerolinecolor": "white"
           },
           "zaxis": {
            "backgroundcolor": "#E5ECF6",
            "gridcolor": "white",
            "gridwidth": 2,
            "linecolor": "white",
            "showbackground": true,
            "ticks": "",
            "zerolinecolor": "white"
           }
          },
          "shapedefaults": {
           "line": {
            "color": "#2a3f5f"
           }
          },
          "ternary": {
           "aaxis": {
            "gridcolor": "white",
            "linecolor": "white",
            "ticks": ""
           },
           "baxis": {
            "gridcolor": "white",
            "linecolor": "white",
            "ticks": ""
           },
           "bgcolor": "#E5ECF6",
           "caxis": {
            "gridcolor": "white",
            "linecolor": "white",
            "ticks": ""
           }
          },
          "title": {
           "x": 0.05
          },
          "xaxis": {
           "automargin": true,
           "gridcolor": "white",
           "linecolor": "white",
           "ticks": "",
           "title": {
            "standoff": 15
           },
           "zerolinecolor": "white",
           "zerolinewidth": 2
          },
          "yaxis": {
           "automargin": true,
           "gridcolor": "white",
           "linecolor": "white",
           "ticks": "",
           "title": {
            "standoff": 15
           },
           "zerolinecolor": "white",
           "zerolinewidth": 2
          }
         }
        },
        "title": {
         "text": "Average Sale Price by Zoning"
        },
        "xaxis": {
         "title": {
          "text": "MsZoning"
         }
        },
        "yaxis": {
         "title": {
          "text": "Av Price"
         }
        }
       }
      }
     },
     "metadata": {},
     "output_type": "display_data"
    }
   ],
   "source": [
    "# Zoning impact in saleprice  -- TODO ADD COLORS\n",
    "\n",
    "# fig3 = px.bar(x=combined_df.index, y=combined_df['Av_SalePrice'], title='Average Sale Price by Zoning', color_continuous_scale='greens')\n",
    "# fig3.show()\n",
    "\n",
    "fig4 = go.Figure(data=[go.Bar(\n",
    "    x=combined_df.index,\n",
    "    y=combined_df['Av_SalePrice'],\n",
    "    marker_color='rgb(156, 39, 176)',\n",
    "    textposition='outside',\n",
    "    width=0.4,\n",
    "    marker=dict(line=dict(width=2, color='rgba(0,0,0,1)'), opacity=1))])\n",
    "\n",
    "fig4.update_layout(\n",
    "    title='Average Sale Price by Zoning',\n",
    "    xaxis_title='MsZoning',\n",
    "    yaxis_title='Av Price',\n",
    "    plot_bgcolor='rgba(34, 34, 34, 1)',\n",
    "    paper_bgcolor='rgba(34, 34, 34, 1)',\n",
    "    font=dict(color='white'))\n"
   ]
  },
  {
   "cell_type": "markdown",
   "metadata": {},
   "source": [
    "# panw askisi"
   ]
  },
  {
   "cell_type": "code",
   "execution_count": null,
   "metadata": {},
   "outputs": [
    {
     "data": {
      "application/vnd.plotly.v1+json": {
       "config": {
        "plotlyServerURL": "https://plot.ly"
       },
       "data": [
        {
         "alignmentgroup": "True",
         "hovertemplate": "color=green<br>x=%{x}<br>y=%{y}<br>text=%{text}<extra></extra>",
         "legendgroup": "green",
         "marker": {
          "color": "purple",
          "pattern": {
           "shape": ""
          }
         },
         "name": "green",
         "offsetgroup": "green",
         "orientation": "v",
         "showlegend": true,
         "text": [
          130190.5
         ],
         "textposition": "outside",
         "texttemplate": "$%{text:,.0f}",
         "type": "bar",
         "x": [
          "Grvl"
         ],
         "xaxis": "x",
         "y": [
          130190.5
         ],
         "yaxis": "y"
        },
        {
         "alignmentgroup": "True",
         "hovertemplate": "color=purple<br>x=%{x}<br>y=%{y}<br>text=%{text}<extra></extra>",
         "legendgroup": "purple",
         "marker": {
          "color": "green",
          "pattern": {
           "shape": ""
          }
         },
         "name": "purple",
         "offsetgroup": "purple",
         "orientation": "v",
         "showlegend": true,
         "text": [
          181130.53851444292
         ],
         "textposition": "outside",
         "texttemplate": "$%{text:,.0f}",
         "type": "bar",
         "x": [
          "Pave"
         ],
         "xaxis": "x",
         "y": [
          181130.53851444292
         ],
         "yaxis": "y"
        }
       ],
       "layout": {
        "barmode": "relative",
        "legend": {
         "title": {
          "text": "color"
         },
         "tracegroupgap": 0
        },
        "showlegend": false,
        "template": {
         "data": {
          "bar": [
           {
            "error_x": {
             "color": "#f2f5fa"
            },
            "error_y": {
             "color": "#f2f5fa"
            },
            "marker": {
             "line": {
              "color": "rgb(17,17,17)",
              "width": 0.5
             },
             "pattern": {
              "fillmode": "overlay",
              "size": 10,
              "solidity": 0.2
             }
            },
            "type": "bar"
           }
          ],
          "barpolar": [
           {
            "marker": {
             "line": {
              "color": "rgb(17,17,17)",
              "width": 0.5
             },
             "pattern": {
              "fillmode": "overlay",
              "size": 10,
              "solidity": 0.2
             }
            },
            "type": "barpolar"
           }
          ],
          "carpet": [
           {
            "aaxis": {
             "endlinecolor": "#A2B1C6",
             "gridcolor": "#506784",
             "linecolor": "#506784",
             "minorgridcolor": "#506784",
             "startlinecolor": "#A2B1C6"
            },
            "baxis": {
             "endlinecolor": "#A2B1C6",
             "gridcolor": "#506784",
             "linecolor": "#506784",
             "minorgridcolor": "#506784",
             "startlinecolor": "#A2B1C6"
            },
            "type": "carpet"
           }
          ],
          "choropleth": [
           {
            "colorbar": {
             "outlinewidth": 0,
             "ticks": ""
            },
            "type": "choropleth"
           }
          ],
          "contour": [
           {
            "colorbar": {
             "outlinewidth": 0,
             "ticks": ""
            },
            "colorscale": [
             [
              0,
              "#0d0887"
             ],
             [
              0.1111111111111111,
              "#46039f"
             ],
             [
              0.2222222222222222,
              "#7201a8"
             ],
             [
              0.3333333333333333,
              "#9c179e"
             ],
             [
              0.4444444444444444,
              "#bd3786"
             ],
             [
              0.5555555555555556,
              "#d8576b"
             ],
             [
              0.6666666666666666,
              "#ed7953"
             ],
             [
              0.7777777777777778,
              "#fb9f3a"
             ],
             [
              0.8888888888888888,
              "#fdca26"
             ],
             [
              1,
              "#f0f921"
             ]
            ],
            "type": "contour"
           }
          ],
          "contourcarpet": [
           {
            "colorbar": {
             "outlinewidth": 0,
             "ticks": ""
            },
            "type": "contourcarpet"
           }
          ],
          "heatmap": [
           {
            "colorbar": {
             "outlinewidth": 0,
             "ticks": ""
            },
            "colorscale": [
             [
              0,
              "#0d0887"
             ],
             [
              0.1111111111111111,
              "#46039f"
             ],
             [
              0.2222222222222222,
              "#7201a8"
             ],
             [
              0.3333333333333333,
              "#9c179e"
             ],
             [
              0.4444444444444444,
              "#bd3786"
             ],
             [
              0.5555555555555556,
              "#d8576b"
             ],
             [
              0.6666666666666666,
              "#ed7953"
             ],
             [
              0.7777777777777778,
              "#fb9f3a"
             ],
             [
              0.8888888888888888,
              "#fdca26"
             ],
             [
              1,
              "#f0f921"
             ]
            ],
            "type": "heatmap"
           }
          ],
          "heatmapgl": [
           {
            "colorbar": {
             "outlinewidth": 0,
             "ticks": ""
            },
            "colorscale": [
             [
              0,
              "#0d0887"
             ],
             [
              0.1111111111111111,
              "#46039f"
             ],
             [
              0.2222222222222222,
              "#7201a8"
             ],
             [
              0.3333333333333333,
              "#9c179e"
             ],
             [
              0.4444444444444444,
              "#bd3786"
             ],
             [
              0.5555555555555556,
              "#d8576b"
             ],
             [
              0.6666666666666666,
              "#ed7953"
             ],
             [
              0.7777777777777778,
              "#fb9f3a"
             ],
             [
              0.8888888888888888,
              "#fdca26"
             ],
             [
              1,
              "#f0f921"
             ]
            ],
            "type": "heatmapgl"
           }
          ],
          "histogram": [
           {
            "marker": {
             "pattern": {
              "fillmode": "overlay",
              "size": 10,
              "solidity": 0.2
             }
            },
            "type": "histogram"
           }
          ],
          "histogram2d": [
           {
            "colorbar": {
             "outlinewidth": 0,
             "ticks": ""
            },
            "colorscale": [
             [
              0,
              "#0d0887"
             ],
             [
              0.1111111111111111,
              "#46039f"
             ],
             [
              0.2222222222222222,
              "#7201a8"
             ],
             [
              0.3333333333333333,
              "#9c179e"
             ],
             [
              0.4444444444444444,
              "#bd3786"
             ],
             [
              0.5555555555555556,
              "#d8576b"
             ],
             [
              0.6666666666666666,
              "#ed7953"
             ],
             [
              0.7777777777777778,
              "#fb9f3a"
             ],
             [
              0.8888888888888888,
              "#fdca26"
             ],
             [
              1,
              "#f0f921"
             ]
            ],
            "type": "histogram2d"
           }
          ],
          "histogram2dcontour": [
           {
            "colorbar": {
             "outlinewidth": 0,
             "ticks": ""
            },
            "colorscale": [
             [
              0,
              "#0d0887"
             ],
             [
              0.1111111111111111,
              "#46039f"
             ],
             [
              0.2222222222222222,
              "#7201a8"
             ],
             [
              0.3333333333333333,
              "#9c179e"
             ],
             [
              0.4444444444444444,
              "#bd3786"
             ],
             [
              0.5555555555555556,
              "#d8576b"
             ],
             [
              0.6666666666666666,
              "#ed7953"
             ],
             [
              0.7777777777777778,
              "#fb9f3a"
             ],
             [
              0.8888888888888888,
              "#fdca26"
             ],
             [
              1,
              "#f0f921"
             ]
            ],
            "type": "histogram2dcontour"
           }
          ],
          "mesh3d": [
           {
            "colorbar": {
             "outlinewidth": 0,
             "ticks": ""
            },
            "type": "mesh3d"
           }
          ],
          "parcoords": [
           {
            "line": {
             "colorbar": {
              "outlinewidth": 0,
              "ticks": ""
             }
            },
            "type": "parcoords"
           }
          ],
          "pie": [
           {
            "automargin": true,
            "type": "pie"
           }
          ],
          "scatter": [
           {
            "marker": {
             "line": {
              "color": "#283442"
             }
            },
            "type": "scatter"
           }
          ],
          "scatter3d": [
           {
            "line": {
             "colorbar": {
              "outlinewidth": 0,
              "ticks": ""
             }
            },
            "marker": {
             "colorbar": {
              "outlinewidth": 0,
              "ticks": ""
             }
            },
            "type": "scatter3d"
           }
          ],
          "scattercarpet": [
           {
            "marker": {
             "colorbar": {
              "outlinewidth": 0,
              "ticks": ""
             }
            },
            "type": "scattercarpet"
           }
          ],
          "scattergeo": [
           {
            "marker": {
             "colorbar": {
              "outlinewidth": 0,
              "ticks": ""
             }
            },
            "type": "scattergeo"
           }
          ],
          "scattergl": [
           {
            "marker": {
             "line": {
              "color": "#283442"
             }
            },
            "type": "scattergl"
           }
          ],
          "scattermapbox": [
           {
            "marker": {
             "colorbar": {
              "outlinewidth": 0,
              "ticks": ""
             }
            },
            "type": "scattermapbox"
           }
          ],
          "scatterpolar": [
           {
            "marker": {
             "colorbar": {
              "outlinewidth": 0,
              "ticks": ""
             }
            },
            "type": "scatterpolar"
           }
          ],
          "scatterpolargl": [
           {
            "marker": {
             "colorbar": {
              "outlinewidth": 0,
              "ticks": ""
             }
            },
            "type": "scatterpolargl"
           }
          ],
          "scatterternary": [
           {
            "marker": {
             "colorbar": {
              "outlinewidth": 0,
              "ticks": ""
             }
            },
            "type": "scatterternary"
           }
          ],
          "surface": [
           {
            "colorbar": {
             "outlinewidth": 0,
             "ticks": ""
            },
            "colorscale": [
             [
              0,
              "#0d0887"
             ],
             [
              0.1111111111111111,
              "#46039f"
             ],
             [
              0.2222222222222222,
              "#7201a8"
             ],
             [
              0.3333333333333333,
              "#9c179e"
             ],
             [
              0.4444444444444444,
              "#bd3786"
             ],
             [
              0.5555555555555556,
              "#d8576b"
             ],
             [
              0.6666666666666666,
              "#ed7953"
             ],
             [
              0.7777777777777778,
              "#fb9f3a"
             ],
             [
              0.8888888888888888,
              "#fdca26"
             ],
             [
              1,
              "#f0f921"
             ]
            ],
            "type": "surface"
           }
          ],
          "table": [
           {
            "cells": {
             "fill": {
              "color": "#506784"
             },
             "line": {
              "color": "rgb(17,17,17)"
             }
            },
            "header": {
             "fill": {
              "color": "#2a3f5f"
             },
             "line": {
              "color": "rgb(17,17,17)"
             }
            },
            "type": "table"
           }
          ]
         },
         "layout": {
          "annotationdefaults": {
           "arrowcolor": "#f2f5fa",
           "arrowhead": 0,
           "arrowwidth": 1
          },
          "autotypenumbers": "strict",
          "coloraxis": {
           "colorbar": {
            "outlinewidth": 0,
            "ticks": ""
           }
          },
          "colorscale": {
           "diverging": [
            [
             0,
             "#8e0152"
            ],
            [
             0.1,
             "#c51b7d"
            ],
            [
             0.2,
             "#de77ae"
            ],
            [
             0.3,
             "#f1b6da"
            ],
            [
             0.4,
             "#fde0ef"
            ],
            [
             0.5,
             "#f7f7f7"
            ],
            [
             0.6,
             "#e6f5d0"
            ],
            [
             0.7,
             "#b8e186"
            ],
            [
             0.8,
             "#7fbc41"
            ],
            [
             0.9,
             "#4d9221"
            ],
            [
             1,
             "#276419"
            ]
           ],
           "sequential": [
            [
             0,
             "#0d0887"
            ],
            [
             0.1111111111111111,
             "#46039f"
            ],
            [
             0.2222222222222222,
             "#7201a8"
            ],
            [
             0.3333333333333333,
             "#9c179e"
            ],
            [
             0.4444444444444444,
             "#bd3786"
            ],
            [
             0.5555555555555556,
             "#d8576b"
            ],
            [
             0.6666666666666666,
             "#ed7953"
            ],
            [
             0.7777777777777778,
             "#fb9f3a"
            ],
            [
             0.8888888888888888,
             "#fdca26"
            ],
            [
             1,
             "#f0f921"
            ]
           ],
           "sequentialminus": [
            [
             0,
             "#0d0887"
            ],
            [
             0.1111111111111111,
             "#46039f"
            ],
            [
             0.2222222222222222,
             "#7201a8"
            ],
            [
             0.3333333333333333,
             "#9c179e"
            ],
            [
             0.4444444444444444,
             "#bd3786"
            ],
            [
             0.5555555555555556,
             "#d8576b"
            ],
            [
             0.6666666666666666,
             "#ed7953"
            ],
            [
             0.7777777777777778,
             "#fb9f3a"
            ],
            [
             0.8888888888888888,
             "#fdca26"
            ],
            [
             1,
             "#f0f921"
            ]
           ]
          },
          "colorway": [
           "#636efa",
           "#EF553B",
           "#00cc96",
           "#ab63fa",
           "#FFA15A",
           "#19d3f3",
           "#FF6692",
           "#B6E880",
           "#FF97FF",
           "#FECB52"
          ],
          "font": {
           "color": "#f2f5fa"
          },
          "geo": {
           "bgcolor": "rgb(17,17,17)",
           "lakecolor": "rgb(17,17,17)",
           "landcolor": "rgb(17,17,17)",
           "showlakes": true,
           "showland": true,
           "subunitcolor": "#506784"
          },
          "hoverlabel": {
           "align": "left"
          },
          "hovermode": "closest",
          "mapbox": {
           "style": "dark"
          },
          "paper_bgcolor": "rgb(17,17,17)",
          "plot_bgcolor": "rgb(17,17,17)",
          "polar": {
           "angularaxis": {
            "gridcolor": "#506784",
            "linecolor": "#506784",
            "ticks": ""
           },
           "bgcolor": "rgb(17,17,17)",
           "radialaxis": {
            "gridcolor": "#506784",
            "linecolor": "#506784",
            "ticks": ""
           }
          },
          "scene": {
           "xaxis": {
            "backgroundcolor": "rgb(17,17,17)",
            "gridcolor": "#506784",
            "gridwidth": 2,
            "linecolor": "#506784",
            "showbackground": true,
            "ticks": "",
            "zerolinecolor": "#C8D4E3"
           },
           "yaxis": {
            "backgroundcolor": "rgb(17,17,17)",
            "gridcolor": "#506784",
            "gridwidth": 2,
            "linecolor": "#506784",
            "showbackground": true,
            "ticks": "",
            "zerolinecolor": "#C8D4E3"
           },
           "zaxis": {
            "backgroundcolor": "rgb(17,17,17)",
            "gridcolor": "#506784",
            "gridwidth": 2,
            "linecolor": "#506784",
            "showbackground": true,
            "ticks": "",
            "zerolinecolor": "#C8D4E3"
           }
          },
          "shapedefaults": {
           "line": {
            "color": "#f2f5fa"
           }
          },
          "sliderdefaults": {
           "bgcolor": "#C8D4E3",
           "bordercolor": "rgb(17,17,17)",
           "borderwidth": 1,
           "tickwidth": 0
          },
          "ternary": {
           "aaxis": {
            "gridcolor": "#506784",
            "linecolor": "#506784",
            "ticks": ""
           },
           "baxis": {
            "gridcolor": "#506784",
            "linecolor": "#506784",
            "ticks": ""
           },
           "bgcolor": "rgb(17,17,17)",
           "caxis": {
            "gridcolor": "#506784",
            "linecolor": "#506784",
            "ticks": ""
           }
          },
          "title": {
           "x": 0.05
          },
          "updatemenudefaults": {
           "bgcolor": "#506784",
           "borderwidth": 0
          },
          "xaxis": {
           "automargin": true,
           "gridcolor": "#283442",
           "linecolor": "#506784",
           "ticks": "",
           "title": {
            "standoff": 15
           },
           "zerolinecolor": "#283442",
           "zerolinewidth": 2
          },
          "yaxis": {
           "automargin": true,
           "gridcolor": "#283442",
           "linecolor": "#506784",
           "ticks": "",
           "title": {
            "standoff": 15
           },
           "zerolinecolor": "#283442",
           "zerolinewidth": 2
          }
         }
        },
        "title": {
         "text": "Average Sale Price by Street Type"
        },
        "xaxis": {
         "anchor": "y",
         "domain": [
          0,
          1
         ],
         "title": {
          "text": "Street Type"
         }
        },
        "yaxis": {
         "anchor": "x",
         "domain": [
          0,
          1
         ],
         "tickformat": ",",
         "tickprefix": "$",
         "title": {
          "text": "Sale Price"
         }
        }
       }
      }
     },
     "metadata": {},
     "output_type": "display_data"
    }
   ],
   "source": [
    "street_prices = df.groupby('Street')['SalePrice'].mean()\n",
    "alley_prices = df.groupby('Alley')['SalePrice'].mean()\n",
    "\n",
    "colors_street = np.where(street_prices.index == \"Pave\", 'purple', 'green')\n",
    "fig5 = px.bar(x=street_prices.index, y=street_prices.values, title=\"Average Sale Price by Street Type\",\n",
    "              template='plotly_dark', text=street_prices.values,color = colors_street, color_discrete_sequence=['purple', 'green'])\n",
    "\n",
    "fig5.update_traces(texttemplate='$%{text:,.0f}', textposition='outside')\n",
    "fig5.update_yaxes(title='Sale Price', tickprefix='$', tickformat=',')\n",
    "fig5.update_xaxes(title='Street Type')\n",
    "fig5.update_layout(showlegend=False)\n",
    "\n",
    "\n"
   ]
  },
  {
   "cell_type": "markdown",
   "metadata": {},
   "source": [
    "# alley_prices"
   ]
  },
  {
   "cell_type": "code",
   "execution_count": 18,
   "metadata": {},
   "outputs": [
    {
     "data": {
      "text/plain": [
       "Alley\n",
       "Grvl    50\n",
       "Pave    41\n",
       "Name: count, dtype: int64"
      ]
     },
     "execution_count": 18,
     "metadata": {},
     "output_type": "execute_result"
    }
   ],
   "source": [
    "# TODO Make the same for alley_prices\n",
    "df['Alley'].value_counts()"
   ]
  },
  {
   "cell_type": "code",
   "execution_count": 21,
   "metadata": {},
   "outputs": [
    {
     "data": {
      "application/vnd.plotly.v1+json": {
       "config": {
        "plotlyServerURL": "https://plot.ly"
       },
       "data": [
        {
         "alignmentgroup": "True",
         "hovertemplate": "color=yellow<br>x=%{x}<br>y=%{y}<br>text=%{text}<extra></extra>",
         "legendgroup": "yellow",
         "marker": {
          "color": "blue",
          "pattern": {
           "shape": ""
          }
         },
         "name": "yellow",
         "offsetgroup": "yellow",
         "orientation": "v",
         "showlegend": true,
         "text": [
          130190.5
         ],
         "textposition": "outside",
         "texttemplate": "$%{text:,.0f}",
         "type": "bar",
         "x": [
          "Grvl"
         ],
         "xaxis": "x",
         "y": [
          122219.08
         ],
         "yaxis": "y"
        },
        {
         "alignmentgroup": "True",
         "hovertemplate": "color=blue<br>x=%{x}<br>y=%{y}<br>text=%{text}<extra></extra>",
         "legendgroup": "blue",
         "marker": {
          "color": "yellow",
          "pattern": {
           "shape": ""
          }
         },
         "name": "blue",
         "offsetgroup": "blue",
         "orientation": "v",
         "showlegend": true,
         "text": [
          181130.53851444292
         ],
         "textposition": "outside",
         "texttemplate": "$%{text:,.0f}",
         "type": "bar",
         "x": [
          "Pave"
         ],
         "xaxis": "x",
         "y": [
          168000.58536585365
         ],
         "yaxis": "y"
        }
       ],
       "layout": {
        "barmode": "relative",
        "legend": {
         "title": {
          "text": "color"
         },
         "tracegroupgap": 0
        },
        "showlegend": false,
        "template": {
         "data": {
          "bar": [
           {
            "error_x": {
             "color": "#f2f5fa"
            },
            "error_y": {
             "color": "#f2f5fa"
            },
            "marker": {
             "line": {
              "color": "rgb(17,17,17)",
              "width": 0.5
             },
             "pattern": {
              "fillmode": "overlay",
              "size": 10,
              "solidity": 0.2
             }
            },
            "type": "bar"
           }
          ],
          "barpolar": [
           {
            "marker": {
             "line": {
              "color": "rgb(17,17,17)",
              "width": 0.5
             },
             "pattern": {
              "fillmode": "overlay",
              "size": 10,
              "solidity": 0.2
             }
            },
            "type": "barpolar"
           }
          ],
          "carpet": [
           {
            "aaxis": {
             "endlinecolor": "#A2B1C6",
             "gridcolor": "#506784",
             "linecolor": "#506784",
             "minorgridcolor": "#506784",
             "startlinecolor": "#A2B1C6"
            },
            "baxis": {
             "endlinecolor": "#A2B1C6",
             "gridcolor": "#506784",
             "linecolor": "#506784",
             "minorgridcolor": "#506784",
             "startlinecolor": "#A2B1C6"
            },
            "type": "carpet"
           }
          ],
          "choropleth": [
           {
            "colorbar": {
             "outlinewidth": 0,
             "ticks": ""
            },
            "type": "choropleth"
           }
          ],
          "contour": [
           {
            "colorbar": {
             "outlinewidth": 0,
             "ticks": ""
            },
            "colorscale": [
             [
              0,
              "#0d0887"
             ],
             [
              0.1111111111111111,
              "#46039f"
             ],
             [
              0.2222222222222222,
              "#7201a8"
             ],
             [
              0.3333333333333333,
              "#9c179e"
             ],
             [
              0.4444444444444444,
              "#bd3786"
             ],
             [
              0.5555555555555556,
              "#d8576b"
             ],
             [
              0.6666666666666666,
              "#ed7953"
             ],
             [
              0.7777777777777778,
              "#fb9f3a"
             ],
             [
              0.8888888888888888,
              "#fdca26"
             ],
             [
              1,
              "#f0f921"
             ]
            ],
            "type": "contour"
           }
          ],
          "contourcarpet": [
           {
            "colorbar": {
             "outlinewidth": 0,
             "ticks": ""
            },
            "type": "contourcarpet"
           }
          ],
          "heatmap": [
           {
            "colorbar": {
             "outlinewidth": 0,
             "ticks": ""
            },
            "colorscale": [
             [
              0,
              "#0d0887"
             ],
             [
              0.1111111111111111,
              "#46039f"
             ],
             [
              0.2222222222222222,
              "#7201a8"
             ],
             [
              0.3333333333333333,
              "#9c179e"
             ],
             [
              0.4444444444444444,
              "#bd3786"
             ],
             [
              0.5555555555555556,
              "#d8576b"
             ],
             [
              0.6666666666666666,
              "#ed7953"
             ],
             [
              0.7777777777777778,
              "#fb9f3a"
             ],
             [
              0.8888888888888888,
              "#fdca26"
             ],
             [
              1,
              "#f0f921"
             ]
            ],
            "type": "heatmap"
           }
          ],
          "heatmapgl": [
           {
            "colorbar": {
             "outlinewidth": 0,
             "ticks": ""
            },
            "colorscale": [
             [
              0,
              "#0d0887"
             ],
             [
              0.1111111111111111,
              "#46039f"
             ],
             [
              0.2222222222222222,
              "#7201a8"
             ],
             [
              0.3333333333333333,
              "#9c179e"
             ],
             [
              0.4444444444444444,
              "#bd3786"
             ],
             [
              0.5555555555555556,
              "#d8576b"
             ],
             [
              0.6666666666666666,
              "#ed7953"
             ],
             [
              0.7777777777777778,
              "#fb9f3a"
             ],
             [
              0.8888888888888888,
              "#fdca26"
             ],
             [
              1,
              "#f0f921"
             ]
            ],
            "type": "heatmapgl"
           }
          ],
          "histogram": [
           {
            "marker": {
             "pattern": {
              "fillmode": "overlay",
              "size": 10,
              "solidity": 0.2
             }
            },
            "type": "histogram"
           }
          ],
          "histogram2d": [
           {
            "colorbar": {
             "outlinewidth": 0,
             "ticks": ""
            },
            "colorscale": [
             [
              0,
              "#0d0887"
             ],
             [
              0.1111111111111111,
              "#46039f"
             ],
             [
              0.2222222222222222,
              "#7201a8"
             ],
             [
              0.3333333333333333,
              "#9c179e"
             ],
             [
              0.4444444444444444,
              "#bd3786"
             ],
             [
              0.5555555555555556,
              "#d8576b"
             ],
             [
              0.6666666666666666,
              "#ed7953"
             ],
             [
              0.7777777777777778,
              "#fb9f3a"
             ],
             [
              0.8888888888888888,
              "#fdca26"
             ],
             [
              1,
              "#f0f921"
             ]
            ],
            "type": "histogram2d"
           }
          ],
          "histogram2dcontour": [
           {
            "colorbar": {
             "outlinewidth": 0,
             "ticks": ""
            },
            "colorscale": [
             [
              0,
              "#0d0887"
             ],
             [
              0.1111111111111111,
              "#46039f"
             ],
             [
              0.2222222222222222,
              "#7201a8"
             ],
             [
              0.3333333333333333,
              "#9c179e"
             ],
             [
              0.4444444444444444,
              "#bd3786"
             ],
             [
              0.5555555555555556,
              "#d8576b"
             ],
             [
              0.6666666666666666,
              "#ed7953"
             ],
             [
              0.7777777777777778,
              "#fb9f3a"
             ],
             [
              0.8888888888888888,
              "#fdca26"
             ],
             [
              1,
              "#f0f921"
             ]
            ],
            "type": "histogram2dcontour"
           }
          ],
          "mesh3d": [
           {
            "colorbar": {
             "outlinewidth": 0,
             "ticks": ""
            },
            "type": "mesh3d"
           }
          ],
          "parcoords": [
           {
            "line": {
             "colorbar": {
              "outlinewidth": 0,
              "ticks": ""
             }
            },
            "type": "parcoords"
           }
          ],
          "pie": [
           {
            "automargin": true,
            "type": "pie"
           }
          ],
          "scatter": [
           {
            "marker": {
             "line": {
              "color": "#283442"
             }
            },
            "type": "scatter"
           }
          ],
          "scatter3d": [
           {
            "line": {
             "colorbar": {
              "outlinewidth": 0,
              "ticks": ""
             }
            },
            "marker": {
             "colorbar": {
              "outlinewidth": 0,
              "ticks": ""
             }
            },
            "type": "scatter3d"
           }
          ],
          "scattercarpet": [
           {
            "marker": {
             "colorbar": {
              "outlinewidth": 0,
              "ticks": ""
             }
            },
            "type": "scattercarpet"
           }
          ],
          "scattergeo": [
           {
            "marker": {
             "colorbar": {
              "outlinewidth": 0,
              "ticks": ""
             }
            },
            "type": "scattergeo"
           }
          ],
          "scattergl": [
           {
            "marker": {
             "line": {
              "color": "#283442"
             }
            },
            "type": "scattergl"
           }
          ],
          "scattermapbox": [
           {
            "marker": {
             "colorbar": {
              "outlinewidth": 0,
              "ticks": ""
             }
            },
            "type": "scattermapbox"
           }
          ],
          "scatterpolar": [
           {
            "marker": {
             "colorbar": {
              "outlinewidth": 0,
              "ticks": ""
             }
            },
            "type": "scatterpolar"
           }
          ],
          "scatterpolargl": [
           {
            "marker": {
             "colorbar": {
              "outlinewidth": 0,
              "ticks": ""
             }
            },
            "type": "scatterpolargl"
           }
          ],
          "scatterternary": [
           {
            "marker": {
             "colorbar": {
              "outlinewidth": 0,
              "ticks": ""
             }
            },
            "type": "scatterternary"
           }
          ],
          "surface": [
           {
            "colorbar": {
             "outlinewidth": 0,
             "ticks": ""
            },
            "colorscale": [
             [
              0,
              "#0d0887"
             ],
             [
              0.1111111111111111,
              "#46039f"
             ],
             [
              0.2222222222222222,
              "#7201a8"
             ],
             [
              0.3333333333333333,
              "#9c179e"
             ],
             [
              0.4444444444444444,
              "#bd3786"
             ],
             [
              0.5555555555555556,
              "#d8576b"
             ],
             [
              0.6666666666666666,
              "#ed7953"
             ],
             [
              0.7777777777777778,
              "#fb9f3a"
             ],
             [
              0.8888888888888888,
              "#fdca26"
             ],
             [
              1,
              "#f0f921"
             ]
            ],
            "type": "surface"
           }
          ],
          "table": [
           {
            "cells": {
             "fill": {
              "color": "#506784"
             },
             "line": {
              "color": "rgb(17,17,17)"
             }
            },
            "header": {
             "fill": {
              "color": "#2a3f5f"
             },
             "line": {
              "color": "rgb(17,17,17)"
             }
            },
            "type": "table"
           }
          ]
         },
         "layout": {
          "annotationdefaults": {
           "arrowcolor": "#f2f5fa",
           "arrowhead": 0,
           "arrowwidth": 1
          },
          "autotypenumbers": "strict",
          "coloraxis": {
           "colorbar": {
            "outlinewidth": 0,
            "ticks": ""
           }
          },
          "colorscale": {
           "diverging": [
            [
             0,
             "#8e0152"
            ],
            [
             0.1,
             "#c51b7d"
            ],
            [
             0.2,
             "#de77ae"
            ],
            [
             0.3,
             "#f1b6da"
            ],
            [
             0.4,
             "#fde0ef"
            ],
            [
             0.5,
             "#f7f7f7"
            ],
            [
             0.6,
             "#e6f5d0"
            ],
            [
             0.7,
             "#b8e186"
            ],
            [
             0.8,
             "#7fbc41"
            ],
            [
             0.9,
             "#4d9221"
            ],
            [
             1,
             "#276419"
            ]
           ],
           "sequential": [
            [
             0,
             "#0d0887"
            ],
            [
             0.1111111111111111,
             "#46039f"
            ],
            [
             0.2222222222222222,
             "#7201a8"
            ],
            [
             0.3333333333333333,
             "#9c179e"
            ],
            [
             0.4444444444444444,
             "#bd3786"
            ],
            [
             0.5555555555555556,
             "#d8576b"
            ],
            [
             0.6666666666666666,
             "#ed7953"
            ],
            [
             0.7777777777777778,
             "#fb9f3a"
            ],
            [
             0.8888888888888888,
             "#fdca26"
            ],
            [
             1,
             "#f0f921"
            ]
           ],
           "sequentialminus": [
            [
             0,
             "#0d0887"
            ],
            [
             0.1111111111111111,
             "#46039f"
            ],
            [
             0.2222222222222222,
             "#7201a8"
            ],
            [
             0.3333333333333333,
             "#9c179e"
            ],
            [
             0.4444444444444444,
             "#bd3786"
            ],
            [
             0.5555555555555556,
             "#d8576b"
            ],
            [
             0.6666666666666666,
             "#ed7953"
            ],
            [
             0.7777777777777778,
             "#fb9f3a"
            ],
            [
             0.8888888888888888,
             "#fdca26"
            ],
            [
             1,
             "#f0f921"
            ]
           ]
          },
          "colorway": [
           "#636efa",
           "#EF553B",
           "#00cc96",
           "#ab63fa",
           "#FFA15A",
           "#19d3f3",
           "#FF6692",
           "#B6E880",
           "#FF97FF",
           "#FECB52"
          ],
          "font": {
           "color": "#f2f5fa"
          },
          "geo": {
           "bgcolor": "rgb(17,17,17)",
           "lakecolor": "rgb(17,17,17)",
           "landcolor": "rgb(17,17,17)",
           "showlakes": true,
           "showland": true,
           "subunitcolor": "#506784"
          },
          "hoverlabel": {
           "align": "left"
          },
          "hovermode": "closest",
          "mapbox": {
           "style": "dark"
          },
          "paper_bgcolor": "rgb(17,17,17)",
          "plot_bgcolor": "rgb(17,17,17)",
          "polar": {
           "angularaxis": {
            "gridcolor": "#506784",
            "linecolor": "#506784",
            "ticks": ""
           },
           "bgcolor": "rgb(17,17,17)",
           "radialaxis": {
            "gridcolor": "#506784",
            "linecolor": "#506784",
            "ticks": ""
           }
          },
          "scene": {
           "xaxis": {
            "backgroundcolor": "rgb(17,17,17)",
            "gridcolor": "#506784",
            "gridwidth": 2,
            "linecolor": "#506784",
            "showbackground": true,
            "ticks": "",
            "zerolinecolor": "#C8D4E3"
           },
           "yaxis": {
            "backgroundcolor": "rgb(17,17,17)",
            "gridcolor": "#506784",
            "gridwidth": 2,
            "linecolor": "#506784",
            "showbackground": true,
            "ticks": "",
            "zerolinecolor": "#C8D4E3"
           },
           "zaxis": {
            "backgroundcolor": "rgb(17,17,17)",
            "gridcolor": "#506784",
            "gridwidth": 2,
            "linecolor": "#506784",
            "showbackground": true,
            "ticks": "",
            "zerolinecolor": "#C8D4E3"
           }
          },
          "shapedefaults": {
           "line": {
            "color": "#f2f5fa"
           }
          },
          "sliderdefaults": {
           "bgcolor": "#C8D4E3",
           "bordercolor": "rgb(17,17,17)",
           "borderwidth": 1,
           "tickwidth": 0
          },
          "ternary": {
           "aaxis": {
            "gridcolor": "#506784",
            "linecolor": "#506784",
            "ticks": ""
           },
           "baxis": {
            "gridcolor": "#506784",
            "linecolor": "#506784",
            "ticks": ""
           },
           "bgcolor": "rgb(17,17,17)",
           "caxis": {
            "gridcolor": "#506784",
            "linecolor": "#506784",
            "ticks": ""
           }
          },
          "title": {
           "x": 0.05
          },
          "updatemenudefaults": {
           "bgcolor": "#506784",
           "borderwidth": 0
          },
          "xaxis": {
           "automargin": true,
           "gridcolor": "#283442",
           "linecolor": "#506784",
           "ticks": "",
           "title": {
            "standoff": 15
           },
           "zerolinecolor": "#283442",
           "zerolinewidth": 2
          },
          "yaxis": {
           "automargin": true,
           "gridcolor": "#283442",
           "linecolor": "#506784",
           "ticks": "",
           "title": {
            "standoff": 15
           },
           "zerolinecolor": "#283442",
           "zerolinewidth": 2
          }
         }
        },
        "title": {
         "text": "Average Sale Price by Alley Type"
        },
        "xaxis": {
         "anchor": "y",
         "domain": [
          0,
          1
         ],
         "title": {
          "text": "Alley Type"
         }
        },
        "yaxis": {
         "anchor": "x",
         "domain": [
          0,
          1
         ],
         "tickformat": ",",
         "tickprefix": "$",
         "title": {
          "text": "Sale Price"
         }
        }
       }
      }
     },
     "metadata": {},
     "output_type": "display_data"
    }
   ],
   "source": [
    "alley_prices = df.groupby('Alley')['SalePrice'].mean()\n",
    "street_prices = df.groupby('Street')['SalePrice'].mean()\n",
    "\n",
    "\n",
    "colors_street = np.where(alley_prices.index == \"Pave\", 'blue', 'yellow')\n",
    "fig5 = px.bar(x=alley_prices.index, y=alley_prices.values, title=\"Average Sale Price by Alley Type\",\n",
    "              template='plotly_dark', text=street_prices.values,color = colors_street, color_discrete_sequence=['blue', 'yellow'])\n",
    "\n",
    "fig5.update_traces(texttemplate='$%{text:,.0f}', textposition='outside')\n",
    "fig5.update_yaxes(title='Sale Price', tickprefix='$', tickformat=',')\n",
    "fig5.update_xaxes(title='Alley Type')\n",
    "fig5.update_layout(showlegend=False)"
   ]
  },
  {
   "cell_type": "code",
   "execution_count": null,
   "metadata": {},
   "outputs": [
    {
     "data": {
      "application/vnd.plotly.v1+json": {
       "config": {
        "plotlyServerURL": "https://plot.ly"
       },
       "data": [
        {
         "alignmentgroup": "True",
         "hovertemplate": "x=%{x}<br>y=%{y}<br>text=%{text}<extra></extra>",
         "legendgroup": "",
         "marker": {
          "color": [
           "#636EFA",
           "#EF553B",
           "#00CC96",
           "#AB63FA",
           "#FFA15A",
           "#19D3F3",
           "#FF6692",
           "#B6E880",
           "#FF97FF",
           "#FECB52"
          ],
          "pattern": {
           "shape": ""
          }
         },
         "name": "",
         "offsetgroup": "",
         "orientation": "v",
         "showlegend": false,
         "text": [
          206101.6652892562,
          239833.36585365853,
          216036.5,
          164754.81837837838
         ],
         "textposition": "outside",
         "texttemplate": "$%{text:,.0f}",
         "type": "bar",
         "x": [
          "IR1",
          "IR2",
          "IR3",
          "Reg"
         ],
         "xaxis": "x",
         "y": [
          206101.6652892562,
          239833.36585365853,
          216036.5,
          164754.81837837838
         ],
         "yaxis": "y"
        }
       ],
       "layout": {
        "barmode": "relative",
        "legend": {
         "tracegroupgap": 0
        },
        "showlegend": false,
        "template": {
         "data": {
          "bar": [
           {
            "error_x": {
             "color": "#f2f5fa"
            },
            "error_y": {
             "color": "#f2f5fa"
            },
            "marker": {
             "line": {
              "color": "rgb(17,17,17)",
              "width": 0.5
             },
             "pattern": {
              "fillmode": "overlay",
              "size": 10,
              "solidity": 0.2
             }
            },
            "type": "bar"
           }
          ],
          "barpolar": [
           {
            "marker": {
             "line": {
              "color": "rgb(17,17,17)",
              "width": 0.5
             },
             "pattern": {
              "fillmode": "overlay",
              "size": 10,
              "solidity": 0.2
             }
            },
            "type": "barpolar"
           }
          ],
          "carpet": [
           {
            "aaxis": {
             "endlinecolor": "#A2B1C6",
             "gridcolor": "#506784",
             "linecolor": "#506784",
             "minorgridcolor": "#506784",
             "startlinecolor": "#A2B1C6"
            },
            "baxis": {
             "endlinecolor": "#A2B1C6",
             "gridcolor": "#506784",
             "linecolor": "#506784",
             "minorgridcolor": "#506784",
             "startlinecolor": "#A2B1C6"
            },
            "type": "carpet"
           }
          ],
          "choropleth": [
           {
            "colorbar": {
             "outlinewidth": 0,
             "ticks": ""
            },
            "type": "choropleth"
           }
          ],
          "contour": [
           {
            "colorbar": {
             "outlinewidth": 0,
             "ticks": ""
            },
            "colorscale": [
             [
              0,
              "#0d0887"
             ],
             [
              0.1111111111111111,
              "#46039f"
             ],
             [
              0.2222222222222222,
              "#7201a8"
             ],
             [
              0.3333333333333333,
              "#9c179e"
             ],
             [
              0.4444444444444444,
              "#bd3786"
             ],
             [
              0.5555555555555556,
              "#d8576b"
             ],
             [
              0.6666666666666666,
              "#ed7953"
             ],
             [
              0.7777777777777778,
              "#fb9f3a"
             ],
             [
              0.8888888888888888,
              "#fdca26"
             ],
             [
              1,
              "#f0f921"
             ]
            ],
            "type": "contour"
           }
          ],
          "contourcarpet": [
           {
            "colorbar": {
             "outlinewidth": 0,
             "ticks": ""
            },
            "type": "contourcarpet"
           }
          ],
          "heatmap": [
           {
            "colorbar": {
             "outlinewidth": 0,
             "ticks": ""
            },
            "colorscale": [
             [
              0,
              "#0d0887"
             ],
             [
              0.1111111111111111,
              "#46039f"
             ],
             [
              0.2222222222222222,
              "#7201a8"
             ],
             [
              0.3333333333333333,
              "#9c179e"
             ],
             [
              0.4444444444444444,
              "#bd3786"
             ],
             [
              0.5555555555555556,
              "#d8576b"
             ],
             [
              0.6666666666666666,
              "#ed7953"
             ],
             [
              0.7777777777777778,
              "#fb9f3a"
             ],
             [
              0.8888888888888888,
              "#fdca26"
             ],
             [
              1,
              "#f0f921"
             ]
            ],
            "type": "heatmap"
           }
          ],
          "heatmapgl": [
           {
            "colorbar": {
             "outlinewidth": 0,
             "ticks": ""
            },
            "colorscale": [
             [
              0,
              "#0d0887"
             ],
             [
              0.1111111111111111,
              "#46039f"
             ],
             [
              0.2222222222222222,
              "#7201a8"
             ],
             [
              0.3333333333333333,
              "#9c179e"
             ],
             [
              0.4444444444444444,
              "#bd3786"
             ],
             [
              0.5555555555555556,
              "#d8576b"
             ],
             [
              0.6666666666666666,
              "#ed7953"
             ],
             [
              0.7777777777777778,
              "#fb9f3a"
             ],
             [
              0.8888888888888888,
              "#fdca26"
             ],
             [
              1,
              "#f0f921"
             ]
            ],
            "type": "heatmapgl"
           }
          ],
          "histogram": [
           {
            "marker": {
             "pattern": {
              "fillmode": "overlay",
              "size": 10,
              "solidity": 0.2
             }
            },
            "type": "histogram"
           }
          ],
          "histogram2d": [
           {
            "colorbar": {
             "outlinewidth": 0,
             "ticks": ""
            },
            "colorscale": [
             [
              0,
              "#0d0887"
             ],
             [
              0.1111111111111111,
              "#46039f"
             ],
             [
              0.2222222222222222,
              "#7201a8"
             ],
             [
              0.3333333333333333,
              "#9c179e"
             ],
             [
              0.4444444444444444,
              "#bd3786"
             ],
             [
              0.5555555555555556,
              "#d8576b"
             ],
             [
              0.6666666666666666,
              "#ed7953"
             ],
             [
              0.7777777777777778,
              "#fb9f3a"
             ],
             [
              0.8888888888888888,
              "#fdca26"
             ],
             [
              1,
              "#f0f921"
             ]
            ],
            "type": "histogram2d"
           }
          ],
          "histogram2dcontour": [
           {
            "colorbar": {
             "outlinewidth": 0,
             "ticks": ""
            },
            "colorscale": [
             [
              0,
              "#0d0887"
             ],
             [
              0.1111111111111111,
              "#46039f"
             ],
             [
              0.2222222222222222,
              "#7201a8"
             ],
             [
              0.3333333333333333,
              "#9c179e"
             ],
             [
              0.4444444444444444,
              "#bd3786"
             ],
             [
              0.5555555555555556,
              "#d8576b"
             ],
             [
              0.6666666666666666,
              "#ed7953"
             ],
             [
              0.7777777777777778,
              "#fb9f3a"
             ],
             [
              0.8888888888888888,
              "#fdca26"
             ],
             [
              1,
              "#f0f921"
             ]
            ],
            "type": "histogram2dcontour"
           }
          ],
          "mesh3d": [
           {
            "colorbar": {
             "outlinewidth": 0,
             "ticks": ""
            },
            "type": "mesh3d"
           }
          ],
          "parcoords": [
           {
            "line": {
             "colorbar": {
              "outlinewidth": 0,
              "ticks": ""
             }
            },
            "type": "parcoords"
           }
          ],
          "pie": [
           {
            "automargin": true,
            "type": "pie"
           }
          ],
          "scatter": [
           {
            "marker": {
             "line": {
              "color": "#283442"
             }
            },
            "type": "scatter"
           }
          ],
          "scatter3d": [
           {
            "line": {
             "colorbar": {
              "outlinewidth": 0,
              "ticks": ""
             }
            },
            "marker": {
             "colorbar": {
              "outlinewidth": 0,
              "ticks": ""
             }
            },
            "type": "scatter3d"
           }
          ],
          "scattercarpet": [
           {
            "marker": {
             "colorbar": {
              "outlinewidth": 0,
              "ticks": ""
             }
            },
            "type": "scattercarpet"
           }
          ],
          "scattergeo": [
           {
            "marker": {
             "colorbar": {
              "outlinewidth": 0,
              "ticks": ""
             }
            },
            "type": "scattergeo"
           }
          ],
          "scattergl": [
           {
            "marker": {
             "line": {
              "color": "#283442"
             }
            },
            "type": "scattergl"
           }
          ],
          "scattermapbox": [
           {
            "marker": {
             "colorbar": {
              "outlinewidth": 0,
              "ticks": ""
             }
            },
            "type": "scattermapbox"
           }
          ],
          "scatterpolar": [
           {
            "marker": {
             "colorbar": {
              "outlinewidth": 0,
              "ticks": ""
             }
            },
            "type": "scatterpolar"
           }
          ],
          "scatterpolargl": [
           {
            "marker": {
             "colorbar": {
              "outlinewidth": 0,
              "ticks": ""
             }
            },
            "type": "scatterpolargl"
           }
          ],
          "scatterternary": [
           {
            "marker": {
             "colorbar": {
              "outlinewidth": 0,
              "ticks": ""
             }
            },
            "type": "scatterternary"
           }
          ],
          "surface": [
           {
            "colorbar": {
             "outlinewidth": 0,
             "ticks": ""
            },
            "colorscale": [
             [
              0,
              "#0d0887"
             ],
             [
              0.1111111111111111,
              "#46039f"
             ],
             [
              0.2222222222222222,
              "#7201a8"
             ],
             [
              0.3333333333333333,
              "#9c179e"
             ],
             [
              0.4444444444444444,
              "#bd3786"
             ],
             [
              0.5555555555555556,
              "#d8576b"
             ],
             [
              0.6666666666666666,
              "#ed7953"
             ],
             [
              0.7777777777777778,
              "#fb9f3a"
             ],
             [
              0.8888888888888888,
              "#fdca26"
             ],
             [
              1,
              "#f0f921"
             ]
            ],
            "type": "surface"
           }
          ],
          "table": [
           {
            "cells": {
             "fill": {
              "color": "#506784"
             },
             "line": {
              "color": "rgb(17,17,17)"
             }
            },
            "header": {
             "fill": {
              "color": "#2a3f5f"
             },
             "line": {
              "color": "rgb(17,17,17)"
             }
            },
            "type": "table"
           }
          ]
         },
         "layout": {
          "annotationdefaults": {
           "arrowcolor": "#f2f5fa",
           "arrowhead": 0,
           "arrowwidth": 1
          },
          "autotypenumbers": "strict",
          "coloraxis": {
           "colorbar": {
            "outlinewidth": 0,
            "ticks": ""
           }
          },
          "colorscale": {
           "diverging": [
            [
             0,
             "#8e0152"
            ],
            [
             0.1,
             "#c51b7d"
            ],
            [
             0.2,
             "#de77ae"
            ],
            [
             0.3,
             "#f1b6da"
            ],
            [
             0.4,
             "#fde0ef"
            ],
            [
             0.5,
             "#f7f7f7"
            ],
            [
             0.6,
             "#e6f5d0"
            ],
            [
             0.7,
             "#b8e186"
            ],
            [
             0.8,
             "#7fbc41"
            ],
            [
             0.9,
             "#4d9221"
            ],
            [
             1,
             "#276419"
            ]
           ],
           "sequential": [
            [
             0,
             "#0d0887"
            ],
            [
             0.1111111111111111,
             "#46039f"
            ],
            [
             0.2222222222222222,
             "#7201a8"
            ],
            [
             0.3333333333333333,
             "#9c179e"
            ],
            [
             0.4444444444444444,
             "#bd3786"
            ],
            [
             0.5555555555555556,
             "#d8576b"
            ],
            [
             0.6666666666666666,
             "#ed7953"
            ],
            [
             0.7777777777777778,
             "#fb9f3a"
            ],
            [
             0.8888888888888888,
             "#fdca26"
            ],
            [
             1,
             "#f0f921"
            ]
           ],
           "sequentialminus": [
            [
             0,
             "#0d0887"
            ],
            [
             0.1111111111111111,
             "#46039f"
            ],
            [
             0.2222222222222222,
             "#7201a8"
            ],
            [
             0.3333333333333333,
             "#9c179e"
            ],
            [
             0.4444444444444444,
             "#bd3786"
            ],
            [
             0.5555555555555556,
             "#d8576b"
            ],
            [
             0.6666666666666666,
             "#ed7953"
            ],
            [
             0.7777777777777778,
             "#fb9f3a"
            ],
            [
             0.8888888888888888,
             "#fdca26"
            ],
            [
             1,
             "#f0f921"
            ]
           ]
          },
          "colorway": [
           "#636efa",
           "#EF553B",
           "#00cc96",
           "#ab63fa",
           "#FFA15A",
           "#19d3f3",
           "#FF6692",
           "#B6E880",
           "#FF97FF",
           "#FECB52"
          ],
          "font": {
           "color": "#f2f5fa"
          },
          "geo": {
           "bgcolor": "rgb(17,17,17)",
           "lakecolor": "rgb(17,17,17)",
           "landcolor": "rgb(17,17,17)",
           "showlakes": true,
           "showland": true,
           "subunitcolor": "#506784"
          },
          "hoverlabel": {
           "align": "left"
          },
          "hovermode": "closest",
          "mapbox": {
           "style": "dark"
          },
          "paper_bgcolor": "rgb(17,17,17)",
          "plot_bgcolor": "rgb(17,17,17)",
          "polar": {
           "angularaxis": {
            "gridcolor": "#506784",
            "linecolor": "#506784",
            "ticks": ""
           },
           "bgcolor": "rgb(17,17,17)",
           "radialaxis": {
            "gridcolor": "#506784",
            "linecolor": "#506784",
            "ticks": ""
           }
          },
          "scene": {
           "xaxis": {
            "backgroundcolor": "rgb(17,17,17)",
            "gridcolor": "#506784",
            "gridwidth": 2,
            "linecolor": "#506784",
            "showbackground": true,
            "ticks": "",
            "zerolinecolor": "#C8D4E3"
           },
           "yaxis": {
            "backgroundcolor": "rgb(17,17,17)",
            "gridcolor": "#506784",
            "gridwidth": 2,
            "linecolor": "#506784",
            "showbackground": true,
            "ticks": "",
            "zerolinecolor": "#C8D4E3"
           },
           "zaxis": {
            "backgroundcolor": "rgb(17,17,17)",
            "gridcolor": "#506784",
            "gridwidth": 2,
            "linecolor": "#506784",
            "showbackground": true,
            "ticks": "",
            "zerolinecolor": "#C8D4E3"
           }
          },
          "shapedefaults": {
           "line": {
            "color": "#f2f5fa"
           }
          },
          "sliderdefaults": {
           "bgcolor": "#C8D4E3",
           "bordercolor": "rgb(17,17,17)",
           "borderwidth": 1,
           "tickwidth": 0
          },
          "ternary": {
           "aaxis": {
            "gridcolor": "#506784",
            "linecolor": "#506784",
            "ticks": ""
           },
           "baxis": {
            "gridcolor": "#506784",
            "linecolor": "#506784",
            "ticks": ""
           },
           "bgcolor": "rgb(17,17,17)",
           "caxis": {
            "gridcolor": "#506784",
            "linecolor": "#506784",
            "ticks": ""
           }
          },
          "title": {
           "x": 0.05
          },
          "updatemenudefaults": {
           "bgcolor": "#506784",
           "borderwidth": 0
          },
          "xaxis": {
           "automargin": true,
           "gridcolor": "#283442",
           "linecolor": "#506784",
           "ticks": "",
           "title": {
            "standoff": 15
           },
           "zerolinecolor": "#283442",
           "zerolinewidth": 2
          },
          "yaxis": {
           "automargin": true,
           "gridcolor": "#283442",
           "linecolor": "#506784",
           "ticks": "",
           "title": {
            "standoff": 15
           },
           "zerolinecolor": "#283442",
           "zerolinewidth": 2
          }
         }
        },
        "title": {
         "text": "Average Sale Price by Property Shape"
        },
        "xaxis": {
         "anchor": "y",
         "domain": [
          0,
          1
         ],
         "title": {
          "text": "Property Shape"
         }
        },
        "yaxis": {
         "anchor": "x",
         "domain": [
          0,
          1
         ],
         "tickformat": ",",
         "tickprefix": "$",
         "title": {
          "text": "Sale Price"
         }
        }
       }
      }
     },
     "metadata": {},
     "output_type": "display_data"
    }
   ],
   "source": [
    "#  4. Average sale price by property shape\n",
    "# Colors for all categories of your column\n",
    "colors = px.colors.qualitative.Plotly\n",
    "\n",
    "shape_prices = df.groupby('LotShape')['SalePrice'].mean()\n",
    "# Shape Prices\n",
    "fig7 = px.bar(x=shape_prices.index, y=shape_prices.values, title='Average Sale Price by Property Shape',\n",
    "              template='plotly_dark', text=shape_prices.values)\n",
    "\n",
    "fig7.update_traces(marker_color=colors, texttemplate='$%{text:,.0f}', textposition='outside')\n",
    "fig7.update_yaxes(title='Sale Price', tickprefix='$', tickformat=',')\n",
    "fig7.update_xaxes(title='Property Shape')\n",
    "fig7.update_layout(showlegend=False)\n",
    "\n",
    "\n",
    "\n",
    "\n"
   ]
  },
  {
   "cell_type": "code",
   "execution_count": null,
   "metadata": {},
   "outputs": [
    {
     "data": {
      "application/vnd.plotly.v1+json": {
       "config": {
        "plotlyServerURL": "https://plot.ly"
       },
       "data": [
        {
         "alignmentgroup": "True",
         "hovertemplate": "x=%{x}<br>y=%{y}<br>text=%{text}<extra></extra>",
         "legendgroup": "",
         "marker": {
          "color": [
           "#636EFA",
           "#EF553B",
           "#00CC96",
           "#AB63FA",
           "#FFA15A",
           "#19D3F3",
           "#FF6692",
           "#B6E880",
           "#FF97FF",
           "#FECB52"
          ],
          "pattern": {
           "shape": ""
          }
         },
         "name": "",
         "offsetgroup": "",
         "orientation": "v",
         "showlegend": false,
         "text": [
          143104.07936507938,
          231533.94,
          203661.11111111112,
          180183.74675819985
         ],
         "textposition": "outside",
         "texttemplate": "$%{text:,.0f}",
         "type": "bar",
         "x": [
          "IR1",
          "IR2",
          "IR3",
          "Reg"
         ],
         "xaxis": "x",
         "y": [
          206101.6652892562,
          239833.36585365853,
          216036.5,
          164754.81837837838
         ],
         "yaxis": "y"
        }
       ],
       "layout": {
        "barmode": "relative",
        "legend": {
         "tracegroupgap": 0
        },
        "showlegend": false,
        "template": {
         "data": {
          "bar": [
           {
            "error_x": {
             "color": "#f2f5fa"
            },
            "error_y": {
             "color": "#f2f5fa"
            },
            "marker": {
             "line": {
              "color": "rgb(17,17,17)",
              "width": 0.5
             },
             "pattern": {
              "fillmode": "overlay",
              "size": 10,
              "solidity": 0.2
             }
            },
            "type": "bar"
           }
          ],
          "barpolar": [
           {
            "marker": {
             "line": {
              "color": "rgb(17,17,17)",
              "width": 0.5
             },
             "pattern": {
              "fillmode": "overlay",
              "size": 10,
              "solidity": 0.2
             }
            },
            "type": "barpolar"
           }
          ],
          "carpet": [
           {
            "aaxis": {
             "endlinecolor": "#A2B1C6",
             "gridcolor": "#506784",
             "linecolor": "#506784",
             "minorgridcolor": "#506784",
             "startlinecolor": "#A2B1C6"
            },
            "baxis": {
             "endlinecolor": "#A2B1C6",
             "gridcolor": "#506784",
             "linecolor": "#506784",
             "minorgridcolor": "#506784",
             "startlinecolor": "#A2B1C6"
            },
            "type": "carpet"
           }
          ],
          "choropleth": [
           {
            "colorbar": {
             "outlinewidth": 0,
             "ticks": ""
            },
            "type": "choropleth"
           }
          ],
          "contour": [
           {
            "colorbar": {
             "outlinewidth": 0,
             "ticks": ""
            },
            "colorscale": [
             [
              0,
              "#0d0887"
             ],
             [
              0.1111111111111111,
              "#46039f"
             ],
             [
              0.2222222222222222,
              "#7201a8"
             ],
             [
              0.3333333333333333,
              "#9c179e"
             ],
             [
              0.4444444444444444,
              "#bd3786"
             ],
             [
              0.5555555555555556,
              "#d8576b"
             ],
             [
              0.6666666666666666,
              "#ed7953"
             ],
             [
              0.7777777777777778,
              "#fb9f3a"
             ],
             [
              0.8888888888888888,
              "#fdca26"
             ],
             [
              1,
              "#f0f921"
             ]
            ],
            "type": "contour"
           }
          ],
          "contourcarpet": [
           {
            "colorbar": {
             "outlinewidth": 0,
             "ticks": ""
            },
            "type": "contourcarpet"
           }
          ],
          "heatmap": [
           {
            "colorbar": {
             "outlinewidth": 0,
             "ticks": ""
            },
            "colorscale": [
             [
              0,
              "#0d0887"
             ],
             [
              0.1111111111111111,
              "#46039f"
             ],
             [
              0.2222222222222222,
              "#7201a8"
             ],
             [
              0.3333333333333333,
              "#9c179e"
             ],
             [
              0.4444444444444444,
              "#bd3786"
             ],
             [
              0.5555555555555556,
              "#d8576b"
             ],
             [
              0.6666666666666666,
              "#ed7953"
             ],
             [
              0.7777777777777778,
              "#fb9f3a"
             ],
             [
              0.8888888888888888,
              "#fdca26"
             ],
             [
              1,
              "#f0f921"
             ]
            ],
            "type": "heatmap"
           }
          ],
          "heatmapgl": [
           {
            "colorbar": {
             "outlinewidth": 0,
             "ticks": ""
            },
            "colorscale": [
             [
              0,
              "#0d0887"
             ],
             [
              0.1111111111111111,
              "#46039f"
             ],
             [
              0.2222222222222222,
              "#7201a8"
             ],
             [
              0.3333333333333333,
              "#9c179e"
             ],
             [
              0.4444444444444444,
              "#bd3786"
             ],
             [
              0.5555555555555556,
              "#d8576b"
             ],
             [
              0.6666666666666666,
              "#ed7953"
             ],
             [
              0.7777777777777778,
              "#fb9f3a"
             ],
             [
              0.8888888888888888,
              "#fdca26"
             ],
             [
              1,
              "#f0f921"
             ]
            ],
            "type": "heatmapgl"
           }
          ],
          "histogram": [
           {
            "marker": {
             "pattern": {
              "fillmode": "overlay",
              "size": 10,
              "solidity": 0.2
             }
            },
            "type": "histogram"
           }
          ],
          "histogram2d": [
           {
            "colorbar": {
             "outlinewidth": 0,
             "ticks": ""
            },
            "colorscale": [
             [
              0,
              "#0d0887"
             ],
             [
              0.1111111111111111,
              "#46039f"
             ],
             [
              0.2222222222222222,
              "#7201a8"
             ],
             [
              0.3333333333333333,
              "#9c179e"
             ],
             [
              0.4444444444444444,
              "#bd3786"
             ],
             [
              0.5555555555555556,
              "#d8576b"
             ],
             [
              0.6666666666666666,
              "#ed7953"
             ],
             [
              0.7777777777777778,
              "#fb9f3a"
             ],
             [
              0.8888888888888888,
              "#fdca26"
             ],
             [
              1,
              "#f0f921"
             ]
            ],
            "type": "histogram2d"
           }
          ],
          "histogram2dcontour": [
           {
            "colorbar": {
             "outlinewidth": 0,
             "ticks": ""
            },
            "colorscale": [
             [
              0,
              "#0d0887"
             ],
             [
              0.1111111111111111,
              "#46039f"
             ],
             [
              0.2222222222222222,
              "#7201a8"
             ],
             [
              0.3333333333333333,
              "#9c179e"
             ],
             [
              0.4444444444444444,
              "#bd3786"
             ],
             [
              0.5555555555555556,
              "#d8576b"
             ],
             [
              0.6666666666666666,
              "#ed7953"
             ],
             [
              0.7777777777777778,
              "#fb9f3a"
             ],
             [
              0.8888888888888888,
              "#fdca26"
             ],
             [
              1,
              "#f0f921"
             ]
            ],
            "type": "histogram2dcontour"
           }
          ],
          "mesh3d": [
           {
            "colorbar": {
             "outlinewidth": 0,
             "ticks": ""
            },
            "type": "mesh3d"
           }
          ],
          "parcoords": [
           {
            "line": {
             "colorbar": {
              "outlinewidth": 0,
              "ticks": ""
             }
            },
            "type": "parcoords"
           }
          ],
          "pie": [
           {
            "automargin": true,
            "type": "pie"
           }
          ],
          "scatter": [
           {
            "marker": {
             "line": {
              "color": "#283442"
             }
            },
            "type": "scatter"
           }
          ],
          "scatter3d": [
           {
            "line": {
             "colorbar": {
              "outlinewidth": 0,
              "ticks": ""
             }
            },
            "marker": {
             "colorbar": {
              "outlinewidth": 0,
              "ticks": ""
             }
            },
            "type": "scatter3d"
           }
          ],
          "scattercarpet": [
           {
            "marker": {
             "colorbar": {
              "outlinewidth": 0,
              "ticks": ""
             }
            },
            "type": "scattercarpet"
           }
          ],
          "scattergeo": [
           {
            "marker": {
             "colorbar": {
              "outlinewidth": 0,
              "ticks": ""
             }
            },
            "type": "scattergeo"
           }
          ],
          "scattergl": [
           {
            "marker": {
             "line": {
              "color": "#283442"
             }
            },
            "type": "scattergl"
           }
          ],
          "scattermapbox": [
           {
            "marker": {
             "colorbar": {
              "outlinewidth": 0,
              "ticks": ""
             }
            },
            "type": "scattermapbox"
           }
          ],
          "scatterpolar": [
           {
            "marker": {
             "colorbar": {
              "outlinewidth": 0,
              "ticks": ""
             }
            },
            "type": "scatterpolar"
           }
          ],
          "scatterpolargl": [
           {
            "marker": {
             "colorbar": {
              "outlinewidth": 0,
              "ticks": ""
             }
            },
            "type": "scatterpolargl"
           }
          ],
          "scatterternary": [
           {
            "marker": {
             "colorbar": {
              "outlinewidth": 0,
              "ticks": ""
             }
            },
            "type": "scatterternary"
           }
          ],
          "surface": [
           {
            "colorbar": {
             "outlinewidth": 0,
             "ticks": ""
            },
            "colorscale": [
             [
              0,
              "#0d0887"
             ],
             [
              0.1111111111111111,
              "#46039f"
             ],
             [
              0.2222222222222222,
              "#7201a8"
             ],
             [
              0.3333333333333333,
              "#9c179e"
             ],
             [
              0.4444444444444444,
              "#bd3786"
             ],
             [
              0.5555555555555556,
              "#d8576b"
             ],
             [
              0.6666666666666666,
              "#ed7953"
             ],
             [
              0.7777777777777778,
              "#fb9f3a"
             ],
             [
              0.8888888888888888,
              "#fdca26"
             ],
             [
              1,
              "#f0f921"
             ]
            ],
            "type": "surface"
           }
          ],
          "table": [
           {
            "cells": {
             "fill": {
              "color": "#506784"
             },
             "line": {
              "color": "rgb(17,17,17)"
             }
            },
            "header": {
             "fill": {
              "color": "#2a3f5f"
             },
             "line": {
              "color": "rgb(17,17,17)"
             }
            },
            "type": "table"
           }
          ]
         },
         "layout": {
          "annotationdefaults": {
           "arrowcolor": "#f2f5fa",
           "arrowhead": 0,
           "arrowwidth": 1
          },
          "autotypenumbers": "strict",
          "coloraxis": {
           "colorbar": {
            "outlinewidth": 0,
            "ticks": ""
           }
          },
          "colorscale": {
           "diverging": [
            [
             0,
             "#8e0152"
            ],
            [
             0.1,
             "#c51b7d"
            ],
            [
             0.2,
             "#de77ae"
            ],
            [
             0.3,
             "#f1b6da"
            ],
            [
             0.4,
             "#fde0ef"
            ],
            [
             0.5,
             "#f7f7f7"
            ],
            [
             0.6,
             "#e6f5d0"
            ],
            [
             0.7,
             "#b8e186"
            ],
            [
             0.8,
             "#7fbc41"
            ],
            [
             0.9,
             "#4d9221"
            ],
            [
             1,
             "#276419"
            ]
           ],
           "sequential": [
            [
             0,
             "#0d0887"
            ],
            [
             0.1111111111111111,
             "#46039f"
            ],
            [
             0.2222222222222222,
             "#7201a8"
            ],
            [
             0.3333333333333333,
             "#9c179e"
            ],
            [
             0.4444444444444444,
             "#bd3786"
            ],
            [
             0.5555555555555556,
             "#d8576b"
            ],
            [
             0.6666666666666666,
             "#ed7953"
            ],
            [
             0.7777777777777778,
             "#fb9f3a"
            ],
            [
             0.8888888888888888,
             "#fdca26"
            ],
            [
             1,
             "#f0f921"
            ]
           ],
           "sequentialminus": [
            [
             0,
             "#0d0887"
            ],
            [
             0.1111111111111111,
             "#46039f"
            ],
            [
             0.2222222222222222,
             "#7201a8"
            ],
            [
             0.3333333333333333,
             "#9c179e"
            ],
            [
             0.4444444444444444,
             "#bd3786"
            ],
            [
             0.5555555555555556,
             "#d8576b"
            ],
            [
             0.6666666666666666,
             "#ed7953"
            ],
            [
             0.7777777777777778,
             "#fb9f3a"
            ],
            [
             0.8888888888888888,
             "#fdca26"
            ],
            [
             1,
             "#f0f921"
            ]
           ]
          },
          "colorway": [
           "#636efa",
           "#EF553B",
           "#00cc96",
           "#ab63fa",
           "#FFA15A",
           "#19d3f3",
           "#FF6692",
           "#B6E880",
           "#FF97FF",
           "#FECB52"
          ],
          "font": {
           "color": "#f2f5fa"
          },
          "geo": {
           "bgcolor": "rgb(17,17,17)",
           "lakecolor": "rgb(17,17,17)",
           "landcolor": "rgb(17,17,17)",
           "showlakes": true,
           "showland": true,
           "subunitcolor": "#506784"
          },
          "hoverlabel": {
           "align": "left"
          },
          "hovermode": "closest",
          "mapbox": {
           "style": "dark"
          },
          "paper_bgcolor": "rgb(17,17,17)",
          "plot_bgcolor": "rgb(17,17,17)",
          "polar": {
           "angularaxis": {
            "gridcolor": "#506784",
            "linecolor": "#506784",
            "ticks": ""
           },
           "bgcolor": "rgb(17,17,17)",
           "radialaxis": {
            "gridcolor": "#506784",
            "linecolor": "#506784",
            "ticks": ""
           }
          },
          "scene": {
           "xaxis": {
            "backgroundcolor": "rgb(17,17,17)",
            "gridcolor": "#506784",
            "gridwidth": 2,
            "linecolor": "#506784",
            "showbackground": true,
            "ticks": "",
            "zerolinecolor": "#C8D4E3"
           },
           "yaxis": {
            "backgroundcolor": "rgb(17,17,17)",
            "gridcolor": "#506784",
            "gridwidth": 2,
            "linecolor": "#506784",
            "showbackground": true,
            "ticks": "",
            "zerolinecolor": "#C8D4E3"
           },
           "zaxis": {
            "backgroundcolor": "rgb(17,17,17)",
            "gridcolor": "#506784",
            "gridwidth": 2,
            "linecolor": "#506784",
            "showbackground": true,
            "ticks": "",
            "zerolinecolor": "#C8D4E3"
           }
          },
          "shapedefaults": {
           "line": {
            "color": "#f2f5fa"
           }
          },
          "sliderdefaults": {
           "bgcolor": "#C8D4E3",
           "bordercolor": "rgb(17,17,17)",
           "borderwidth": 1,
           "tickwidth": 0
          },
          "ternary": {
           "aaxis": {
            "gridcolor": "#506784",
            "linecolor": "#506784",
            "ticks": ""
           },
           "baxis": {
            "gridcolor": "#506784",
            "linecolor": "#506784",
            "ticks": ""
           },
           "bgcolor": "rgb(17,17,17)",
           "caxis": {
            "gridcolor": "#506784",
            "linecolor": "#506784",
            "ticks": ""
           }
          },
          "title": {
           "x": 0.05
          },
          "updatemenudefaults": {
           "bgcolor": "#506784",
           "borderwidth": 0
          },
          "xaxis": {
           "automargin": true,
           "gridcolor": "#283442",
           "linecolor": "#506784",
           "ticks": "",
           "title": {
            "standoff": 15
           },
           "zerolinecolor": "#283442",
           "zerolinewidth": 2
          },
          "yaxis": {
           "automargin": true,
           "gridcolor": "#283442",
           "linecolor": "#506784",
           "ticks": "",
           "title": {
            "standoff": 15
           },
           "zerolinecolor": "#283442",
           "zerolinewidth": 2
          }
         }
        },
        "title": {
         "text": "Average Sale Price by LandContour"
        },
        "xaxis": {
         "anchor": "y",
         "domain": [
          0,
          1
         ],
         "title": {
          "text": "Contour Prices"
         }
        },
        "yaxis": {
         "anchor": "x",
         "domain": [
          0,
          1
         ],
         "tickformat": ",",
         "tickprefix": "$",
         "title": {
          "text": "Sale Price"
         }
        }
       }
      }
     },
     "metadata": {},
     "output_type": "display_data"
    }
   ],
   "source": [
    "# TODO countour_prices\n",
    "contour_prices = df.groupby('LandContour')['SalePrice'].mean()\n",
    "fig8 = px.bar(x=shape_prices.index, y=shape_prices.values, title='Average Sale Price by LandContour',\n",
    "              template='plotly_dark', text=contour_prices.values)\n",
    "\n",
    "fig8.update_traces(marker_color=colors, texttemplate='$%{text:,.0f}', textposition='outside')\n",
    "fig8.update_yaxes(title='Sale Price', tickprefix='$', tickformat=',')\n",
    "fig8.update_xaxes(title='Contour Prices')\n",
    "fig8.update_layout(showlegend=False)\n"
   ]
  },
  {
   "cell_type": "code",
   "execution_count": null,
   "metadata": {},
   "outputs": [
    {
     "data": {
      "text/html": [
       "<div>\n",
       "<style scoped>\n",
       "    .dataframe tbody tr th:only-of-type {\n",
       "        vertical-align: middle;\n",
       "    }\n",
       "\n",
       "    .dataframe tbody tr th {\n",
       "        vertical-align: top;\n",
       "    }\n",
       "\n",
       "    .dataframe thead th {\n",
       "        text-align: right;\n",
       "    }\n",
       "</style>\n",
       "<table border=\"1\" class=\"dataframe\">\n",
       "  <thead>\n",
       "    <tr style=\"text-align: right;\">\n",
       "      <th></th>\n",
       "      <th>0</th>\n",
       "      <th>1</th>\n",
       "      <th>2</th>\n",
       "      <th>3</th>\n",
       "      <th>4</th>\n",
       "      <th>5</th>\n",
       "      <th>6</th>\n",
       "      <th>7</th>\n",
       "      <th>8</th>\n",
       "      <th>9</th>\n",
       "      <th>...</th>\n",
       "      <th>1450</th>\n",
       "      <th>1451</th>\n",
       "      <th>1452</th>\n",
       "      <th>1453</th>\n",
       "      <th>1454</th>\n",
       "      <th>1455</th>\n",
       "      <th>1456</th>\n",
       "      <th>1457</th>\n",
       "      <th>1458</th>\n",
       "      <th>1459</th>\n",
       "    </tr>\n",
       "  </thead>\n",
       "  <tbody>\n",
       "    <tr>\n",
       "      <th>YearBuilt</th>\n",
       "      <td>2003</td>\n",
       "      <td>1976</td>\n",
       "      <td>2001</td>\n",
       "      <td>1915</td>\n",
       "      <td>2000</td>\n",
       "      <td>1993</td>\n",
       "      <td>2004</td>\n",
       "      <td>1973</td>\n",
       "      <td>1931</td>\n",
       "      <td>1939</td>\n",
       "      <td>...</td>\n",
       "      <td>1974</td>\n",
       "      <td>2008</td>\n",
       "      <td>2005</td>\n",
       "      <td>2006</td>\n",
       "      <td>2004</td>\n",
       "      <td>1999</td>\n",
       "      <td>1978</td>\n",
       "      <td>1941</td>\n",
       "      <td>1950</td>\n",
       "      <td>1965</td>\n",
       "    </tr>\n",
       "    <tr>\n",
       "      <th>YrSold</th>\n",
       "      <td>2008</td>\n",
       "      <td>2007</td>\n",
       "      <td>2008</td>\n",
       "      <td>2006</td>\n",
       "      <td>2008</td>\n",
       "      <td>2009</td>\n",
       "      <td>2007</td>\n",
       "      <td>2009</td>\n",
       "      <td>2008</td>\n",
       "      <td>2008</td>\n",
       "      <td>...</td>\n",
       "      <td>2009</td>\n",
       "      <td>2009</td>\n",
       "      <td>2006</td>\n",
       "      <td>2006</td>\n",
       "      <td>2009</td>\n",
       "      <td>2007</td>\n",
       "      <td>2010</td>\n",
       "      <td>2010</td>\n",
       "      <td>2010</td>\n",
       "      <td>2008</td>\n",
       "    </tr>\n",
       "  </tbody>\n",
       "</table>\n",
       "<p>2 rows × 1460 columns</p>\n",
       "</div>"
      ],
      "text/plain": [
       "           0     1     2     3     4     5     6     7     8     9     ...  \\\n",
       "YearBuilt  2003  1976  2001  1915  2000  1993  2004  1973  1931  1939  ...   \n",
       "YrSold     2008  2007  2008  2006  2008  2009  2007  2009  2008  2008  ...   \n",
       "\n",
       "           1450  1451  1452  1453  1454  1455  1456  1457  1458  1459  \n",
       "YearBuilt  1974  2008  2005  2006  2004  1999  1978  1941  1950  1965  \n",
       "YrSold     2009  2009  2006  2006  2009  2007  2010  2010  2010  2008  \n",
       "\n",
       "[2 rows x 1460 columns]"
      ]
     },
     "execution_count": 34,
     "metadata": {},
     "output_type": "execute_result"
    }
   ],
   "source": [
    "age_df = pd.DataFrame([df['YearBuilt'], df['YrSold']])\n",
    "age_df"
   ]
  },
  {
   "cell_type": "code",
   "execution_count": null,
   "metadata": {},
   "outputs": [
    {
     "data": {
      "application/vnd.plotly.v1+json": {
       "config": {
        "plotlyServerURL": "https://plot.ly"
       },
       "data": [
        {
         "hovertemplate": "PropertyAge=%{marker.color}<br>SalePrice=%{y}<extra></extra>",
         "legendgroup": "",
         "marker": {
          "color": [
           5,
           31,
           7,
           91,
           8,
           16,
           3,
           36,
           77,
           69,
           43,
           1,
           46,
           1,
           48,
           78,
           40,
           39,
           4,
           51,
           1,
           77,
           6,
           31,
           42,
           2,
           59,
           3,
           49,
           81,
           88,
           42,
           1,
           51,
           2,
           2,
           15,
           55,
           57,
           53,
           41,
           48,
           24,
           33,
           47,
           5,
           6,
           1,
           89,
           41,
           10,
           72,
           47,
           25,
           52,
           44,
           10,
           2,
           0,
           36,
           2,
           87,
           1,
           89,
           12,
           3,
           40,
           4,
           65,
           53,
           34,
           25,
           11,
           56,
           95,
           36,
           52,
           60,
           42,
           99,
           41,
           8,
           1,
           47,
           14,
           15,
           4,
           0,
           94,
           13,
           56,
           45,
           88,
           97,
           10,
           16,
           7,
           42,
           90,
           51,
           33,
           25,
           30,
           1,
           76,
           5,
           122,
           60,
           88,
           33,
           52,
           10,
           0,
           54,
           62,
           8,
           47,
           1,
           20,
           1,
           37,
           68,
           50,
           15,
           30,
           71,
           31,
           77,
           40,
           48,
           40,
           9,
           48,
           8,
           38,
           38,
           40,
           18,
           9,
           12,
           39,
           1,
           58,
           10,
           43,
           2,
           78,
           9,
           4,
           70,
           32,
           1,
           35,
           48,
           83,
           84,
           56,
           1,
           6,
           1,
           24,
           5,
           5,
           51,
           81,
           68,
           54,
           0,
           3,
           25,
           66,
           50,
           19,
           47,
           22,
           57,
           19,
           48,
           1,
           84,
           7,
           86,
           50,
           5,
           98,
           114,
           19,
           93,
           30,
           7,
           75,
           35,
           10,
           2,
           36,
           33,
           0,
           88,
           97,
           5,
           7,
           31,
           82,
           4,
           62,
           19,
           45,
           48,
           19,
           44,
           83,
           1,
           0,
           11,
           33,
           49,
           4,
           81,
           69,
           1,
           0,
           7,
           31,
           38,
           6,
           38,
           12,
           38,
           43,
           4,
           51,
           14,
           34,
           34,
           8,
           37,
           6,
           17,
           0,
           65,
           2,
           62,
           106,
           29,
           16,
           18,
           96,
           52,
           4,
           49,
           70,
           1,
           4,
           43,
           53,
           7,
           5,
           3,
           7,
           52,
           47,
           0,
           29,
           81,
           83,
           27,
           9,
           69,
           68,
           31,
           0,
           54,
           11,
           51,
           25,
           84,
           7,
           59,
           1,
           31,
           18,
           0,
           2,
           1,
           15,
           1,
           44,
           35,
           43,
           92,
           0,
           96,
           60,
           29,
           56,
           22,
           57,
           10,
           39,
           59,
           53,
           9,
           5,
           34,
           128,
           3,
           17,
           88,
           69,
           3,
           13,
           61,
           67,
           44,
           81,
           5,
           29,
           1,
           16,
           29,
           0,
           3,
           21,
           51,
           43,
           66,
           15,
           46,
           93,
           89,
           43,
           49,
           6,
           4,
           10,
           43,
           2,
           6,
           22,
           51,
           8,
           59,
           57,
           3,
           34,
           67,
           47,
           49,
           5,
           1,
           0,
           20,
           67,
           82,
           66,
           12,
           17,
           31,
           48,
           8,
           29,
           68,
           6,
           37,
           30,
           89,
           46,
           46,
           56,
           51,
           6,
           49,
           26,
           56,
           4,
           87,
           10,
           3,
           0,
           9,
           86,
           0,
           1,
           81,
           15,
           6,
           96,
           33,
           9,
           1,
           108,
           8,
           48,
           65,
           67,
           54,
           37,
           45,
           87,
           3,
           12,
           1,
           68,
           8,
           12,
           33,
           72,
           93,
           1,
           1,
           51,
           51,
           1,
           83,
           15,
           0,
           28,
           89,
           67,
           42,
           11,
           32,
           54,
           10,
           52,
           63,
           20,
           51,
           0,
           21,
           37,
           88,
           36,
           11,
           36,
           13,
           86,
           83,
           94,
           89,
           1,
           53,
           78,
           1,
           14,
           53,
           44,
           8,
           69,
           59,
           76,
           31,
           11,
           1,
           30,
           34,
           92,
           54,
           83,
           59,
           0,
           73,
           44,
           74,
           31,
           2,
           37,
           65,
           1,
           15,
           25,
           30,
           3,
           1,
           7,
           44,
           11,
           1,
           2,
           70,
           2,
           3,
           94,
           8,
           45,
           59,
           42,
           36,
           106,
           39,
           32,
           65,
           0,
           48,
           71,
           89,
           15,
           83,
           42,
           49,
           34,
           3,
           42,
           51,
           35,
           57,
           13,
           0,
           80,
           50,
           58,
           1,
           48,
           24,
           81,
           0,
           37,
           13,
           9,
           83,
           108,
           50,
           59,
           0,
           11,
           1,
           51,
           0,
           87,
           50,
           20,
           88,
           55,
           61,
           2,
           98,
           10,
           36,
           38,
           9,
           3,
           7,
           11,
           9,
           0,
           18,
           84,
           37,
           53,
           6,
           31,
           51,
           3,
           60,
           5,
           84,
           49,
           86,
           12,
           3,
           53,
           32,
           68,
           90,
           14,
           95,
           3,
           6,
           26,
           27,
           43,
           47,
           0,
           7,
           36,
           61,
           81,
           40,
           1,
           54,
           47,
           1,
           17,
           115,
           74,
           1,
           90,
           27,
           41,
           78,
           4,
           1,
           26,
           6,
           33,
           1,
           96,
           1,
           29,
           28,
           1,
           70,
           14,
           6,
           6,
           44,
           13,
           58,
           73,
           46,
           9,
           29,
           8,
           0,
           38,
           47,
           4,
           54,
           0,
           5,
           94,
           34,
           32,
           7,
           34,
           48,
           47,
           55,
           38,
           44,
           126,
           1,
           32,
           53,
           30,
           93,
           73,
           55,
           98,
           0,
           5,
           6,
           37,
           38,
           0,
           36,
           58,
           55,
           44,
           37,
           1,
           69,
           13,
           102,
           13,
           39,
           49,
           77,
           62,
           45,
           31,
           15,
           41,
           36,
           1,
           6,
           42,
           14,
           50,
           84,
           4,
           84,
           29,
           50,
           43,
           31,
           106,
           85,
           1,
           46,
           30,
           77,
           12,
           5,
           12,
           23,
           0,
           3,
           0,
           2,
           4,
           13,
           17,
           85,
           73,
           19,
           85,
           54,
           45,
           4,
           4,
           37,
           0,
           110,
           6,
           80,
           36,
           3,
           0,
           42,
           73,
           110,
           20,
           36,
           34,
           35,
           117,
           35,
           15,
           37,
           21,
           6,
           39,
           54,
           2,
           39,
           21,
           2,
           51,
           84,
           15,
           4,
           10,
           48,
           39,
           92,
           56,
           1,
           22,
           5,
           97,
           47,
           7,
           46,
           15,
           32,
           9,
           129,
           14,
           64,
           100,
           4,
           9,
           1,
           40,
           10,
           2,
           32,
           9,
           12,
           50,
           85,
           1,
           10,
           11,
           0,
           22,
           68,
           2,
           7,
           27,
           55,
           34,
           49,
           1,
           11,
           1,
           32,
           30,
           29,
           12,
           14,
           8,
           31,
           94,
           42,
           95,
           6,
           54,
           41,
           4,
           31,
           11,
           0,
           14,
           30,
           30,
           55,
           1,
           70,
           11,
           91,
           3,
           1,
           52,
           0,
           39,
           86,
           40,
           111,
           32,
           4,
           58,
           49,
           88,
           12,
           52,
           6,
           39,
           1,
           5,
           56,
           4,
           69,
           0,
           1,
           84,
           8,
           42,
           1,
           51,
           1,
           7,
           45,
           47,
           60,
           59,
           35,
           13,
           62,
           83,
           104,
           42,
           46,
           93,
           32,
           16,
           37,
           100,
           31,
           4,
           3,
           66,
           45,
           51,
           48,
           30,
           15,
           33,
           38,
           89,
           45,
           26,
           50,
           1,
           39,
           1,
           46,
           58,
           17,
           47,
           12,
           55,
           60,
           68,
           0,
           44,
           5,
           49,
           31,
           2,
           17,
           17,
           94,
           42,
           9,
           47,
           53,
           37,
           56,
           58,
           31,
           43,
           54,
           30,
           45,
           70,
           30,
           1,
           45,
           36,
           52,
           3,
           0,
           40,
           56,
           1,
           70,
           23,
           4,
           50,
           32,
           81,
           58,
           0,
           37,
           57,
           53,
           16,
           50,
           13,
           108,
           1,
           15,
           26,
           31,
           4,
           40,
           8,
           9,
           2,
           44,
           1,
           5,
           48,
           80,
           6,
           4,
           0,
           70,
           30,
           10,
           30,
           40,
           51,
           119,
           47,
           5,
           4,
           38,
           57,
           41,
           37,
           39,
           31,
           61,
           29,
           45,
           4,
           11,
           52,
           31,
           31,
           2,
           8,
           2,
           69,
           53,
           99,
           48,
           57,
           6,
           31,
           1,
           99,
           6,
           83,
           1,
           53,
           46,
           47,
           11,
           1,
           6,
           32,
           58,
           96,
           1,
           31,
           0,
           9,
           127,
           43,
           1,
           3,
           60,
           45,
           39,
           84,
           4,
           57,
           87,
           2,
           31,
           4,
           31,
           37,
           39,
           5,
           80,
           60,
           45,
           84,
           99,
           59,
           8,
           13,
           25,
           16,
           1,
           3,
           0,
           77,
           3,
           32,
           35,
           50,
           1,
           66,
           34,
           90,
           89,
           13,
           4,
           69,
           52,
           2,
           7,
           39,
           39,
           49,
           42,
           4,
           18,
           28,
           54,
           1,
           14,
           49,
           64,
           0,
           0,
           43,
           53,
           4,
           32,
           1,
           15,
           1,
           75,
           9,
           73,
           107,
           81,
           43,
           14,
           16,
           44,
           33,
           58,
           51,
           41,
           58,
           32,
           1,
           67,
           70,
           37,
           2,
           13,
           37,
           47,
           5,
           42,
           11,
           18,
           37,
           4,
           2,
           1,
           59,
           9,
           83,
           41,
           54,
           1,
           93,
           21,
           73,
           31,
           89,
           36,
           47,
           47,
           37,
           16,
           17,
           0,
           7,
           5,
           13,
           32,
           49,
           54,
           52,
           0,
           7,
           41,
           50,
           47,
           87,
           1,
           53,
           62,
           15,
           54,
           2,
           3,
           3,
           27,
           81,
           16,
           127,
           14,
           10,
           81,
           58,
           135,
           32,
           87,
           57,
           33,
           1,
           49,
           69,
           78,
           21,
           68,
           82,
           89,
           57,
           47,
           50,
           78,
           43,
           31,
           43,
           2,
           1,
           34,
           32,
           54,
           39,
           39,
           29,
           0,
           2,
           6,
           73,
           11,
           31,
           50,
           2,
           61,
           74,
           15,
           24,
           83,
           88,
           52,
           16,
           0,
           11,
           86,
           44,
           82,
           109,
           12,
           7,
           11,
           46,
           8,
           82,
           10,
           41,
           3,
           0,
           90,
           8,
           43,
           36,
           11,
           84,
           9,
           31,
           19,
           40,
           3,
           46,
           0,
           18,
           22,
           68,
           41,
           44,
           41,
           32,
           0,
           59,
           35,
           42,
           40,
           58,
           55,
           4,
           49,
           1,
           43,
           0,
           48,
           30,
           44,
           45,
           51,
           97,
           92,
           7,
           2,
           1,
           1,
           5,
           0,
           36,
           0,
           77,
           23,
           1,
           34,
           91,
           57,
           42,
           3,
           41,
           33,
           5,
           76,
           14,
           87,
           3,
           39,
           10,
           53,
           52,
           88,
           10,
           7,
           97,
           2,
           73,
           49,
           31,
           41,
           41,
           49,
           97,
           59,
           37,
           42,
           6,
           90,
           7,
           16,
           32,
           39,
           91,
           70,
           47,
           42,
           9,
           0,
           46,
           37,
           117,
           30,
           51,
           38,
           45,
           1,
           0,
           51,
           10,
           67,
           12,
           1,
           2,
           3,
           1,
           15,
           60,
           17,
           51,
           2,
           17,
           11,
           53,
           39,
           1,
           1,
           5,
           53,
           52,
           59,
           18,
           69,
           1,
           86,
           76,
           26,
           88,
           8,
           1,
           30,
           71,
           68,
           39,
           32,
           35,
           65,
           4,
           34,
           36,
           5,
           5,
           81,
           1,
           87,
           38,
           1,
           9,
           136,
           40,
           46,
           72,
           15,
           8,
           38,
           42,
           39,
           10,
           2,
           87,
           4,
           89,
           1,
           1,
           10,
           9,
           29,
           6,
           7,
           89,
           53,
           8,
           6,
           3,
           0,
           78,
           68,
           33,
           2,
           96,
           38,
           86,
           89,
           70,
           88,
           28,
           91,
           3,
           66,
           6,
           42,
           39,
           103,
           0,
           2,
           62,
           87,
           59,
           84,
           79,
           4,
           0,
           0,
           91,
           4,
           37,
           24,
           100,
           22,
           8,
           59,
           60,
           4,
           85,
           2,
           125,
           11,
           45,
           37,
           38,
           33,
           5,
           40,
           49,
           49,
           14,
           63,
           70,
           26,
           1,
           33,
           80,
           8,
           29,
           46,
           36,
           0,
           53,
           28,
           86,
           4,
           1,
           93,
           3,
           41,
           48,
           12,
           97,
           36,
           35,
           1,
           1,
           0,
           5,
           8,
           32,
           69,
           60,
           43
          ],
          "coloraxis": "coloraxis",
          "symbol": "circle"
         },
         "mode": "markers",
         "name": "",
         "showlegend": false,
         "type": "scattergl",
         "x": [
          5,
          31,
          7,
          91,
          8,
          16,
          3,
          36,
          77,
          69,
          43,
          1,
          46,
          1,
          48,
          78,
          40,
          39,
          4,
          51,
          1,
          77,
          6,
          31,
          42,
          2,
          59,
          3,
          49,
          81,
          88,
          42,
          1,
          51,
          2,
          2,
          15,
          55,
          57,
          53,
          41,
          48,
          24,
          33,
          47,
          5,
          6,
          1,
          89,
          41,
          10,
          72,
          47,
          25,
          52,
          44,
          10,
          2,
          0,
          36,
          2,
          87,
          1,
          89,
          12,
          3,
          40,
          4,
          65,
          53,
          34,
          25,
          11,
          56,
          95,
          36,
          52,
          60,
          42,
          99,
          41,
          8,
          1,
          47,
          14,
          15,
          4,
          0,
          94,
          13,
          56,
          45,
          88,
          97,
          10,
          16,
          7,
          42,
          90,
          51,
          33,
          25,
          30,
          1,
          76,
          5,
          122,
          60,
          88,
          33,
          52,
          10,
          0,
          54,
          62,
          8,
          47,
          1,
          20,
          1,
          37,
          68,
          50,
          15,
          30,
          71,
          31,
          77,
          40,
          48,
          40,
          9,
          48,
          8,
          38,
          38,
          40,
          18,
          9,
          12,
          39,
          1,
          58,
          10,
          43,
          2,
          78,
          9,
          4,
          70,
          32,
          1,
          35,
          48,
          83,
          84,
          56,
          1,
          6,
          1,
          24,
          5,
          5,
          51,
          81,
          68,
          54,
          0,
          3,
          25,
          66,
          50,
          19,
          47,
          22,
          57,
          19,
          48,
          1,
          84,
          7,
          86,
          50,
          5,
          98,
          114,
          19,
          93,
          30,
          7,
          75,
          35,
          10,
          2,
          36,
          33,
          0,
          88,
          97,
          5,
          7,
          31,
          82,
          4,
          62,
          19,
          45,
          48,
          19,
          44,
          83,
          1,
          0,
          11,
          33,
          49,
          4,
          81,
          69,
          1,
          0,
          7,
          31,
          38,
          6,
          38,
          12,
          38,
          43,
          4,
          51,
          14,
          34,
          34,
          8,
          37,
          6,
          17,
          0,
          65,
          2,
          62,
          106,
          29,
          16,
          18,
          96,
          52,
          4,
          49,
          70,
          1,
          4,
          43,
          53,
          7,
          5,
          3,
          7,
          52,
          47,
          0,
          29,
          81,
          83,
          27,
          9,
          69,
          68,
          31,
          0,
          54,
          11,
          51,
          25,
          84,
          7,
          59,
          1,
          31,
          18,
          0,
          2,
          1,
          15,
          1,
          44,
          35,
          43,
          92,
          0,
          96,
          60,
          29,
          56,
          22,
          57,
          10,
          39,
          59,
          53,
          9,
          5,
          34,
          128,
          3,
          17,
          88,
          69,
          3,
          13,
          61,
          67,
          44,
          81,
          5,
          29,
          1,
          16,
          29,
          0,
          3,
          21,
          51,
          43,
          66,
          15,
          46,
          93,
          89,
          43,
          49,
          6,
          4,
          10,
          43,
          2,
          6,
          22,
          51,
          8,
          59,
          57,
          3,
          34,
          67,
          47,
          49,
          5,
          1,
          0,
          20,
          67,
          82,
          66,
          12,
          17,
          31,
          48,
          8,
          29,
          68,
          6,
          37,
          30,
          89,
          46,
          46,
          56,
          51,
          6,
          49,
          26,
          56,
          4,
          87,
          10,
          3,
          0,
          9,
          86,
          0,
          1,
          81,
          15,
          6,
          96,
          33,
          9,
          1,
          108,
          8,
          48,
          65,
          67,
          54,
          37,
          45,
          87,
          3,
          12,
          1,
          68,
          8,
          12,
          33,
          72,
          93,
          1,
          1,
          51,
          51,
          1,
          83,
          15,
          0,
          28,
          89,
          67,
          42,
          11,
          32,
          54,
          10,
          52,
          63,
          20,
          51,
          0,
          21,
          37,
          88,
          36,
          11,
          36,
          13,
          86,
          83,
          94,
          89,
          1,
          53,
          78,
          1,
          14,
          53,
          44,
          8,
          69,
          59,
          76,
          31,
          11,
          1,
          30,
          34,
          92,
          54,
          83,
          59,
          0,
          73,
          44,
          74,
          31,
          2,
          37,
          65,
          1,
          15,
          25,
          30,
          3,
          1,
          7,
          44,
          11,
          1,
          2,
          70,
          2,
          3,
          94,
          8,
          45,
          59,
          42,
          36,
          106,
          39,
          32,
          65,
          0,
          48,
          71,
          89,
          15,
          83,
          42,
          49,
          34,
          3,
          42,
          51,
          35,
          57,
          13,
          0,
          80,
          50,
          58,
          1,
          48,
          24,
          81,
          0,
          37,
          13,
          9,
          83,
          108,
          50,
          59,
          0,
          11,
          1,
          51,
          0,
          87,
          50,
          20,
          88,
          55,
          61,
          2,
          98,
          10,
          36,
          38,
          9,
          3,
          7,
          11,
          9,
          0,
          18,
          84,
          37,
          53,
          6,
          31,
          51,
          3,
          60,
          5,
          84,
          49,
          86,
          12,
          3,
          53,
          32,
          68,
          90,
          14,
          95,
          3,
          6,
          26,
          27,
          43,
          47,
          0,
          7,
          36,
          61,
          81,
          40,
          1,
          54,
          47,
          1,
          17,
          115,
          74,
          1,
          90,
          27,
          41,
          78,
          4,
          1,
          26,
          6,
          33,
          1,
          96,
          1,
          29,
          28,
          1,
          70,
          14,
          6,
          6,
          44,
          13,
          58,
          73,
          46,
          9,
          29,
          8,
          0,
          38,
          47,
          4,
          54,
          0,
          5,
          94,
          34,
          32,
          7,
          34,
          48,
          47,
          55,
          38,
          44,
          126,
          1,
          32,
          53,
          30,
          93,
          73,
          55,
          98,
          0,
          5,
          6,
          37,
          38,
          0,
          36,
          58,
          55,
          44,
          37,
          1,
          69,
          13,
          102,
          13,
          39,
          49,
          77,
          62,
          45,
          31,
          15,
          41,
          36,
          1,
          6,
          42,
          14,
          50,
          84,
          4,
          84,
          29,
          50,
          43,
          31,
          106,
          85,
          1,
          46,
          30,
          77,
          12,
          5,
          12,
          23,
          0,
          3,
          0,
          2,
          4,
          13,
          17,
          85,
          73,
          19,
          85,
          54,
          45,
          4,
          4,
          37,
          0,
          110,
          6,
          80,
          36,
          3,
          0,
          42,
          73,
          110,
          20,
          36,
          34,
          35,
          117,
          35,
          15,
          37,
          21,
          6,
          39,
          54,
          2,
          39,
          21,
          2,
          51,
          84,
          15,
          4,
          10,
          48,
          39,
          92,
          56,
          1,
          22,
          5,
          97,
          47,
          7,
          46,
          15,
          32,
          9,
          129,
          14,
          64,
          100,
          4,
          9,
          1,
          40,
          10,
          2,
          32,
          9,
          12,
          50,
          85,
          1,
          10,
          11,
          0,
          22,
          68,
          2,
          7,
          27,
          55,
          34,
          49,
          1,
          11,
          1,
          32,
          30,
          29,
          12,
          14,
          8,
          31,
          94,
          42,
          95,
          6,
          54,
          41,
          4,
          31,
          11,
          0,
          14,
          30,
          30,
          55,
          1,
          70,
          11,
          91,
          3,
          1,
          52,
          0,
          39,
          86,
          40,
          111,
          32,
          4,
          58,
          49,
          88,
          12,
          52,
          6,
          39,
          1,
          5,
          56,
          4,
          69,
          0,
          1,
          84,
          8,
          42,
          1,
          51,
          1,
          7,
          45,
          47,
          60,
          59,
          35,
          13,
          62,
          83,
          104,
          42,
          46,
          93,
          32,
          16,
          37,
          100,
          31,
          4,
          3,
          66,
          45,
          51,
          48,
          30,
          15,
          33,
          38,
          89,
          45,
          26,
          50,
          1,
          39,
          1,
          46,
          58,
          17,
          47,
          12,
          55,
          60,
          68,
          0,
          44,
          5,
          49,
          31,
          2,
          17,
          17,
          94,
          42,
          9,
          47,
          53,
          37,
          56,
          58,
          31,
          43,
          54,
          30,
          45,
          70,
          30,
          1,
          45,
          36,
          52,
          3,
          0,
          40,
          56,
          1,
          70,
          23,
          4,
          50,
          32,
          81,
          58,
          0,
          37,
          57,
          53,
          16,
          50,
          13,
          108,
          1,
          15,
          26,
          31,
          4,
          40,
          8,
          9,
          2,
          44,
          1,
          5,
          48,
          80,
          6,
          4,
          0,
          70,
          30,
          10,
          30,
          40,
          51,
          119,
          47,
          5,
          4,
          38,
          57,
          41,
          37,
          39,
          31,
          61,
          29,
          45,
          4,
          11,
          52,
          31,
          31,
          2,
          8,
          2,
          69,
          53,
          99,
          48,
          57,
          6,
          31,
          1,
          99,
          6,
          83,
          1,
          53,
          46,
          47,
          11,
          1,
          6,
          32,
          58,
          96,
          1,
          31,
          0,
          9,
          127,
          43,
          1,
          3,
          60,
          45,
          39,
          84,
          4,
          57,
          87,
          2,
          31,
          4,
          31,
          37,
          39,
          5,
          80,
          60,
          45,
          84,
          99,
          59,
          8,
          13,
          25,
          16,
          1,
          3,
          0,
          77,
          3,
          32,
          35,
          50,
          1,
          66,
          34,
          90,
          89,
          13,
          4,
          69,
          52,
          2,
          7,
          39,
          39,
          49,
          42,
          4,
          18,
          28,
          54,
          1,
          14,
          49,
          64,
          0,
          0,
          43,
          53,
          4,
          32,
          1,
          15,
          1,
          75,
          9,
          73,
          107,
          81,
          43,
          14,
          16,
          44,
          33,
          58,
          51,
          41,
          58,
          32,
          1,
          67,
          70,
          37,
          2,
          13,
          37,
          47,
          5,
          42,
          11,
          18,
          37,
          4,
          2,
          1,
          59,
          9,
          83,
          41,
          54,
          1,
          93,
          21,
          73,
          31,
          89,
          36,
          47,
          47,
          37,
          16,
          17,
          0,
          7,
          5,
          13,
          32,
          49,
          54,
          52,
          0,
          7,
          41,
          50,
          47,
          87,
          1,
          53,
          62,
          15,
          54,
          2,
          3,
          3,
          27,
          81,
          16,
          127,
          14,
          10,
          81,
          58,
          135,
          32,
          87,
          57,
          33,
          1,
          49,
          69,
          78,
          21,
          68,
          82,
          89,
          57,
          47,
          50,
          78,
          43,
          31,
          43,
          2,
          1,
          34,
          32,
          54,
          39,
          39,
          29,
          0,
          2,
          6,
          73,
          11,
          31,
          50,
          2,
          61,
          74,
          15,
          24,
          83,
          88,
          52,
          16,
          0,
          11,
          86,
          44,
          82,
          109,
          12,
          7,
          11,
          46,
          8,
          82,
          10,
          41,
          3,
          0,
          90,
          8,
          43,
          36,
          11,
          84,
          9,
          31,
          19,
          40,
          3,
          46,
          0,
          18,
          22,
          68,
          41,
          44,
          41,
          32,
          0,
          59,
          35,
          42,
          40,
          58,
          55,
          4,
          49,
          1,
          43,
          0,
          48,
          30,
          44,
          45,
          51,
          97,
          92,
          7,
          2,
          1,
          1,
          5,
          0,
          36,
          0,
          77,
          23,
          1,
          34,
          91,
          57,
          42,
          3,
          41,
          33,
          5,
          76,
          14,
          87,
          3,
          39,
          10,
          53,
          52,
          88,
          10,
          7,
          97,
          2,
          73,
          49,
          31,
          41,
          41,
          49,
          97,
          59,
          37,
          42,
          6,
          90,
          7,
          16,
          32,
          39,
          91,
          70,
          47,
          42,
          9,
          0,
          46,
          37,
          117,
          30,
          51,
          38,
          45,
          1,
          0,
          51,
          10,
          67,
          12,
          1,
          2,
          3,
          1,
          15,
          60,
          17,
          51,
          2,
          17,
          11,
          53,
          39,
          1,
          1,
          5,
          53,
          52,
          59,
          18,
          69,
          1,
          86,
          76,
          26,
          88,
          8,
          1,
          30,
          71,
          68,
          39,
          32,
          35,
          65,
          4,
          34,
          36,
          5,
          5,
          81,
          1,
          87,
          38,
          1,
          9,
          136,
          40,
          46,
          72,
          15,
          8,
          38,
          42,
          39,
          10,
          2,
          87,
          4,
          89,
          1,
          1,
          10,
          9,
          29,
          6,
          7,
          89,
          53,
          8,
          6,
          3,
          0,
          78,
          68,
          33,
          2,
          96,
          38,
          86,
          89,
          70,
          88,
          28,
          91,
          3,
          66,
          6,
          42,
          39,
          103,
          0,
          2,
          62,
          87,
          59,
          84,
          79,
          4,
          0,
          0,
          91,
          4,
          37,
          24,
          100,
          22,
          8,
          59,
          60,
          4,
          85,
          2,
          125,
          11,
          45,
          37,
          38,
          33,
          5,
          40,
          49,
          49,
          14,
          63,
          70,
          26,
          1,
          33,
          80,
          8,
          29,
          46,
          36,
          0,
          53,
          28,
          86,
          4,
          1,
          93,
          3,
          41,
          48,
          12,
          97,
          36,
          35,
          1,
          1,
          0,
          5,
          8,
          32,
          69,
          60,
          43
         ],
         "xaxis": "x",
         "y": [
          208500,
          181500,
          223500,
          140000,
          250000,
          143000,
          307000,
          200000,
          129900,
          118000,
          129500,
          345000,
          144000,
          279500,
          157000,
          132000,
          149000,
          90000,
          159000,
          139000,
          325300,
          139400,
          230000,
          129900,
          154000,
          256300,
          134800,
          306000,
          207500,
          68500,
          40000,
          149350,
          179900,
          165500,
          277500,
          309000,
          145000,
          153000,
          109000,
          82000,
          160000,
          170000,
          144000,
          130250,
          141000,
          319900,
          239686,
          249700,
          113000,
          127000,
          177000,
          114500,
          110000,
          385000,
          130000,
          180500,
          172500,
          196500,
          438780,
          124900,
          158000,
          101000,
          202500,
          140000,
          219500,
          317000,
          180000,
          226000,
          80000,
          225000,
          244000,
          129500,
          185000,
          144900,
          107400,
          91000,
          135750,
          127000,
          136500,
          110000,
          193500,
          153500,
          245000,
          126500,
          168500,
          260000,
          174000,
          164500,
          85000,
          123600,
          109900,
          98600,
          163500,
          133900,
          204750,
          185000,
          214000,
          94750,
          83000,
          128950,
          205000,
          178000,
          118964,
          198900,
          169500,
          250000,
          100000,
          115000,
          115000,
          190000,
          136900,
          180000,
          383970,
          217000,
          259500,
          176000,
          139000,
          155000,
          320000,
          163990,
          180000,
          100000,
          136000,
          153900,
          181000,
          84500,
          128000,
          87000,
          155000,
          150000,
          226000,
          244000,
          150750,
          220000,
          180000,
          174000,
          143000,
          171000,
          230000,
          231500,
          115000,
          260000,
          166000,
          204000,
          125000,
          130000,
          105000,
          222500,
          141000,
          115000,
          122000,
          372402,
          190000,
          235000,
          125000,
          79000,
          109500,
          269500,
          254900,
          320000,
          162500,
          412500,
          220000,
          103200,
          152000,
          127500,
          190000,
          325624,
          183500,
          228000,
          128500,
          215000,
          239000,
          163000,
          184000,
          243000,
          211000,
          172500,
          501837,
          100000,
          177000,
          200100,
          120000,
          200000,
          127000,
          475000,
          173000,
          135000,
          153337,
          286000,
          315000,
          184000,
          192000,
          130000,
          127000,
          148500,
          311872,
          235000,
          104000,
          274900,
          140000,
          171500,
          112000,
          149000,
          110000,
          180500,
          143900,
          141000,
          277000,
          145000,
          98000,
          186000,
          252678,
          156000,
          161750,
          134450,
          210000,
          107000,
          311500,
          167240,
          204900,
          200000,
          179900,
          97000,
          386250,
          112000,
          290000,
          106000,
          125000,
          192500,
          148000,
          403000,
          94500,
          128200,
          216500,
          89500,
          185500,
          194500,
          318000,
          113000,
          262500,
          110500,
          79000,
          120000,
          205000,
          241500,
          137000,
          140000,
          180000,
          277000,
          76500,
          235000,
          173000,
          158000,
          145000,
          230000,
          207500,
          220000,
          231500,
          97000,
          176000,
          276000,
          151000,
          130000,
          73000,
          175500,
          185000,
          179500,
          120500,
          148000,
          266000,
          241500,
          290000,
          139000,
          124500,
          205000,
          201000,
          141000,
          415298,
          192000,
          228500,
          185000,
          207500,
          244600,
          179200,
          164700,
          159000,
          88000,
          122000,
          153575,
          233230,
          135900,
          131000,
          235000,
          167000,
          142500,
          152000,
          239000,
          175000,
          158500,
          157000,
          267000,
          205000,
          149900,
          295000,
          305900,
          225000,
          89500,
          82500,
          360000,
          165600,
          132000,
          119900,
          375000,
          178000,
          188500,
          260000,
          270000,
          260000,
          187500,
          342643,
          354000,
          301000,
          126175,
          242000,
          87000,
          324000,
          145250,
          214500,
          78000,
          119000,
          139000,
          284000,
          207000,
          192000,
          228950,
          377426,
          214000,
          202500,
          155000,
          202900,
          82000,
          87500,
          266000,
          85000,
          140200,
          151500,
          157500,
          154000,
          437154,
          318061,
          190000,
          95000,
          105900,
          140000,
          177500,
          173000,
          134000,
          130000,
          280000,
          156000,
          145000,
          198500,
          118000,
          190000,
          147000,
          159000,
          165000,
          132000,
          162000,
          172400,
          134432,
          125000,
          123000,
          219500,
          61000,
          148000,
          340000,
          394432,
          179000,
          127000,
          187750,
          213500,
          76000,
          240000,
          192000,
          81000,
          125000,
          191000,
          426000,
          119000,
          215000,
          106500,
          100000,
          109000,
          129000,
          123000,
          169500,
          67000,
          241000,
          245500,
          164990,
          108000,
          258000,
          168000,
          150000,
          115000,
          177000,
          280000,
          339750,
          60000,
          145000,
          222000,
          115000,
          228000,
          181134,
          149500,
          239000,
          126000,
          142000,
          206300,
          215000,
          113000,
          315000,
          139000,
          135000,
          275000,
          109008,
          195400,
          175000,
          85400,
          79900,
          122500,
          181000,
          81000,
          212000,
          116000,
          119000,
          90350,
          110000,
          555000,
          118000,
          162900,
          172500,
          210000,
          127500,
          190000,
          199900,
          119500,
          120000,
          110000,
          280000,
          204000,
          210000,
          188000,
          175500,
          98000,
          256000,
          161000,
          110000,
          263435,
          155000,
          62383,
          188700,
          124000,
          178740,
          167000,
          146500,
          250000,
          187000,
          212000,
          190000,
          148000,
          440000,
          251000,
          132500,
          208900,
          380000,
          297000,
          89471,
          326000,
          374000,
          155000,
          164000,
          132500,
          147000,
          156000,
          175000,
          160000,
          86000,
          115000,
          133000,
          172785,
          155000,
          91300,
          34900,
          430000,
          184000,
          130000,
          120000,
          113000,
          226700,
          140000,
          289000,
          147000,
          124500,
          215000,
          208300,
          161000,
          124500,
          164900,
          202665,
          129900,
          134000,
          96500,
          402861,
          158000,
          265000,
          211000,
          234000,
          106250,
          150000,
          159000,
          184750,
          315750,
          176000,
          132000,
          446261,
          86000,
          200624,
          175000,
          128000,
          107500,
          39300,
          178000,
          107500,
          188000,
          111250,
          158000,
          272000,
          315000,
          248000,
          213250,
          133000,
          179665,
          229000,
          210000,
          129500,
          125000,
          263000,
          140000,
          112500,
          255500,
          108000,
          284000,
          113000,
          141000,
          108000,
          175000,
          234000,
          121500,
          170000,
          108000,
          185000,
          268000,
          128000,
          325000,
          214000,
          316600,
          135960,
          142600,
          120000,
          224500,
          170000,
          139000,
          118500,
          145000,
          164500,
          146000,
          131500,
          181900,
          253293,
          118500,
          325000,
          133000,
          369900,
          130000,
          137000,
          143000,
          79500,
          185900,
          451950,
          138000,
          140000,
          110000,
          319000,
          114504,
          194201,
          217500,
          151000,
          275000,
          141000,
          220000,
          151000,
          221000,
          205000,
          152000,
          225000,
          359100,
          118500,
          313000,
          148000,
          261500,
          147000,
          75500,
          137500,
          183200,
          105500,
          314813,
          305000,
          67000,
          240000,
          135000,
          168500,
          165150,
          160000,
          139900,
          153000,
          135000,
          168500,
          124000,
          209500,
          82500,
          139400,
          144000,
          200000,
          60000,
          93000,
          85000,
          264561,
          274000,
          226000,
          345000,
          152000,
          370878,
          143250,
          98300,
          155000,
          155000,
          84500,
          205950,
          108000,
          191000,
          135000,
          350000,
          88000,
          145500,
          149000,
          97500,
          167000,
          197900,
          402000,
          110000,
          137500,
          423000,
          230500,
          129000,
          193500,
          168000,
          137500,
          173500,
          103600,
          165000,
          257500,
          140000,
          148500,
          87000,
          109500,
          372500,
          128500,
          143000,
          159434,
          173000,
          285000,
          221000,
          207500,
          227875,
          148800,
          392000,
          194700,
          141000,
          755000,
          335000,
          108480,
          141500,
          176000,
          89000,
          123500,
          138500,
          196000,
          312500,
          140000,
          361919,
          140000,
          213000,
          55000,
          302000,
          254000,
          179540,
          109900,
          52000,
          102776,
          189000,
          129000,
          130500,
          165000,
          159500,
          157000,
          341000,
          128500,
          275000,
          143000,
          124500,
          135000,
          320000,
          120500,
          222000,
          194500,
          110000,
          103000,
          236500,
          187500,
          222500,
          131400,
          108000,
          163000,
          93500,
          239900,
          179000,
          190000,
          132000,
          142000,
          179000,
          175000,
          180000,
          299800,
          236000,
          265979,
          260400,
          98000,
          96500,
          162000,
          217000,
          275500,
          156000,
          172500,
          212000,
          158900,
          179400,
          290000,
          127500,
          100000,
          215200,
          337000,
          270000,
          264132,
          196500,
          160000,
          216837,
          538000,
          134900,
          102000,
          107000,
          114500,
          395000,
          162000,
          221500,
          142500,
          144000,
          135000,
          176000,
          175900,
          187100,
          165500,
          128000,
          161500,
          139000,
          233000,
          107900,
          187500,
          160200,
          146800,
          269790,
          225000,
          194500,
          171000,
          143500,
          110000,
          485000,
          175000,
          200000,
          109900,
          189000,
          582933,
          118000,
          227680,
          135500,
          223500,
          159950,
          106000,
          181000,
          144500,
          55993,
          157900,
          116000,
          224900,
          137000,
          271000,
          155000,
          224000,
          183000,
          93000,
          225000,
          139500,
          232600,
          385000,
          109500,
          189000,
          185000,
          147400,
          166000,
          151000,
          237000,
          167000,
          139950,
          128000,
          153500,
          100000,
          144000,
          130500,
          140000,
          157500,
          174900,
          141000,
          153900,
          171000,
          213000,
          133500,
          240000,
          187000,
          131500,
          215000,
          164000,
          158000,
          170000,
          127000,
          147000,
          174000,
          152000,
          250000,
          189950,
          131500,
          152000,
          132500,
          250580,
          148500,
          248900,
          129000,
          169000,
          236000,
          109500,
          200500,
          116000,
          133000,
          66500,
          303477,
          132250,
          350000,
          148000,
          136500,
          157000,
          187500,
          178000,
          118500,
          100000,
          328900,
          145000,
          135500,
          268000,
          149500,
          122900,
          172500,
          154500,
          165000,
          118858,
          140000,
          106500,
          142953,
          611657,
          135000,
          110000,
          153000,
          180000,
          240000,
          125500,
          128000,
          255000,
          250000,
          131000,
          174000,
          154300,
          143500,
          88000,
          145000,
          173733,
          75000,
          35311,
          135000,
          238000,
          176500,
          201000,
          145900,
          169990,
          193000,
          207500,
          175000,
          285000,
          176000,
          236500,
          222000,
          201000,
          117500,
          320000,
          190000,
          242000,
          79900,
          184900,
          253000,
          239799,
          244400,
          150900,
          214000,
          150000,
          143000,
          137500,
          124900,
          143000,
          270000,
          192500,
          197500,
          129000,
          119900,
          133900,
          172000,
          127500,
          145000,
          124000,
          132000,
          185000,
          155000,
          116500,
          272000,
          155000,
          239000,
          214900,
          178900,
          160000,
          135000,
          37900,
          140000,
          135000,
          173000,
          99500,
          182000,
          167500,
          165000,
          85500,
          199900,
          110000,
          139000,
          178400,
          336000,
          159895,
          255900,
          126000,
          125000,
          117000,
          395192,
          195000,
          197000,
          348000,
          168000,
          187000,
          173900,
          337500,
          121600,
          136500,
          185000,
          91000,
          206000,
          82000,
          86000,
          232000,
          136905,
          181000,
          149900,
          163500,
          88000,
          240000,
          102000,
          135000,
          100000,
          165000,
          85000,
          119200,
          227000,
          203000,
          187500,
          160000,
          213490,
          176000,
          194000,
          87000,
          191000,
          287000,
          112500,
          167500,
          293077,
          105000,
          118000,
          160000,
          197000,
          310000,
          230000,
          119750,
          84000,
          315500,
          287000,
          97000,
          80000,
          155000,
          173000,
          196000,
          262280,
          278000,
          139600,
          556581,
          145000,
          115000,
          84900,
          176485,
          200141,
          165000,
          144500,
          255000,
          180000,
          185850,
          248000,
          335000,
          220000,
          213500,
          81000,
          90000,
          110500,
          154000,
          328000,
          178000,
          167900,
          151400,
          135000,
          135000,
          154000,
          91500,
          159500,
          194000,
          219500,
          170000,
          138800,
          155900,
          126000,
          145000,
          133000,
          192000,
          160000,
          187500,
          147000,
          83500,
          252000,
          137500,
          197000,
          92900,
          160000,
          136500,
          146000,
          129000,
          176432,
          127000,
          170000,
          128000,
          157000,
          60000,
          119500,
          135000,
          159500,
          106000,
          325000,
          179900,
          274725,
          181000,
          280000,
          188000,
          205000,
          129900,
          134500,
          117000,
          318000,
          184100,
          130000,
          140000,
          133700,
          118400,
          212900,
          112000,
          118000,
          163900,
          115000,
          174000,
          259000,
          215000,
          140000,
          135000,
          93500,
          117500,
          239500,
          169000,
          102000,
          119000,
          94000,
          196000,
          144000,
          139000,
          197500,
          424870,
          80000,
          80000,
          149000,
          180000,
          174500,
          116900,
          143000,
          124000,
          149900,
          230000,
          120500,
          201800,
          218000,
          179900,
          230000,
          235128,
          185000,
          146000,
          224000,
          129000,
          108959,
          194000,
          233170,
          245350,
          173000,
          235000,
          625000,
          171000,
          163000,
          171900,
          200500,
          239000,
          285000,
          119500,
          115000,
          154900,
          93000,
          250000,
          392500,
          745000,
          120000,
          186700,
          104900,
          95000,
          262000,
          195000,
          189000,
          168000,
          174000,
          125000,
          165000,
          158000,
          176000,
          219210,
          144000,
          178000,
          148000,
          116050,
          197900,
          117000,
          213000,
          153500,
          271900,
          107000,
          200000,
          140000,
          290000,
          189000,
          164000,
          113000,
          145000,
          134500,
          125000,
          112000,
          229456,
          80500,
          91500,
          115000,
          134000,
          143000,
          137900,
          184000,
          145000,
          214000,
          147000,
          367294,
          127000,
          190000,
          132500,
          101800,
          142000,
          130000,
          138887,
          175500,
          195000,
          142500,
          265900,
          224900,
          248328,
          170000,
          465000,
          230000,
          178000,
          186500,
          169900,
          129500,
          119000,
          244000,
          171750,
          130000,
          294000,
          165400,
          127500,
          301500,
          99900,
          190000,
          151000,
          181000,
          128900,
          161500,
          180500,
          181000,
          183900,
          122000,
          378500,
          381000,
          144000,
          260000,
          185750,
          137000,
          177000,
          139000,
          137000,
          162000,
          197900,
          237000,
          68400,
          227000,
          180000,
          150500,
          139000,
          169000,
          132500,
          143000,
          190000,
          278000,
          281000,
          180500,
          119500,
          107500,
          162900,
          115000,
          138500,
          155000,
          140000,
          160000,
          154000,
          225000,
          177500,
          290000,
          232000,
          130000,
          325000,
          202500,
          138000,
          147000,
          179200,
          335000,
          203000,
          302000,
          333168,
          119000,
          206900,
          295493,
          208900,
          275000,
          111000,
          156500,
          72500,
          190000,
          82500,
          147000,
          55000,
          79000,
          130500,
          256000,
          176500,
          227000,
          132500,
          100000,
          125500,
          125000,
          167900,
          135000,
          52500,
          200000,
          128500,
          123000,
          155000,
          228500,
          177000,
          155835,
          108500,
          262500,
          283463,
          215000,
          122000,
          200000,
          171000,
          134900,
          410000,
          235000,
          170000,
          110000,
          149900,
          177500,
          315000,
          189000,
          260000,
          104900,
          156932,
          144152,
          216000,
          193000,
          127000,
          144000,
          232000,
          105000,
          165500,
          274300,
          466500,
          250000,
          239000,
          91000,
          117000,
          83000,
          167500,
          58500,
          237500,
          157000,
          112000,
          105000,
          125500,
          250000,
          136000,
          377500,
          131000,
          235000,
          124000,
          123000,
          163000,
          246578,
          281213,
          160000,
          137500,
          138000,
          137450,
          120000,
          193000,
          193879,
          282922,
          105000,
          275000,
          133000,
          112000,
          125500,
          215000,
          230000,
          140000,
          90000,
          257000,
          207000,
          175900,
          122500,
          340000,
          124000,
          223000,
          179900,
          127500,
          136500,
          274970,
          144000,
          142000,
          271000,
          140000,
          119000,
          182900,
          192140,
          143750,
          64500,
          186500,
          160000,
          174000,
          120500,
          394617,
          149700,
          197000,
          191000,
          149300,
          310000,
          121000,
          179600,
          129000,
          157900,
          240000,
          112000,
          92000,
          136000,
          287090,
          145000,
          84500,
          185000,
          175000,
          210000,
          266500,
          142125,
          147500
         ],
         "yaxis": "y"
        }
       ],
       "layout": {
        "coloraxis": {
         "colorbar": {
          "title": {
           "text": "PropertyAge"
          }
         },
         "colorscale": [
          [
           0,
           "rgb(243, 224, 247)"
          ],
          [
           0.16666666666666666,
           "rgb(228, 199, 241)"
          ],
          [
           0.3333333333333333,
           "rgb(209, 175, 232)"
          ],
          [
           0.5,
           "rgb(185, 152, 221)"
          ],
          [
           0.6666666666666666,
           "rgb(159, 130, 206)"
          ],
          [
           0.8333333333333334,
           "rgb(130, 109, 186)"
          ],
          [
           1,
           "rgb(99, 88, 159)"
          ]
         ]
        },
        "font": {
         "color": "white"
        },
        "legend": {
         "tracegroupgap": 0
        },
        "paper_bgcolor": "rgb(30,30,30)",
        "plot_bgcolor": "rgb(30,30,30)",
        "template": {
         "data": {
          "bar": [
           {
            "error_x": {
             "color": "#2a3f5f"
            },
            "error_y": {
             "color": "#2a3f5f"
            },
            "marker": {
             "line": {
              "color": "#E5ECF6",
              "width": 0.5
             },
             "pattern": {
              "fillmode": "overlay",
              "size": 10,
              "solidity": 0.2
             }
            },
            "type": "bar"
           }
          ],
          "barpolar": [
           {
            "marker": {
             "line": {
              "color": "#E5ECF6",
              "width": 0.5
             },
             "pattern": {
              "fillmode": "overlay",
              "size": 10,
              "solidity": 0.2
             }
            },
            "type": "barpolar"
           }
          ],
          "carpet": [
           {
            "aaxis": {
             "endlinecolor": "#2a3f5f",
             "gridcolor": "white",
             "linecolor": "white",
             "minorgridcolor": "white",
             "startlinecolor": "#2a3f5f"
            },
            "baxis": {
             "endlinecolor": "#2a3f5f",
             "gridcolor": "white",
             "linecolor": "white",
             "minorgridcolor": "white",
             "startlinecolor": "#2a3f5f"
            },
            "type": "carpet"
           }
          ],
          "choropleth": [
           {
            "colorbar": {
             "outlinewidth": 0,
             "ticks": ""
            },
            "type": "choropleth"
           }
          ],
          "contour": [
           {
            "colorbar": {
             "outlinewidth": 0,
             "ticks": ""
            },
            "colorscale": [
             [
              0,
              "#0d0887"
             ],
             [
              0.1111111111111111,
              "#46039f"
             ],
             [
              0.2222222222222222,
              "#7201a8"
             ],
             [
              0.3333333333333333,
              "#9c179e"
             ],
             [
              0.4444444444444444,
              "#bd3786"
             ],
             [
              0.5555555555555556,
              "#d8576b"
             ],
             [
              0.6666666666666666,
              "#ed7953"
             ],
             [
              0.7777777777777778,
              "#fb9f3a"
             ],
             [
              0.8888888888888888,
              "#fdca26"
             ],
             [
              1,
              "#f0f921"
             ]
            ],
            "type": "contour"
           }
          ],
          "contourcarpet": [
           {
            "colorbar": {
             "outlinewidth": 0,
             "ticks": ""
            },
            "type": "contourcarpet"
           }
          ],
          "heatmap": [
           {
            "colorbar": {
             "outlinewidth": 0,
             "ticks": ""
            },
            "colorscale": [
             [
              0,
              "#0d0887"
             ],
             [
              0.1111111111111111,
              "#46039f"
             ],
             [
              0.2222222222222222,
              "#7201a8"
             ],
             [
              0.3333333333333333,
              "#9c179e"
             ],
             [
              0.4444444444444444,
              "#bd3786"
             ],
             [
              0.5555555555555556,
              "#d8576b"
             ],
             [
              0.6666666666666666,
              "#ed7953"
             ],
             [
              0.7777777777777778,
              "#fb9f3a"
             ],
             [
              0.8888888888888888,
              "#fdca26"
             ],
             [
              1,
              "#f0f921"
             ]
            ],
            "type": "heatmap"
           }
          ],
          "heatmapgl": [
           {
            "colorbar": {
             "outlinewidth": 0,
             "ticks": ""
            },
            "colorscale": [
             [
              0,
              "#0d0887"
             ],
             [
              0.1111111111111111,
              "#46039f"
             ],
             [
              0.2222222222222222,
              "#7201a8"
             ],
             [
              0.3333333333333333,
              "#9c179e"
             ],
             [
              0.4444444444444444,
              "#bd3786"
             ],
             [
              0.5555555555555556,
              "#d8576b"
             ],
             [
              0.6666666666666666,
              "#ed7953"
             ],
             [
              0.7777777777777778,
              "#fb9f3a"
             ],
             [
              0.8888888888888888,
              "#fdca26"
             ],
             [
              1,
              "#f0f921"
             ]
            ],
            "type": "heatmapgl"
           }
          ],
          "histogram": [
           {
            "marker": {
             "pattern": {
              "fillmode": "overlay",
              "size": 10,
              "solidity": 0.2
             }
            },
            "type": "histogram"
           }
          ],
          "histogram2d": [
           {
            "colorbar": {
             "outlinewidth": 0,
             "ticks": ""
            },
            "colorscale": [
             [
              0,
              "#0d0887"
             ],
             [
              0.1111111111111111,
              "#46039f"
             ],
             [
              0.2222222222222222,
              "#7201a8"
             ],
             [
              0.3333333333333333,
              "#9c179e"
             ],
             [
              0.4444444444444444,
              "#bd3786"
             ],
             [
              0.5555555555555556,
              "#d8576b"
             ],
             [
              0.6666666666666666,
              "#ed7953"
             ],
             [
              0.7777777777777778,
              "#fb9f3a"
             ],
             [
              0.8888888888888888,
              "#fdca26"
             ],
             [
              1,
              "#f0f921"
             ]
            ],
            "type": "histogram2d"
           }
          ],
          "histogram2dcontour": [
           {
            "colorbar": {
             "outlinewidth": 0,
             "ticks": ""
            },
            "colorscale": [
             [
              0,
              "#0d0887"
             ],
             [
              0.1111111111111111,
              "#46039f"
             ],
             [
              0.2222222222222222,
              "#7201a8"
             ],
             [
              0.3333333333333333,
              "#9c179e"
             ],
             [
              0.4444444444444444,
              "#bd3786"
             ],
             [
              0.5555555555555556,
              "#d8576b"
             ],
             [
              0.6666666666666666,
              "#ed7953"
             ],
             [
              0.7777777777777778,
              "#fb9f3a"
             ],
             [
              0.8888888888888888,
              "#fdca26"
             ],
             [
              1,
              "#f0f921"
             ]
            ],
            "type": "histogram2dcontour"
           }
          ],
          "mesh3d": [
           {
            "colorbar": {
             "outlinewidth": 0,
             "ticks": ""
            },
            "type": "mesh3d"
           }
          ],
          "parcoords": [
           {
            "line": {
             "colorbar": {
              "outlinewidth": 0,
              "ticks": ""
             }
            },
            "type": "parcoords"
           }
          ],
          "pie": [
           {
            "automargin": true,
            "type": "pie"
           }
          ],
          "scatter": [
           {
            "fillpattern": {
             "fillmode": "overlay",
             "size": 10,
             "solidity": 0.2
            },
            "type": "scatter"
           }
          ],
          "scatter3d": [
           {
            "line": {
             "colorbar": {
              "outlinewidth": 0,
              "ticks": ""
             }
            },
            "marker": {
             "colorbar": {
              "outlinewidth": 0,
              "ticks": ""
             }
            },
            "type": "scatter3d"
           }
          ],
          "scattercarpet": [
           {
            "marker": {
             "colorbar": {
              "outlinewidth": 0,
              "ticks": ""
             }
            },
            "type": "scattercarpet"
           }
          ],
          "scattergeo": [
           {
            "marker": {
             "colorbar": {
              "outlinewidth": 0,
              "ticks": ""
             }
            },
            "type": "scattergeo"
           }
          ],
          "scattergl": [
           {
            "marker": {
             "colorbar": {
              "outlinewidth": 0,
              "ticks": ""
             }
            },
            "type": "scattergl"
           }
          ],
          "scattermapbox": [
           {
            "marker": {
             "colorbar": {
              "outlinewidth": 0,
              "ticks": ""
             }
            },
            "type": "scattermapbox"
           }
          ],
          "scatterpolar": [
           {
            "marker": {
             "colorbar": {
              "outlinewidth": 0,
              "ticks": ""
             }
            },
            "type": "scatterpolar"
           }
          ],
          "scatterpolargl": [
           {
            "marker": {
             "colorbar": {
              "outlinewidth": 0,
              "ticks": ""
             }
            },
            "type": "scatterpolargl"
           }
          ],
          "scatterternary": [
           {
            "marker": {
             "colorbar": {
              "outlinewidth": 0,
              "ticks": ""
             }
            },
            "type": "scatterternary"
           }
          ],
          "surface": [
           {
            "colorbar": {
             "outlinewidth": 0,
             "ticks": ""
            },
            "colorscale": [
             [
              0,
              "#0d0887"
             ],
             [
              0.1111111111111111,
              "#46039f"
             ],
             [
              0.2222222222222222,
              "#7201a8"
             ],
             [
              0.3333333333333333,
              "#9c179e"
             ],
             [
              0.4444444444444444,
              "#bd3786"
             ],
             [
              0.5555555555555556,
              "#d8576b"
             ],
             [
              0.6666666666666666,
              "#ed7953"
             ],
             [
              0.7777777777777778,
              "#fb9f3a"
             ],
             [
              0.8888888888888888,
              "#fdca26"
             ],
             [
              1,
              "#f0f921"
             ]
            ],
            "type": "surface"
           }
          ],
          "table": [
           {
            "cells": {
             "fill": {
              "color": "#EBF0F8"
             },
             "line": {
              "color": "white"
             }
            },
            "header": {
             "fill": {
              "color": "#C8D4E3"
             },
             "line": {
              "color": "white"
             }
            },
            "type": "table"
           }
          ]
         },
         "layout": {
          "annotationdefaults": {
           "arrowcolor": "#2a3f5f",
           "arrowhead": 0,
           "arrowwidth": 1
          },
          "autotypenumbers": "strict",
          "coloraxis": {
           "colorbar": {
            "outlinewidth": 0,
            "ticks": ""
           }
          },
          "colorscale": {
           "diverging": [
            [
             0,
             "#8e0152"
            ],
            [
             0.1,
             "#c51b7d"
            ],
            [
             0.2,
             "#de77ae"
            ],
            [
             0.3,
             "#f1b6da"
            ],
            [
             0.4,
             "#fde0ef"
            ],
            [
             0.5,
             "#f7f7f7"
            ],
            [
             0.6,
             "#e6f5d0"
            ],
            [
             0.7,
             "#b8e186"
            ],
            [
             0.8,
             "#7fbc41"
            ],
            [
             0.9,
             "#4d9221"
            ],
            [
             1,
             "#276419"
            ]
           ],
           "sequential": [
            [
             0,
             "#0d0887"
            ],
            [
             0.1111111111111111,
             "#46039f"
            ],
            [
             0.2222222222222222,
             "#7201a8"
            ],
            [
             0.3333333333333333,
             "#9c179e"
            ],
            [
             0.4444444444444444,
             "#bd3786"
            ],
            [
             0.5555555555555556,
             "#d8576b"
            ],
            [
             0.6666666666666666,
             "#ed7953"
            ],
            [
             0.7777777777777778,
             "#fb9f3a"
            ],
            [
             0.8888888888888888,
             "#fdca26"
            ],
            [
             1,
             "#f0f921"
            ]
           ],
           "sequentialminus": [
            [
             0,
             "#0d0887"
            ],
            [
             0.1111111111111111,
             "#46039f"
            ],
            [
             0.2222222222222222,
             "#7201a8"
            ],
            [
             0.3333333333333333,
             "#9c179e"
            ],
            [
             0.4444444444444444,
             "#bd3786"
            ],
            [
             0.5555555555555556,
             "#d8576b"
            ],
            [
             0.6666666666666666,
             "#ed7953"
            ],
            [
             0.7777777777777778,
             "#fb9f3a"
            ],
            [
             0.8888888888888888,
             "#fdca26"
            ],
            [
             1,
             "#f0f921"
            ]
           ]
          },
          "colorway": [
           "#636efa",
           "#EF553B",
           "#00cc96",
           "#ab63fa",
           "#FFA15A",
           "#19d3f3",
           "#FF6692",
           "#B6E880",
           "#FF97FF",
           "#FECB52"
          ],
          "font": {
           "color": "#2a3f5f"
          },
          "geo": {
           "bgcolor": "white",
           "lakecolor": "white",
           "landcolor": "#E5ECF6",
           "showlakes": true,
           "showland": true,
           "subunitcolor": "white"
          },
          "hoverlabel": {
           "align": "left"
          },
          "hovermode": "closest",
          "mapbox": {
           "style": "light"
          },
          "paper_bgcolor": "white",
          "plot_bgcolor": "#E5ECF6",
          "polar": {
           "angularaxis": {
            "gridcolor": "white",
            "linecolor": "white",
            "ticks": ""
           },
           "bgcolor": "#E5ECF6",
           "radialaxis": {
            "gridcolor": "white",
            "linecolor": "white",
            "ticks": ""
           }
          },
          "scene": {
           "xaxis": {
            "backgroundcolor": "#E5ECF6",
            "gridcolor": "white",
            "gridwidth": 2,
            "linecolor": "white",
            "showbackground": true,
            "ticks": "",
            "zerolinecolor": "white"
           },
           "yaxis": {
            "backgroundcolor": "#E5ECF6",
            "gridcolor": "white",
            "gridwidth": 2,
            "linecolor": "white",
            "showbackground": true,
            "ticks": "",
            "zerolinecolor": "white"
           },
           "zaxis": {
            "backgroundcolor": "#E5ECF6",
            "gridcolor": "white",
            "gridwidth": 2,
            "linecolor": "white",
            "showbackground": true,
            "ticks": "",
            "zerolinecolor": "white"
           }
          },
          "shapedefaults": {
           "line": {
            "color": "#2a3f5f"
           }
          },
          "ternary": {
           "aaxis": {
            "gridcolor": "white",
            "linecolor": "white",
            "ticks": ""
           },
           "baxis": {
            "gridcolor": "white",
            "linecolor": "white",
            "ticks": ""
           },
           "bgcolor": "#E5ECF6",
           "caxis": {
            "gridcolor": "white",
            "linecolor": "white",
            "ticks": ""
           }
          },
          "title": {
           "x": 0.05
          },
          "xaxis": {
           "automargin": true,
           "gridcolor": "white",
           "linecolor": "white",
           "ticks": "",
           "title": {
            "standoff": 15
           },
           "zerolinecolor": "white",
           "zerolinewidth": 2
          },
          "yaxis": {
           "automargin": true,
           "gridcolor": "white",
           "linecolor": "white",
           "ticks": "",
           "title": {
            "standoff": 15
           },
           "zerolinecolor": "white",
           "zerolinewidth": 2
          }
         }
        },
        "title": {
         "text": "Property Age vs Sale Price"
        },
        "xaxis": {
         "anchor": "y",
         "domain": [
          0,
          1
         ],
         "title": {
          "text": "PropertyAge"
         }
        },
        "yaxis": {
         "anchor": "x",
         "domain": [
          0,
          1
         ],
         "title": {
          "text": "SalePrice"
         }
        }
       }
      }
     },
     "metadata": {},
     "output_type": "display_data"
    }
   ],
   "source": [
    "# 5. Calculate Property Age\n",
    "\n",
    "age_df = pd.DataFrame([df['YearBuilt'], df['YrSold']])\n",
    "age_df\n",
    "\n",
    "df['PropertyAge'] = df['YrSold'] - df['YearBuilt']\n",
    "\n",
    "df['PropertyAge']\n",
    "\n",
    "\n",
    "# Calculate Correlation between Property Age and Sale Price\n",
    "\n",
    "age_price_corr = df['PropertyAge'].corr(df['SalePrice'])\n",
    "\n",
    "\n",
    "\n",
    "# Create a scatter plot to visualize the relationship between Property Age and Sale Price\n",
    "fig9 = px.scatter(df, x='PropertyAge', y='SalePrice', title='Property Age vs Sale Price',\n",
    "                        color='PropertyAge', color_continuous_scale=px.colors.sequential.Purp)\n",
    "\n",
    "\n",
    "fig9.update_layout(plot_bgcolor='rgb(30,30,30)', paper_bgcolor='rgb(30,30,30)', font=dict(color='white'))\n",
    "\n",
    "fig9.show()\n",
    "\n"
   ]
  },
  {
   "cell_type": "code",
   "execution_count": 28,
   "metadata": {},
   "outputs": [
    {
     "data": {
      "text/plain": [
       "<Axes: >"
      ]
     },
     "execution_count": 28,
     "metadata": {},
     "output_type": "execute_result"
    },
    {
     "data": {
      "image/png": "[encoded data removed]",
      "text/plain": [
       "<Figure size 640x480 with 2 Axes>"
      ]
     },
     "metadata": {},
     "output_type": "display_data"
    }
   ],
   "source": [
    "# TODO  --- 6. Calculate Correlation between Living Area and Sale Price\n",
    "df['GrLivArea'].unique()\n",
    "\n",
    "LivArea_corr = df['GrLivArea'].corr(df['SalePrice'])\n",
    "\n",
    "# Create a scatter plot to visualize the relationship between Property Age and Sale Price\n",
    "fig9 = px.scatter(df, x='GrLivArea', y='SalePrice', title='Living Area vs Sale Price',\n",
    "                        color='GrLivArea', color_continuous_scale=px.colors.sequential.Purp)\n",
    "\n",
    "fig9.update_layout(plot_bgcolor='rgb(30,30,30)', paper_bgcolor='rgb(30,30,30)', font=dict(color='white'))\n",
    "\n",
    "fig9.show()\n",
    "\n",
    "# import seaborn as sb\n",
    "# numerical_features = df.select_dtypes(include=[np.number])\n",
    "# sb.heatmap(df.select_dtypes(include=[np.number]))\n",
    "\n",
    "\n"
   ]
  },
  {
   "cell_type": "code",
   "execution_count": 29,
   "metadata": {},
   "outputs": [
    {
     "data": {
      "text/plain": [
       "YrSold\n",
       "2006    182549.458599\n",
       "2007    186063.151976\n",
       "2008    177360.838816\n",
       "2009    179432.103550\n",
       "2010    177393.674286\n",
       "Name: SalePrice, dtype: float64"
      ]
     },
     "execution_count": 29,
     "metadata": {},
     "output_type": "execute_result"
    }
   ],
   "source": [
    "# 7. Box plot of price over the years\n",
    "yearly_avg_sale_price = df.groupby('YrSold')['SalePrice'].mean()\n",
    "\n",
    "# fig13 = px.box(df, x='YrSold', y='SalePrice', title='Sale Price Trends Over the Years',\n",
    "#                points=False, color_discrete_sequence=['green'])\n",
    "# fig13.show()\n",
    "# for year, avg_price in yearly_avg_sale_price.items():\n",
    "yearly_avg_sale_price\n",
    "# fig13.add_annotation()"
   ]
  },
  {
   "cell_type": "markdown",
   "metadata": {},
   "source": [
    "## Create Data Pipeline"
   ]
  },
  {
   "cell_type": "code",
   "execution_count": null,
   "metadata": {},
   "outputs": [
    {
     "name": "stderr",
     "output_type": "stream",
     "text": [
      "C:\\Users\\xrist\\AppData\\Local\\Packages\\PythonSoftwareFoundation.Python.3.11_qbz5n2kfra8p0\\LocalCache\\local-packages\\Python311\\site-packages\\sklearn\\preprocessing\\_encoders.py:975: FutureWarning:\n",
      "\n",
      "`sparse` was renamed to `sparse_output` in version 1.2 and will be removed in 1.4. `sparse_output` is ignored unless you leave `sparse` to its default value.\n",
      "\n"
     ]
    },
    {
     "data": {
      "text/plain": [
       "array([[-1.73086488,  0.07337496, -0.22937175, ...,  0.        ,\n",
       "         1.        ,  0.        ],\n",
       "       [-1.7284922 , -0.87256276,  0.4519361 , ...,  0.        ,\n",
       "         1.        ,  0.        ],\n",
       "       [-1.72611953,  0.07337496, -0.09311018, ...,  0.        ,\n",
       "         1.        ,  0.        ],\n",
       "       ...,\n",
       "       [ 1.72611953,  0.30985939, -0.18395123, ...,  0.        ,\n",
       "         1.        ,  0.        ],\n",
       "       [ 1.7284922 , -0.87256276, -0.09311018, ...,  0.        ,\n",
       "         1.        ,  0.        ],\n",
       "       [ 1.73086488, -0.87256276,  0.22483348, ...,  0.        ,\n",
       "         1.        ,  0.        ]])"
      ]
     },
     "execution_count": 23,
     "metadata": {},
     "output_type": "execute_result"
    }
   ],
   "source": [
    "from sklearn.compose import ColumnTransformer\n",
    "from sklearn.pipeline import Pipeline\n",
    "from sklearn.impute import SimpleImputer\n",
    "from sklearn.preprocessing import StandardScaler, OneHotEncoder\n",
    "\n",
    "\n",
    "numerical_transfomer = Pipeline(steps=[\n",
    "    ('imputer', SimpleImputer(strategy='mean')),\n",
    "    ('scaler', StandardScaler())\n",
    "])\n",
    "\n",
    "# 0->1000  0.5-> 30000 1->60000  scaler\n",
    "\n",
    "categorical_transformer = Pipeline(steps=[\n",
    "    ('imputer', SimpleImputer(strategy='constant', fill_value='missing')),\n",
    "    ('onehot', OneHotEncoder(handle_unknown='ignore', sparse = False))\n",
    "])\n",
    "\n",
    "\n",
    "# Update categorical and numerical columns\n",
    "categorical_columns = df.select_dtypes(include=['object', 'category']).columns\n",
    "numerical_columns = df.select_dtypes(include=['int64', 'float64']).columns\n",
    "\n",
    "\n",
    "numerical_columns = numerical_columns.drop('SalePrice')\n",
    "\n",
    "preprocessor = ColumnTransformer(\n",
    "    transformers=[\n",
    "        ('num', numerical_transfomer, numerical_columns),\n",
    "        ('cat', categorical_transformer, categorical_columns),\n",
    "    ], remainder='passthrough'\n",
    ")\n",
    "\n",
    "# Create a pipeline with the preprocessor\n",
    "pipeline = Pipeline(steps=[\n",
    "    ('preprocessor', preprocessor)])\n",
    "\n",
    "X = df.drop('SalePrice',axis=1)\n",
    "y = np.log(df['SalePrice'])\n",
    "X_preprocessed = pipeline.fit_transform(X)\n"
   ]
  }
 ],
 "metadata": {
  "kernelspec": {
   "display_name": "base",
   "language": "python",
   "name": "python3"
  },
  "language_info": {
   "codemirror_mode": {
    "name": "ipython",
    "version": 3
   },
   "file_extension": ".py",
   "mimetype": "text/x-python",
   "name": "python",
   "nbconvert_exporter": "python",
   "pygments_lexer": "ipython3",
   "version": "3.11.5"
  }
 },
 "nbformat": 4,
 "nbformat_minor": 2
}
